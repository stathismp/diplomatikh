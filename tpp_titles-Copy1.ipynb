{
 "cells": [
  {
   "cell_type": "code",
   "execution_count": null,
   "id": "47afe549-1155-42d7-b8c7-c0d0d0ae5625",
   "metadata": {},
   "outputs": [],
   "source": [
    "import requests\n",
    "from bs4 import BeautifulSoup\n",
    "import pandas as pd\n",
    "import time\n",
    "import numpy as np\n",
    "import matplotlib.pyplot as plt\n",
    "import spacy\n",
    "from wordcloud import WordCloud\n",
    "import seaborn as sns"
   ]
  },
  {
   "cell_type": "code",
   "execution_count": null,
   "id": "b22ff76c-5b9f-482a-8589-7c582bf3332e",
   "metadata": {},
   "outputs": [],
   "source": [
    "tpp_grel = pd.read_csv('C:\\\\Users\\\\stath\\\\tpp_greek_elections.csv')"
   ]
  },
  {
   "cell_type": "code",
   "execution_count": null,
   "id": "43ba7975-7749-4451-ae57-c37c3417c6bc",
   "metadata": {},
   "outputs": [],
   "source": [
    "short_df = tpp_grel[[\"title\"]] "
   ]
  },
  {
   "cell_type": "code",
   "execution_count": null,
   "id": "ccb079b3-75bd-49cc-9be2-15d03ca0b31f",
   "metadata": {},
   "outputs": [],
   "source": [
    "short_df"
   ]
  },
  {
   "cell_type": "code",
   "execution_count": null,
   "id": "34c7546c-ad3f-469c-8f38-825ad3f9ad89",
   "metadata": {},
   "outputs": [],
   "source": [
    "pd.set_option('display.max_colwidth', None)"
   ]
  },
  {
   "cell_type": "code",
   "execution_count": null,
   "id": "ea96b242-e809-4f41-8ff8-b7aba5dfa906",
   "metadata": {},
   "outputs": [],
   "source": [
    "from sklearn.feature_extraction.text import CountVectorizer"
   ]
  },
  {
   "cell_type": "code",
   "execution_count": null,
   "id": "687c64bc-3359-4da8-8470-1089c573a762",
   "metadata": {},
   "outputs": [],
   "source": [
    "nlp = spacy.load('el_core_news_md')"
   ]
  },
  {
   "cell_type": "code",
   "execution_count": null,
   "id": "572a56f7-87d4-440b-b186-21c77b8098c8",
   "metadata": {},
   "outputs": [],
   "source": [
    "from joblib import dump, load"
   ]
  },
  {
   "cell_type": "code",
   "execution_count": null,
   "id": "d0f57da7-ee8d-486e-8ba5-543befb41a31",
   "metadata": {},
   "outputs": [],
   "source": [
    "tpp_grel_full_doc = load('tpp_grel_full_doc.joblib')"
   ]
  },
  {
   "cell_type": "code",
   "execution_count": null,
   "id": "cfa18f7d-d96b-4470-a28c-e8cc01629951",
   "metadata": {},
   "outputs": [],
   "source": [
    "cv = CountVectorizer(stop_words= list(nlp.Defaults.stop_words), min_df=0.01, max_df=0.95)"
   ]
  },
  {
   "cell_type": "code",
   "execution_count": null,
   "id": "ddef81a8-50c2-44f1-81d0-9e199115af03",
   "metadata": {},
   "outputs": [],
   "source": [
    "count_vector = cv.fit_transform(tpp_grel[\"full_content\"])"
   ]
  },
  {
   "cell_type": "code",
   "execution_count": null,
   "id": "31fdf422-8203-4c93-adfb-bd54898b3344",
   "metadata": {},
   "outputs": [],
   "source": [
    "tpp_grel_results = pd.DataFrame(count_vector.toarray(), columns=cv.get_feature_names_out()) "
   ]
  },
  {
   "cell_type": "code",
   "execution_count": null,
   "id": "d6e6e8c2-9341-44e1-9a28-ebc6a9f090ed",
   "metadata": {},
   "outputs": [],
   "source": [
    "filepath = \"https://raw.githubusercontent.com/datajour-gr/DataJournalism/main/Bachelor%20Lessons%202023/Lesson%2010/NRC_GREEK_Translated_6_2020.csv\""
   ]
  },
  {
   "cell_type": "code",
   "execution_count": null,
   "id": "aa7cf923-5bd3-432b-ac2d-ca9aa8f94990",
   "metadata": {},
   "outputs": [],
   "source": [
    "emolex_df = pd.read_csv(filepath)"
   ]
  },
  {
   "cell_type": "code",
   "execution_count": null,
   "id": "560c0266-c256-4228-8a0c-a76af56b9e40",
   "metadata": {},
   "outputs": [],
   "source": [
    "vec = CountVectorizer(analyzer = 'word', vocabulary = emolex_df.word,\n",
    "                      lowercase=False, \n",
    "              \n",
    "                      strip_accents = 'unicode',  \n",
    "                      stop_words= list(nlp.Defaults.stop_words),\n",
    "                      ngram_range=(1, 2))"
   ]
  },
  {
   "cell_type": "code",
   "execution_count": null,
   "id": "5ba9592b-282c-456c-a301-ea9462b1e756",
   "metadata": {},
   "outputs": [],
   "source": [
    "emolex_df = emolex_df.drop_duplicates(subset=['word'])\n"
   ]
  },
  {
   "cell_type": "code",
   "execution_count": null,
   "id": "d919235f-6cb4-445a-bcd4-f5c1cf09b8a0",
   "metadata": {},
   "outputs": [],
   "source": [
    "emolex_df = emolex_df.dropna()\n",
    "emolex_df.reset_index(inplace = True, drop=True)"
   ]
  },
  {
   "cell_type": "code",
   "execution_count": null,
   "id": "33abb2a1-963d-4c07-a461-c00f4a13e8a7",
   "metadata": {},
   "outputs": [],
   "source": [
    "matrix = vec.fit_transform(tpp_grel[\"full_content\"])\n",
    "vocab = vec.get_feature_names_out()\n",
    "wordcount_df = pd.DataFrame(matrix.toarray(), columns=vocab)"
   ]
  },
  {
   "cell_type": "code",
   "execution_count": null,
   "id": "dbef991a-90cb-4d8a-8cb9-9a5ef642151d",
   "metadata": {},
   "outputs": [],
   "source": []
  },
  {
   "cell_type": "code",
   "execution_count": null,
   "id": "422c17f7-6753-418d-bb66-baee8792ef7e",
   "metadata": {},
   "outputs": [],
   "source": [
    "positive_words = emolex_df[emolex_df.Positive == 1]['word']"
   ]
  },
  {
   "cell_type": "code",
   "execution_count": null,
   "id": "023a99eb-581a-4f37-8c8d-931378b9d5ad",
   "metadata": {},
   "outputs": [],
   "source": [
    "negative_words = emolex_df[emolex_df.Negative == 1]['word']"
   ]
  },
  {
   "cell_type": "code",
   "execution_count": null,
   "id": "4c55e943-e797-4605-9ec6-65b5ec91a636",
   "metadata": {},
   "outputs": [],
   "source": [
    "tpp_grel['positive_title'] = wordcount_df[positive_words].sum(axis=1)"
   ]
  },
  {
   "cell_type": "code",
   "execution_count": null,
   "id": "724534cc-b81e-4b53-bc32-6ef28e332091",
   "metadata": {},
   "outputs": [],
   "source": [
    "tpp_grel['negative_title'] = wordcount_df[negative_words].sum(axis=1)"
   ]
  },
  {
   "cell_type": "code",
   "execution_count": null,
   "id": "249a3452-4806-4de3-8482-23997a293b1b",
   "metadata": {},
   "outputs": [],
   "source": [
    "tpp_grel['pos/neg_title'] = tpp_grel['positive_title'] - tpp_grel['negative_title']"
   ]
  },
  {
   "cell_type": "code",
   "execution_count": null,
   "id": "92121ca6-80b2-4a4b-ab1f-0803835d3df6",
   "metadata": {},
   "outputs": [],
   "source": [
    "pd.set_option('display.max_rows', 330)"
   ]
  },
  {
   "cell_type": "code",
   "execution_count": null,
   "id": "081990ab-ee90-4796-a131-551e604ea663",
   "metadata": {},
   "outputs": [],
   "source": [
    "tpp_grel"
   ]
  },
  {
   "cell_type": "code",
   "execution_count": null,
   "id": "c582dac6-c52e-4579-9359-f16f19b2de09",
   "metadata": {},
   "outputs": [],
   "source": [
    "tpp_Νέα_Δημοκρατία = pd.read_csv('C:\\\\Users\\\\stath\\\\tpp_Νέα_Δημοκρατία.csv')"
   ]
  },
  {
   "cell_type": "code",
   "execution_count": null,
   "id": "8fe31f37-4785-4175-ba6c-6fd455f62699",
   "metadata": {},
   "outputs": [],
   "source": [
    "count_vector = cv.fit_transform(tpp_Νέα_Δημοκρατία[\"title\"])"
   ]
  },
  {
   "cell_type": "code",
   "execution_count": null,
   "id": "3bb3218d-b8b4-4756-8de9-fd9003e55903",
   "metadata": {},
   "outputs": [],
   "source": [
    "tpp_Νέα_Δημοκρατία_results = pd.DataFrame(count_vector.toarray(), columns=cv.get_feature_names_out()) "
   ]
  },
  {
   "cell_type": "code",
   "execution_count": null,
   "id": "4d7aff3e-1018-485f-98c0-7f2140edf525",
   "metadata": {},
   "outputs": [],
   "source": [
    "matrix = vec.fit_transform(tpp_Νέα_Δημοκρατία[\"title\"])\n",
    "vocab = vec.get_feature_names_out()\n",
    "wordcount_df = pd.DataFrame(matrix.toarray(), columns=vocab)"
   ]
  },
  {
   "cell_type": "code",
   "execution_count": null,
   "id": "3065f7d2-9342-4db9-b491-7aa234a25aac",
   "metadata": {},
   "outputs": [],
   "source": [
    "tpp_Νέα_Δημοκρατία['positive_title'] = wordcount_df[positive_words].sum(axis=1)"
   ]
  },
  {
   "cell_type": "code",
   "execution_count": null,
   "id": "dbb231ea-8d79-4acb-b853-015952e41531",
   "metadata": {},
   "outputs": [],
   "source": [
    "tpp_Νέα_Δημοκρατία['negative_title'] = wordcount_df[negative_words].sum(axis=1)"
   ]
  },
  {
   "cell_type": "code",
   "execution_count": null,
   "id": "4c8e3aec-8b64-4ef7-abec-e8b0bdbd4ea0",
   "metadata": {},
   "outputs": [],
   "source": [
    "tpp_Νέα_Δημοκρατία['pos/neg_title'] = tpp_Νέα_Δημοκρατία['positive_title'] - tpp_Νέα_Δημοκρατία['negative_title']"
   ]
  },
  {
   "cell_type": "code",
   "execution_count": null,
   "id": "a251fcc6-bd2b-4a2c-b2ba-31351f8abef4",
   "metadata": {},
   "outputs": [],
   "source": [
    "pd.set_option('display.max_rows', 330)"
   ]
  },
  {
   "cell_type": "code",
   "execution_count": null,
   "id": "aaca81d0-cb20-4f3a-8e63-c3dc4c02d5d2",
   "metadata": {},
   "outputs": [],
   "source": [
    "tpp_Νέα_Δημοκρατία"
   ]
  },
  {
   "cell_type": "code",
   "execution_count": null,
   "id": "9ce95d81-ce56-4c56-b018-65a285249689",
   "metadata": {},
   "outputs": [],
   "source": [
    "tpp_grel.to_csv('C:\\\\Users\\\\stath\\\\tpp_greek_elections.csv', index=False)"
   ]
  },
  {
   "cell_type": "code",
   "execution_count": null,
   "id": "3a519f60-4724-4527-a2fe-c643bd5f62ea",
   "metadata": {},
   "outputs": [],
   "source": [
    "tpp_Νέα_Δημοκρατία = ('C:\\\\Users\\\\stath\\\\tpp_Νέα_Δημοκρατία.csv')"
   ]
  },
  {
   "cell_type": "code",
   "execution_count": null,
   "id": "7da3e4d0-1d89-4905-ba65-7341f4b8f4ba",
   "metadata": {},
   "outputs": [],
   "source": [
    "tpp_Νέα_Δημοκρατία['pos/neg'].mean()\n"
   ]
  },
  {
   "cell_type": "code",
   "execution_count": null,
   "id": "0e79d49b-d2e4-42b2-a330-81e0214c464c",
   "metadata": {},
   "outputs": [],
   "source": [
    "tpp_Νέα_Δημοκρατία['pos/neg_title'].mean()"
   ]
  },
  {
   "cell_type": "code",
   "execution_count": null,
   "id": "933a9f1a-5885-48d7-9bf9-60d2697b04fc",
   "metadata": {},
   "outputs": [],
   "source": [
    "tpp_Νέα_Δημοκρατία = tpp_Νέα_Δημοκρατία.drop(tpp_Νέα_Δημοκρατία.index[[3,6,7,8,9,11,12,19,20,22,24,26,29,30,35,38,45,47,51,52,54,55,57,58,60,66,67,72,74,75,76,77,78,79,81,82,83,85,87,88,89,92,94,97,101,102,103,105,106,107,108,110,111,115,119,120,121,123,125,127,128,130,131]])"
   ]
  },
  {
   "cell_type": "code",
   "execution_count": null,
   "id": "868dbc8b-d2cf-4ff3-bf08-a6ae5ecc90c8",
   "metadata": {},
   "outputs": [],
   "source": [
    "tpp_Νέα_Δημοκρατία"
   ]
  },
  {
   "cell_type": "code",
   "execution_count": null,
   "id": "7ff52023-287c-46e4-89c7-efad8cecbe38",
   "metadata": {},
   "outputs": [],
   "source": [
    "tpp_Νέα_Δημοκρατία.to_csv('C:\\\\Users\\\\stath\\\\tpp_Νέα_Δημοκρατία.csv', index=False)"
   ]
  },
  {
   "cell_type": "code",
   "execution_count": null,
   "id": "34a4cc37-e193-4fc7-b0d1-36e08c41f2f8",
   "metadata": {},
   "outputs": [],
   "source": [
    "tpp_Νέα_Δημοκρατία_full_text = tpp_Νέα_Δημοκρατία['full_content'].str.cat(sep = ' ')"
   ]
  },
  {
   "cell_type": "code",
   "execution_count": null,
   "id": "a14b4688-b84e-43cb-ab04-569811ee9521",
   "metadata": {},
   "outputs": [],
   "source": [
    "tpp_Νέα_Δημοκρατία_full_doc = nlp(tpp_Νέα_Δημοκρατία_full_text)"
   ]
  },
  {
   "cell_type": "code",
   "execution_count": null,
   "id": "b9a30816-2f32-4dce-9583-582586b2a0bc",
   "metadata": {},
   "outputs": [],
   "source": [
    "lemmatized_text = ' '.join(token.lemma_ for token in tpp_Νέα_Δημοκρατία_full_doc)"
   ]
  },
  {
   "cell_type": "code",
   "execution_count": null,
   "id": "cbf1d591-1057-4b8a-968e-2d9b7b2cd5b9",
   "metadata": {},
   "outputs": [],
   "source": [
    "stopwords = nlp.Defaults.stop_words\n",
    "stopwords.add(\"ς\")\n",
    "stopwords.add(\"μπορώ\")\n",
    "stopwords.add(\"αναφέρω\")\n",
    "stopwords.add(\"υπάρχω\")\n",
    "stopwords.add(\"γίνομαι\")\n",
    "stopwords.add(\"ή\")\n",
    "stopwords.add(\"κάνω\")\n",
    "stopwords.add(\"θέλω\")\n",
    "stopwords.add(\"κ\")\n",
    "stopwords.add(\"λέγω\")"
   ]
  },
  {
   "cell_type": "code",
   "execution_count": null,
   "id": "b610f6b0-2382-44a9-a69d-b2635460505c",
   "metadata": {},
   "outputs": [],
   "source": [
    "wordcloud_tpp_Νέα_Δημοκρατία = WordCloud(\n",
    "    stopwords = nlp.Defaults.stop_words,\n",
    "    width = 2000,\n",
    "    height = 1000,\n",
    "    background_color = 'black'\n",
    " ).generate(lemmatized_text)\n",
    "fig = plt.figure(\n",
    "    figsize = (40, 30),\n",
    "    facecolor = 'k',\n",
    "    edgecolor = 'k')\n",
    "plt.imshow(wordcloud_tpp_Νέα_Δημοκρατία, interpolation = 'bilinear')\n",
    "plt.axis('off')\n",
    "plt.tight_layout(pad=0)\n",
    "plt.show()"
   ]
  },
  {
   "cell_type": "code",
   "execution_count": null,
   "id": "5fdf5734-11e5-4029-96c4-d24dbd08c05e",
   "metadata": {},
   "outputs": [],
   "source": [
    "cv = CountVectorizer(stop_words= list(nlp.Defaults.stop_words), max_features=30, ngram_range=(2,5))\n",
    "count_vector = cv.fit_transform(tpp_ΝΔ[\"full_content\"])\n",
    "tpp_ΝΔ_bigrams = pd.DataFrame(count_vector.toarray(), columns=cv.get_feature_names_out()) "
   ]
  },
  {
   "cell_type": "code",
   "execution_count": null,
   "id": "c15a8994-a83e-4cf6-b728-c0a2b3f2aeb0",
   "metadata": {},
   "outputs": [],
   "source": [
    "tpp_ΝΔ_bigrams.sum(axis =0).sort_values(ascending = False)"
   ]
  },
  {
   "cell_type": "code",
   "execution_count": null,
   "id": "3266ceda-9b68-47a4-ad19-e35c7d402ad9",
   "metadata": {},
   "outputs": [],
   "source": [
    "data = { \"Κυριάκος Μητσοτάκης\" :                     25,\n",
    "\"κυβερνητικός εκπρόσωπος\"  :                24,\n",
    "\"νέας δημοκρατίας\":                         21,\n",
    "\"Άκης Σκέρτσος\"   :                         15,\n",
    "\"νέα δημοκρατία\"  :                         12,\n",
    "\"Αλέξη Τσίπρα\"   :                          10,\n",
    "\"κυβερνητικός εκπρόσωπος Άκης Σκέρτσος\" :    9,\n",
    "\"21ης μαΐου\"    :                            8,\n",
    "\"κατοχικό δάνειο\"  :                           7,\n",
    "\"Πόπη Τσαπανίδου\" :                          7,\n",
    "\"υπουργός επικρατείας\"   :                   7,\n",
    "\"αντιπρόεδρος ΝΔ\"    :                       7,\n",
    "\"πρωθυπουργός Κυριάκος Μητσοτάκης\"  :                   6,\n",
    "\"πολιτικούς αρχηγούς\" :                      6,\n",
    "\"κυβέρνηση ηττημένων\" :                      6,\n",
    "\"γερμανικές αποζημιώσεις\" :                 6,\n",
    "\"ΣΥΡΙΖΑ ΠΑΣΟΚ\"   :                           6,}\n",
    "\n",
    "data[\"Νέα Δημοκρατία/Νέας Δημοκρατίας\"] = data.pop(\"νέας δημοκρατίας\") + data.pop(\"νέα δημοκρατία\")\n",
    "\n",
    "\n",
    "df = pd.DataFrame(list(data.items()), columns=['Διγράμματα/Πολυγράμματα ', 'Αναφορές'])\n",
    "\n",
    "df = df.sort_values(by='Αναφορές', ascending=False)\n",
    "\n",
    "plt.figure(figsize=(10, 8))\n",
    "plt.barh(df['Διγράμματα/Πολυγράμματα '], df['Αναφορές'], color='blue', edgecolor= 'black')\n",
    "bars = plt.barh(df['Διγράμματα/Πολυγράμματα '], df['Αναφορές'], color='blue', edgecolor= 'black')\n",
    "for bar in bars:\n",
    "    plt.text(\n",
    "        bar.get_width() - 5, bar.get_y() + bar.get_height() / 2,\n",
    "        str(bar.get_width()),\n",
    "        va='center',\n",
    "        ha='center',\n",
    "        color='white',\n",
    "        fontsize=10\n",
    "    )\n",
    "plt.xlabel('Αναφορές')\n",
    "plt.ylabel('Διγράμματα')\n",
    "plt.xlim(0,50)\n",
    "plt.title('Διγράμματα/Πολυγράμματα Δημοσιευμάτων για τη Νέα Δημοκρατία - The Press Project')\n",
    "plt.gca().invert_yaxis() \n",
    "plt.show()"
   ]
  },
  {
   "cell_type": "code",
   "execution_count": null,
   "id": "db363c69-b223-49a8-8be3-8bbe65341981",
   "metadata": {},
   "outputs": [],
   "source": [
    "tpp_ΣΥΡΙΖΑ.to_csv('C:\\\\Users\\\\stath\\\\tpp_ΣΥΡΙΖΑ.csv', index= False)"
   ]
  },
  {
   "cell_type": "code",
   "execution_count": null,
   "id": "7d0f4c36-045c-4b82-83c2-19c0a943e78f",
   "metadata": {},
   "outputs": [],
   "source": [
    "tpp_ΣΥΡΙΖΑ = pd.read_csv('C:\\\\Users\\\\stath\\\\tpp_ΣΥΡΙΖΑ.csv')"
   ]
  },
  {
   "cell_type": "code",
   "execution_count": null,
   "id": "603ca49b-b5c6-4ff3-b71f-cfdaf320808c",
   "metadata": {},
   "outputs": [],
   "source": [
    "tpp_ΣΥΡΙΖΑ = tpp_ΣΥΡΙΖΑ.drop(tpp_ΣΥΡΙΖΑ.index[[3, 5, 12, 15, 22, 27, 30, 34, 35, 37, 43, 44, 47, 49, 52, 53, 69, 70, 73,74]])"
   ]
  },
  {
   "cell_type": "code",
   "execution_count": null,
   "id": "af17bd8f-281c-4443-8710-b72819fb1a3b",
   "metadata": {},
   "outputs": [],
   "source": [
    "tpp_ΣΥΡΙΖΑ"
   ]
  },
  {
   "cell_type": "code",
   "execution_count": null,
   "id": "9a82e49d-57bc-4a27-8690-af4fb22ffcdf",
   "metadata": {},
   "outputs": [],
   "source": [
    "tpp_ΣΥΡΙΖΑ_full_text = tpp_ΣΥΡΙΖΑ['full_content'].str.cat(sep = ' ')"
   ]
  },
  {
   "cell_type": "code",
   "execution_count": null,
   "id": "310fa214-5be8-4c5a-bc7c-d66fee5ce06b",
   "metadata": {},
   "outputs": [],
   "source": [
    "tpp_ΣΥΡΙΖΑ_full_doc = nlp(tpp_ΣΥΡΙΖΑ_full_text)"
   ]
  },
  {
   "cell_type": "code",
   "execution_count": null,
   "id": "a98ecbc9-7d06-4bd3-a885-dd7e8f3c4d36",
   "metadata": {},
   "outputs": [],
   "source": [
    "lemmatized_text = ' '.join(token.lemma_ for token in tpp_ΣΥΡΙΖΑ_full_doc)"
   ]
  },
  {
   "cell_type": "code",
   "execution_count": null,
   "id": "fbf5ba77-936c-4dc4-afb2-7ebaeb0a7d88",
   "metadata": {},
   "outputs": [],
   "source": [
    "stopwords = nlp.Defaults.stop_words\n",
    "stopwords.add(\"ς\")\n",
    "stopwords.add(\"μπορώ\")\n",
    "stopwords.add(\"αναφέρω\")\n",
    "stopwords.add(\"υπάρχω\")\n",
    "stopwords.add(\"γίνομαι\")\n",
    "stopwords.add(\"ή\")\n",
    "stopwords.add(\"κάνω\")\n",
    "stopwords.add(\"θέλω\")\n",
    "stopwords.add(\"κ\")\n",
    "stopwords.add(\"λέγω\")"
   ]
  },
  {
   "cell_type": "code",
   "execution_count": null,
   "id": "430b6e09-9ffb-453b-93ae-b65d4f5bb90a",
   "metadata": {},
   "outputs": [],
   "source": [
    "cv = CountVectorizer(stop_words= list(nlp.Defaults.stop_words), max_features=30, ngram_range=(2,7))\n",
    "count_vector = cv.fit_transform(tpp_ΣΥΡΙΖΑ[\"full_content\"])\n",
    "tpp_ΣΥΡΙΖΑ_bigrams = pd.DataFrame(count_vector.toarray(), columns=cv.get_feature_names_out()) "
   ]
  },
  {
   "cell_type": "code",
   "execution_count": null,
   "id": "be42a592-ec9d-4da3-84f3-fc517cc967f7",
   "metadata": {},
   "outputs": [],
   "source": [
    "tpp_ΣΥΡΙΖΑ_bigrams.sum(axis =0).sort_values(ascending = False)"
   ]
  },
  {
   "cell_type": "code",
   "execution_count": null,
   "id": "28c80dc9-820d-497f-a079-bfb356fab582",
   "metadata": {},
   "outputs": [],
   "source": [
    "data = {\n",
    "\"ΣΥΡΙΖΑ ΠΣ\" :                     70,\n",
    "\"Αλέξης Τσίπρας\" :            44,\n",
    "\"μεσαία τάξη\" :                 21,\n",
    "\"πρόεδρος ΣΥΡΙΖΑ\" :              37,\n",
    "\"ΣΥΡΙΖΑ Προοδευτική Συμμαχία\" : 18,\n",
    "\"Νέα Δημοκρατία\" :             17,\n",
    "\"προοδευτική κυβέρνηση\" :        17,\n",
    "\"τέσσερα χρόνια\" :             16,\n",
    "\"Νέας Δημοκρατίας\" :             15,\n",
    "\"πρόγραμμα ΣΥΡΙΖΑ\" :             15,\n",
    "\"εκπρόσωπος τύπου ΣΥΡΙΖΑ\" :                 15,\n",
    "\"αξιωματικής αντιπολίτευσης\" :   14,\n",
    "\"νίκη ΣΥΡΙΖΑ\" :                 13,\n",
    "\"κυβέρνηση Μητσοτάκη\" :          12,\n",
    "\"Πόπη Τσαπανίδου\" :              11,\n",
    "\"ελληνικός λαός\" :                10,\n",
    "\"πρώτης κατοικίας\" :             10,\n",
    "\"απευθείας αναθέσεις\" :          10\n",
    "}\n",
    "\n",
    "data[\"Νέα Δημοκρατία/Νέας Δημοκρατίας\"] = data.pop(\"Νέας Δημοκρατίας\") + data.pop(\"Νέα Δημοκρατία\")\n",
    "\n",
    "df = pd.DataFrame(list(data.items()), columns=['Διγράμματα/Πολυγράμματα', 'Αναφορές'])\n",
    "\n",
    "df = df.sort_values(by='Αναφορές', ascending=False)\n",
    "\n",
    "plt.figure(figsize=(10, 8))\n",
    "plt.barh(df['Διγράμματα/Πολυγράμματα'], df['Αναφορές'], color='mediumpurple', edgecolor= 'black')\n",
    "bars = plt.barh(df['Διγράμματα/Πολυγράμματα'], df['Αναφορές'], color='mediumpurple', edgecolor= 'black')\n",
    "for bar in bars:\n",
    "    plt.text(\n",
    "        bar.get_width() - 5, bar.get_y() + bar.get_height() / 2,\n",
    "        str(bar.get_width()),\n",
    "        va='center',\n",
    "        ha='center',\n",
    "        color='white',\n",
    "        fontsize=10\n",
    "    )\n",
    "plt.xlabel('Αναφορές')\n",
    "plt.ylabel('Διγράμματα')\n",
    "plt.xlim(0,100)\n",
    "plt.title('Διγράμματα/Πολυγράμματα Δημοσιευμάτων για το ΣΥΡΙΖΑ - The Press Project')\n",
    "plt.gca().invert_yaxis() \n",
    "plt.show()"
   ]
  },
  {
   "cell_type": "code",
   "execution_count": null,
   "id": "de1b34c9-281d-41c3-be78-465507775b60",
   "metadata": {},
   "outputs": [],
   "source": [
    "tpp_ΣΥΡΙΖΑ['pos/neg'].mean()"
   ]
  },
  {
   "cell_type": "code",
   "execution_count": null,
   "id": "07532b3f-0fe2-4496-9565-87cd86bcc4e4",
   "metadata": {},
   "outputs": [],
   "source": [
    "tpp_ΣΥΡΙΖΑ['pos/neg_title'].mean()"
   ]
  },
  {
   "cell_type": "code",
   "execution_count": null,
   "id": "c3e5ebc8-34ac-4934-9d8c-588985f4c026",
   "metadata": {},
   "outputs": [],
   "source": [
    "tpp_ΣΥΡΙΖΑ['datetime'] = pd.to_datetime(tpp_ΣΥΡΙΖΑ['datetime'], errors='coerce')\n",
    "tpp_ΣΥΡΙΖΑ = tpp_ΣΥΡΙΖΑ.dropna(subset=['datetime'])"
   ]
  },
  {
   "cell_type": "code",
   "execution_count": null,
   "id": "4ffba032-ca37-403c-823a-a652d29686f9",
   "metadata": {},
   "outputs": [],
   "source": [
    "tpp_ΣΥΡΙΖΑ.set_index('datetime', inplace=True)"
   ]
  },
  {
   "cell_type": "code",
   "execution_count": null,
   "id": "b0a314fd-dc7e-4000-a433-ea822be771ba",
   "metadata": {},
   "outputs": [],
   "source": [
    "daily_sentiment = tpp_ΣΥΡΙΖΑ['pos/neg'].resample('D').mean()\n",
    "\n",
    "colors = ['g' if x > 0 else 'r' for x in daily_sentiment]\n",
    "\n",
    "fig, ax = plt.subplots(figsize=(16, 6))\n",
    "daily_sentiment.plot(kind='bar', color=colors, width=0.8, ax=ax)\n",
    "\n",
    "ax.set_xticks(range(0, len(daily_sentiment), max(1, len(daily_sentiment) // 20)))\n",
    "ax.set_xticklabels(daily_sentiment.index.strftime('%Y-%m-%d')[::max(1, len(daily_sentiment) // 20)], rotation=45)\n",
    "\n",
    "plt.title('Ημερήσια Πολικότητα Συναισθημάτων για το ΣΥΡΙΖΑ')\n",
    "plt.xlabel('Ημερομηνία')\n",
    "plt.ylabel('Θετικότητα/Αρνητικότητα')\n",
    "plt.tight_layout()\n",
    "\n",
    "handles = [plt.Rectangle((0,0),1,1, color='g', ec='k'), plt.Rectangle((0,0),1,1, color='r', ec='k')]\n",
    "labels = ['Θετικότητα', 'Αρνητικότητα']\n",
    "plt.legend(handles, labels)\n",
    "\n",
    "plt.show()\n"
   ]
  },
  {
   "cell_type": "code",
   "execution_count": null,
   "id": "662818ee-e227-4fcc-bd35-d93cb544a763",
   "metadata": {},
   "outputs": [],
   "source": [
    "keywords = ['Κουτσούμπας', 'ΚΚΕ', 'Δ.Κουτσούμπας', 'Κούνεβα', 'Παφίλης', 'ΠΑΜΕ', 'Μ. Κομνηνάκα', 'Ν. Καραθανασόπουλος']\n",
    "\n",
    "pattern = r'\\b(?:' + '|'.join(keywords) + r')\\b(?!.*(?:ΚΚΕ\\(μ-λ\\)|Μ-Λ ΚΚΕ))'\n",
    "\n",
    "tpp_ΚΚΕ = tpp_grel[tpp_grel['title'].str.contains(pattern, case=False, na=False, regex=True)]"
   ]
  },
  {
   "cell_type": "code",
   "execution_count": null,
   "id": "27c34132-58eb-4b99-b611-c303ad807afb",
   "metadata": {},
   "outputs": [],
   "source": [
    "tpp_ΚΚΕ.to_csv('C:\\\\Users\\\\stath\\\\tpp_ΚΚΕ.csv', index=False)"
   ]
  },
  {
   "cell_type": "code",
   "execution_count": null,
   "id": "1c7b75c6-f5a0-4162-8a93-908edffce8d3",
   "metadata": {},
   "outputs": [],
   "source": [
    "tpp_ΚΚΕ = pd.read_csv('C:\\\\Users\\\\stath\\\\tpp_ΚΚΕ.csv')"
   ]
  },
  {
   "cell_type": "code",
   "execution_count": null,
   "id": "2d6a191c-4ade-4f44-914d-3934cc53d007",
   "metadata": {},
   "outputs": [],
   "source": [
    "tpp_ΚΚΕ"
   ]
  },
  {
   "cell_type": "code",
   "execution_count": null,
   "id": "dd4eaa9f-43ab-405f-aa94-d6e803eb4611",
   "metadata": {},
   "outputs": [],
   "source": [
    "tpp_ΚΚΕ = tpp_ΚΚΕ.drop(tpp_ΚΚΕ.index[[3, 5, 9, 13, 16, 21, 33]])"
   ]
  },
  {
   "cell_type": "code",
   "execution_count": null,
   "id": "004f8701-119a-42eb-a551-e0efd5627f6d",
   "metadata": {},
   "outputs": [],
   "source": [
    "tpp_ΚΚΕ['pos/neg'].mean()"
   ]
  },
  {
   "cell_type": "code",
   "execution_count": null,
   "id": "d89be47e-88ad-41dd-91e2-5ab75dca4123",
   "metadata": {},
   "outputs": [],
   "source": [
    "tpp_ΚΚΕ['pos/neg_title'].mean()"
   ]
  },
  {
   "cell_type": "code",
   "execution_count": null,
   "id": "589413d4-168c-404c-89ff-e2b2e2dd3763",
   "metadata": {},
   "outputs": [],
   "source": [
    "keywords = [\"ΜέΡΑ25 – Συμμαχία για τη Ρήξη\", \"ΜέΡΑ25\", \"Βαρουφάκης\", \"ΜέΡΑ25-Συμμαχία για τη Ρήξη\", \"Έντμαν\", \"«Οδυσσέας»\"]\n",
    "tpp_ΜέΡΑ25 = tpp_grel[tpp_grel['title'].str.contains(pattern, case=False, na=False)]\n",
    "pattern = '|'.join(keywords)"
   ]
  },
  {
   "cell_type": "code",
   "execution_count": null,
   "id": "7c5bb155-e2dd-40ae-8ccb-30df91c44cd9",
   "metadata": {},
   "outputs": [],
   "source": [
    "tpp_ΜέΡΑ25.to_csv('C:\\\\Users\\\\stath\\\\tpp_ΜέΡΑ25.csv', index=False)"
   ]
  },
  {
   "cell_type": "code",
   "execution_count": null,
   "id": "adc30f3d-f181-4020-81a8-6bde854fcaf6",
   "metadata": {},
   "outputs": [],
   "source": [
    "tpp_ΜέΡΑ25 = pd.read_csv('C:\\\\Users\\\\stath\\\\tpp_ΜέΡΑ25.csv')"
   ]
  },
  {
   "cell_type": "code",
   "execution_count": null,
   "id": "46763f0b-5858-42e6-8f2f-75fab8e65206",
   "metadata": {},
   "outputs": [],
   "source": [
    "tpp_ΜέΡΑ25.shape"
   ]
  },
  {
   "cell_type": "code",
   "execution_count": null,
   "id": "c8d80d27-a932-4af8-aebd-f59c6482fa9e",
   "metadata": {},
   "outputs": [],
   "source": [
    "tpp_ΚΚΕ.shape"
   ]
  },
  {
   "cell_type": "code",
   "execution_count": null,
   "id": "9221d0de-3295-4927-8260-3c752bb3cf5c",
   "metadata": {},
   "outputs": [],
   "source": [
    "tpp_ΠΑΣΟΚ.shape"
   ]
  },
  {
   "cell_type": "code",
   "execution_count": null,
   "id": "57014d0c-f4d0-4534-b1b0-6133c4ff06ad",
   "metadata": {},
   "outputs": [],
   "source": [
    "tpp_ΜέΡΑ25['pos/neg'].mean()"
   ]
  },
  {
   "cell_type": "code",
   "execution_count": null,
   "id": "1e06edd6-6cb3-4a69-b110-45b6b89151cf",
   "metadata": {},
   "outputs": [],
   "source": [
    "tpp_ΜέΡΑ25['pos/neg_title'].mean()"
   ]
  },
  {
   "cell_type": "code",
   "execution_count": null,
   "id": "287cf025-7bf8-4e56-b7b1-e9001127c5d8",
   "metadata": {},
   "outputs": [],
   "source": [
    "keywords = [\"Ανδρουλάκης\", \"ΠΑΣΟΚ-ΚΙΝΑΛ\", \"ΠΑΣΟΚ – ΚΙΝΑΛ\", \"ΠΑΣΟΚ\"]\n",
    "tpp_ΠΑΣΟΚ = tpp_grel[tpp_grel['title'].str.contains(pattern, case=False, na=False)]\n",
    "pattern = '|'.join(keywords)"
   ]
  },
  {
   "cell_type": "code",
   "execution_count": null,
   "id": "edf50fc7-b722-4144-85c0-c00df1bf0312",
   "metadata": {},
   "outputs": [],
   "source": [
    "tpp_ΠΑΣΟΚ.to_csv('C:\\\\Users\\\\stath\\\\tpp_ΠΑΣΟΚ.csv', index=False)"
   ]
  },
  {
   "cell_type": "code",
   "execution_count": null,
   "id": "9949530c-ab1d-4f0c-8fae-7015dea219f8",
   "metadata": {},
   "outputs": [],
   "source": [
    "tpp_ΠΑΣΟΚ = pd.read_csv('C:\\\\Users\\\\stath\\\\tpp_ΠΑΣΟΚ.csv')"
   ]
  },
  {
   "cell_type": "code",
   "execution_count": null,
   "id": "88509723-b3d8-4393-b9d0-4c5b40ae764e",
   "metadata": {},
   "outputs": [],
   "source": [
    "tpp_ΠΑΣΟΚ"
   ]
  },
  {
   "cell_type": "code",
   "execution_count": null,
   "id": "0b3c5707-16d7-444c-b893-84c2a192d451",
   "metadata": {},
   "outputs": [],
   "source": [
    "tpp_ΠΑΣΟΚ = tpp_ΠΑΣΟΚ.drop(tpp_ΠΑΣΟΚ.index[[2,20]])"
   ]
  },
  {
   "cell_type": "code",
   "execution_count": null,
   "id": "1d3cb4dd-5cb5-4afa-9d52-08ba1f0c0b5b",
   "metadata": {},
   "outputs": [],
   "source": [
    "tpp_ΠΑΣΟΚ['pos/neg'].mean()"
   ]
  },
  {
   "cell_type": "code",
   "execution_count": null,
   "id": "afba0850-9a34-40d8-9329-2095fd695966",
   "metadata": {},
   "outputs": [],
   "source": [
    "tpp_ΠΑΣΟΚ['pos/neg_title'].mean()"
   ]
  },
  {
   "cell_type": "code",
   "execution_count": null,
   "id": "c190d143-f014-45cf-a309-750da2874838",
   "metadata": {},
   "outputs": [],
   "source": [
    "tpp_ΚΚΕ_full_text = tpp_ΚΚΕ['full_content'].str.cat(sep = ' ')"
   ]
  },
  {
   "cell_type": "code",
   "execution_count": null,
   "id": "7b24081d-3af5-4cae-b86b-ced19b6e5c48",
   "metadata": {},
   "outputs": [],
   "source": [
    "tpp_ΚΚΕ_full_doc = nlp(tpp_ΚΚΕ_full_text)"
   ]
  },
  {
   "cell_type": "code",
   "execution_count": null,
   "id": "7229c056-7235-4335-8fc3-62c773c2d682",
   "metadata": {},
   "outputs": [],
   "source": [
    "cv = CountVectorizer(stop_words= list(nlp.Defaults.stop_words), max_features=20, ngram_range=(2,2))\n",
    "count_vector = cv.fit_transform(tpp_ΚΚΕ[\"full_content\"])\n",
    "tpp_ΚΚΕ_bigrams = pd.DataFrame(count_vector.toarray(), columns=cv.get_feature_names_out()) "
   ]
  },
  {
   "cell_type": "code",
   "execution_count": null,
   "id": "7d003cc6-0436-46a4-b96e-f9ea138a84bf",
   "metadata": {},
   "outputs": [],
   "source": [
    "tpp_ΚΚΕ_bigrams.sum(axis =0).sort_values(ascending = False)"
   ]
  },
  {
   "cell_type": "code",
   "execution_count": null,
   "id": "87cfc556-d313-4165-9642-597492a4732e",
   "metadata": {},
   "outputs": [],
   "source": [
    "data = {\n",
    "\"συριζα πασοκ\" :              31,\n",
    "\"νδ συριζα\"   :               31,\n",
    "\"κε κκε\"   :                  22,\n",
    "\"δυνατό κκε\"  :               20,\n",
    "\"αντιλαϊκή κυβέρνηση\"   :     16,\n",
    "\"νδ πασοκ\"  :                 14,\n",
    "\"δημήτρης κουτσούμπας\"  :     13,\n",
    "\"γγ κε\"       :               12,\n",
    "\"δυνατός λαός\"  :             10,\n",
    "\"πεαεα δσε\"      :            10,\n",
    "\"κκε δημήτρης\"    :           8,\n",
    "\"ψήφος κκε\"        :           7,\n",
    "\"επενδυτική βαθμίδα\" :          7,\n",
    "\"προοδευτική κυβέρνηση\" :      7,\n",
    "\"συριζα ανελ\" :                6,\n",
    "\"κκε δυνατό\" :                 6,\n",
    "\"καπιταλιστικής εξουσίας\" :    6,\n",
    "\"συμβάσεις εργασίας\"  :        5,\n",
    "\"αλέξης τσίπρας\"  :            5\n",
    "}\n",
    "\n",
    "df = pd.DataFrame(list(data.items()), columns=['Διγράμματα', 'Αναφορές'])\n",
    "\n",
    "df = df.sort_values(by='Αναφορές', ascending=False)\n",
    "\n",
    "plt.figure(figsize=(10, 8))\n",
    "plt.barh(df['Διγράμματα'], df['Αναφορές'], color='red', edgecolor= 'black')\n",
    "bars = plt.barh(df['Διγράμματα'], df['Αναφορές'], color='red', edgecolor= 'black')\n",
    "for bar in bars:\n",
    "    plt.text(\n",
    "        bar.get_width() - 5, bar.get_y() + bar.get_height() / 2,\n",
    "        str(bar.get_width()),\n",
    "        va='center',\n",
    "        ha='center',\n",
    "        color='white',\n",
    "        fontsize=10\n",
    "    )\n",
    "plt.xlabel('Αναφορές')\n",
    "plt.ylabel('Διγράμματα')\n",
    "plt.xlim(0,40)\n",
    "plt.title('Διγράμματα Δημοσιευμάτων για το ΚΚΕ - The Press Project')\n",
    "plt.gca().invert_yaxis() \n",
    "plt.show()"
   ]
  },
  {
   "cell_type": "code",
   "execution_count": null,
   "id": "a626883a-95bf-4280-b65e-dc2b499a0825",
   "metadata": {},
   "outputs": [],
   "source": [
    "tpp_ΜέΡΑ25_full_text = tpp_ΜέΡΑ25['full_content'].str.cat(sep = ' ')"
   ]
  },
  {
   "cell_type": "code",
   "execution_count": null,
   "id": "898313a2-be05-441f-a613-e31c9519c588",
   "metadata": {},
   "outputs": [],
   "source": [
    "tpp_ΜέΡΑ25_full_doc = nlp(tpp_ΜέΡΑ25_full_text)"
   ]
  },
  {
   "cell_type": "code",
   "execution_count": null,
   "id": "09bd441b-ee86-48e2-95f9-300937e37028",
   "metadata": {},
   "outputs": [],
   "source": [
    "cv = CountVectorizer(stop_words= list(nlp.Defaults.stop_words), max_features=20, ngram_range=(2,5))\n",
    "count_vector = cv.fit_transform(tpp_ΜέΡΑ25[\"full_content\"])\n",
    "tpp_ΜέΡΑ25_bigrams = pd.DataFrame(count_vector.toarray(), columns=cv.get_feature_names_out()) "
   ]
  },
  {
   "cell_type": "code",
   "execution_count": null,
   "id": "255dadc4-9a97-44d0-8404-9a9d217e44b7",
   "metadata": {},
   "outputs": [],
   "source": [
    "tpp_ΜέΡΑ25_bigrams.sum(axis =0).sort_values(ascending = False)"
   ]
  },
  {
   "cell_type": "code",
   "execution_count": null,
   "id": "94c17d5a-c299-4639-bcf9-47b651c7eebf",
   "metadata": {},
   "outputs": [],
   "source": [
    "data = {\n",
    "\"συμμαχία ρήξη\"   :          66,\n",
    "\"μέρα25 συμμαχία\"   :         63,\n",
    "\"γιάνης βαρουφάκης\"  :        19,\n",
    "\"επικεφαλής μέρα25\"   :       14,\n",
    "\"συριζα πασοκ\"         :      12,\n",
    "\"αλέξης τσίπρας\"        :      9,\n",
    "\"πρόεδρος συριζα\"        :    9,\n",
    "\"νδ συριζα\"           :        7,\n",
    "\"χρηματιστήριο ενέργειας\" :    7,\n",
    "\"κλέωνα γρηγοριάδη\"      :    6,\n",
    "\"ευρωπαϊκή ένωση\"      :       6,\n",
    "\"δισ ευρώ\"          :          6,\n",
    "\"γιάνη βαρουφάκη\"    :         6,\n",
    "\"απλή αναλογική\"      :        6,\n",
    "\"ανακοίνωσή μέρα25\"    :       5,\n",
    "\"μητσοτάκης αε\"       :        5,\n",
    "\"συμμαχια ρηξη\"     :          5,\n",
    "\"σύστημα δήμητρα\"  :           5,\n",
    "\"υπάρχει εναλλακτική\" :         5,\n",
    "\"μερα25 συμμαχια\"     :        5\n",
    "}\n",
    "\n",
    "data[\"γιάνης βαρουφάκης/γιάνη βαρουφάκη\"] = data.pop(\"γιάνη βαρουφάκη\") + data.pop(\"γιάνης βαρουφάκης\")\n",
    "\n",
    "df = pd.DataFrame(list(data.items()), columns=['Διγράμματα', 'Αναφορές'])\n",
    "\n",
    "df = df.sort_values(by='Αναφορές', ascending=False)\n",
    "\n",
    "plt.figure(figsize=(10, 8))\n",
    "bars = plt.barh(df['Διγράμματα'], df['Αναφορές'], color='orange', edgecolor= 'black')\n",
    "\n",
    "for bar in bars:\n",
    "    plt.text(\n",
    "        bar.get_width() + 2, bar.get_y() + bar.get_height() / 2,  \n",
    "        str(bar.get_width()),\n",
    "        va='center',\n",
    "        ha='left',  \n",
    "        color='black',\n",
    "        fontsize=10\n",
    "    )\n",
    "\n",
    "plt.xlabel('Αναφορές')\n",
    "plt.ylabel('Διγράμματα')\n",
    "plt.xlim(0,90)\n",
    "plt.title('Διγράμματα Δημοσιευμάτων για το ΜέΡΑ25- The Press Project')\n",
    "plt.gca().invert_yaxis() \n",
    "plt.show()\n"
   ]
  },
  {
   "cell_type": "code",
   "execution_count": null,
   "id": "0d272d80-543f-402c-8b66-83a164065df5",
   "metadata": {},
   "outputs": [],
   "source": [
    "tpp_ΠΑΣΟΚ_full_text = tpp_ΠΑΣΟΚ['full_content'].str.cat(sep = ' ')"
   ]
  },
  {
   "cell_type": "code",
   "execution_count": null,
   "id": "1ffb21f4-97d7-44df-8bc1-f672517c0096",
   "metadata": {},
   "outputs": [],
   "source": [
    "tpp_ΠΑΣΟΚ_full_doc = nlp(tpp_ΠΑΣΟΚ_full_text)"
   ]
  },
  {
   "cell_type": "code",
   "execution_count": null,
   "id": "117a1e5e-3353-4c6a-8cc2-113edf258954",
   "metadata": {},
   "outputs": [],
   "source": [
    "cv = CountVectorizer(stop_words= list(nlp.Defaults.stop_words), max_features=20, ngram_range=(2,2))\n",
    "count_vector = cv.fit_transform(tpp_ΠΑΣΟΚ[\"full_content\"])\n",
    "tpp_ΠΑΣΟΚ_bigrams = pd.DataFrame(count_vector.toarray(), columns=cv.get_feature_names_out()) "
   ]
  },
  {
   "cell_type": "code",
   "execution_count": null,
   "id": "219275ce-a7e3-4e22-af7c-71185b4f3466",
   "metadata": {},
   "outputs": [],
   "source": [
    "tpp_ΠΑΣΟΚ_bigrams.sum(axis =0).sort_values(ascending = False)"
   ]
  },
  {
   "cell_type": "code",
   "execution_count": null,
   "id": "95e26aa6-f9f7-46cb-adce-07f83d4fca16",
   "metadata": {},
   "outputs": [],
   "source": [
    "data = {\n",
    "\"πρόεδρος πασοκ\" :        20,\n",
    "\"νίκος ανδρουλάκης\"  :   19,\n",
    "\"πασοκ κιναλ\"   :        17,\n",
    "\"πασοκ κινήματος\" :      14,\n",
    "\"κινήματος αλλαγής\" :    13,\n",
    "\"νέα δημοκρατία\"   :     11,\n",
    "\"ελληνικού λαού\"    :    10,\n",
    "\"ανδρέας παπανδρέου\" :    9,\n",
    "\"νέας δημοκρατίας\"   :    7,\n",
    "\"fake news\"        :      6,\n",
    "\"σύστημα υγείας\"   :      6,\n",
    "\"νέα γενιά\"      :        6,\n",
    "\"αλέξη τσίπρα\"   :        6,\n",
    "\"κοινωνικό κράτος\" :      6,\n",
    "\"κιναλ νίκος\"   :       5,\n",
    "\"εθνικό σύστημα\" :        5,\n",
    "\"αλλαγής νίκος\"  :        5,\n",
    "\"ισχυρό πασοκ\"   :        4,\n",
    "\"πρόσωπα κοινής\"  :       4,\n",
    "\"φόρους ελληνικού\" :      4\n",
    "}\n",
    "\n",
    "df = pd.DataFrame(list(data.items()), columns=['Διγράμματα', 'Αναφορές'])\n",
    "\n",
    "df = df.sort_values(by='Αναφορές', ascending=False)\n",
    "\n",
    "plt.figure(figsize=(10, 8))\n",
    "bars = plt.barh(df['Διγράμματα'], df['Αναφορές'], color='green', edgecolor= 'black')\n",
    "\n",
    "for bar in bars:\n",
    "    plt.text(\n",
    "        bar.get_width() + 2, bar.get_y() + bar.get_height() / 2,  \n",
    "        str(bar.get_width()),\n",
    "        va='center',\n",
    "        ha='left',  \n",
    "        color='black',\n",
    "        fontsize=10\n",
    "    )\n",
    "\n",
    "plt.xlabel('Αναφορές')\n",
    "plt.ylabel('Διγράμματα')\n",
    "plt.xlim(0,40)\n",
    "plt.title('Διγράμματα Δημοσιευμάτων για το ΠΑΣΟΚ - ΚΙΝΑΛ - The Press Project')\n",
    "plt.gca().invert_yaxis() \n",
    "plt.show()"
   ]
  },
  {
   "cell_type": "code",
   "execution_count": null,
   "id": "d48ca4e8-ed43-4b0e-82a1-806f5f51f880",
   "metadata": {},
   "outputs": [],
   "source": [
    "tpp_grel.shape"
   ]
  },
  {
   "cell_type": "code",
   "execution_count": null,
   "id": "19dfd580-ff98-4659-b0c2-4652145d5dca",
   "metadata": {},
   "outputs": [],
   "source": [
    "tpp_Νέα_Δημοκρατία.shape"
   ]
  },
  {
   "cell_type": "code",
   "execution_count": null,
   "id": "24d37f01-ae07-4b1c-abb4-14cfc5375172",
   "metadata": {},
   "outputs": [],
   "source": [
    "tpp_ΣΥΡΙΖΑ.shape"
   ]
  },
  {
   "cell_type": "code",
   "execution_count": null,
   "id": "499b2695-3a34-424e-bbc4-9d8909f30780",
   "metadata": {},
   "outputs": [],
   "source": [
    "tpp_ΜέΡΑ25.shape"
   ]
  },
  {
   "cell_type": "code",
   "execution_count": null,
   "id": "642719cb-3b4a-40dd-a291-b281fdb3c23c",
   "metadata": {},
   "outputs": [],
   "source": [
    "tpp_ΚΚΕ.shape"
   ]
  },
  {
   "cell_type": "code",
   "execution_count": null,
   "id": "7dd2c060-1d3f-4105-97a4-8b1cc4206507",
   "metadata": {},
   "outputs": [],
   "source": [
    "tpp_ΠΑΣΟΚ.shape"
   ]
  },
  {
   "cell_type": "code",
   "execution_count": null,
   "id": "3b4b9d8d-72af-4e96-8024-108ef73fd28c",
   "metadata": {},
   "outputs": [],
   "source": [
    "tpp_Εξωκοινοβουλευτική_Αριστερά.shape"
   ]
  },
  {
   "cell_type": "code",
   "execution_count": null,
   "id": "5dca5846-41d7-4e67-99d5-80ec59aedee6",
   "metadata": {},
   "outputs": [],
   "source": [
    "# Data\n",
    "parties = ['Νέα Δημοκρατία', 'ΣΥΡΙΖΑ', 'ΜέΡΑ25', 'ΚΚΕ', 'ΠΑΣΟΚ', 'Εξωκοινοβουλευτική Αριστερά', 'Ακροδεξιά', 'Άλλο']\n",
    "post_counts = [69, 69, 37, 32, 24, 23, 14, 62]\n",
    "\n",
    "# Calculate percentages\n",
    "total_posts = sum(post_counts)\n",
    "percentages = [count / total_posts * 100 for count in post_counts]\n",
    "\n",
    "# Define colors for each party\n",
    "colors = ['blue', 'mediumpurple', 'darkorange', 'red', 'green', 'fuchsia', 'darkseagreen', 'grey']\n",
    "\n",
    "# Plotting the pie chart\n",
    "plt.figure(figsize=(8, 8))\n",
    "wedges, texts, autotexts = plt.pie(percentages, labels=parties, autopct='%1.1f%%', startangle=140, colors=colors)\n",
    "\n",
    "# Adding the number counts to the top right of each wedge\n",
    "for i, count in enumerate(post_counts):\n",
    "    autotexts[i].set_text(f'{percentages[i]:.1f}%\\n({count})')\n",
    "    autotexts[i].set_size(10)\n",
    "\n",
    "# Adjust text properties\n",
    "for text in texts + autotexts:\n",
    "    text.set_fontsize(12)\n",
    "    text.set_color('black')\n",
    "\n",
    "plt.title('Percentages of Posts About Political Parties - The Press Project')\n",
    "plt.show()\n"
   ]
  },
  {
   "cell_type": "code",
   "execution_count": null,
   "id": "f78cd8ad-9bfd-4cce-87fa-207d9f0a9214",
   "metadata": {},
   "outputs": [],
   "source": [
    "from pywaffle import Waffle\n",
    "\n",
    "parties = ['Νέα Δημοκρατία', 'ΣΥΡΙΖΑ', 'ΠΑΣΟΚ', 'ΚΚΕ', 'ΜέΡΑ25', 'Ακροδεξιά', 'Ελληνική Λύση', 'Γενική Αρθρογραφία', 'Εξωκοινοβουλευτική Αριστερά']\n",
    "post_counts = [51,61,26,32,37,14,2,84,23]\n",
    "\n",
    "total_posts = sum(post_counts)\n",
    "percentages = [count / total_posts * 100 for count in post_counts]\n",
    "\n",
    "colors = ['blue', 'mediumpurple', 'green', 'red', 'darkorange', 'darkseagreen', 'lightsteelblue', 'grey', 'fuchsia']\n",
    "\n",
    "data = {f\"{party} ({count}, {percentage:.1f}%)\": count for party, count, percentage in zip(parties, post_counts, percentages)}\n",
    "\n",
    "fig = plt.figure(\n",
    "    FigureClass=Waffle, \n",
    "    rows=15,  # Adjust the number of rows to change the size of squares\n",
    "    values=data, \n",
    "    colors=colors, \n",
    "    legend={'loc': 'upper left', 'bbox_to_anchor': (1, 1), 'fontsize': 10, 'title': 'Κόμματα'},\n",
    "    title={'label': 'Σύνολο και Ποσοστά δημοσιευμάτων για τα κόμματα - The Press Project', 'loc': 'center', 'fontsize': 16},\n",
    "    block_arranging_style='snake',  # Arranges the blocks in a snake style\n",
    "    figsize=(14, 12)\n",
    ")\n",
    "\n",
    "plt.show()"
   ]
  },
  {
   "cell_type": "code",
   "execution_count": null,
   "id": "281af23e-01d8-483d-9eac-34810edb4a89",
   "metadata": {},
   "outputs": [],
   "source": [
    "tpp_grel[\"title\"][329]"
   ]
  },
  {
   "cell_type": "code",
   "execution_count": null,
   "id": "0218bbca-030e-47c5-a9d6-a5efa2c70eeb",
   "metadata": {},
   "outputs": [],
   "source": [
    "tpp_grel['κόμματα'] = ''"
   ]
  },
  {
   "cell_type": "code",
   "execution_count": null,
   "id": "ce4927ca-c65a-4f77-9670-050e7fbf6dbf",
   "metadata": {},
   "outputs": [],
   "source": [
    "tpp_grel.loc[[0,6,21,32,36,43,55,77,81,84,89,102,106,108,110,114,115,122,127,130,137,162,166,167,169,172,174,193,194,195,202,231,232,240,245,246,250,252,254,255,258,259,262,274,290,293,294,296,301,304,305], 'κόμματα'] = 'ΝΔ'"
   ]
  },
  {
   "cell_type": "code",
   "execution_count": null,
   "id": "4850bb7b-05c7-424b-aad3-41ac9874b980",
   "metadata": {},
   "outputs": [],
   "source": [
    "tpp_grel.loc[[1,4,13,22,37,39,44,5,52,54,56,60,62,67,69,75,85,98,112,113,119,129,133,136,140,143,148,164,173,175,178,197,205,206,212,216,219,222,225,229,233,237,243,244,249,261,268,273,282,280,286,297,299,300,309,312,321,322,325,327,329], 'κόμματα'] = 'ΣΥΡΙΖΑ'"
   ]
  },
  {
   "cell_type": "code",
   "execution_count": null,
   "id": "b8324709-c779-4faf-9512-d5b339ddaadf",
   "metadata": {},
   "outputs": [],
   "source": [
    "tpp_ΝΔ = tpp_grel.loc[tpp_grel['κόμματα'] == 'ΝΔ']\n",
    "tpp_ΣΥΡΙΖΑ = tpp_grel.loc[tpp_grel['κόμματα'] == 'ΣΥΡΙΖΑ']"
   ]
  },
  {
   "cell_type": "code",
   "execution_count": null,
   "id": "c81af998-4ccf-4b6d-ab15-d0a64796a1f0",
   "metadata": {},
   "outputs": [],
   "source": [
    "tpp_ΝΔ.shape"
   ]
  },
  {
   "cell_type": "code",
   "execution_count": null,
   "id": "9936c3e5-49fd-47db-aea0-a8a1cfe0dd31",
   "metadata": {},
   "outputs": [],
   "source": [
    "tpp_ΣΥΡΙΖΑ.shape"
   ]
  },
  {
   "cell_type": "code",
   "execution_count": null,
   "id": "60627bf2-60ee-4c1c-9cc0-6ba2f6d63a09",
   "metadata": {},
   "outputs": [],
   "source": [
    "tpp_ΣΥΡΙΖΑ['pos/neg'].mean()"
   ]
  },
  {
   "cell_type": "code",
   "execution_count": null,
   "id": "34d1ce3d-5927-4752-a89e-328415ba36f8",
   "metadata": {},
   "outputs": [],
   "source": [
    "tpp_ΣΥΡΙΖΑ['pos/neg_title'].mean()"
   ]
  },
  {
   "cell_type": "code",
   "execution_count": null,
   "id": "9d6f0ce0-3896-4805-8006-3d4311826ded",
   "metadata": {},
   "outputs": [],
   "source": [
    "tpp_ΝΔ['pos/neg'].mean()"
   ]
  },
  {
   "cell_type": "code",
   "execution_count": null,
   "id": "504dc314-ab41-4a87-8e74-3024c86248a6",
   "metadata": {},
   "outputs": [],
   "source": [
    "tpp_ΝΔ['pos/neg_title'].mean()"
   ]
  },
  {
   "cell_type": "code",
   "execution_count": null,
   "id": "82f53bca-3bb5-40b0-8a7b-b5c6d784a916",
   "metadata": {},
   "outputs": [],
   "source": [
    "means = {\n",
    "    'ΝΔ': {\n",
    "        'Πολικότητα Κειμένων': - 0.50,\n",
    "        'Πολικότητα Τίτλων': - 2.13\n",
    "    },\n",
    "    'ΣΥΡΙΖΑ': {\n",
    "        'Πολικότητα Κειμένων': 0.93,\n",
    "        'Πολικότητα Τίτλων': - 0.13\n",
    "    },\n",
    "    'ΠΑΣΟΚ': {\n",
    "        'Πολικότητα Κειμένων': 2.16,\n",
    "        'Πολικότητα Τίτλων': 0.16\n",
    "    },\n",
    "    'ΚΚΕ': {\n",
    "        'Πολικότητα Κειμένων': 0.12, \n",
    "        'Πολικότητα Τίτλων': 0\n",
    "    },\n",
    "    'ΜέΡΑ25': {\n",
    "        'Πολικότητα Κειμένων': 1.56,\n",
    "        'Πολικότητα Τίτλων': 0.25\n",
    "    \n",
    "    } }\n",
    "\n",
    "\n",
    "means_df = pd.DataFrame(means).T \n",
    "\n",
    "\n",
    "color_map = {\n",
    "    'ΝΔ': 'blue',\n",
    "    'ΣΥΡΙΖΑ': 'mediumpurple',\n",
    "    'ΠΑΣΟΚ': 'green',\n",
    "    'ΚΚΕ': 'red',\n",
    "    'ΜέΡΑ25': 'darkorange',\n",
    "   \n",
    "}\n",
    "\n",
    "new_col_titles = ['Πολικότητα Κειμένων', 'Πολικότητα Τίτλων']\n",
    "\n",
    "\n",
    "fig, ax = plt.subplots(figsize=(14, 8))\n",
    "\n",
    "ax.xaxis.set_visible(False)\n",
    "ax.yaxis.set_visible(False)\n",
    "ax.set_frame_on(False)\n",
    "\n",
    "table = ax.table(cellText=means_df.values,\n",
    "                 rowLabels=means_df.index,\n",
    "                 colLabels=new_col_titles,\n",
    "                 cellLoc='center',\n",
    "                 loc='center',\n",
    "                 colColours=['lightgrey'] * len(new_col_titles),\n",
    "                 rowColours=['white'] * len(means_df.index))  \n",
    "\n",
    "\n",
    "for i, label in enumerate(means_df.index):\n",
    "    row_color = color_map.get(label, 'white')  \n",
    "    for j in range(len(new_col_titles)):\n",
    "        table[(i + 1, j)].set_facecolor(row_color) \n",
    "        \n",
    "table.auto_set_font_size(False)\n",
    "table.set_fontsize(14)  \n",
    "table.scale(1.5,3)"
   ]
  },
  {
   "cell_type": "code",
   "execution_count": null,
   "id": "8cbf222d-c48c-47b7-8687-254e0aab580b",
   "metadata": {},
   "outputs": [],
   "source": []
  }
 ],
 "metadata": {
  "kernelspec": {
   "display_name": "Python 3 (ipykernel)",
   "language": "python",
   "name": "python3"
  },
  "language_info": {
   "codemirror_mode": {
    "name": "ipython",
    "version": 3
   },
   "file_extension": ".py",
   "mimetype": "text/x-python",
   "name": "python",
   "nbconvert_exporter": "python",
   "pygments_lexer": "ipython3",
   "version": "3.12.4"
  }
 },
 "nbformat": 4,
 "nbformat_minor": 5
}
