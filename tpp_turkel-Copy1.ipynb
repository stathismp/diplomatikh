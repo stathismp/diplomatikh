{
 "cells": [
  {
   "cell_type": "code",
   "execution_count": null,
   "id": "54bc95ad-0bbc-493b-b794-3956e88d5fca",
   "metadata": {},
   "outputs": [],
   "source": [
    "import requests\n",
    "from bs4 import BeautifulSoup\n",
    "import pandas as pd\n",
    "import time\n",
    "import numpy as np\n",
    "import matplotlib.pyplot as plt\n",
    "import spacy\n",
    "from wordcloud import WordCloud\n",
    "import seaborn as sns"
   ]
  },
  {
   "cell_type": "code",
   "execution_count": null,
   "id": "f142d032-7d28-45d7-a5b7-3347ccba3d71",
   "metadata": {},
   "outputs": [],
   "source": [
    "tpp_turkel_urls = []\n",
    "base_url = \"https://thepressproject.gr/category/international/page/\"\n",
    "\n",
    "keywords = [\"erntogan\", \"ntemirtas\", \"tourkia\", \"tourkikes\", \"tourkoi\", \"tourkous\", \"kilitsntaroglou\"]\n",
    "\n",
    "for page_num in range(200, 240):\n",
    "    url = base_url + str(page_num)\n",
    "    response = requests.get(url)\n",
    "    if response.status_code == 200:\n",
    "        soup = BeautifulSoup(response.text, 'html.parser')\n",
    "        articles = soup.find_all('div', {\"class\": \"col-md-8 archive-item\"})\n",
    "\n",
    "        print(f\"Page {page_num}: Found {len(articles)} articles\")\n",
    "\n",
    "        for article in articles:\n",
    "            article_url = article.find('a')['href']\n",
    "            if any(keyword in article_url for keyword in keywords):\n",
    "                tpp_turkel_urls.append(article_url)\n",
    "    else:\n",
    "        print(f\"Failed to retrieve the page {page_num}. Status code: {response.status_code}\")\n",
    "\n",
    "print(\"Collected URLs:\", tpp_turkel_urls)\n",
    "print(\"Total URLs collected:\", len(tpp_turkel_urls))\n"
   ]
  },
  {
   "cell_type": "code",
   "execution_count": null,
   "id": "27db4ea0-80ec-404e-83c7-c46e02f6b737",
   "metadata": {},
   "outputs": [],
   "source": [
    "tpp_turkel_urls = pd.DataFrame(tpp_turkel_urls)"
   ]
  },
  {
   "cell_type": "code",
   "execution_count": null,
   "id": "44197c40-7717-46f8-8fe3-b4c277fa3950",
   "metadata": {},
   "outputs": [],
   "source": [
    "full_articles_list = []\n",
    "headers = {\n",
    "    'User-Agent': 'Mozilla/5.0 (Windows NT 10.0; Win64; x64) AppleWebKit/537.36 '\n",
    "                  '(KHTML, like Gecko) Chrome/91.0.4472.124 Safari/537.36'\n",
    "}\n",
    "\n",
    "for index, processed_url in enumerate(tpp_turkel_urls[0]):\n",
    "    full_article_dict = {}\n",
    "    try:\n",
    "        response = requests.get(processed_url, headers=headers)\n",
    "        soup = BeautifulSoup(response.text, 'html.parser')\n",
    "\n",
    "        full_article_dict['site'] = \"thepressproject.gr\"\n",
    "        full_article_dict['url'] = processed_url\n",
    "\n",
    "        title_tag = soup.find(\"h1\", {\"class\": \"entry-title\"})\n",
    "        title = title_tag.get_text(strip=True) if title_tag else 'No Title Found'\n",
    "        full_article_dict['title'] = title\n",
    "\n",
    "        datetime_tag = soup.find(\"div\", {\"class\": \"article-date\"})\n",
    "        datetime = datetime_tag.get_text(strip=True) if datetime_tag else 'No Datetime Found'\n",
    "        full_article_dict['datetime'] = datetime\n",
    "\n",
    "        article_lead_tag = soup.find(\"div\", {\"class\": \"subtitle article-summary\"})\n",
    "        article_lead = article_lead_tag.get_text(strip=True) if article_lead_tag else 'No article lead Found'\n",
    "        full_article_dict['article_lead'] = article_lead\n",
    "        \n",
    "        text = soup.find(\"div\", {\"class\": \"main-content article-content\"})\n",
    "        content = ''\n",
    "        if text:\n",
    "            for child in text.children:\n",
    "                if child.name == 'p':\n",
    "                    content += child.get_text(strip=True) + '\\n'\n",
    "                elif child.name == 'h2':\n",
    "                    content += '\\n' + child.get_text(strip=True) + '\\n'\n",
    "            full_article_dict['text'] = content.strip()\n",
    "        else:\n",
    "            full_article_dict['text'] = 'No text found'\n",
    "\n",
    "    except Exception as e:\n",
    "        print(f\"Error processing {processed_url}: {e}\")\n",
    "        full_article_dict = {\n",
    "            'site': \"thepressproject.gr\",\n",
    "            'url': processed_url,\n",
    "            'title': 'Error',\n",
    "            'datetime': 'Error',\n",
    "            'article_lead': 'Error',\n",
    "            'text': 'Error'\n",
    "        }\n",
    "\n",
    "    print(f\"Processed {index + 1}/{len(tpp_turkel_urls[0])}: {processed_url}\")\n",
    "\n",
    "    full_articles_list.append(full_article_dict)\n",
    "\n",
    "    time.sleep(1)\n",
    "\n",
    "tpp_turkel = pd.DataFrame(full_articles_list)"
   ]
  },
  {
   "cell_type": "code",
   "execution_count": null,
   "id": "1a0fa734-55ec-456b-b0a6-21ae0a9daed5",
   "metadata": {},
   "outputs": [],
   "source": [
    "tpp_turkel.to_csv('C:\\\\Users\\\\stath\\\\tpp_turkish_elections.csv', index=False)\n"
   ]
  },
  {
   "cell_type": "code",
   "execution_count": null,
   "id": "20af50f4-ba94-42e6-8684-73cc28c37310",
   "metadata": {},
   "outputs": [],
   "source": [
    "tpp_turkel = pd.read_csv('C:\\\\Users\\\\stath\\\\tpp_turkish_elections.csv')"
   ]
  },
  {
   "cell_type": "code",
   "execution_count": null,
   "id": "ffd9450d-9947-4653-bbf2-a15f3479476d",
   "metadata": {},
   "outputs": [],
   "source": [
    "tpp_turkel"
   ]
  },
  {
   "cell_type": "code",
   "execution_count": null,
   "id": "1dbb9bf5-c0d4-407b-b3e3-8d4179218372",
   "metadata": {},
   "outputs": [],
   "source": [
    "tpp_turkel[\"datetime\"] = tpp_turkel[\"datetime\"].str.replace(\"Αναρτήθηκε:\", \"\")\n",
    "tpp_turkel[\"datetime\"] = tpp_turkel[\"datetime\"].str.replace(\"2023Αναρτήθηκε:\", \"2023\")\n",
    "tpp_turkel[\"datetime\"] = tpp_turkel[\"datetime\"].str.replace(\"Δευτέρα\", \"\")\n",
    "tpp_turkel[\"datetime\"] = tpp_turkel[\"datetime\"].str.replace(\"Τρίτη\", \"\")\n",
    "tpp_turkel[\"datetime\"] = tpp_turkel[\"datetime\"].str.replace(\"Τετάρτη\",\"\")\n",
    "tpp_turkel[\"datetime\"] = tpp_turkel[\"datetime\"].str.replace(\"Πέμπτη\", \"\")\n",
    "tpp_turkel[\"datetime\"] = tpp_turkel[\"datetime\"].str.replace(\"Παρασκευή\", \"\")\n",
    "tpp_turkel[\"datetime\"] = tpp_turkel[\"datetime\"].str.replace(\"Σάββατο\",\"\")\n",
    "tpp_turkel[\"datetime\"] = tpp_turkel[\"datetime\"].str.replace(\"Κυριακή\", \"\")"
   ]
  },
  {
   "cell_type": "code",
   "execution_count": null,
   "id": "99f1baf0-91ac-491a-9918-efe4a21ba487",
   "metadata": {},
   "outputs": [],
   "source": [
    "tpp_turkel[\"text\"] = tpp_turkel[\"text\"].str.replace(\"\\n\", \"\")"
   ]
  },
  {
   "cell_type": "code",
   "execution_count": null,
   "id": "12256e33-26be-4adb-9d72-fd5f8f4dcde0",
   "metadata": {},
   "outputs": [],
   "source": [
    "def replace_month_name(date_str):\n",
    "    months = {\n",
    "        \"Ιανουαρίου\": \"01\",\n",
    "        \"Φεβρουαρίου\": \"02\",\n",
    "        \"Μαρτίου\": \"03\",\n",
    "        \"Απριλίου\": \"04\",\n",
    "        \"Μαΐου\": \"05\",\n",
    "        \"Ιουνίου\": \"06\",\n",
    "        \"Ιουλίου\": \"07\",\n",
    "        \"Αυγούστου\": \"08\",\n",
    "        \"Σεπτεμβρίου\": \"09\",\n",
    "        \"Οκτωβρίου\": \"10\",\n",
    "        \"Νοεμβρίου\": \"11\",\n",
    "        \"Δεκεμβρίου\": \"12\"\n",
    "    }\n",
    "    for greek_month, month_num in months.items():\n",
    "        if greek_month in date_str:\n",
    "            return date_str.replace(greek_month, month_num)\n",
    "    return date_str\n",
    "\n",
    "\n",
    "tpp_turkel['datetime'] = tpp_turkel['datetime'].apply(lambda x: replace_month_name(x).strip())\n",
    "print(\"After replacement:\")\n",
    "print(tpp_turkel['datetime'])\n",
    "\n",
    "tpp_turkel['datetime'] = pd.to_datetime(tpp_turkel['datetime'], format='%d %m %Y %H:%M:%S', errors='coerce')\n",
    "\n",
    "print(\"After conversion to datetime:\")\n",
    "print(tpp_turkel['datetime'])\n",
    "\n",
    "\n",
    "failed_conversions = tpp_turkel[tpp_turkel['datetime'].isna()]\n",
    "print(\"Failed conversions:\")\n",
    "print(failed_conversions)\n"
   ]
  },
  {
   "cell_type": "code",
   "execution_count": null,
   "id": "c0af07d9-ca41-409d-9df9-965b4063ca13",
   "metadata": {},
   "outputs": [],
   "source": [
    "tpp_turkel['article_lead'] = tpp_turkel['article_lead'].fillna('')\n",
    "tpp_turkel['text'] = tpp_turkel['text'].fillna('')\n",
    "\n",
    "tpp_turkel['full_content'] = tpp_turkel['article_lead'] + ' ' + tpp_turkel['text']\n",
    "\n",
    "\n"
   ]
  },
  {
   "cell_type": "code",
   "execution_count": null,
   "id": "49e97a0d-ea14-4875-a5f4-1d0a571668d0",
   "metadata": {},
   "outputs": [],
   "source": [
    "tpp_turkel"
   ]
  },
  {
   "cell_type": "code",
   "execution_count": null,
   "id": "3d67b9c1-2fae-43df-a99e-213f3cec8943",
   "metadata": {},
   "outputs": [],
   "source": [
    "tpp_turkel[\"title\"][3]"
   ]
  },
  {
   "cell_type": "code",
   "execution_count": null,
   "id": "f2533e39-7259-47ba-88c8-e13cb1cab67d",
   "metadata": {},
   "outputs": [],
   "source": [
    "import matplotlib.pyplot as plt\n",
    "from wordcloud import WordCloud"
   ]
  },
  {
   "cell_type": "code",
   "execution_count": null,
   "id": "765a4c5d-fa61-48ae-8bd8-072a23fb5ff5",
   "metadata": {},
   "outputs": [],
   "source": [
    "import spacy\n",
    "print(spacy.__version__)"
   ]
  },
  {
   "cell_type": "code",
   "execution_count": null,
   "id": "1536265a-838f-4d49-90d5-b8fa68273a1b",
   "metadata": {},
   "outputs": [],
   "source": [
    "import seaborn as sns"
   ]
  },
  {
   "cell_type": "code",
   "execution_count": null,
   "id": "3ab179c1-b778-4ca1-b50d-ad97a620c602",
   "metadata": {},
   "outputs": [],
   "source": [
    "nlp = spacy.load('el_core_news_md')"
   ]
  },
  {
   "cell_type": "code",
   "execution_count": null,
   "id": "6ed88827-cb8a-4b5f-b235-40501863858d",
   "metadata": {},
   "outputs": [],
   "source": [
    "tpp_turkel_full_text = tpp_turkel['full_content'].str.cat(sep = ' ')"
   ]
  },
  {
   "cell_type": "code",
   "execution_count": null,
   "id": "187f31b7-e2aa-4145-a003-7bd60807221c",
   "metadata": {},
   "outputs": [],
   "source": [
    "print(len(tpp_turkel_full_text))"
   ]
  },
  {
   "cell_type": "code",
   "execution_count": null,
   "id": "1362e0ae-f6b5-48d4-9d12-2fa48da11d12",
   "metadata": {},
   "outputs": [],
   "source": [
    "nlp.max_length = 2000000"
   ]
  },
  {
   "cell_type": "code",
   "execution_count": null,
   "id": "57c6cb04-651f-4b56-bb40-67cf6556eaa7",
   "metadata": {},
   "outputs": [],
   "source": [
    "tpp_turkel_full_doc = nlp(tpp_turkel_full_text)"
   ]
  },
  {
   "cell_type": "code",
   "execution_count": null,
   "id": "4dc75f06-1bb8-4532-8d9a-7a7c0b4dfa42",
   "metadata": {},
   "outputs": [],
   "source": [
    "from joblib import dump, load"
   ]
  },
  {
   "cell_type": "code",
   "execution_count": null,
   "id": "48a9fa66-0353-48a2-a3c6-f15958a1a9ad",
   "metadata": {},
   "outputs": [],
   "source": [
    "dump(tpp_turkel_full_doc, 'tpp_turkel_full_doc.joblib')"
   ]
  },
  {
   "cell_type": "code",
   "execution_count": null,
   "id": "6a486977-3526-4bbe-9426-948abc2a95fd",
   "metadata": {},
   "outputs": [],
   "source": [
    "lemmatized_text = ' '.join(token.lemma_ for token in tpp_turkel_full_doc)"
   ]
  },
  {
   "cell_type": "code",
   "execution_count": null,
   "id": "7794bfde-5c65-4cc1-a0e3-967cfa81c8d7",
   "metadata": {},
   "outputs": [],
   "source": [
    "lemmatized_text = lemmatized_text.replace(\"Κεμάλς Κιλιτσντάρογλου\", \"Κεμάλ Κιλιτσντάρογλου\")\n",
    "wordcloud_tpp_turkel = WordCloud(\n",
    "    stopwords = nlp.Defaults.stop_words,\n",
    "    width = 2000,\n",
    "    height = 1000,\n",
    "    background_color = 'black'\n",
    " ).generate(lemmatized_text)\n",
    "fig = plt.figure(\n",
    "    figsize = (40, 30),\n",
    "    facecolor = 'k',\n",
    "    edgecolor = 'k')\n",
    "plt.imshow(wordcloud_tpp_turkel, interpolation = 'bilinear')\n",
    "plt.axis('off')\n",
    "plt.tight_layout(pad=0)\n",
    "plt.show()"
   ]
  },
  {
   "cell_type": "code",
   "execution_count": null,
   "id": "ffc5158a-a3ee-4d1b-93ed-f971a1a4f8b1",
   "metadata": {},
   "outputs": [],
   "source": [
    "from sklearn.feature_extraction.text import CountVectorizer"
   ]
  },
  {
   "cell_type": "code",
   "execution_count": null,
   "id": "8a000ffa-b18d-4cfe-9729-2fd587ee233b",
   "metadata": {},
   "outputs": [],
   "source": [
    "cv = CountVectorizer(stop_words= list(nlp.Defaults.stop_words), min_df=0.01, max_df=0.95)"
   ]
  },
  {
   "cell_type": "code",
   "execution_count": null,
   "id": "a7507a72-8e07-4039-b13f-40c8644c0c3a",
   "metadata": {},
   "outputs": [],
   "source": [
    "cv = CountVectorizer(stop_words= list(nlp.Defaults.stop_words), max_features=50, ngram_range=(2,5))\n",
    "count_vector = cv.fit_transform(tpp_turkel[\"full_content\"])\n",
    "tpp_turkel_bigrams = pd.DataFrame(count_vector.toarray(), columns=cv.get_feature_names_out()) "
   ]
  },
  {
   "cell_type": "code",
   "execution_count": null,
   "id": "b4851e69-82ff-484c-8de4-2835747262b4",
   "metadata": {},
   "outputs": [],
   "source": [
    "tpp_turkel_bigrams.sum(axis =0).sort_values(ascending = False)"
   ]
  },
  {
   "cell_type": "code",
   "execution_count": null,
   "id": "1b4fd6ae-f844-4665-9db1-d45d04b2cbd3",
   "metadata": {},
   "outputs": [],
   "source": [
    "data = {\"Ταγίπ Ερντογάν\" :                        19,\n",
    "\"Κεμάλ Κιλιτσντάρογλου\"  :                 16,\n",
    "\"ρετζέπ ταγίπ ερντογάν\" :                  14,\n",
    "\"δεύτερος γύρος/δεύτερο γύρο\" :              13,\n",
    "\"απεργία πείνας\" :                          9,\n",
    "\"Κωνσταντίνα Καρτσιώτη\" :                   7,\n",
    "\"Σινάν Ογκάν\" :                             5,\n",
    "\"προεδρικές εκλογές\"  :                     5,\n",
    "\"εκατομμύρια άνθρωποι έχασαν ζωή\" :                  5,\n",
    "\"προεδρικών εκλογών\" :                      5,\n",
    "\"Πρόεδρος Τουρκίας\"  :                      5}\n",
    "\n",
    "df = pd.DataFrame(list(data.items()), columns=['Διγράμματα / Πολυγράμματα', 'Αναφορές'])\n",
    "\n",
    "df = df.sort_values(by='Αναφορές', ascending=False)\n",
    "\n",
    "plt.figure(figsize=(10, 8))\n",
    "\n",
    "bars = plt.barh(df['Διγράμματα / Πολυγράμματα'], df['Αναφορές'], color='lightblue', edgecolor= 'black')\n",
    "for bar in bars:\n",
    "    plt.text(\n",
    "        bar.get_width() + 2, bar.get_y() + bar.get_height() / 2,  \n",
    "        str(bar.get_width()),\n",
    "        va='center',\n",
    "        ha='left',  \n",
    "        color='black',\n",
    "        fontsize=10\n",
    "    )\n",
    "    \n",
    "plt.xlabel('Αναφορές')\n",
    "plt.ylabel('Διγράμματα / Πολυγράμματα')\n",
    "plt.xlim(0,25)\n",
    "plt.title('Διγράμματα/Πολυγράμματα Τουρκικών Εκλογών 2023 - The Press Project')\n",
    "plt.gca().invert_yaxis() \n",
    "plt.show()"
   ]
  },
  {
   "cell_type": "code",
   "execution_count": null,
   "id": "253d7aa4-bb2c-4e5c-8a1c-19adfb7142cd",
   "metadata": {},
   "outputs": [],
   "source": []
  },
  {
   "cell_type": "code",
   "execution_count": null,
   "id": "c0fd16f2-833d-4b6c-8892-72e8b31fa65f",
   "metadata": {},
   "outputs": [],
   "source": []
  },
  {
   "cell_type": "code",
   "execution_count": null,
   "id": "18e0b12b-0709-44f2-9b6e-ca8eb30aafc2",
   "metadata": {},
   "outputs": [],
   "source": [
    "import geopandas as gpd\n",
    "\n",
    "\n",
    "shapefile_path = r\"C:\\Users\\stath\\OneDrive\\Υπολογιστής\\ne_110m_admin_0_countries\\ne_110m_admin_0_countries.shp\"\n",
    "\n",
    "\n",
    "world = gpd.read_file(shapefile_path)\n",
    "\n",
    "\n",
    "greece_turkey = world[world[\"SOVEREIGNT\"].isin(['Greece', 'Turkey'])]\n",
    "\n",
    "\n",
    "fig, ax = plt.subplots(figsize=(20, 10))  # Increased size\n",
    "\n",
    "\n",
    "greece_turkey[greece_turkey[\"SOVEREIGNT\"] == \"Greece\"].plot(ax=ax, color='blue', edgecolor='black', label='Greece')\n",
    "greece_turkey[greece_turkey[\"SOVEREIGNT\"] == \"Turkey\"].plot(ax=ax, color='red', edgecolor='black', label='Turkey')\n",
    "\n",
    "\n",
    "ax.set_title('Τίτλοι δημοσιευμάτων για Ελλάδα(Μητσοτάκη-ΝΔ, Τσίπρα-ΣΥΡΙΖΑ), Τουρκία(Ερντογάν-Κιλιτσντάρογλου) - The Press Project', fontsize=14)\n",
    "\n",
    "\n",
    "ax.grid(True, linestyle='--', alpha=0.7)\n",
    "\n",
    "\n",
    "greece_coords = (19.0, 37.5) \n",
    "turkey_coords = (33.0, 37.5)  \n",
    "\n",
    "# Phrases for Greece\n",
    "greece_phrases = [\n",
    " \n",
    "  \"σκάνδαλο υποκλοπών\",\n",
    "  \"Τσίπρας: (απόδοση δηλώσεων)\",\n",
    "  \"Μητσοτάκης: (απόδοση δηλώσεων)\",\n",
    "\"δημοσκοπήσεις: Μεθοδευμένες ερωτήσεις, αποκλίσεις αποτελεσμάτων\"\n",
    "  \n",
    "]\n",
    "\n",
    "\n",
    "turkey_phrases = [\n",
    "     \"απεργία πείνας κρατουμένων\",\n",
    "    \"προεκλογικό δώρο ΗΠΑ\",\n",
    "    \"ακραία πόλωση εκλογικού σώματος\"\n",
    "\n",
    "\n",
    "]\n",
    "\n",
    "\n",
    "for i, phrase in enumerate(greece_phrases):\n",
    "    ax.text(greece_coords[0], greece_coords[1] + i*0.7, phrase, fontsize=11, color='black', ha='left', weight='bold')\n",
    "\n",
    "\n",
    "for i, phrase in enumerate(turkey_phrases):\n",
    "    ax.text(turkey_coords[0], turkey_coords[1] + i*0.7, phrase, fontsize=14, color='black', ha='center', weight='bold')\n",
    "\n",
    "\n",
    "ax.legend()\n",
    "\n",
    "plt.show()"
   ]
  },
  {
   "cell_type": "code",
   "execution_count": null,
   "id": "6460c920-fa5d-408b-83ba-95483c3a9c29",
   "metadata": {},
   "outputs": [],
   "source": []
  },
  {
   "cell_type": "code",
   "execution_count": null,
   "id": "9b4c7ef9-9a22-40fb-9a0f-971634883fed",
   "metadata": {},
   "outputs": [],
   "source": []
  },
  {
   "cell_type": "code",
   "execution_count": null,
   "id": "ac039928-613b-4ce5-951b-9db0da61ae62",
   "metadata": {},
   "outputs": [],
   "source": []
  }
 ],
 "metadata": {
  "kernelspec": {
   "display_name": "Python 3 (ipykernel)",
   "language": "python",
   "name": "python3"
  },
  "language_info": {
   "codemirror_mode": {
    "name": "ipython",
    "version": 3
   },
   "file_extension": ".py",
   "mimetype": "text/x-python",
   "name": "python",
   "nbconvert_exporter": "python",
   "pygments_lexer": "ipython3",
   "version": "3.12.4"
  }
 },
 "nbformat": 4,
 "nbformat_minor": 5
}
