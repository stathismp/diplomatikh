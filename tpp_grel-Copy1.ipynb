{
 "cells": [
  {
   "cell_type": "code",
   "execution_count": null,
   "id": "3b6e2b7d-69cc-4c17-955b-c02cb3c492f1",
   "metadata": {},
   "outputs": [],
   "source": [
    "import requests\n",
    "from bs4 import BeautifulSoup\n",
    "import pandas as pd\n",
    "import time\n",
    "import numpy as np\n",
    "import matplotlib.pyplot as plt\n",
    "import spacy\n",
    "from wordcloud import WordCloud\n",
    "import seaborn as sns"
   ]
  },
  {
   "cell_type": "code",
   "execution_count": null,
   "id": "bb2791f1-3443-49c3-935e-0277a160f2e0",
   "metadata": {},
   "outputs": [],
   "source": [
    "tpp_grel.shape"
   ]
  },
  {
   "cell_type": "code",
   "execution_count": null,
   "id": "1c00362c-e6e6-4a77-b6b5-01c3f51c3ec9",
   "metadata": {},
   "outputs": [],
   "source": [
    "url = 'https://thepressproject.gr/synantisi-tou-prothypourgou-me-tous-politikous-syntaktes/'\n",
    "response = requests.get(url)\n",
    "\n",
    "\n",
    "if response.status_code == 200:\n",
    "\n",
    "    soup = BeautifulSoup(response.content, 'html.parser')\n",
    "\n",
    "\n",
    "    title = soup.find(\"h1\", {\"class\": \"entry-title\"})\n",
    "\n",
    "\n",
    "    if title:\n",
    "        print(\"Title:\", title.get_text(strip=True))\n",
    "    else:\n",
    "        print(\"Title not found.\")\n",
    "else:\n",
    "    print(f\"Failed to retrieve the page. Status code: {response.status_code}\")"
   ]
  },
  {
   "cell_type": "code",
   "execution_count": null,
   "id": "318a6707-e863-4453-9a56-761c367690a4",
   "metadata": {},
   "outputs": [],
   "source": [
    "headers = {\n",
    "    'User-Agent': 'Mozilla/5.0 (Windows NT 10.0; Win64; x64) AppleWebKit/537.36 (KHTML, like Gecko) Chrome/91.0.4472.124 Safari/537.36'\n",
    "}\n",
    "\n",
    "response = requests.get(url, headers=headers)\n",
    "\n",
    "if response.status_code == 200:\n",
    "    soup = BeautifulSoup(response.content, 'html.parser')\n",
    "    \n",
    "    title = soup.find(\"h1\", {\"class\": \"entry-title\"})\n",
    "    author = soup.find(\"div\", {\"class\": \"article-author\"})\n",
    "    datetime = soup.find(\"div\", {\"class\": \"article-date\"})\n",
    "    article_lead = soup.find(\"div\", {\"class\": \"subtitle article-summary\"})\n",
    "    text = soup.find(\"div\", {\"class\": \"main-content article-content\"})\n",
    "    \n",
    "    if title:\n",
    "        print(\"Title:\", title.get_text(strip=True))\n",
    "    else:\n",
    "        print(\"Title not found.\")\n",
    "    \n",
    "    if author:\n",
    "        print(\"Author:\", author.get_text(strip=True))\n",
    "    else:\n",
    "        print(\"Author not found.\")\n",
    "    \n",
    "    if datetime:\n",
    "        print(\"Datetime:\", datetime.get_text(strip=True))\n",
    "    else:\n",
    "        print(\"Datetime not found.\")\n",
    "    \n",
    "    if article_lead:\n",
    "        print(\"Article Lead:\", article_lead.get_text(strip=True))\n",
    "    else:\n",
    "        print(\"Article lead not found.\")\n",
    "    \n",
    "    if text:\n",
    "        print(\"Text:\", text.get_text(strip=True))\n",
    "    else:\n",
    "        print(\"Text not found.\")\n",
    "else:\n",
    "    print(f\"Failed to retrieve the page. Status code: {response.status_code}\")"
   ]
  },
  {
   "cell_type": "code",
   "execution_count": null,
   "id": "6c8ea11f-ec67-47db-b785-9f2a765d82c2",
   "metadata": {},
   "outputs": [],
   "source": [
    "tpp_urls = []\n",
    "base_url = \"https://thepressproject.gr/category/politics/page/\"\n",
    "\n",
    "for page_num in range(200, 415):\n",
    "    url = base_url + str(page_num)\n",
    "    response = requests.get(url)\n",
    "    if response.status_code == 200:\n",
    "        soup = BeautifulSoup(response.text, 'html.parser')\n",
    "        articles = soup.find_all('div', {\"class\": \"col-md-8 archive-item\"})\n",
    "\n",
    "        print(f\"Page {page_num}: Found {len(articles)} articles\");\n",
    "\n",
    "        for article in articles:\n",
    "            article_url = article.find('a')['href']\n",
    "            if \"erntogan\" or \"ntemirtas\" or \"tourkia\" or \"kilitsntaroglou\" in article_url\n",
    "            tpp_urls.append(article_url)\n",
    "    else:\n",
    "        print(f\"Failed to retrieve the page {page_num}. Status code: {response.status_code}\")\n",
    "\n",
    "print(\"Collected URLs:\", tpp_urls);\n",
    "print(\"Total URLs collected:\", len(tpp_urls));"
   ]
  },
  {
   "cell_type": "code",
   "execution_count": null,
   "id": "48eda48f-a70b-4c74-b5b3-57f5c6278460",
   "metadata": {},
   "outputs": [],
   "source": [
    "tpp_urls_grel = pd.DataFrame(tpp_urls_grel)"
   ]
  },
  {
   "cell_type": "code",
   "execution_count": null,
   "id": "218a8731-48bc-4336-949d-9ec7e2bf7378",
   "metadata": {},
   "outputs": [],
   "source": [
    "tpp_urls_grel.to_csv('C:\\\\Users\\\\stath\\\\tpp_urls_grel.csv', index=False)"
   ]
  },
  {
   "cell_type": "code",
   "execution_count": null,
   "id": "e22e64d9-707c-4b98-b22e-5a74d0e96c72",
   "metadata": {},
   "outputs": [],
   "source": [
    "tpp_urls_grel = pd.read_csv('C:\\\\Users\\\\stath\\\\tpp_urls_grel.csv')"
   ]
  },
  {
   "cell_type": "code",
   "execution_count": null,
   "id": "ce7218be-a7a9-4f55-b8e5-e87ce8a177fa",
   "metadata": {},
   "outputs": [],
   "source": [
    "tpp_urls = []\n",
    "base_url = \"https://thepressproject.gr/category/politics/page/\"\n",
    "\n",
    "for page_num in range(200, 415):\n",
    "    url = base_url + str(page_num)\n",
    "    response = requests.get(url)\n",
    "    if response.status_code == 200:\n",
    "        soup = BeautifulSoup(response.text, 'html.parser')\n",
    "        articles = soup.find_all('div', {\"class\": \"col-md-8 archive-item\"})\n",
    "\n",
    "        print(f\"Page {page_num}: Found {len(articles)} articles\");\n",
    "\n",
    "        for article in articles:\n",
    "            article_url = article.find('a')['href']\n",
    "            if \"erntogan\" or \"ntemirtas\" or \"tourkia\" or \"kilitsntaroglou\" in article_url\n",
    "            tpp_urls.append(article_url)\n",
    "    else:\n",
    "        print(f\"Failed to retrieve the page {page_num}. Status code: {response.status_code}\")\n",
    "\n",
    "print(\"Collected URLs:\", tpp_urls);\n",
    "print(\"Total URLs collected:\", len(tpp_urls));"
   ]
  },
  {
   "cell_type": "code",
   "execution_count": null,
   "id": "dccad7d8-786a-4007-b546-def41b7d13fd",
   "metadata": {},
   "outputs": [],
   "source": [
    "tpp_grel.to_csv('C:\\\\Users\\\\stath\\\\tpp_greek_elections.csv', index=False)"
   ]
  },
  {
   "cell_type": "code",
   "execution_count": null,
   "id": "84d59d6f-f7f7-48e9-8a8c-c8760465ad78",
   "metadata": {},
   "outputs": [],
   "source": [
    "tpp_grel = pd.read_csv('C:\\\\Users\\\\stath\\\\tpp_greek_elections.csv')"
   ]
  },
  {
   "cell_type": "code",
   "execution_count": null,
   "id": "7fa945e7-89cc-433c-b9af-81e40018dbef",
   "metadata": {},
   "outputs": [],
   "source": [
    "tpp_grel[\"text\"] = tpp_grel[\"text\"].str.replace(\"\\n\", \"\")\n",
    "tpp_grel[\"text\"] = tpp_grel[\"text\"].str.replace(\"\\xa0\", \"\")\n",
    "tpp_grel[\"text\"] = tpp_grel[\"text\"].str.replace(\"https tinyurl com\", \"\") "
   ]
  },
  {
   "cell_type": "code",
   "execution_count": null,
   "id": "7f9b2e55-eeb2-46b1-902e-302e9323da45",
   "metadata": {},
   "outputs": [],
   "source": [
    "tpp_grel[\"datetime\"] = tpp_grel[\"datetime\"].str.replace(\"Αναρτήθηκε:\", \"\")\n",
    "tpp_grel[\"datetime\"] = tpp_grel[\"datetime\"].str.replace(\"2023Αναρτήθηκε:\", \"2023\")\n",
    "tpp_grel[\"datetime\"] = tpp_grel[\"datetime\"].str.replace(\"Δευτέρα\", \"\")\n",
    "tpp_grel[\"datetime\"] = tpp_grel[\"datetime\"].str.replace(\"Τρίτη\", \"\")\n",
    "tpp_grel[\"datetime\"] = tpp_grel[\"datetime\"].str.replace(\"Τετάρτη\",\"\")\n",
    "tpp_grel[\"datetime\"] = tpp_grel[\"datetime\"].str.replace(\"Πέμπτη\", \"\")\n",
    "tpp_grel[\"datetime\"] = tpp_grel[\"datetime\"].str.replace(\"Παρασκευή\", \"\")\n",
    "tpp_grel[\"datetime\"] = tpp_grel[\"datetime\"].str.replace(\"Σάββατο\",\"\")\n",
    "tpp_grel[\"datetime\"] = tpp_grel[\"datetime\"].str.replace(\"Κυριακή\", \"\")"
   ]
  },
  {
   "cell_type": "code",
   "execution_count": null,
   "id": "59d7740d-51a0-4bb4-80b8-1fd3f9acdd19",
   "metadata": {},
   "outputs": [],
   "source": [
    "tpp_urls = []\n",
    "base_url = \"https://thepressproject.gr/category/politics/page/\"\n",
    "\n",
    "for page_num in range(200, 415):\n",
    "    url = base_url + str(page_num)\n",
    "    response = requests.get(url)\n",
    "    if response.status_code == 200:\n",
    "        soup = BeautifulSoup(response.text, 'html.parser')\n",
    "        articles = soup.find_all('div', {\"class\": \"col-md-8 archive-item\"})\n",
    "\n",
    "        print(f\"Page {page_num}: Found {len(articles)} articles\");\n",
    "\n",
    "        for article in articles:\n",
    "            article_url = article.find('a')['href']\n",
    "            if \"erntogan\" or \"ntemirtas\" or \"tourkia\" or \"kilitsntaroglou\" in article_url\n",
    "            tpp_urls.append(article_url)\n",
    "    else:\n",
    "        print(f\"Failed to retrieve the page {page_num}. Status code: {response.status_code}\")\n",
    "\n",
    "print(\"Collected URLs:\", tpp_urls);\n",
    "print(\"Total URLs collected:\", len(tpp_urls));"
   ]
  },
  {
   "cell_type": "code",
   "execution_count": null,
   "id": "b401c49a-2135-4e7a-88cc-d153444ec715",
   "metadata": {},
   "outputs": [],
   "source": [
    "tpp_grel['article_lead'] = tpp_grel['article_lead'].fillna('')\n",
    "tpp_grel['text'] = tpp_grel['text'].fillna('')\n",
    "\n",
    "tpp_grel['full_content'] = tpp_grel['article_lead'] + ' ' + tpp_grel['text']\n",
    "\n"
   ]
  },
  {
   "cell_type": "code",
   "execution_count": null,
   "id": "9b4ed1ba-bc3e-4c4d-9a33-eed4e2075cd0",
   "metadata": {},
   "outputs": [],
   "source": [
    "import spacy\n",
    "print(spacy.__version__)"
   ]
  },
  {
   "cell_type": "code",
   "execution_count": null,
   "id": "76fd30b9-4d92-41df-a013-de209d35e8d8",
   "metadata": {},
   "outputs": [],
   "source": [
    "nlp = spacy.load('el_core_news_md')"
   ]
  },
  {
   "cell_type": "code",
   "execution_count": null,
   "id": "932a7811-f513-4035-8d79-5a4d2afb8407",
   "metadata": {},
   "outputs": [],
   "source": [
    "tpp_grel_full_text = tpp_grel['full_content'].str.cat(sep = ' ')"
   ]
  },
  {
   "cell_type": "code",
   "execution_count": null,
   "id": "14127365-94de-4403-b8fa-f3f97d8c1af4",
   "metadata": {},
   "outputs": [],
   "source": [
    "print(len(tpp_grel_full_text))\n"
   ]
  },
  {
   "cell_type": "code",
   "execution_count": null,
   "id": "0de55974-5f8e-48ef-9247-4ba5a27e4208",
   "metadata": {},
   "outputs": [],
   "source": [
    "nlp.max_length = 2000000"
   ]
  },
  {
   "cell_type": "code",
   "execution_count": null,
   "id": "9dac1752-de55-4532-b3df-859f69657105",
   "metadata": {},
   "outputs": [],
   "source": [
    "tpp_grel_full_doc = nlp(tpp_grel_full_text)"
   ]
  },
  {
   "cell_type": "code",
   "execution_count": null,
   "id": "462bb2f1-5856-47e6-a9ed-aced37417e86",
   "metadata": {},
   "outputs": [],
   "source": [
    "from joblib import dump, load"
   ]
  },
  {
   "cell_type": "code",
   "execution_count": null,
   "id": "781585cf-358c-4fbe-ad2d-879a91ed43fb",
   "metadata": {},
   "outputs": [],
   "source": [
    "#dump(tpp_grel_full_doc, 'tpp_grel_full_doc.joblib')"
   ]
  },
  {
   "cell_type": "code",
   "execution_count": null,
   "id": "812403ad-35b6-40ee-8f3d-4e94ac03a5c9",
   "metadata": {},
   "outputs": [],
   "source": [
    "tpp_grel_full_doc = load('tpp_grel_full_doc.joblib')"
   ]
  },
  {
   "cell_type": "code",
   "execution_count": null,
   "id": "4cc89e63-2889-4196-9e8c-9519e8140a31",
   "metadata": {},
   "outputs": [],
   "source": [
    "lemmatized_text = ' '.join(token.lemma_ for token in tpp_grel_full_doc)"
   ]
  },
  {
   "cell_type": "code",
   "execution_count": null,
   "id": "15432732-7d1e-4330-abce-0278cc59d01a",
   "metadata": {},
   "outputs": [],
   "source": [
    "stopwords = nlp.Defaults.stop_words\n",
    "stopwords.add(\"ς\")\n",
    "stopwords.add(\"μπορώ\")\n",
    "stopwords.add(\"αναφέρω\")\n",
    "stopwords.add(\"υπάρχω\")\n",
    "stopwords.add(\"γίνομαι\")\n",
    "stopwords.add(\"ή\")\n",
    "stopwords.add(\"κάνω\")\n",
    "stopwords.add(\"θέλω\")\n",
    "stopwords.add(\"κ\")\n",
    "stopwords.add(\"λέγω\")"
   ]
  },
  {
   "cell_type": "code",
   "execution_count": null,
   "id": "5babdad5-2e71-49bc-b0e0-a90e411c2128",
   "metadata": {},
   "outputs": [],
   "source": [
    "wordcloud_tpp_grel = WordCloud(\n",
    "    stopwords = nlp.Defaults.stop_words,\n",
    "    width = 2000,\n",
    "    height = 1000,\n",
    "    background_color = 'black'\n",
    " ).generate(lemmatized_text)\n",
    "fig = plt.figure(\n",
    "    figsize = (40, 30),\n",
    "    facecolor = 'k',\n",
    "    edgecolor = 'k')\n",
    "plt.imshow(wordcloud_tpp_grel, interpolation = 'bilinear')\n",
    "plt.axis('off')\n",
    "plt.tight_layout(pad=0)\n",
    "plt.show()"
   ]
  },
  {
   "cell_type": "code",
   "execution_count": null,
   "id": "2edb6a1d-d252-49fd-bbbb-d33dc083ce7f",
   "metadata": {},
   "outputs": [],
   "source": [
    "from sklearn.feature_extraction.text import CountVectorizer"
   ]
  },
  {
   "cell_type": "code",
   "execution_count": null,
   "id": "66a69337-4bc4-480a-bd7b-a1dc7ab4c737",
   "metadata": {},
   "outputs": [],
   "source": [
    "cv = CountVectorizer(stop_words= list(nlp.Defaults.stop_words), min_df=0.01, max_df=0.95)\n",
    "     "
   ]
  },
  {
   "cell_type": "code",
   "execution_count": null,
   "id": "8c657d7c-ed3d-4834-a7f6-3e76b60aa297",
   "metadata": {},
   "outputs": [],
   "source": [
    "count_vector = cv.fit_transform(tpp_grel[\"title\"])"
   ]
  },
  {
   "cell_type": "code",
   "execution_count": null,
   "id": "acf64b99-10ec-48f3-8146-bfd7f45ac400",
   "metadata": {},
   "outputs": [],
   "source": [
    "count_vector_2 = cv.fit_transform(tpp_grel[\"full_content\"])"
   ]
  },
  {
   "cell_type": "code",
   "execution_count": null,
   "id": "a1562d06-1856-4384-8292-cd329507ef39",
   "metadata": {},
   "outputs": [],
   "source": [
    "count_vector.shape;"
   ]
  },
  {
   "cell_type": "code",
   "execution_count": null,
   "id": "0cc21969-d24a-4edb-98bf-1ac9587b446c",
   "metadata": {},
   "outputs": [],
   "source": [
    "tpp_grel_results = pd.DataFrame(count_vector.toarray(), columns=cv.get_feature_names_out()) "
   ]
  },
  {
   "cell_type": "code",
   "execution_count": null,
   "id": "4c737930-070d-49a8-b053-ddefd6e16f67",
   "metadata": {},
   "outputs": [],
   "source": [
    "cv = CountVectorizer(stop_words= list(nlp.Defaults.stop_words), max_features=20, ngram_range=(2,2))\n",
    "count_vector = cv.fit_transform(tpp_grel[\"full_content\"])\n",
    "tpp_grel_bigrams = pd.DataFrame(count_vector.toarray(), columns=cv.get_feature_names_out()) "
   ]
  },
  {
   "cell_type": "raw",
   "id": "9ae3e661-4ee7-4b6a-a5f7-764832eaa393",
   "metadata": {},
   "source": [
    "tpp_grel_bigrams.sum(axis =0).sort_values(ascending = False)"
   ]
  },
  {
   "cell_type": "code",
   "execution_count": null,
   "id": "dd8bcf92-65f5-4f34-9c8e-c75aad71e1a2",
   "metadata": {},
   "outputs": [],
   "source": [
    "data = {\n",
    "    \"ΣΥΡΙΖΑ ΠΣ\": 90,\n",
    "    \"ΜέΡΑ25 Συμμαχία\": 80,\n",
    "    \"συμμαχία ρήξη\": 80,\n",
    "    \"Κυριάκος Μητσοτάκης/Κυριάκο Μητσοτάκη\": 74,\n",
    "    \"ΝΔ ΣΥΡΙΖΑ\": 65,\n",
    "    \"ΣΥΡΙΖΑ ΠΑΣΟΚ\": 61,\n",
    "    \"αλέξης τσίπρας\": 57,\n",
    "    \"νέας δημοκρατίας\": 55,\n",
    "    \"νέα δημοκρατία\": 51,\n",
    "    \"πρόεδρος ΣΥΡΙΖΑ\": 44,\n",
    "    \"21ης μαΐου\": 44,\n",
    "    \"αρείου πάγου\": 37,\n",
    "    \"21 μαΐου\": 36,\n",
    "    \"χρυσής αυγής\": 32,\n",
    "    \"ΠΑΣΟΚ ΚΙΝΑΛ\": 31,\n",
    "    \"κυβερνητικός εκπρόσωπος\": 31,\n",
    "    \"τέσσερα χρόνια\": 31,\n",
    "    \"εκλογές 21ης\":   30\n",
    "}\n",
    "\n",
    "data[\"νέα δημοκρατία/νέας δημοκρατίας\"] = data.pop(\"νέας δημοκρατίας\") + data.pop(\"νέα δημοκρατία\")\n",
    "\n",
    "df = pd.DataFrame(list(data.items()), columns=['Διγράμματα', 'Αναφορές'])\n",
    "\n",
    "df = df.sort_values(by='Αναφορές', ascending=False)\n",
    "\n",
    "plt.figure(figsize=(10, 8))\n",
    "plt.barh(df['Διγράμματα'], df['Αναφορές'], color='skyblue', edgecolor= 'black')\n",
    "bars = plt.barh(df['Διγράμματα'], df['Αναφορές'], color='skyblue', edgecolor= 'black')\n",
    "for bar in bars:\n",
    "    plt.text(\n",
    "        bar.get_width() - 5, bar.get_y() + bar.get_height() / 2,\n",
    "        str(bar.get_width()),\n",
    "        va='center',\n",
    "        ha='center',\n",
    "        color='white',\n",
    "        fontsize=10\n",
    "    )\n",
    "plt.xlabel('Αναφορές')\n",
    "plt.ylabel('Διγράμματα')\n",
    "plt.xlim(0,130)\n",
    "plt.title('Διγράμματα Εθνικών Εκλογών 2023 - The Press Project')\n",
    "plt.gca().invert_yaxis() \n",
    "plt.show()\n"
   ]
  },
  {
   "cell_type": "code",
   "execution_count": null,
   "id": "f46fb91d-3651-4120-b3b9-06e2e458f462",
   "metadata": {},
   "outputs": [],
   "source": [
    "filepath = \"https://raw.githubusercontent.com/datajour-gr/DataJournalism/main/Bachelor%20Lessons%202023/Lesson%2010/NRC_GREEK_Translated_6_2020.csv\""
   ]
  },
  {
   "cell_type": "code",
   "execution_count": null,
   "id": "ef95e01a-1f10-488c-b6fb-c74f6c4c4313",
   "metadata": {},
   "outputs": [],
   "source": [
    "emolex_df = pd.read_csv(filepath)"
   ]
  },
  {
   "cell_type": "code",
   "execution_count": null,
   "id": "252b7766-0205-4e4f-b139-05fc0919f471",
   "metadata": {},
   "outputs": [],
   "source": [
    "emolex_df = emolex_df.drop_duplicates(subset=['word'])\n",
    "emolex_df = emolex_df.dropna()\n",
    "emolex_df.reset_index(inplace = True, drop=True)"
   ]
  },
  {
   "cell_type": "code",
   "execution_count": null,
   "id": "955eac4a-6135-4315-b038-01093cebc606",
   "metadata": {},
   "outputs": [],
   "source": [
    "vec = CountVectorizer(analyzer = 'word', vocabulary = emolex_df.word,\n",
    "                      lowercase=False, \n",
    "                      strip_accents = 'unicode',  \n",
    "                      stop_words= list(nlp.Defaults.stop_words),\n",
    "                      ngram_range=(1, 2))"
   ]
  },
  {
   "cell_type": "code",
   "execution_count": null,
   "id": "77606afb-1109-4b00-88c3-558b7fd44bec",
   "metadata": {},
   "outputs": [],
   "source": [
    "matrix = vec.fit_transform(tpp_grel[\"full_content\"])\n",
    "vocab = vec.get_feature_names_out()\n",
    "wordcount_df = pd.DataFrame(matrix.toarray(), columns=vocab)"
   ]
  },
  {
   "cell_type": "code",
   "execution_count": null,
   "id": "391b9f20-f84a-47e2-bd37-d976a8b20a7e",
   "metadata": {},
   "outputs": [],
   "source": [
    "matrix2 = vec.fit_transform(tpp_grel[\"title\"])\n",
    "vocab2 = vec.get_feature_names_out()\n",
    "wordcount_df2 = pd.DataFrame(matrix.toarray(), columns=vocab)"
   ]
  },
  {
   "cell_type": "code",
   "execution_count": null,
   "id": "60ea6aeb-d857-4303-8a9c-5cc96b630e21",
   "metadata": {},
   "outputs": [],
   "source": [
    "positive_words = emolex_df[emolex_df.Positive == 1]['word']"
   ]
  },
  {
   "cell_type": "code",
   "execution_count": null,
   "id": "190f4b30-9a0a-4203-9383-c302294f4f3d",
   "metadata": {},
   "outputs": [],
   "source": [
    "negative_words = emolex_df[emolex_df.Negative == 1]['word']"
   ]
  },
  {
   "cell_type": "code",
   "execution_count": null,
   "id": "6a1bbfed-bc89-4cb5-8e5a-59c56b8a19d8",
   "metadata": {},
   "outputs": [],
   "source": [
    "tpp_grel['positive'] = wordcount_df[positive_words].sum(axis=1)"
   ]
  },
  {
   "cell_type": "code",
   "execution_count": null,
   "id": "4b1b2a94-95e4-48dc-aa15-ce81bc11f56b",
   "metadata": {},
   "outputs": [],
   "source": [
    "tpp_grel['negative'] = wordcount_df2[negative_words].sum(axis=1)"
   ]
  },
  {
   "cell_type": "code",
   "execution_count": null,
   "id": "50bdbcdc-bdc1-4923-9857-957ed749af9d",
   "metadata": {},
   "outputs": [],
   "source": [
    "tpp_grel['pos/neg'] = tpp_grel['positive'] - tpp_grel['negative']"
   ]
  },
  {
   "cell_type": "code",
   "execution_count": null,
   "id": "2e55cfed-d0f8-4bba-ae59-57c1d891c896",
   "metadata": {},
   "outputs": [],
   "source": [
    "pd.set_option('display.max_rows', 330)"
   ]
  },
  {
   "cell_type": "code",
   "execution_count": null,
   "id": "55caecb3-fe80-4bc0-9f60-192c7ea95326",
   "metadata": {},
   "outputs": [],
   "source": [
    "tpp_grel['month'] = pd.DatetimeIndex(tpp_grel['datetime']).month\n",
    "tpp_grel['day'] = pd.DatetimeIndex(tpp_grel['datetime']).day"
   ]
  },
  {
   "cell_type": "code",
   "execution_count": null,
   "id": "770d22dc-c315-4b95-9aa9-f9e8b7b60c4e",
   "metadata": {},
   "outputs": [],
   "source": [
    "tpp_grel"
   ]
  },
  {
   "cell_type": "code",
   "execution_count": null,
   "id": "03d60759-f583-4123-96ba-c11dbca23311",
   "metadata": {},
   "outputs": [],
   "source": [
    "keywords = [\n",
    "    'Μητσοτάκης', 'Σαμαρά', 'Σκέρτσος', 'Μητσοτάκη', 'Σκέρτσου', 'ΝΔ', 'Οικονόμου',\n",
    "    'Νέας Δημοκρατίας', 'Κεραμέως', 'κυβέρνηση', 'Άδωνις', 'Χατζηδάκης', 'Γεραπετρίτη',\n",
    "    'Βορίδη', 'τιμούν'\n",
    "]\n",
    "\n",
    "pattern = '|'.join(keywords)\n",
    "\n",
    "tpp_Νέα_Δημοκρατία = tpp_grel[tpp_grel['title'].str.contains(pattern, case=False, na=False)]\n",
    "\n"
   ]
  },
  {
   "cell_type": "code",
   "execution_count": null,
   "id": "2bf49257-0b72-4af3-8afc-d6f09b4309ab",
   "metadata": {},
   "outputs": [],
   "source": [
    "keywords = [ \"ΣΥΡΙΖΑ\", \"ΣΥΡΙΖΑ-ΠΣ\", \"Τσαπανίδου\", \"Τσίπρας\", \"Τσίπρα\", \"Αχτσιόγλου\", \"Βίτσας\", \"Παπαδημούλης\", \"Σβίγκου\", \"Φίλης\", \"Αρβανίτης\", \"”τιμούν”\"]\n",
    "tpp_ΣΥΡΙΖΑ = tpp_grel[tpp_grel['title'].str.contains(pattern, case=False, na=False)]\n",
    "pattern = '|'.join(keywords)"
   ]
  },
  {
   "cell_type": "code",
   "execution_count": null,
   "id": "391991f9-2cd8-44e9-b613-37afaed4b45b",
   "metadata": {},
   "outputs": [],
   "source": [
    "keywords = [\"Ανδρουλάκης\", \"ΠΑΣΟΚ-ΚΙΝΑΛ\", \"ΠΑΣΟΚ – ΚΙΝΑΛ\", \"ΠΑΣΟΚ\"]\n",
    "tpp_ΠΑΣΟΚ = tpp_grel[tpp_grel['title'].str.contains(pattern, case=False, na=False)]\n",
    "pattern = '|'.join(keywords)"
   ]
  },
  {
   "cell_type": "code",
   "execution_count": null,
   "id": "641b3ee3-3023-461c-bb03-d3ac438e1630",
   "metadata": {},
   "outputs": [],
   "source": [
    "keywords = ['Κουτσούμπας', 'ΚΚΕ', 'Δ.Κουτσούμπας', 'Κούνεβα', 'Παφίλης', 'ΠΑΜΕ', 'Μ. Κομνηνάκα', 'Ν. Καραθανασόπουλος']\n",
    "\n",
    "pattern = r'\\b(?:' + '|'.join(keywords) + r')\\b(?!.*(?:ΚΚΕ\\(μ-λ\\)|Μ-Λ ΚΚΕ))'\n",
    "\n",
    "tpp_ΚΚΕ = tpp_grel[tpp_grel['title'].str.contains(pattern, case=False, na=False, regex=True)]"
   ]
  },
  {
   "cell_type": "code",
   "execution_count": null,
   "id": "48b57b90-cb67-4beb-b130-bd5581974063",
   "metadata": {},
   "outputs": [],
   "source": [
    "keywords = [\"ΜέΡΑ25 – Συμμαχία για τη Ρήξη\", \"ΜέΡΑ25\", \"Βαρουφάκης\", \"ΜέΡΑ25-Συμμαχία για τη Ρήξη\", \"Έντμαν\", \"«Οδυσσέας»\"]\n",
    "tpp_ΜέΡΑ25 = tpp_grel[tpp_grel['title'].str.contains(pattern, case=False, na=False)]\n",
    "pattern = '|'.join(keywords)"
   ]
  },
  {
   "cell_type": "code",
   "execution_count": null,
   "id": "03f70dbd-d213-4b73-a5ee-d8c4d03e108d",
   "metadata": {},
   "outputs": [],
   "source": [
    "keywords = [\"ΣΕΚ\", \"ΑΝΤΑΡΣΥΑ\", \"Κωνσταντοπούλου\", \"Πλεύση Ελευθερίας\", \"ΚΚΕ(μ-λ)\", \"Μ-Λ ΚΚΕ\", \"ΠΑΡΕΜΒΑΣΗ\", \"Αριστερή Συσπείρωση\"]\n",
    "tpp_Εξωκοινοβουλευτική_Αριστερά = tpp_grel[tpp_grel['title'].str.contains(pattern, case=False, na=False)]\n",
    "pattern = '|'.join(keywords)"
   ]
  },
  {
   "cell_type": "code",
   "execution_count": null,
   "id": "0954eb17-55d6-48a3-9a44-b46f4ba69d4e",
   "metadata": {},
   "outputs": [],
   "source": [
    "keywords = [\"Νικολόπουλος\", \"Λατινοπούλου\", \"Μπογδάνου\", \"Κασιδιάρη\", \"Κασιδιάρης\"]\n",
    "tpp_Ακροδεξιά = tpp_grel[tpp_grel['title'].str.contains(pattern, case=False, na=False)]\n",
    "pattern = r'\\b(?:' + '|'.join(keywords) + r')\\b'"
   ]
  },
  {
   "cell_type": "code",
   "execution_count": null,
   "id": "c0fa425e-2eca-4a97-bdc8-bb54116fe4db",
   "metadata": {},
   "outputs": [],
   "source": [
    "keywords = [\"Ελληνική Λύση\"]\n",
    "tpp_Ελληνική_Λύση = tpp_grel[tpp_grel['title'].str.contains(pattern, case=False, na=False)]\n",
    "pattern = '|'.join(keywords)"
   ]
  },
  {
   "cell_type": "code",
   "execution_count": null,
   "id": "c671fe67-8624-4e41-a097-698c192eb298",
   "metadata": {},
   "outputs": [],
   "source": [
    "Νέα_Δημοκρατία.shape"
   ]
  },
  {
   "cell_type": "code",
   "execution_count": null,
   "id": "fdb8dd68-4330-43b5-a0cc-fed87e51367a",
   "metadata": {},
   "outputs": [],
   "source": [
    "ΣΥΡΙΖΑ.shape"
   ]
  },
  {
   "cell_type": "code",
   "execution_count": null,
   "id": "4fff05f6-f966-42f2-b83c-5ea4e4a09338",
   "metadata": {},
   "outputs": [],
   "source": [
    "ΠΑΣΟΚ.shape"
   ]
  },
  {
   "cell_type": "code",
   "execution_count": null,
   "id": "787de83f-84a5-4c6a-8a29-02e5fb43ec08",
   "metadata": {},
   "outputs": [],
   "source": [
    "ΚΚΕ.shape"
   ]
  },
  {
   "cell_type": "code",
   "execution_count": null,
   "id": "340a1131-2243-465a-b5a9-e6f188cca0c9",
   "metadata": {},
   "outputs": [],
   "source": [
    "ΜέΡΑ25.shape"
   ]
  },
  {
   "cell_type": "code",
   "execution_count": null,
   "id": "9eb203b6-50b2-472d-9372-8418a9748eab",
   "metadata": {},
   "outputs": [],
   "source": [
    "Ακροδεξιά.shape"
   ]
  },
  {
   "cell_type": "code",
   "execution_count": null,
   "id": "476e239e-0bb9-48c0-a750-6c41b605fc25",
   "metadata": {},
   "outputs": [],
   "source": [
    "tpp_Νέα_Δημοκρατία.to_csv('C:\\\\Users\\\\stath\\\\tpp_Νέα_Δημοκρατία.csv', index=False)"
   ]
  },
  {
   "cell_type": "code",
   "execution_count": null,
   "id": "be9b15d1-ff0c-429d-b4dd-cea7f0fc6693",
   "metadata": {},
   "outputs": [],
   "source": [
    "tpp_ΣΥΡΙΖΑ.to_csv('C:\\\\Users\\\\stath\\\\tpp_ΣΥΡΙΖΑ.csv', index=False)"
   ]
  },
  {
   "cell_type": "code",
   "execution_count": null,
   "id": "c868c5bc-c4be-44d4-aa9c-1733593929e5",
   "metadata": {},
   "outputs": [],
   "source": [
    "tpp_ΠΑΣΟΚ.to_csv('C:\\\\Users\\\\stath\\\\tpp_ΠΑΣΟΚ.csv', index=False)"
   ]
  },
  {
   "cell_type": "code",
   "execution_count": null,
   "id": "c6ea6fb2-9a71-4d64-bfc4-0c2181a7c1c7",
   "metadata": {},
   "outputs": [],
   "source": [
    "tpp_ΚΚΕ.to_csv('C:\\\\Users\\\\stath\\\\tpp_ΚΚΕ.csv', index=False)"
   ]
  },
  {
   "cell_type": "code",
   "execution_count": null,
   "id": "748ede05-71d1-4fab-b6e4-edbc7d8006df",
   "metadata": {},
   "outputs": [],
   "source": [
    "tpp_ΜέΡΑ25.to_csv('C:\\\\Users\\\\stath\\\\tpp_ΜέΡΑ25.csv', index=False)"
   ]
  },
  {
   "cell_type": "code",
   "execution_count": null,
   "id": "7ac30328-9507-46ea-b460-28467e3c9d2a",
   "metadata": {},
   "outputs": [],
   "source": [
    "tpp_Εξωκοινοβουλευτική_Αριστερά.to_csv('C:\\\\Users\\\\stath\\\\tpp_Εξωκοινοβουλευτική_Αριστερά.csv', index=False)"
   ]
  },
  {
   "cell_type": "code",
   "execution_count": null,
   "id": "433154d5-0356-446a-88c9-774922024b01",
   "metadata": {},
   "outputs": [],
   "source": [
    "tpp_Ακροδεξιά.to_csv('C:\\\\Users\\\\stath\\\\tpp_Ακροδεξιά.csv', index=False)"
   ]
  },
  {
   "cell_type": "code",
   "execution_count": null,
   "id": "86b7b931-70f8-42ee-b6e9-fd6d2be787af",
   "metadata": {},
   "outputs": [],
   "source": [
    "tpp_Ελληνική_Λύση.to_csv('C:\\\\Users\\\\stath\\\\tpp_Ελληνική_Λύση', index=False)"
   ]
  },
  {
   "cell_type": "code",
   "execution_count": null,
   "id": "f8ffe72c-b8f0-4e3b-9d84-32148ab10f42",
   "metadata": {},
   "outputs": [],
   "source": [
    "tpp_Νέα_Δημοκρατία = pd.read_csv('C:\\\\Users\\\\stath\\\\tpp_Νέα_Δημοκρατία.csv')"
   ]
  },
  {
   "cell_type": "code",
   "execution_count": null,
   "id": "333e3303-4150-42a2-bc19-373730cf551a",
   "metadata": {},
   "outputs": [],
   "source": [
    "tpp_ΣΥΡΙΖΑ = pd.read_csv('C:\\\\Users\\\\stath\\\\tpp_ΣΥΡΙΖΑ.csv')"
   ]
  },
  {
   "cell_type": "code",
   "execution_count": null,
   "id": "a638a1fe-7fd6-477e-bbbf-a79935403b2f",
   "metadata": {},
   "outputs": [],
   "source": [
    "tpp_grel.set_index('datetime', inplace=True)"
   ]
  },
  {
   "cell_type": "code",
   "execution_count": null,
   "id": "49ae1d97-1cdd-4701-96a9-d7a1738607cc",
   "metadata": {},
   "outputs": [],
   "source": [
    "tpp_Νέα_Δημοκρατία = tpp_Νέα_Δημοκρατία.drop(tpp_Νέα_Δημοκρατία.index[[3,6,7,8,9,11,12,19,20,22,24,26,29,30,35,38,45,47,51,52,54,55,57,58,60,66,67,72,74,75,76,77,78,79,81,82,83,85,87,88,89,92,94,97,101,102,103,105,106,107,108,110,111,115,119,120,121,123,125,127,128,130,131]])"
   ]
  },
  {
   "cell_type": "code",
   "execution_count": null,
   "id": "8402f32d-ef5a-4a8f-8518-274983cab529",
   "metadata": {},
   "outputs": [],
   "source": [
    "tpp_Νέα_Δημοκρατία['datetime'] = pd.to_datetime(tpp_Νέα_Δημοκρατία['datetime'], errors='coerce')\n",
    "tpp_Νέα_Δημοκρατία = tpp_Νέα_Δημοκρατία.dropna(subset=['datetime'])\n",
    "\n",
    "\n"
   ]
  },
  {
   "cell_type": "code",
   "execution_count": null,
   "id": "6cc90c29-995d-45b6-ac59-bc9307884300",
   "metadata": {},
   "outputs": [],
   "source": [
    "tpp_Νέα_Δημοκρατία.set_index('datetime', inplace=True)"
   ]
  },
  {
   "cell_type": "code",
   "execution_count": null,
   "id": "6524dd7d-499b-471b-9adc-3c4bb98e2dd4",
   "metadata": {},
   "outputs": [],
   "source": [
    "daily_sentiment = tpp_Νέα_Δημοκρατία['pos/neg'].resample('D').mean()\n",
    "\n",
    "\n",
    "fig, ax = plt.subplots(figsize=(16, 6))\n",
    "daily_sentiment.plot(kind='bar', color=colors, width=0.8, ax=ax)\n",
    "\n",
    "ax.set_xticks(range(0, len(daily_sentiment), max(1, len(daily_sentiment) // 20)))\n",
    "ax.set_xticklabels(daily_sentiment.index.strftime('%Y-%m-%d')[::max(1, len(daily_sentiment) // 20)], rotation=45)\n",
    "\n",
    "\n",
    "plt.title('Ημερήσια Πολικότητα Συναισθημάτων για τη Νέα Δημοκρατία')\n",
    "plt.xlabel('Ημερομηνία')\n",
    "plt.ylabel('Θετικότητα/Αρνητικότητα')\n",
    "plt.tight_layout()\n",
    "\n",
    "\n",
    "handles = [plt.Rectangle((0,0),1,1, color='g', ec='k'), plt.Rectangle((0,0),1,1, color='r', ec='k')]\n",
    "labels = ['Θετικότητα', 'Αρνητικότητα']\n",
    "plt.legend(handles, labels)\n",
    "\n",
    "plt.show()\n",
    "                                                                               "
   ]
  },
  {
   "cell_type": "code",
   "execution_count": null,
   "id": "52462652-5031-4299-b872-7dbeb6074745",
   "metadata": {},
   "outputs": [],
   "source": [
    "tpp_Νέα_Δημοκρατία['pos/neg'].mean()\n"
   ]
  },
  {
   "cell_type": "code",
   "execution_count": null,
   "id": "26874403-b438-4368-81f7-0b82a414dfb3",
   "metadata": {},
   "outputs": [],
   "source": [
    "tpp_grel['pos/neg'].mean()"
   ]
  },
  {
   "cell_type": "code",
   "execution_count": null,
   "id": "dc3b3d10-3c31-4cd3-b640-a60d7a39f1bb",
   "metadata": {},
   "outputs": [],
   "source": [
    "import re\n",
    "\n",
    "frames = {\n",
    "    'Σύγκρουση': [\n",
    "        'κόντρα', 'VS', 'μάχη', 'επίθεση', 'αντιπαράθεση', '«σφάχτηκαν»', '«επιτίθεται»', \"ή\", \"δίλημμα\",\n",
    "        '«πυρά»', '«Πυρά»','πυρά', 'Πυρά', 'μπηχτή', 'μεταξύ', 'σύγκρουση', '«σκοτωμός»', 'απαντά', '«σπόντα»',\n",
    "        '«μάχης»', 'μια πλευρά', 'Μητσοτάκη-Τσίπρα', 'απάντηση', 'καυγά', 'αίμα', 'απαντάμε',\n",
    "        'διαφορά', 'έναντι', 'σύγκριση', 'κατά', 'εναντίον','προβάδισμα', 'Μητσοτάκης-Τσίπρας', 'ΝΔ-ΣΥΡΙΖΑ'\n",
    "    ]\n",
    "}\n",
    "\n",
    "def detect_conflict_frames(title, frames):\n",
    "    conflict_keywords = frames['Σύγκρουση']\n",
    "    \n",
    "    pattern = r'\\b(?:' + '|'.join(map(re.escape, conflict_keywords)) + r')\\b'\n",
    "\n",
    "    return bool(re.search(pattern, title))\n",
    "\n",
    "\n",
    "tpp_grel['Conflict'] = tpp_grel['title'].apply(lambda x: 1 if detect_conflict_frames(x, frames) else 0)\n"
   ]
  },
  {
   "cell_type": "code",
   "execution_count": null,
   "id": "a88f082f-428c-4010-b92d-c913a0cf9252",
   "metadata": {},
   "outputs": [],
   "source": [
    "tpp_grel['Conflict'].value_counts()"
   ]
  },
  {
   "cell_type": "code",
   "execution_count": null,
   "id": "5fe12ce8-343c-47e2-8c3c-d25e9beea53f",
   "metadata": {},
   "outputs": [],
   "source": [
    "6.96"
   ]
  }
 ],
 "metadata": {
  "kernelspec": {
   "display_name": "Python 3 (ipykernel)",
   "language": "python",
   "name": "python3"
  },
  "language_info": {
   "codemirror_mode": {
    "name": "ipython",
    "version": 3
   },
   "file_extension": ".py",
   "mimetype": "text/x-python",
   "name": "python",
   "nbconvert_exporter": "python",
   "pygments_lexer": "ipython3",
   "version": "3.12.4"
  }
 },
 "nbformat": 4,
 "nbformat_minor": 5
}
