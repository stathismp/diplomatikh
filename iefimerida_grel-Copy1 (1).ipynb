{
 "cells": [
  {
   "cell_type": "code",
   "execution_count": null,
   "metadata": {
    "id": "xrDzolFdWOAE"
   },
   "outputs": [],
   "source": [
    "import requests\n",
    "from bs4 import BeautifulSoup\n",
    "import pandas as pd\n",
    "import time\n",
    "import numpy as np\n",
    "import matplotlib.pyplot as plt\n",
    "import spacy\n",
    "from wordcloud import WordCloud\n",
    "import seaborn as sns"
   ]
  },
  {
   "cell_type": "code",
   "execution_count": null,
   "metadata": {
    "colab": {
     "base_uri": "https://localhost:8080/"
    },
    "id": "UywyihakXhVj",
    "outputId": "5de1600a-4d65-4fef-d19d-0a102f3d1496"
   },
   "outputs": [],
   "source": [
    "url = 'https://www.iefimerida.gr/politiki/ano-kato-i-elliniki-lysi-o-belopoylos-fobithike-apostasia-kai-kalese-se-apologia-boyleytes'\n",
    "response = requests.get(url)\n",
    "\n",
    "\n",
    "if response.status_code == 200:\n",
    "\n",
    "    soup = BeautifulSoup(response.content, 'html.parser')\n",
    "\n",
    "\n",
    "    title = soup.find(\"h1\", {\"class\": \"f-big w-bold\"})\n",
    "\n",
    "\n",
    "    if title:\n",
    "        print(\"Title:\", title.get_text(strip=True))\n",
    "    else:\n",
    "        print(\"Title not found.\")\n",
    "else:\n",
    "    print(f\"Failed to retrieve the page. Status code: {response.status_code}\")\n"
   ]
  },
  {
   "cell_type": "code",
   "execution_count": null,
   "metadata": {
    "colab": {
     "base_uri": "https://localhost:8080/"
    },
    "id": "Xsf9vOXYZlR0",
    "outputId": "18ed2aee-c4cd-4509-9b1b-da59f6bd8d8f"
   },
   "outputs": [],
   "source": [
    "url = 'https://www.iefimerida.gr/politiki/ano-kato-i-elliniki-lysi-o-belopoylos-fobithike-apostasia-kai-kalese-se-apologia-boyleytes'\n",
    "\n",
    "\n",
    "headers = {\n",
    "    'User-Agent': 'Mozilla/5.0 (Windows NT 10.0; Win64; x64) AppleWebKit/537.36 (KHTML, like Gecko) Chrome/91.0.4472.124 Safari/537.36'\n",
    "}\n",
    "\n",
    "\n",
    "response = requests.get(url, headers=headers)\n",
    "\n",
    "\n",
    "if response.status_code == 200:\n",
    "\n",
    "    soup = BeautifulSoup(response.content, 'html.parser')\n",
    "\n",
    "\n",
    "    title = soup.find(\"h1\", {\"class\": \"f-big w-bold\"})\n",
    "    category = soup.find(\"div\", {\"class\" : \"details f-details-alt c-red\"})\n",
    "    author = (\"a\")\n",
    "\n",
    "    if title:\n",
    "        print(\"Title:\", title.get_text(strip=True))\n",
    "    else:\n",
    "        print(\"Title not found.\")\n",
    "    if category:\n",
    "        print(\"category:\", category.get_text(strip=True))\n",
    "    else:\n",
    "        print(\"category not found.\")\n",
    "    author_div = soup.find(\"div\", {\"class\": \"author f-letter-spacing c-black w-bold f-details-author font-family-main\"})\n",
    "    if author_div:\n",
    "\n",
    "        author = author_div.find(\"a\")\n",
    "        if author:\n",
    "            print(\"Author:\", author.get_text(strip=True))\n",
    "        else:\n",
    "            print(\"Author <a> tag not found.\")\n",
    "    else:\n",
    "        print(\"Author div not found.\")\n",
    "    datetime_div = author_div.find(\"div\", {\"class\": \"f-details c-black w-regular details-below\"})\n",
    "    if datetime_div:\n",
    "       publication_time = datetime_div.find(\"time\")\n",
    "       if publication_time:\n",
    "            print(\"Datetime:\", publication_time.get_text(strip=True))\n",
    "       else:\n",
    "            print(\"Datetime not found.\")\n",
    "    else:\n",
    "        print(\"datetime div\")\n",
    "\n",
    "    main_content = soup.find(\"div\", {\"class\": \"field--name-body\"})\n",
    "\n",
    "\n",
    "    for child in main_content.children:\n",
    "\n",
    "        if child.name == 'p':\n",
    "            print(child.get_text(strip=True))\n",
    "\n",
    "        elif child.name == 'h2':\n",
    "            print(child.get_text(strip=True))\n",
    "\n",
    "else:\n",
    "    print(f\"Failed to retrieve the page. Status code: {response.status_code}\")\n"
   ]
  },
  {
   "cell_type": "code",
   "execution_count": null,
   "metadata": {
    "colab": {
     "base_uri": "https://localhost:8080/"
    },
    "id": "bQ7oyvBiWlnk",
    "outputId": "250c35aa-5078-4107-a306-b26b4ca0b8c9"
   },
   "outputs": [],
   "source": [
    "def process_url(url):\n",
    "\n",
    "    return url\n",
    "headers = {\n",
    "    'User-Agent': 'Mozilla/5.0 (Windows NT 10.0; Win64; x64) AppleWebKit/537.36 (KHTML, like Gecko) Chrome/91.0.4472.124 Safari/537.36'\n",
    "}\n",
    "\n",
    "\n",
    "response = requests.get(url, headers=headers)\n",
    "\n",
    "\n",
    "base_url = 'https://www.iefimerida.gr/politiki?page='\n",
    "urls = []\n",
    "\n",
    "for page_num in range(1406,1407):\n",
    "    print(f\"Processing page: {page_num}\")\n",
    "    url = base_url + str(page_num)\n",
    "    response = requests.get(url, headers=headers)\n",
    "    soup = BeautifulSoup(response.text, 'html.parser')\n",
    "    articles = soup.find_all(\"article\")\n",
    "    for article in articles:\n",
    "      article_url = article.find(\"a\")[\"href\"]\n",
    "\n",
    "      urls.append(article_url)\n",
    "\n",
    "\n"
   ]
  },
  {
   "cell_type": "code",
   "execution_count": null,
   "metadata": {
    "id": "8MtovOML8g9G"
   },
   "outputs": [],
   "source": [
    "def process_url(url):\n",
    "    headers = {\n",
    "        'User-Agent': 'Mozilla/5.0 (Windows NT 10.0; Win64; x64) AppleWebKit/537.36 (KHTML, like Gecko) Chrome/91.0.4472.124 Safari/537.36'\n",
    "    }\n",
    "    response = requests.get(url, headers=headers)\n",
    "\n",
    "    if response.status_code == 200:\n",
    "        soup = BeautifulSoup(response.content, 'html.parser')\n",
    "        article_urls = []\n",
    "\n",
    "        articles = soup.find_all(\"article\")\n",
    "        for article in articles:\n",
    "            article_url = article.find(\"a\")[\"href\"]\n",
    "            if article_url.startswith('/'):\n",
    "                article_url = 'https://www.iefimerida.gr' + article_url\n",
    "            article_urls.append(article_url)\n",
    "\n",
    "        return article_urls\n",
    "    else:\n",
    "        print(f\"Failed to retrieve page {url}. Status code: {response.status_code}\")\n",
    "        return []\n",
    "\n",
    "base_url = 'https://www.iefimerida.gr/politiki?page='\n",
    "start_page = 1406\n",
    "end_page = 1407\n",
    "\n",
    "all_article_urls = []\n",
    "\n",
    "# Iterate through pages and process each URL\n",
    "for page_num in range(start_page, end_page + 1):\n",
    "    print(f\"Processing page: {page_num}\")\n",
    "    url = base_url + str(page_num)\n",
    "    article_urls = process_url(url)\n",
    "    all_article_urls.extend(article_urls)\n",
    "\n",
    "# Now all_article_urls contains URLs of articles from all pages\n",
    "print(f\"Total articles found: {len(all_article_urls)}\")\n",
    "\n",
    "# Example: Print the first few article URLs\n",
    "print(\"Example article URLs:\")\n",
    "for idx, article_url in enumerate(all_article_urls[:5], start=1):\n",
    "    print(f\"{idx}. {article_url}\")\n",
    "    # You can add code here to process each article URL and extract its content\n"
   ]
  },
  {
   "cell_type": "code",
   "execution_count": null,
   "metadata": {
    "colab": {
     "base_uri": "https://localhost:8080/"
    },
    "id": "DAnOtElbXwfN",
    "outputId": "c5253fac-4406-4f52-ab47-a2d4eb7894d1"
   },
   "outputs": [],
   "source": [
    "urls"
   ]
  },
  {
   "cell_type": "code",
   "execution_count": null,
   "metadata": {
    "id": "AgS92tYSWYKt"
   },
   "outputs": [],
   "source": []
  },
  {
   "cell_type": "code",
   "execution_count": null,
   "metadata": {
    "colab": {
     "base_uri": "https://localhost:8080/"
    },
    "id": "ycb17OfOXwiC",
    "outputId": "06191df6-fc2f-4d49-aa45-a32848697b60"
   },
   "outputs": [],
   "source": [
    "from urllib.parse import urljoin\n",
    "import time\n",
    "from requests.adapters import HTTPAdapter\n",
    "from urllib3.util.retry import Retry\n",
    "\n",
    "def process_url(url):\n",
    "    # Check if the URL is relative (does not start with 'http' or 'https')\n",
    "    if not url.startswith('http'):\n",
    "        # Prepend the base domain\n",
    "        url = urljoin('https://www.iefimerida.gr', url)\n",
    "    return url\n",
    "\n",
    "def get_with_retries(url, headers, max_retries=3):\n",
    "    session = requests.Session()\n",
    "    retries = Retry(total=max_retries, backoff_factor=1, status_forcelist=[502, 503, 504])\n",
    "    session.mount('https://', HTTPAdapter(max_retries=retries))\n",
    "    return session.get(url, headers=headers)\n",
    "\n",
    "base_url = 'https://www.iefimerida.gr/politiki?page='\n",
    "urls = []\n",
    "\n",
    "headers = {\n",
    "    'User-Agent': 'Mozilla/5.0 (Windows NT 10.0; Win64; x64) AppleWebKit/537.36 '\n",
    "                  '(KHTML, like Gecko) Chrome/91.0.4472.124 Safari/537.36'\n",
    "}\n",
    "\n",
    "for page_num in range(1406, 1525):\n",
    "    print(f\"Processing page: {page_num}\")\n",
    "    url = base_url + str(page_num)\n",
    "    try:\n",
    "        response = get_with_retries(url, headers=headers)\n",
    "        soup = BeautifulSoup(response.text, 'html.parser')\n",
    "\n",
    "        iefimerida_articles = soup.find_all('article')\n",
    "        print(f\"Found {len(iefimerida_articles)} articles on page {page_num}\")\n",
    "\n",
    "        for i, article in enumerate(iefimerida_articles):\n",
    "            link_tag = article.find('a')\n",
    "\n",
    "            if link_tag:\n",
    "                raw_url = link_tag[\"href\"]\n",
    "                processed_url = process_url(raw_url)\n",
    "                urls.append(processed_url)\n",
    "                print(f\"Added URL from article {i+1} on page {page_num}: {processed_url}\")\n",
    "            else:\n",
    "                print(f\"Missing link in article {i+1} on page {page_num}\")\n",
    "\n",
    "        time.sleep(5)\n",
    "\n",
    "    except requests.exceptions.RequestException as e:\n",
    "        print(f\"Failed to retrieve page {page_num}: {e}\")\n",
    "\n",
    "data = {'URL': urls}\n",
    "print(\"Scraping completed. Total URLs collected:\", len(urls))\n",
    "print(data)\n",
    "\n"
   ]
  },
  {
   "cell_type": "code",
   "execution_count": null,
   "metadata": {
    "id": "gqBGChO5SsYN"
   },
   "outputs": [],
   "source": []
  },
  {
   "cell_type": "code",
   "execution_count": null,
   "metadata": {
    "id": "vCGU8kPGW1wG"
   },
   "outputs": [],
   "source": []
  },
  {
   "cell_type": "code",
   "execution_count": null,
   "metadata": {
    "colab": {
     "base_uri": "https://localhost:8080/",
     "height": 423
    },
    "id": "NGO5a4i3-JgZ",
    "outputId": "803bd89e-a0a3-487d-c1dd-710c4dc4c048"
   },
   "outputs": [],
   "source": [
    "iefimerida_urls = pd.DataFrame(data)\n",
    "iefimerida_urls"
   ]
  },
  {
   "cell_type": "code",
   "execution_count": null,
   "metadata": {
    "colab": {
     "base_uri": "https://localhost:8080/"
    },
    "id": "OExhYqpmlnQN",
    "outputId": "0b7294d6-7af7-41e5-a55e-922687ff3bca"
   },
   "outputs": [],
   "source": [
    "from google.colab import drive\n",
    "drive.mount('/content/drive')"
   ]
  },
  {
   "cell_type": "code",
   "execution_count": null,
   "metadata": {
    "id": "7UCb31L6Rn-G"
   },
   "outputs": [],
   "source": [
    "iefimerida_urls = pd.read_csv(\"/content/drive/MyDrive/iefimerida_urls\")"
   ]
  },
  {
   "cell_type": "code",
   "execution_count": null,
   "metadata": {
    "colab": {
     "base_uri": "https://localhost:8080/"
    },
    "id": "srDVgwNNgJYF",
    "outputId": "08f6a175-b544-4fb9-c19b-bae5801bb0d2"
   },
   "outputs": [],
   "source": [
    "full_articles_list = []\n",
    "headers = {\n",
    "    'User-Agent': 'Mozilla/5.0 (Windows NT 10.0; Win64; x64) AppleWebKit/537.36 '\n",
    "                  '(KHTML, like Gecko) Chrome/91.0.4472.124 Safari/537.36'\n",
    "}\n",
    "\n",
    "for index, processed_url in enumerate(iefimerida_urls['URL']):\n",
    "    full_article_dict = {}\n",
    "    try:\n",
    "        response = requests.get(processed_url, headers=headers)\n",
    "        soup = BeautifulSoup(response.text, 'html.parser')\n",
    "\n",
    "        full_article_dict['site'] = \"iefimerida.gr\"\n",
    "        full_article_dict['url'] = processed_url\n",
    "\n",
    "        title_tag = soup.find(\"h1\", {\"class\": \"f-big w-bold\"})\n",
    "        title = title_tag.get_text(strip=True) if title_tag else 'No Title Found'\n",
    "        full_article_dict['title'] = title\n",
    "\n",
    "        category_tag = soup.find(\"div\", {\"class\": \"details f-details-alt c-red\"})\n",
    "        category = category_tag.get_text(strip=True) if category_tag else 'No Category Found'\n",
    "        full_article_dict['category'] = category\n",
    "\n",
    "        author_tag = soup.find(\"a\")\n",
    "        author = author_tag.get_text(strip=True) if author_tag else 'No Author Found'\n",
    "        full_article_dict['author'] = author\n",
    "\n",
    "        datetime_div = soup.find(\"div\", {\"class\": \"f-details c-black w-regular details-below\"})\n",
    "        if datetime_div:\n",
    "            publication_time_tag = datetime_div.find(\"time\")\n",
    "            publication_time = publication_time_tag.get_text(strip=True) if publication_time_tag else 'No Publication Time Found'\n",
    "        else:\n",
    "            publication_time = 'No Publication Time Found'\n",
    "        full_article_dict['publication_time'] = publication_time\n",
    "\n",
    "        main_content = soup.find(\"div\", {\"class\": \"field--name-body\"})\n",
    "        content = ''\n",
    "        if main_content:\n",
    "            for child in main_content.children:\n",
    "                if child.name == 'p':\n",
    "                    content += child.get_text(strip=True) + '\\n'\n",
    "                elif child.name == 'h2':\n",
    "                    content += '\\n' + child.get_text(strip=True) + '\\n'\n",
    "        full_article_dict['content'] = content.strip()\n",
    "\n",
    "    except Exception as e:\n",
    "        print(f\"Error processing {processed_url}: {e}\")\n",
    "        full_article_dict = {\n",
    "            'site': \"iefimerida.gr\",\n",
    "            'url': processed_url,\n",
    "            'title': 'Error',\n",
    "            'category': 'Error',\n",
    "            'author': 'Error',\n",
    "            'publication_time': 'Error',\n",
    "            'content': 'Error'\n",
    "        }\n",
    "\n",
    "    print(f\"Processed {index + 1}/{len(iefimerida_urls['URL'])}: {processed_url}\")\n",
    "\n",
    "    full_articles_list.append(full_article_dict)\n",
    "\n",
    "    time.sleep(1.5)\n",
    "\n",
    "    iefimerida_grel = pd.DataFrame(full_articles_list)\n"
   ]
  },
  {
   "cell_type": "code",
   "execution_count": null,
   "metadata": {
    "id": "SoMwA3Iwgdpf"
   },
   "outputs": [],
   "source": [
    "epidomata-thermansis ilektrokinisi messinis genoktonias genoktonia efiboy-rapti tsoyra-kideia thanasis-tsoyras thanasi-tsoyra fylaki-o-frenti-mpeleris synelifthi-16hronos erntogan-i-kilitsntarogloy-o-k-filis-mila-sto-iefimeridagr maria-ston-ebro ypiresies-gia-toys-asfalismenoys karoloy 15hronis-mathitrias melos-toy-demp brand-name karagiannis-aytokinitodromos elleimma-erga tzoker-tzak-pot-klirosi oikotrofeio-rapti tragodia-beligradi sti-serbia panspoydastikis hurley aystralia diamesolabisi-ellinotoyrkika galloi-syndikalistes toyrismos-2023 poios-eiserhetai gia-tin-ylopoiisi dialogos-i kairos-protomagia toy-soydan harlei horo-e kratikopoiisi-ethnikis syllogo-athinon soydan mykonos zormpa mpermpok anomias boak kriti markopoyloy"
   ]
  },
  {
   "cell_type": "code",
   "execution_count": null,
   "metadata": {
    "id": "MZeF4LNTvi9a"
   },
   "outputs": [],
   "source": [
    "iefimerida_grel.to_csv(\"/content/drive/MyDrive/iefimerida_grel\", index = False)"
   ]
  },
  {
   "cell_type": "code",
   "execution_count": null,
   "metadata": {
    "colab": {
     "base_uri": "https://localhost:8080/",
     "height": 597
    },
    "id": "dbBnWg4uxk1a",
    "outputId": "5fe2dacf-99df-4ec3-b4e2-54e3883f8ea0"
   },
   "outputs": [],
   "source": [
    "iefimerida_grel"
   ]
  },
  {
   "cell_type": "code",
   "execution_count": null,
   "metadata": {
    "colab": {
     "base_uri": "https://localhost:8080/",
     "height": 597
    },
    "id": "lvMTR7-YxlKv",
    "outputId": "4daafa59-c951-41fc-ab82-65117edac8a8"
   },
   "outputs": [],
   "source": [
    "\n",
    "rubbish = [\n",
    "    \"epidomata-thermansis\", \"ilektrokinisi\", \"messinis\", \"genoktonias\", \"genoktonia\",\n",
    "    \"efiboy-rapti\", \"thanasis-tsoyras\", \"tsoyra\", \"fylaki-o-frenti-mpeleri\", \"synelifthi-16hronos\",\n",
    "    \"erntogan-i-kilitsntarogloy-o-k-filis-mila-sto-iefimeridagr\", \"maria-ston-ebro\", \"ypiresies-gia-toys-asfalismenoys\",\n",
    "    \"karoloy\", \"15hronis-mathitrias\", \"melos-toy-demp\", \"brand-name\", \"karagiannis-aytokinitodromos\",\n",
    "    \"elleimma-erga\", \"tzoker-tzak-pot-klirosi\", \"oikotrofeio-rapti\", \"tragodia-beligradi\", \"sti-serbia\",\n",
    "    \"panspoydastikis\", \"hurley\", \"aystralia\", \"diamesolabisi-ellinotoyrkika\", \"galloi-syndikalistes\",\n",
    "    \"toyrismos-2023\", \"poios-eiserhetai\", \"gia-tin-ylopoiisi\", \"dialogos-i\", \"kairos-protomagia\",\n",
    "    \"harlei\", \"horo-e\", \"kratikopoiisi-ethnikis\", \"syllogo-athinon\", \"soydan\", \"mykonos\", \"zormpa\",\n",
    "    \"mpermpok\", \"anomias\", \"boak\", \"kriti\", \"markopoyloy\"\n",
    "]\n",
    "pattern = '|'.join(rubbish)\n",
    "\n",
    "iefimerida_grel = iefimerida_grel[~iefimerida_grel['url'].str.contains(pattern, case=False, na=False)]\n",
    "\n",
    "iefimerida_grel"
   ]
  },
  {
   "cell_type": "code",
   "execution_count": null,
   "metadata": {
    "id": "_JtrWxj00o9x"
   },
   "outputs": [],
   "source": [
    "iefimerida_grel.rename(columns={\n",
    "    'content': 'text',\n",
    "    'publication_time': 'datetime'\n",
    "}, inplace=True)"
   ]
  },
  {
   "cell_type": "code",
   "execution_count": null,
   "metadata": {
    "colab": {
     "base_uri": "https://localhost:8080/",
     "height": 770
    },
    "id": "GliyRYH21l3e",
    "outputId": "61bf94fd-77e8-44c9-a637-142b3b813215"
   },
   "outputs": [],
   "source": []
  },
  {
   "cell_type": "code",
   "execution_count": null,
   "metadata": {
    "colab": {
     "base_uri": "https://localhost:8080/"
    },
    "id": "AmSdfDwz1bDa",
    "outputId": "1812ecd9-7c1d-4c37-aac0-6adca7a7bf58"
   },
   "outputs": [],
   "source": [
    "from google.colab import drive\n",
    "drive.mount('/content/drive')"
   ]
  },
  {
   "cell_type": "code",
   "execution_count": null,
   "metadata": {
    "colab": {
     "base_uri": "https://localhost:8080/",
     "height": 597
    },
    "id": "WoDjb7iRXsY3",
    "outputId": "8e87c721-65c7-4e82-9822-d53c97a0cfa8"
   },
   "outputs": [],
   "source": [
    "iefimerida_grel = pd.read_csv(\"/content/drive/MyDrive/iefimerida_grel\")\n",
    "iefimerida_grel"
   ]
  },
  {
   "cell_type": "code",
   "execution_count": null,
   "metadata": {},
   "outputs": [],
   "source": [
    "iefimerida_grel = pd.read_csv('C:\\\\Users\\\\stath\\\\iefimerida_greek_elections')"
   ]
  },
  {
   "cell_type": "code",
   "execution_count": null,
   "metadata": {},
   "outputs": [],
   "source": [
    "iefimerida_grel.shape"
   ]
  },
  {
   "cell_type": "code",
   "execution_count": null,
   "metadata": {},
   "outputs": [],
   "source": [
    "iefimerida_grel.to_csv('C:\\\\Users\\\\stath\\\\iefimerida_greek_elections', index = False)"
   ]
  },
  {
   "cell_type": "code",
   "execution_count": null,
   "metadata": {
    "id": "gWQ5Q2USY4pb"
   },
   "outputs": [],
   "source": [
    "iefimerida_grel.rename(columns={\n",
    "    'content': 'text',\n",
    "    'publication_time': 'datetime'\n",
    "}, inplace=True)"
   ]
  },
  {
   "cell_type": "code",
   "execution_count": null,
   "metadata": {
    "colab": {
     "base_uri": "https://localhost:8080/",
     "height": 192
    },
    "id": "UCPmmkFaZHfN",
    "outputId": "40a7fb2f-5ad4-4b25-d241-7ba7a1d1c940"
   },
   "outputs": [],
   "source": [
    "iefimerida_grel[\"text\"][55]"
   ]
  },
  {
   "cell_type": "code",
   "execution_count": null,
   "metadata": {
    "id": "NxLY1Rg3ZIzb"
   },
   "outputs": [],
   "source": [
    "iefimerida_grel[\"text\"] = iefimerida_grel[\"text\"].str.replace(\"\\n\", \"\")\n",
    "iefimerida_grel[\"text\"] = iefimerida_grel[\"text\"].str.replace(':Φωτογραφίες: Νίκος Μαρουλίδης', \"\")\n",
    "iefimerida_grel[\"text\"] = iefimerida_grel[\"text\"].str.replace(\"Εκλογές 2023 -Εικόνες από το Κέντρο Τύπου στο Ζάππειο Μέγαρο\", \"\")\n",
    "iefimerida_grel[\"text\"] = iefimerida_grel[\"text\"].str.replace(\"\\n«Ό,τι πει η κάλπη\", \"«Ό,τι πει η κάλπη\")\n",
    "iefimerida_grel[\"text\"] = iefimerida_grel[\"text\"].str.replace(\"\\nΔείτε\", \"Δείτε\")"
   ]
  },
  {
   "cell_type": "code",
   "execution_count": null,
   "metadata": {
    "id": "S-hYgmRkdcT4"
   },
   "outputs": [],
   "source": [
    "iefimerida_grel = iefimerida_grel.drop(columns=['author'])"
   ]
  },
  {
   "cell_type": "code",
   "execution_count": null,
   "metadata": {},
   "outputs": [],
   "source": [
    "pd.set_option('display.max_rows', 1190)"
   ]
  },
  {
   "cell_type": "code",
   "execution_count": null,
   "metadata": {},
   "outputs": [],
   "source": [
    "iefimerida_grel['datetime'] = pd.to_datetime(iefimerida_grel['datetime'], format='%d/%m/%Y %H:%M', errors='coerce')\n"
   ]
  },
  {
   "cell_type": "code",
   "execution_count": null,
   "metadata": {},
   "outputs": [],
   "source": [
    "iefimerida_grel\n"
   ]
  },
  {
   "cell_type": "code",
   "execution_count": null,
   "metadata": {},
   "outputs": [],
   "source": [
    "short_df = iefimerida_grel[[\"title\", \"datetime\"]]"
   ]
  },
  {
   "cell_type": "code",
   "execution_count": null,
   "metadata": {},
   "outputs": [],
   "source": [
    "pd.set_option('display.max_colwidth', None)"
   ]
  },
  {
   "cell_type": "code",
   "execution_count": null,
   "metadata": {},
   "outputs": [],
   "source": [
    "iefimerida_grel['κόμματα'] = ''"
   ]
  },
  {
   "cell_type": "code",
   "execution_count": null,
   "metadata": {},
   "outputs": [],
   "source": [
    "iefimerida_grel = iefimerida_grel.drop([40,41,86,92,100,121,122,138,141,149,162,166,171,180,192,205,208,211,214,219,237,244,245,249,252,254,267,293,305,309,311,327,328,333,341,342,344,354,357,368,392,439,449,450,456,469,479,488,491,500,501,508,510,514,516,525,526,532,537,538,541,557,563,568,570,573,575,576,577,581,584,585,597,601,612,616,632,633,634,640,644,668,680,682,695,708,710,712,733,736,742,746,751,752,767,775,808,814,882,889,897,899,900,908,914,915,916,922,924,926,936,941,947,955,958,961,965,966,967,969,971,973,976,981,992,1003,1008,1009,1014,1017,1024,1032,1034,1058,1059,1081,1090,1092,1102,1107,1110,1115,1118,1125,1127,1131,1141,1147,1148,1152,1153,1159,1162,1169])"
   ]
  },
  {
   "cell_type": "code",
   "execution_count": null,
   "metadata": {},
   "outputs": [],
   "source": [
    "iefimerida_grel.loc[[0,1,9,17,20,21,25,28,29,30,35,38,45,46,63,68,69,77,78,80,82,83,93,94,110,113,116,123,134,152,158,172,182,202,207,209,224,251,258,285,295,296,316,320,325,343,361,362,371,383,385,388,389,390,397,400,404,411,414,418,432,437,440,441,443,446,457,460,465,467,477,478,483,497,506,528,545,607,610,629,643,654,674,681,686,689,714,718,744,749,750,756,780,782,817,821,825,836,848,856,859,885,888,896,898,928,943,964,968,986,996,1015,1019,1030,1037,1055,1056,1067,1071,1072,1074,1091,1094,1111,1117,1119,1121,1124,1132,1133,1154,1165,1167], 'κόμματα'] = 'Γενική Αρθρογραφία'"
   ]
  },
  {
   "cell_type": "code",
   "execution_count": null,
   "metadata": {},
   "outputs": [],
   "source": [
    "iefimerida_grel.loc[[4,5,8,10,11,14,18,19,22,23,32,33,34,36,47,50,51,54,55,56,60,61,64,66,70,76,84,85,96,98,103,105,106,107,109,115,117,118,120,124,125,126,128,131,136,145,148,150,151,153,155,156,157,159,160,163,168,169,170,173,174,175,177,178,186,189,194,195,198,200,203,212,213,215,216,217,218,222,225,226,231,233,236,238,242,247,248,250,253,255,256,257,259,262,263,264,265,271,272,273,275,276,278,279,280,281,283,297,298,300,302,304,307,308,310,312,313,319,330,331,332,334,336,339,347,348,350,358,359,360,366,370,372,375,377,379,382,384,386,387,393,394,398,399,402,405,413,416,417,421,423,429,431,433,442,445,451,452,453,454,459,461,462,464,466,468,470,475,476,482,484,485,490,492,494,495,499,504,507,515,519,521,522,524,530,531,535,539,540,543,544,548,550,553,555,558,559,560,562,565,566,574,578,580,582,583,587,588,592,594,598,600,602,604,605,606,608,609,614,620,624,625,626,631,636,637,641,647,649,650,651,659,662,663,666,672,675,676,677,684,687,688,690,692,694,696,698,699,701,703,706,707,709,711,716,722,723,724,727,732,734,735,738,740,741,743,758,761,762,765,771,773,776,777,778,783,787,794,800,804,805,807,810,813,815,818,820,824,826,827,832,833,834,835,837,838,839,842,843,844,845,852,853,854,855,857,864,865,867,869,870,871,876,877,881,883,887,890,895,901,902,903,909,912,918,919,920,930,932,933,934,935,937,938,940,944,945,948,951,952,957,959,970,972,974,975,980,982,987,989,990,991,994,995,1001,1004,1006,1020,1022,1026,1028,1036,1040,1041,1045,1048,1057,1060,1063,1065,1073,1078,1084,1085,1086,1087,1089,1095,1097,1098,1100,1106,1108,1109,1113,1126,1128,1129,1134,1137,1138,1142,1143,1145,1150,1151,1155,1158,1161,1163,1170,1176], 'κόμματα'] = 'ΝΔ'"
   ]
  },
  {
   "cell_type": "code",
   "execution_count": null,
   "metadata": {},
   "outputs": [],
   "source": [
    "iefimerida_grel.loc[[7,15,26,42,43,52,58,59,62,67,75,81,87,89,91,97,99,101,104,108,111,112,119,127,129,130,132,137,137,144,146,154,164,183,184,185,187,188,190,193,196,197,204,210,220,221,223,227,229,234,240,241,243,261,266,268,268,269,277,294,299,301,306,315,321,324,337,345,349,351,352,354,356,369,374,380,381,395,400,403,408,409,419,424,436,444,456,463,471,473,480,481,487,489,493,496,502,505,509,512,513,520,523,527,529,533,536,546,549,551,552,556,564,572,590,595,599,603,611,618,619,621,630,639,642,648,653,657,658,660,664,671,678,679,685,691,693,697,702,713,719,725,728,731,745,747,763,769,772,779,781,791,793,796,799,802,806,811,823,830,840,849,851,858,860,866,872,878,879,886,891,892,894,910,911,913,923,925,927,939,950,954,978,979,985,997,998,1007,1010,1011,1027,1029,1035,1047,1049,1052,1054,1061,1075,1088,1093,1099,1101,1103,1105,1122,1136,1139,1164,1166,1168,1171], 'κόμματα'] = 'ΣΥΡΙΖΑ'"
   ]
  },
  {
   "cell_type": "code",
   "execution_count": null,
   "metadata": {},
   "outputs": [],
   "source": [
    "iefimerida_grel.loc[[2,13,24,31,39,48,49,65,74,90,95,114,140,147,161,167,176,181,201,206,232,235,239,270,274,282,286,287,289,290,318,323,326,335,367,378,391,396,415,427,474,486,503,511,517,534,542,554,561,569,579,586,591,596,615,623,628,638,656,665,670,673,683,700,705,717,730,739,754,766,774,798,812,822,828,831,846,861,863,873,875,880,884,893,905,929,946,949,983,988,1018,1023,1025,1031,1038,1039,1051,1064,1076,1083,1096,1104,1114,1116,1118,1120,1144,1149,1157,1172,1174], 'κόμματα'] = 'ΠΑΣΟΚ'"
   ]
  },
  {
   "cell_type": "code",
   "execution_count": null,
   "metadata": {},
   "outputs": [],
   "source": [
    "iefimerida_grel.loc[[3,6,16,27,37,44,79,102,139,179,191,199,228,246,314,317,329,338,355,406,410,422,425,430,434,447,472,547,567,589,617,627,645,646,667,704,720,721,757,785,819,829,862,907,942,956,984,1042,1069,1079], 'κόμματα'] = 'ΚΚΕ'"
   ]
  },
  {
   "cell_type": "code",
   "execution_count": null,
   "metadata": {},
   "outputs": [],
   "source": [
    "iefimerida_grel.loc[[322,364,373,412,420,428,435,448,655,763,904,1002,1005,1043,1062,1123,1135,1160,1175,1177], 'κόμματα'] = 'Ελληνική Λύση'"
   ]
  },
  {
   "cell_type": "code",
   "execution_count": null,
   "metadata": {},
   "outputs": [],
   "source": [
    "iefimerida_grel.loc[[12,88,143,165,230,260,284,291,292,303,340,365,376,407,426,438,498,518,571,613,635,652,661,768,784,786,792,797,803,809,874,906,963,977,1033,1044,1050,1053,1070,1077,1080,1082,1112,1130,1140,1146,1156], 'κόμματα'] = 'ΜέΡΑ25'"
   ]
  },
  {
   "cell_type": "code",
   "execution_count": null,
   "metadata": {},
   "outputs": [],
   "source": [
    "iefimerida_grel.loc[[135,458,593,622,715,726,737,748,753,755,759,760,770,788,790,795,801,816,841,847,850,868,917,921,931,953,960,962,993,998,1000,1012,1013,1016,1046,1066,1068,1173], 'κόμματα'] = 'Ακροδεξιά'"
   ]
  },
  {
   "cell_type": "code",
   "execution_count": null,
   "metadata": {},
   "outputs": [],
   "source": [
    "iefimerida_grel.loc[[669,1021], 'κόμματα'] = 'Εξωκοινοβουλευτική Αριστερά'"
   ]
  },
  {
   "cell_type": "code",
   "execution_count": null,
   "metadata": {},
   "outputs": [],
   "source": [
    "iefimerida_grel_Σχόλιο =  iefimerida_grel.loc[[1,9,39,43,46,56,58,59,60,62,69,71,73,87,88,90,94,97,99,101,119,135,146,152,164,176,183,186,188,190,201,202,207,223,224,225,226,227,277,284,291,292,315,320,345,360,345,360,362,371,379,381,385,388,390,394,395,396,400,402,403,406,415,417,424,465,473,482,489,490,493,495,502,505,507,512,513,544,545,549,550,551,556,578,610,615,618,622,635,639,643,656,659,658,660,661,663,667,671,678,685,693,702,705,706,728,744,747,748,753,763,765,770]]"
   ]
  },
  {
   "cell_type": "code",
   "execution_count": null,
   "metadata": {},
   "outputs": [],
   "source": [
    "from sklearn.feature_extraction.text import CountVectorizer"
   ]
  },
  {
   "cell_type": "code",
   "execution_count": null,
   "metadata": {},
   "outputs": [],
   "source": [
    "nlp = spacy.load('el_core_news_md')"
   ]
  },
  {
   "cell_type": "code",
   "execution_count": null,
   "metadata": {},
   "outputs": [],
   "source": [
    "nlp.max_length = 10000000"
   ]
  },
  {
   "cell_type": "code",
   "execution_count": null,
   "metadata": {},
   "outputs": [],
   "source": [
    "iefimerida_full_text = iefimerida_grel['text'].str.cat(sep = ' ')"
   ]
  },
  {
   "cell_type": "code",
   "execution_count": null,
   "metadata": {},
   "outputs": [],
   "source": [
    "iefimerida_full_doc = nlp(iefimerida_full_text)"
   ]
  },
  {
   "cell_type": "code",
   "execution_count": null,
   "metadata": {},
   "outputs": [],
   "source": [
    "from joblib import dump, load"
   ]
  },
  {
   "cell_type": "code",
   "execution_count": null,
   "metadata": {},
   "outputs": [],
   "source": [
    "#dump(iefimerida_full_doc , 'iefimerida_full_doc.joblib')"
   ]
  },
  {
   "cell_type": "code",
   "execution_count": null,
   "metadata": {},
   "outputs": [],
   "source": [
    "iefimerida_full_doc = load('iefimerida_full_doc.joblib')"
   ]
  },
  {
   "cell_type": "code",
   "execution_count": null,
   "metadata": {},
   "outputs": [],
   "source": [
    "lemmatized_text = ' '.join(token.lemma_ for token in iefimerida_full_doc)"
   ]
  },
  {
   "cell_type": "code",
   "execution_count": null,
   "metadata": {},
   "outputs": [],
   "source": [
    "stopwords = nlp.Defaults.stop_words\n",
    "stopwords.add(\"ς\")\n",
    "stopwords.add(\"μπορώ\")\n",
    "stopwords.add(\"αναφέρω\")\n",
    "stopwords.add(\"υπάρχω\")\n",
    "stopwords.add(\"γίνομαι\")\n",
    "stopwords.add(\"ή\")\n",
    "stopwords.add(\"κάνω\")\n",
    "stopwords.add(\"θέλω\")\n",
    "stopwords.add(\"κ\")\n",
    "stopwords.add(\"λέγω\")"
   ]
  },
  {
   "cell_type": "code",
   "execution_count": null,
   "metadata": {},
   "outputs": [],
   "source": [
    "lemmatized_text = lemmatized_text.replace(\"ΣΥΡΙΖΑς\", \"ΣΥΡΙΖΑ\")\n",
    "wordcloud_iefimerida_grel = WordCloud(\n",
    "    stopwords = nlp.Defaults.stop_words,\n",
    "    width = 2000,\n",
    "    height = 1000,\n",
    "    background_color = 'black'\n",
    " ).generate(lemmatized_text)\n",
    "fig = plt.figure(\n",
    "    figsize = (40, 30),\n",
    "    facecolor = 'k',\n",
    "    edgecolor = 'k')\n",
    "plt.imshow(wordcloud_iefimerida_grel, interpolation = 'bilinear')\n",
    "plt.axis('off')\n",
    "plt.tight_layout(pad=0)"
   ]
  },
  {
   "cell_type": "code",
   "execution_count": null,
   "metadata": {},
   "outputs": [],
   "source": [
    "cv = CountVectorizer(stop_words= list(nlp.Defaults.stop_words), min_df=0.01, max_df=0.95)"
   ]
  },
  {
   "cell_type": "code",
   "execution_count": null,
   "metadata": {},
   "outputs": [],
   "source": [
    "count_vector = cv.fit_transform(iefimerida_grel[\"text\"])"
   ]
  },
  {
   "cell_type": "code",
   "execution_count": null,
   "metadata": {},
   "outputs": [],
   "source": [
    "iefimerida_grel_results = pd.DataFrame(count_vector.toarray(), columns=cv.get_feature_names_out()) "
   ]
  },
  {
   "cell_type": "code",
   "execution_count": null,
   "metadata": {},
   "outputs": [],
   "source": [
    "cv = CountVectorizer(stop_words= list(nlp.Defaults.stop_words), max_features=40, ngram_range=(2,2))\n",
    "count_vector = cv.fit_transform(iefimerida_grel[\"text\"])\n",
    "iefimerida_grel_bigrams = pd.DataFrame(count_vector.toarray(), columns=cv.get_feature_names_out()) "
   ]
  },
  {
   "cell_type": "code",
   "execution_count": null,
   "metadata": {},
   "outputs": [],
   "source": [
    "iefimerida_grel_bigrams.sum(axis =0).sort_values(ascending = False)"
   ]
  },
  {
   "cell_type": "code",
   "execution_count": null,
   "metadata": {},
   "outputs": [],
   "source": [
    "data = { \"κυριάκος μητσοτάκης\":           717,\n",
    "\"νέα δημοκρατία\" :               493,\n",
    "\"νέας δημοκρατίας\" :             414,\n",
    "\"21ης μαΐου\"     :               346,\n",
    "\"αλέξης τσίπρας\" :               329,\n",
    "\"αλέξη τσίπρα\"   :               271,\n",
    "\"τέσσερα χρόνια\"  :              251,\n",
    "\"πρόεδρος συριζα\" :              233,\n",
    "\"πασοκ κιναλ\"  :                 178,\n",
    "\"φίλες φίλοι\"    :               171,\n",
    "\"πρόεδρος πασοκ\" :               164,\n",
    "\"συριζα πς\"    :                 159,\n",
    "\"Νίκος Ανδρουλάκης\"  :           158,\n",
    "\"κυριάκου μητσοτάκη\" :           147,\n",
    "\"συριζα πασοκ\" :                 146,\n",
    "\"δισ ευρώ\"  :                    144,\n",
    "\"κυριάκο μητσοτάκη\" :            142,\n",
    "\"ελληνικός λαός\" :               137,\n",
    "\"κυβέρνηση ηττημένων\" :           137,\n",
    "\"Ανδρέα Παπανδρέου\"  :           131,\n",
    "\"21 μαΐου\" :                     129,\n",
    "\"απλή αναλογική\" :               118,\n",
    "\"νδ συριζα\" :                    116,\n",
    "\"αρείου πάγου\" :                  112,\n",
    "\"θέσεις εργασίας\" :               107,\n",
    "\"κυβέρνηση συνεργασίας\" :         106,\n",
    "\"ειδικού σκοπού\" :               103,\n",
    "\"Ελληνική Λύση\" :                101,\n",
    "\"αξιωματικής αντιπολίτευσης\" :     99,\n",
    "\"κυβερνητικός εκπρόσωπος\" :       96,\n",
    "\"Δημήτρης Κουτσούμπας\" :          96,\n",
    "\"πρόγραμμα συριζα\" :               94,\n",
    "\"ελληνικού λαού\" :                94,\n",
    "\"επενδυτική βαθμίδα\" :            93,\n",
    "\"ταμείο ανάκαμψης\" :              93\n",
    "}\n",
    "data[\"Νέα Δημοκρατία/Νέας Δημοκρατίας\"] = data.pop(\"νέας δημοκρατίας\") + data.pop(\"νέα δημοκρατία\")\n",
    "data['Κυριάκος Μητσοτάκης/Κυριάκου Μητσοτάκη/Κυριάκο Μητσοτάκη'] = data.pop('κυριάκος μητσοτάκης')  + data.pop('κυριάκου μητσοτάκη') + data.pop('κυριάκο μητσοτάκη')\n",
    "data['Αλέξης Τσίπρας/Αλέξη Τσίπρα'] = data.pop('αλέξης τσίπρας') + data.pop('αλέξη τσίπρα')\n",
    "df = pd.DataFrame(list(data.items()), columns=['Διγράμματα', 'Αναφορές'])\n",
    "\n",
    "df = df.sort_values(by='Αναφορές', ascending=False)\n",
    "\n",
    "plt.figure(figsize=(10, 8))\n",
    "plt.barh(df['Διγράμματα'], df['Αναφορές'], color='black', edgecolor= 'black')\n",
    "bars = plt.barh(df['Διγράμματα'], df['Αναφορές'], color='black', edgecolor= 'black')\n",
    "for bar in bars:\n",
    "    plt.text(\n",
    "        bar.get_width() + 2, bar.get_y() + bar.get_height() / 2,  \n",
    "        str(bar.get_width()),\n",
    "        va='center',\n",
    "        ha='left',  \n",
    "        color='red',\n",
    "        fontsize=10\n",
    "    )\n",
    "    \n",
    "plt.xlabel('Αναφορές')\n",
    "plt.ylabel('Διγράμματα')\n",
    "plt.xlim(0,1200)\n",
    "plt.title('Διγράμματα Εθνικών Εκλογών 2023 - Iefimerida')\n",
    "plt.gca().invert_yaxis() \n",
    "plt.show()\n"
   ]
  },
  {
   "cell_type": "code",
   "execution_count": null,
   "metadata": {},
   "outputs": [],
   "source": [
    "cv = CountVectorizer(stop_words= list(nlp.Defaults.stop_words), max_features=25, ngram_range=(3,5))\n",
    "count_vector = cv.fit_transform(iefimerida_grel[\"text\"])\n",
    "iefimerida_grel_polygrams = pd.DataFrame(count_vector.toarray(), columns=cv.get_feature_names_out()) "
   ]
  },
  {
   "cell_type": "code",
   "execution_count": null,
   "metadata": {},
   "outputs": [],
   "source": [
    "iefimerida_grel_polygrams.sum(axis =0).sort_values(ascending = False)"
   ]
  },
  {
   "cell_type": "code",
   "execution_count": null,
   "metadata": {},
   "outputs": [],
   "source": [
    "data = { \"εκλογές 21ης μαΐου\"   :               132,\n",
    "\"πασοκ κινήματος αλλαγής\"    :          90,\n",
    "\"πρωθυπουργός κυριάκος μητσοτάκης\" :    83,\n",
    "\"ΜέΡΑ25 συμμαχία ρήξη\"   :              80,\n",
    "\"Εθνικό Σύστημα Υγείας\"   :             69,\n",
    "\"κυβέρνηση Νέας Δημοκρατίας\" :          66,\n",
    "\"κυβέρνηση ειδικού σκοπού\" :            62,\n",
    "\"κάλπη 21ης μαΐου\"  :                   60,\n",
    "\"πρόεδρος συριζα πς\" :                  58,\n",
    "\"συριζα προοδευτική συμμαχία\"   :       58,\n",
    "\"κεντρικό δελτίο ειδήσεων\"  :           52,\n",
    "\"πρόεδρος πασοκ κιναλ\"   :              44,\n",
    "\"πρωθυπουργό κυριάκο μητσοτάκη\" :        43,\n",
    "\"εκλογών 21ης μαΐου\"  :                 42,\n",
    "\"πρόεδρος πασοκ κινήματος αλλαγής\" :    39,\n",
    "\"κάλπες 21ης μαΐου\"  :                  37,\n",
    "\"νέες θέσεις εργασίας\"  :               36,\n",
    "\"νδ συριζα πασοκ\" :                     36,\n",
    "\"συριζα αλέξης τσίπρας\"  :              35,\n",
    "\"κεντρικής επιτροπής KKE Δημήτρης Κουτσούμπας\" :              34,\n",
    "\"σταθερά τολμηρά μπροστά\" :            33,\n",
    "\"αυτοδύναμη Nέα Δημοκρατία\"  :          31,\n",
    "\"κυβερνητικός εκπρόσωπος Άκης Σκέρτσος\" :        30}\n",
    "\n",
    "data[\"πρόεδρος ΠΑΣΟΚ κινήματος αλλαγής\"] = data.pop(\"πρόεδρος πασοκ κιναλ\") + data.pop(\"πρόεδρος πασοκ κινήματος αλλαγής\")\n",
    "data[\"πρωθυπουργός Κυριάκος Μητσοτάκης\"] = data.pop(\"πρωθυπουργός κυριάκος μητσοτάκης\") + data.pop(\"πρωθυπουργό κυριάκο μητσοτάκη\")\n",
    "data[\"κάλπη 21ης μαΐου\"] = data.pop(\"κάλπη 21ης μαΐου\") + data.pop (\"κάλπες 21ης μαΐου\")\n",
    "df = pd.DataFrame(list(data.items()), columns=['Διγράμματα', 'Αναφορές'])\n",
    "\n",
    "df = df.sort_values(by='Αναφορές', ascending=False)\n",
    "\n",
    "plt.figure(figsize=(10, 8))\n",
    "plt.barh(df['Διγράμματα'], df['Αναφορές'], color='black', edgecolor= 'black')\n",
    "bars = plt.barh(df['Διγράμματα'], df['Αναφορές'], color='black', edgecolor= 'black')\n",
    "for bar in bars:\n",
    "    plt.text(\n",
    "        bar.get_width() + 2, bar.get_y() + bar.get_height() / 2,  \n",
    "        str(bar.get_width()),\n",
    "        va='center',\n",
    "        ha='left',  \n",
    "        color='red',\n",
    "        fontsize=10\n",
    "    )\n",
    "    \n",
    "plt.xlabel('Αναφορές')\n",
    "plt.ylabel('Διγράμματα')\n",
    "plt.xlim(0,200)\n",
    "plt.title('Πολυγράμματα Εθνικών Εκλογών 2023 - Iefimerida')\n",
    "plt.gca().invert_yaxis() \n",
    "plt.show()"
   ]
  },
  {
   "cell_type": "code",
   "execution_count": null,
   "metadata": {},
   "outputs": [],
   "source": [
    "iefimerida_Γενική_Αρθρογραφία = iefimerida_grel.loc[iefimerida_grel['κόμματα'] == 'Γενική Αρθρογραφία']\n",
    "iefimerida_ΝΔ = iefimerida_grel.loc[iefimerida_grel['κόμματα'] == 'ΝΔ']\n",
    "iefimerida_ΣΥΡΙΖΑ = iefimerida_grel.loc[iefimerida_grel['κόμματα'] == 'ΣΥΡΙΖΑ']\n",
    "iefimerida_ΠΑΣΟΚ = iefimerida_grel.loc[iefimerida_grel['κόμματα'] == 'ΠΑΣΟΚ']\n",
    "iefimerida_ΚΚΕ = iefimerida_grel.loc[iefimerida_grel['κόμματα'] == 'ΚΚΕ']\n",
    "iefimerida_ΜέΡΑ25 = iefimerida_grel.loc[iefimerida_grel['κόμματα'] == 'ΜέΡΑ25']\n",
    "iefimerida_Ακροδεξιά = iefimerida_grel.loc[iefimerida_grel['κόμματα'] == 'Ακροδεξιά']\n",
    "iefimerida_Ελληνική_Λύση = iefimerida_grel.loc[iefimerida_grel['κόμματα'] == 'Ελληνική Λύση']\n",
    "iefimerida_Εξωκοινοβουλευτική_Αριστερά = iefimerida_grel.loc[iefimerida_grel['κόμματα'] == 'Εξωκοινοβουλευτική Αριστερά']"
   ]
  },
  {
   "cell_type": "code",
   "execution_count": null,
   "metadata": {},
   "outputs": [],
   "source": [
    "cv = CountVectorizer(stop_words= list(nlp.Defaults.stop_words), max_features=40, ngram_range=(2,2))\n",
    "count_vector = cv.fit_transform(iefimerida_ΝΔ[\"text\"])\n",
    "iefimerida_grel_bigrams = pd.DataFrame(count_vector.toarray(), columns=cv.get_feature_names_out()) "
   ]
  },
  {
   "cell_type": "code",
   "execution_count": null,
   "metadata": {},
   "outputs": [],
   "source": [
    "iefimerida_ΝΔ_full_text = iefimerida_ΝΔ['text'].str.cat(sep = ' ')"
   ]
  },
  {
   "cell_type": "code",
   "execution_count": null,
   "metadata": {},
   "outputs": [],
   "source": [
    "iefimerida_ΝΔ_full_doc = nlp(iefimerida_ΝΔ_full_text)"
   ]
  },
  {
   "cell_type": "code",
   "execution_count": null,
   "metadata": {},
   "outputs": [],
   "source": [
    "cv = CountVectorizer(stop_words= list(nlp.Defaults.stop_words), max_features=30, ngram_range=(3,5))\n",
    "count_vector = cv.fit_transform(iefimerida_ΝΔ[\"text\"])\n",
    "iefimerida_ΝΔ_bigrams = pd.DataFrame(count_vector.toarray(), columns=cv.get_feature_names_out()) "
   ]
  },
  {
   "cell_type": "code",
   "execution_count": null,
   "metadata": {},
   "outputs": [],
   "source": [
    "iefimerida_ΝΔ_bigrams.sum(axis =0).sort_values(ascending = True)"
   ]
  },
  {
   "cell_type": "code",
   "execution_count": null,
   "metadata": {},
   "outputs": [],
   "source": [
    "data = {\"κυριάκος μητσοτάκης\":        620,\n",
    "\"νέα δημοκρατία\"  :           337,\n",
    "\"νέας δημοκρατίας\" :          290,\n",
    "\"τέσσερα χρόνια\"  :           180,\n",
    "\"21ης μαΐου\" :                174,\n",
    "\"φίλες φίλοι\":                161,\n",
    "\"δισ ευρώ\"   :                114,\n",
    "\"κυριάκου μητσοτάκη\"  :       113,\n",
    "\"θέσεις εργασίας\" :            95,\n",
    "\"κυβέρνηση ηττημένων\" :        83,\n",
    "\"επενδυτική βαθμίδα\":         81,\n",
    "\"νέα παιδιά\"      :            79,\n",
    "\"σύστημα υγείας\" :             75,\n",
    "\"Aλέξη Tσίπρα\"  :              74,\n",
    "\"κυβερνητικός εκπρόσωπος\":     67,\n",
    "\"ταμείο ανάκαμψης\" :           65,\n",
    "\"εθνικό σύστημα υγείας\"  :            62,\n",
    "\"κυριάκο μητσοτάκη\" :          61,\n",
    "\"21η μαΐου\" :                  61,\n",
    "\"προσωπική διαφορά\" :          58,\n",
    "\"Αντώνης Σρόιτερ\" :            58,\n",
    "\"Κατερίνα Καινούργιου\" :       55,\n",
    "\"απλή αναλογική\"  :            54,\n",
    "\"πρωτογενή τομέα\" :            53}\n",
    "\n",
    "data[\"Νέα Δημοκρατία/Νέας Δημοκρατίας\"] = data.pop(\"νέας δημοκρατίας\") + data.pop(\"νέα δημοκρατία\")\n",
    "data[\"Κυριάκος Μητσοτάκης/Κυριάκου Μητσοτάκη\"] = data.pop(\"κυριάκος μητσοτάκης\") + data.pop(\"κυριάκου μητσοτάκη\")\n",
    "\n",
    "df = pd.DataFrame(list(data.items()), columns=['Διγράμματα', 'Αναφορές'])\n",
    "df = df.sort_values(by='Αναφορές', ascending=False)\n",
    "\n",
    "plt.figure(figsize=(10, 8))\n",
    "plt.barh(df['Διγράμματα'], df['Αναφορές'], color='blue', edgecolor= 'black')\n",
    "bars = plt.barh(df['Διγράμματα'], df['Αναφορές'], color='blue', edgecolor= 'black')\n",
    "for bar in bars:\n",
    "    plt.text(\n",
    "        bar.get_width() + 2, bar.get_y() + bar.get_height() / 2,  \n",
    "        str(bar.get_width()),\n",
    "        va='center',\n",
    "        ha='left',  \n",
    "        color='black',\n",
    "        fontsize=10\n",
    "    )\n",
    "    \n",
    "plt.xlabel('Αναφορές')\n",
    "plt.ylabel('Διγράμματα')\n",
    "plt.xlim(0,1000)\n",
    "plt.title('Διγράμματα Εθνικών Εκλογών 2023- Νέα Δημοκρατία - Iefimerida')\n",
    "plt.gca().invert_yaxis() \n",
    "plt.show()"
   ]
  },
  {
   "cell_type": "code",
   "execution_count": null,
   "metadata": {},
   "outputs": [],
   "source": [
    "iefimerida_ΣΥΡΙΖΑ_full_text = iefimerida_ΣΥΡΙΖΑ['text'].str.cat(sep = ' ')"
   ]
  },
  {
   "cell_type": "code",
   "execution_count": null,
   "metadata": {},
   "outputs": [],
   "source": [
    "iefimerida_ΣΥΡΙΖΑ_full_doc = nlp(iefimerida_ΣΥΡΙΖΑ_full_text)"
   ]
  },
  {
   "cell_type": "code",
   "execution_count": null,
   "metadata": {},
   "outputs": [],
   "source": [
    "cv = CountVectorizer(stop_words= list(nlp.Defaults.stop_words), max_features=40, ngram_range=(2,5))\n",
    "count_vector = cv.fit_transform(iefimerida_ΣΥΡΙΖΑ[\"text\"])\n",
    "iefimerida_ΣΥΡΙΖΑ_bigrams = pd.DataFrame(count_vector.toarray(), columns=cv.get_feature_names_out()) "
   ]
  },
  {
   "cell_type": "code",
   "execution_count": null,
   "metadata": {},
   "outputs": [],
   "source": [
    "iefimerida_ΣΥΡΙΖΑ_bigrams.sum(axis =0).sort_values(ascending = False)"
   ]
  },
  {
   "cell_type": "code",
   "execution_count": null,
   "metadata": {},
   "outputs": [],
   "source": [
    "data = {\"Αλέξης Τσίπρας\" :             183,\n",
    "\"πρόεδρος ΣΥΡΙΖΑ\" :             167,\n",
    "\"συριζα πς\"  :                   134,\n",
    "\"αλέξη τσίπρα\" :                  85,\n",
    "\"μεσαία τάξη\" :                    56,\n",
    "\"τέσσερα χρόνια\" :                50,\n",
    "\"συριζα προοδευτική συμμαχία\" : 49,\n",
    "\"νίκη ΣΥΡΙΖΑ\"    :                46,\n",
    "\"Πόπη Τσαπανίδου\"   :             44,\n",
    "\"προοδευτική κυβέρνηση\"  :        40,\n",
    "\"Κυριάκο Μητσοτάκη\" :             40,\n",
    "\"κυβέρνηση Μητσοτάκη\" :           39,\n",
    "\"πρόγραμμα ΣΥΡΙΖΑ\" :             39,\n",
    "\"συμβόλαιο αλλαγής\"  :            34,\n",
    "\"ελληνικός λαός\"  :               33,\n",
    "\"21ης Μαΐου\"  :                   32,\n",
    "\"αξιωματικής αντιπολίτευσης\" :    30,\n",
    "\"απλή αναλογική\"   :              28,\n",
    "\"προοδευτικής συνεργασίας\" :       28,\n",
    "\"εθνικός λόγος\" :                 27,\n",
    "\"Τσίπρας είπε\" :                  27,\n",
    "\"Γιάνη Βαρουφάκη\" :               26,\n",
    "\"αύξηση μισθών\" :                 23,\n",
    "\"νέας δημοκρατίας\" :              23,\n",
    "\"νέα δημοκρατία\" :                23,\n",
    "\"Ανδρέα Παπανδρέου\" :             23,\n",
    "\"εκπρόσωπος τύπου ΣΥΡΙΖΑ\" :             23,\n",
    "\"μείωση τιμών\"  :                23,\n",
    "\"Χρυσή Αυγή\"  :                   22,\n",
    "\"πρώτης κατοικίας\" :             22,\n",
    "\"κυβέρνηση προοδευτικής συνεργασίας\"  :       22,\n",
    "}\n",
    "\n",
    "data[\"ΣΥΡΙΖΑ ΠΣ/ ΣΥΡΙΖΑ Προοδευτική Συμμαχία\"] = data.pop(\"συριζα πς\") + data.pop(\"συριζα προοδευτική συμμαχία\")\n",
    "data[\"Αλέξης Τσίπρας/Αλέξη Τσίπρα\"] = data.pop(\"Αλέξης Τσίπρας\") + data.pop(\"αλέξη τσίπρα\")\n",
    "data[\"Νέα Δημοκρατία/Νέας Δημοκρατίας\"] = data.pop(\"νέας δημοκρατίας\") + data.pop(\"νέα δημοκρατία\")\n",
    "df = pd.DataFrame(list(data.items()), columns=['Διγράμματα', 'Αναφορές'])\n",
    "df = df.sort_values(by='Αναφορές', ascending=False)\n",
    "\n",
    "plt.figure(figsize=(10, 8))\n",
    "plt.barh(df['Διγράμματα'], df['Αναφορές'], color='mediumpurple', edgecolor= 'black')\n",
    "bars = plt.barh(df['Διγράμματα'], df['Αναφορές'], color= 'mediumpurple', edgecolor= 'black')\n",
    "for bar in bars:\n",
    "    plt.text(\n",
    "        bar.get_width() + 2, bar.get_y() + bar.get_height() / 2,  \n",
    "        str(bar.get_width()),\n",
    "        va='center',\n",
    "        ha='left',  \n",
    "        color='black',\n",
    "        fontsize=10\n",
    "    )\n",
    "    \n",
    "plt.xlabel('Αναφορές')\n",
    "plt.ylabel('Διγράμματα/Πολυγράμματα')\n",
    "plt.xlim(0,300)\n",
    "plt.title('Διγράμματα/Πολυγράμματα Εθνικών Εκλογών 2023- ΣΥΡΙΖΑ ΠΣ - Iefimerida')\n",
    "plt.gca().invert_yaxis() \n",
    "plt.show()"
   ]
  },
  {
   "cell_type": "code",
   "execution_count": null,
   "metadata": {},
   "outputs": [],
   "source": [
    "iefimerida_ΠΑΣΟΚ_full_text = iefimerida_ΠΑΣΟΚ['text'].str.cat(sep = ' ')"
   ]
  },
  {
   "cell_type": "code",
   "execution_count": null,
   "metadata": {},
   "outputs": [],
   "source": [
    "iefimerida_ΠΑΣΟΚ_full_doc = nlp(iefimerida_ΠΑΣΟΚ_full_text)"
   ]
  },
  {
   "cell_type": "code",
   "execution_count": null,
   "metadata": {},
   "outputs": [],
   "source": [
    "cv = CountVectorizer(stop_words= list(nlp.Defaults.stop_words), max_features=30, ngram_range=(2,5))\n",
    "count_vector = cv.fit_transform(iefimerida_ΠΑΣΟΚ[\"text\"])\n",
    "iefimerida_ΠΑΣΟΚ_bigrams = pd.DataFrame(count_vector.toarray(), columns=cv.get_feature_names_out())"
   ]
  },
  {
   "cell_type": "code",
   "execution_count": null,
   "metadata": {},
   "outputs": [],
   "source": [
    "iefimerida_ΠΑΣΟΚ_bigrams.sum(axis =0).sort_values(ascending = False)"
   ]
  },
  {
   "cell_type": "code",
   "execution_count": null,
   "metadata": {},
   "outputs": [],
   "source": [
    "data = {\"πρόεδρος ΠΑΣΟΚ\"  :                    122,\n",
    "\"Νίκος Ανδρουλάκης\" :                  103,\n",
    "\"ΠΑΣΟΚ ΚΙΝΑΛ\"           :              79,\n",
    "\"ΠΑΣΟΚ Κινήματος Αλλαγής\" :             73,\n",
    "\"Νέα Δημοκρατία\"  :                     53,\n",
    "\"Ανδρέα Παπανδρέου\" :                   46,\n",
    "\"Νέας Δημοκρατίας\" :                    42,\n",
    "\"πρόεδρος ΠΑΣΟΚ Κινήματος Αλλαγής\" :    32,\n",
    "\"21 Μαΐου\"  :                           32,\n",
    "\"Αλέξη Τσίπρα\"  :                       32,\n",
    "\"ελληνικό λαό\"   :                      30,\n",
    "\"Πρόεδρος ΠΑΣΟΚ ΚΙΝΑΛ\" :                30,\n",
    "\"ελληνικού λαού\"  :                     30,\n",
    "\"Νίκου Ανδρουλάκη\" :                    29,\n",
    "\"Ανδρέας Παπανδρέου\"     :                    25,\n",
    "\"νέα γενιά\"         :                  23\n",
    "}\n",
    "\n",
    "data[\"Ανδρέας Παπανδρέου/Ανδρέα Παπανδρέου \"] = data.pop(\"Ανδρέας Παπανδρέου\") + data.pop(\"Ανδρέα Παπανδρέου\")\n",
    "data[\"Νέας Δημοκρατίας/Νέα Δημοκρατία\"] = data.pop(\"Νέα Δημοκρατία\") + data.pop(\"Νέας Δημοκρατίας\")\n",
    "data[\"Νίκος Ανδρουλάκης/Νίκου Ανδρουλάκη\"] = data.pop(\"Νίκος Ανδρουλάκης\") + data.pop(\"Νίκου Ανδρουλάκη\")\n",
    "df = pd.DataFrame(list(data.items()), columns=['Διγράμματα', 'Αναφορές'])\n",
    "df = df.sort_values(by='Αναφορές', ascending=False)\n",
    "\n",
    "plt.figure(figsize=(10, 8))\n",
    "plt.barh(df['Διγράμματα'], df['Αναφορές'], color='green', edgecolor= 'black')\n",
    "bars = plt.barh(df['Διγράμματα'], df['Αναφορές'], color= 'green', edgecolor= 'black')\n",
    "for bar in bars:\n",
    "    plt.text(\n",
    "        bar.get_width() + 2, bar.get_y() + bar.get_height() / 2,  \n",
    "        str(bar.get_width()),\n",
    "        va='center',\n",
    "        ha='left',  \n",
    "        color='black',\n",
    "        fontsize=10\n",
    "    )\n",
    "    \n",
    "plt.xlabel('Αναφορές')\n",
    "plt.ylabel('Διγράμματα/Πολυγράμματα')\n",
    "plt.xlim(0,200)\n",
    "plt.title('Διγράμματα/Πολυγράμματα Εθνικών Εκλογών 2023- ΠΑΣΟΚ-ΚΙΝΑΛ - Iefimerida')\n",
    "plt.gca().invert_yaxis() \n",
    "plt.show()"
   ]
  },
  {
   "cell_type": "code",
   "execution_count": null,
   "metadata": {},
   "outputs": [],
   "source": [
    "iefimerida_ΚΚΕ_full_text = iefimerida_ΚΚΕ['text'].str.cat(sep = ' ')"
   ]
  },
  {
   "cell_type": "code",
   "execution_count": null,
   "metadata": {},
   "outputs": [],
   "source": [
    "iefimerida_ΚΚΕ_full_doc = nlp(iefimerida_ΚΚΕ_full_text)"
   ]
  },
  {
   "cell_type": "code",
   "execution_count": null,
   "metadata": {},
   "outputs": [],
   "source": [
    "cv = CountVectorizer(stop_words= list(nlp.Defaults.stop_words), max_features=30, ngram_range=(2,5))\n",
    "count_vector = cv.fit_transform(iefimerida_ΚΚΕ[\"text\"])\n",
    "iefimerida_ΚΚΕ_bigrams = pd.DataFrame(count_vector.toarray(), columns=cv.get_feature_names_out())"
   ]
  },
  {
   "cell_type": "code",
   "execution_count": null,
   "metadata": {},
   "outputs": [],
   "source": [
    "iefimerida_ΚΚΕ_bigrams.sum(axis =0).sort_values(ascending = False)"
   ]
  },
  {
   "cell_type": "code",
   "execution_count": null,
   "metadata": {},
   "outputs": [],
   "source": [
    "data = {\"δημήτρης κουτσούμπας\"  :                59,\n",
    "\"ΝΔ ΣΥΡΙΖΑ\" :                                    45,\n",
    "\"ΣΥΡΙΖΑ ΠΑΣΟΚ\" :                                 35,\n",
    "\"κεντρικής επιτροπής\"  :                         35,\n",
    "\"ΝΔ ΣΥΡΙΖΑ ΠΑΣΟΚ\" :                              30,\n",
    "\"επιτροπής ΚΚΕ\" :                                30,\n",
    "\"γενικός γραμματέας κεντρικής επιτροπής ΚΚΕ\" :    30,\n",
    "\"κε ΚΚΕ\" :                                        21,\n",
    "\"δυνατό ΚΚΕ\" :                                   20,\n",
    "\"γενικός γραμματέας κεντρικής επιτροπής ΚΚΕ\" :    20,\n",
    "\"αντιλαϊκή κυβέρνηση\" :                          19,\n",
    "\"γγ ΚΕ\" :                                        17,\n",
    "\"ψήφος ΚΚΕ\"  :                                   16,\n",
    "\"ΝΔ ΠΑΣΟΚ\" :                                      15,\n",
    "\"δημήτρη κουτσούμπα\" :                           14,\n",
    "\"δυνατός λαός\" :                                 13\n",
    "}\n",
    "\n",
    "data[\"Δημήτρης Κουτσούμπας/Δημήτρη Κουτσούμπα \"] = data.pop(\"δημήτρης κουτσούμπας\") + data.pop(\"δημήτρη κουτσούμπα\")\n",
    "df = pd.DataFrame(list(data.items()), columns=['Διγράμματα/Πολυγράμματα', 'Αναφορές'])\n",
    "df = df.sort_values(by='Αναφορές', ascending=False)\n",
    "\n",
    "plt.figure(figsize=(10, 8))\n",
    "plt.barh(df['Διγράμματα/Πολυγράμματα'], df['Αναφορές'], color='red', edgecolor= 'black')\n",
    "bars = plt.barh(df['Διγράμματα/Πολυγράμματα'], df['Αναφορές'], color= 'red', edgecolor= 'black')\n",
    "for bar in bars:\n",
    "    plt.text(\n",
    "        bar.get_width() + 2, bar.get_y() + bar.get_height() / 2,  \n",
    "        str(bar.get_width()),\n",
    "        va='center',\n",
    "        ha='left',  \n",
    "        color='black',\n",
    "        fontsize=10\n",
    "    )\n",
    "    \n",
    "plt.xlabel('Αναφορές')\n",
    "plt.ylabel('Διγράμματα/Πολυγράμματα')\n",
    "plt.xlim(0,100)\n",
    "plt.title('Διγράμματα/Πολυγράμματα Εθνικών Εκλογών 2023- ΚΚΕ - Iefimerida')\n",
    "plt.gca().invert_yaxis() \n",
    "plt.show()\n",
    "\n"
   ]
  },
  {
   "cell_type": "code",
   "execution_count": null,
   "metadata": {},
   "outputs": [],
   "source": [
    "iefimerida_ΜέΡΑ25_full_text = iefimerida_ΜέΡΑ25['text'].str.cat(sep = ' ')"
   ]
  },
  {
   "cell_type": "code",
   "execution_count": null,
   "metadata": {},
   "outputs": [],
   "source": [
    "iefimerida_ΜέΡΑ25_full_doc = nlp(iefimerida_ΜέΡΑ25_full_text)"
   ]
  },
  {
   "cell_type": "code",
   "execution_count": null,
   "metadata": {},
   "outputs": [],
   "source": [
    "cv = CountVectorizer(stop_words= list(nlp.Defaults.stop_words), max_features=30, ngram_range=(2,5))\n",
    "count_vector = cv.fit_transform(iefimerida_ΜέΡΑ25[\"text\"])\n",
    "iefimerida_ΜέΡΑ25_bigrams = pd.DataFrame(count_vector.toarray(), columns=cv.get_feature_names_out())"
   ]
  },
  {
   "cell_type": "code",
   "execution_count": null,
   "metadata": {},
   "outputs": [],
   "source": [
    "iefimerida_ΜέΡΑ25_bigrams.sum(axis =0).sort_values(ascending = False)"
   ]
  },
  {
   "cell_type": "code",
   "execution_count": null,
   "metadata": {},
   "outputs": [],
   "source": [
    "\n",
    "\n",
    "data = {                \n",
    "\"ΜέΡΑ25 συμμαχία ρήξη\" :                   80,\n",
    "\"σχέδιο Δήμητρα\" :                    34,\n",
    "\"γιάνης βαρουφάκης\" :                 26,\n",
    "\"επικεφαλής ΜέΡΑ25\" :                 22,\n",
    "\"ΣΥΡΙΖΑ ΠΑΣΟΚ\"  :                     21,\n",
    "\"γιάνη βαρουφάκη\"  :                17,\n",
    "\"επικεφαλής ΜέΡΑ25 συμμαχία ρήξη\" :  16,\n",
    "\"ΜέΡΑ25\" :                           15,\n",
    "\"χρηματιστήριο ενέργειας\"  :          14,\n",
    "\"κλείσουν τράπεζες\" :                 13,\n",
    "\"σύστημα Δήμητρα\" :                    13,\n",
    "\"κόκκινα δάνεια\"  :                   13,\n",
    "\"απλή αναλογική\" :                    12\n",
    "}\n",
    "\n",
    "data[\"Γιάνης Βαρουφάκης/Γιάνη Βαρουφάκη\"] = data.pop(\"γιάνης βαρουφάκης\") + data.pop(\"γιάνη βαρουφάκη\")\n",
    "df = pd.DataFrame(list(data.items()), columns=['Διγράμματα/Πολυγράμματα', 'Αναφορές'])\n",
    "df = df.sort_values(by='Αναφορές', ascending=False)\n",
    "\n",
    "plt.figure(figsize=(10, 8))\n",
    "plt.barh(df['Διγράμματα/Πολυγράμματα'], df['Αναφορές'], color='orange', edgecolor= 'black')\n",
    "bars = plt.barh(df['Διγράμματα/Πολυγράμματα'], df['Αναφορές'], color= 'orange', edgecolor= 'black')\n",
    "for bar in bars:\n",
    "    plt.text(\n",
    "        bar.get_width() + 2, bar.get_y() + bar.get_height() / 2,  \n",
    "        str(bar.get_width()),\n",
    "        va='center',\n",
    "        ha='left',  \n",
    "        color='black',\n",
    "        fontsize=10\n",
    "    )\n",
    "    \n",
    "plt.xlabel('Αναφορές')\n",
    "plt.ylabel('Διγράμματα/Πολυγράμματα')\n",
    "plt.xlim(0,100)\n",
    "plt.title('Διγράμματα/Πολυγράμματα Εθνικών Εκλογών 2023- ΜέΡΑ25 - Iefimerida')\n",
    "plt.gca().invert_yaxis() \n",
    "plt.show()"
   ]
  },
  {
   "cell_type": "code",
   "execution_count": null,
   "metadata": {},
   "outputs": [],
   "source": [
    "filepath = \"https://raw.githubusercontent.com/datajour-gr/DataJournalism/main/Bachelor%20Lessons%202023/Lesson%2010/NRC_GREEK_Translated_6_2020.csv\""
   ]
  },
  {
   "cell_type": "code",
   "execution_count": null,
   "metadata": {},
   "outputs": [],
   "source": [
    "emolex_df = pd.read_csv(filepath)"
   ]
  },
  {
   "cell_type": "code",
   "execution_count": null,
   "metadata": {},
   "outputs": [],
   "source": [
    "emolex_df = emolex_df.drop_duplicates(subset=['word'])\n",
    "emolex_df = emolex_df.dropna()\n",
    "emolex_df.reset_index(inplace = True, drop=True)"
   ]
  },
  {
   "cell_type": "code",
   "execution_count": null,
   "metadata": {},
   "outputs": [],
   "source": [
    "vec = CountVectorizer(analyzer = 'word', vocabulary = emolex_df.word,\n",
    "                      lowercase=False, \n",
    "                      strip_accents = 'unicode',  \n",
    "                      stop_words= list(nlp.Defaults.stop_words),\n",
    "                      ngram_range=(1, 2))"
   ]
  },
  {
   "cell_type": "code",
   "execution_count": null,
   "metadata": {},
   "outputs": [],
   "source": []
  },
  {
   "cell_type": "raw",
   "metadata": {},
   "source": [
    "matrix = vec.fit_transform(iefimerida_grel[\"title\"])\n",
    "vocab = vec.get_feature_names_out()\n",
    "wordcount_df = pd.DataFrame(matrix.toarray(), columns=vocab)"
   ]
  },
  {
   "cell_type": "raw",
   "metadata": {},
   "source": [
    "positive_words = emolex_df[emolex_df.Positive == 1]['word']"
   ]
  },
  {
   "cell_type": "raw",
   "metadata": {},
   "source": [
    "negative_words = emolex_df[emolex_df.Negative == 1]['word']"
   ]
  },
  {
   "cell_type": "raw",
   "metadata": {},
   "source": [
    "iefimerida_grel['positive_title'] = wordcount_df[positive_words].sum(axis=1)"
   ]
  },
  {
   "cell_type": "raw",
   "metadata": {},
   "source": [
    "iefimerida_grel['negative_title'] = wordcount_df[negative_words].sum(axis=1)"
   ]
  },
  {
   "cell_type": "raw",
   "metadata": {},
   "source": [
    "iefimerida_grel['pos/neg_title'] = iefimerida_grel['positive_title'] - iefimerida_grel['negative_title']"
   ]
  },
  {
   "cell_type": "raw",
   "metadata": {},
   "source": [
    "matrix = vec.fit_transform(iefimerida_grel[\"title\"])\n",
    "vocab = vec.get_feature_names_out()\n",
    "wordcount_df = pd.DataFrame(matrix.toarray(), columns=vocab)"
   ]
  },
  {
   "cell_type": "raw",
   "metadata": {},
   "source": [
    "matrix = vec.fit_transform(iefimerida_grel[\"text\"])\n",
    "vocab = vec.get_feature_names_out()\n",
    "wordcount_df = pd.DataFrame(matrix.toarray(), columns=vocab)"
   ]
  },
  {
   "cell_type": "raw",
   "metadata": {},
   "source": [
    "iefimerida_grel['positive_text'] = wordcount_df[positive_words].sum(axis=1)"
   ]
  },
  {
   "cell_type": "raw",
   "metadata": {},
   "source": [
    "iefimerida_grel['negative_text'] = wordcount_df[negative_words].sum(axis=1)"
   ]
  },
  {
   "cell_type": "raw",
   "metadata": {},
   "source": [
    "iefimerida_grel['pos/neg_text'] = iefimerida_grel['positive_text'] - iefimerida_grel['negative_text']"
   ]
  },
  {
   "cell_type": "raw",
   "metadata": {},
   "source": [
    "iefimerida_grel['pos/neg_text'].mean()"
   ]
  },
  {
   "cell_type": "raw",
   "metadata": {},
   "source": [
    "iefimerida_ΝΔ['pos/neg_text'].mean()"
   ]
  },
  {
   "cell_type": "raw",
   "metadata": {},
   "source": [
    "iefimerida_ΣΥΡΙΖΑ['pos/neg_text'].mean()"
   ]
  },
  {
   "cell_type": "code",
   "execution_count": null,
   "metadata": {},
   "outputs": [],
   "source": [
    "iefimerida_ΠΑΣΟΚ['pos/neg_text'].median()"
   ]
  },
  {
   "cell_type": "code",
   "execution_count": null,
   "metadata": {},
   "outputs": [],
   "source": [
    "iefimerida_ΚΚΕ['pos/neg_text'].median()"
   ]
  },
  {
   "cell_type": "code",
   "execution_count": null,
   "metadata": {},
   "outputs": [],
   "source": [
    "iefimerida_ΜέΡΑ25['pos/neg_text'].median()"
   ]
  },
  {
   "cell_type": "code",
   "execution_count": null,
   "metadata": {},
   "outputs": [],
   "source": [
    "iefimerida_Ακροδεξιά['pos/neg_text'].mean()"
   ]
  },
  {
   "cell_type": "code",
   "execution_count": null,
   "metadata": {},
   "outputs": [],
   "source": [
    "iefimerida_grel['pos/neg_title'].mean()"
   ]
  },
  {
   "cell_type": "code",
   "execution_count": null,
   "metadata": {},
   "outputs": [],
   "source": [
    "iefimerida_ΝΔ['pos/neg_title'].mean()"
   ]
  },
  {
   "cell_type": "code",
   "execution_count": null,
   "metadata": {},
   "outputs": [],
   "source": [
    "iefimerida_ΣΥΡΙΖΑ['pos/neg_title'].mean()"
   ]
  },
  {
   "cell_type": "code",
   "execution_count": null,
   "metadata": {},
   "outputs": [],
   "source": [
    "iefimerida_ΠΑΣΟΚ['pos/neg_title'].mean()"
   ]
  },
  {
   "cell_type": "code",
   "execution_count": null,
   "metadata": {},
   "outputs": [],
   "source": [
    "iefimerida_ΚΚΕ['pos/neg_title'].mean().round(2)"
   ]
  },
  {
   "cell_type": "code",
   "execution_count": null,
   "metadata": {},
   "outputs": [],
   "source": [
    "iefimerida_ΜέΡΑ25['pos/neg_title'].mean().round(2)"
   ]
  },
  {
   "cell_type": "code",
   "execution_count": null,
   "metadata": {},
   "outputs": [],
   "source": [
    "iefimerida_Ακροδεξιά['pos/neg_title'].mean()"
   ]
  },
  {
   "cell_type": "code",
   "execution_count": null,
   "metadata": {},
   "outputs": [],
   "source": [
    "iefimerida_grel.shape\n"
   ]
  },
  {
   "cell_type": "code",
   "execution_count": null,
   "metadata": {},
   "outputs": [],
   "source": [
    "iefimerida_Γενική_Αρθρογραφία.shape\n"
   ]
  },
  {
   "cell_type": "code",
   "execution_count": null,
   "metadata": {},
   "outputs": [],
   "source": [
    "iefimerida_ΝΔ.shape\n"
   ]
  },
  {
   "cell_type": "code",
   "execution_count": null,
   "metadata": {},
   "outputs": [],
   "source": [
    "iefimerida_ΣΥΡΙΖΑ.shape\n"
   ]
  },
  {
   "cell_type": "code",
   "execution_count": null,
   "metadata": {},
   "outputs": [],
   "source": [
    "iefimerida_ΠΑΣΟΚ.shape\n"
   ]
  },
  {
   "cell_type": "code",
   "execution_count": null,
   "metadata": {},
   "outputs": [],
   "source": [
    "iefimerida_ΚΚΕ.shape\n"
   ]
  },
  {
   "cell_type": "code",
   "execution_count": null,
   "metadata": {},
   "outputs": [],
   "source": [
    "iefimerida_ΜέΡΑ25.shape\n"
   ]
  },
  {
   "cell_type": "code",
   "execution_count": null,
   "metadata": {},
   "outputs": [],
   "source": [
    "iefimerida_Ακροδεξιά.shape \n"
   ]
  },
  {
   "cell_type": "code",
   "execution_count": null,
   "metadata": {},
   "outputs": [],
   "source": [
    "iefimerida_Ελληνική_Λύση.shape\n"
   ]
  },
  {
   "cell_type": "code",
   "execution_count": null,
   "metadata": {},
   "outputs": [],
   "source": [
    "iefimerida_Εξωκοινοβουλευτική_Αριστερά.shape"
   ]
  },
  {
   "cell_type": "code",
   "execution_count": null,
   "metadata": {},
   "outputs": [],
   "source": [
    "from pywaffle import Waffle\n",
    "\n",
    "parties = ['Νέα Δημοκρατία', 'ΣΥΡΙΖΑ', 'ΠΑΣΟΚ', 'ΚΚΕ', 'ΜέΡΑ25', 'Ακροδεξιά', 'Ελληνική Λύση', 'Γενική Αρθρογραφία', 'Εξωκοινοβουλευτική Αριστερά']\n",
    "post_counts = [402, 206, 110, 50, 47, 38, 20, 132, 2]\n",
    "\n",
    "total_posts = sum(post_counts)\n",
    "percentages = [count / total_posts * 100 for count in post_counts]\n",
    "\n",
    "colors = ['blue', 'mediumpurple', 'green', 'red', 'darkorange', 'darkseagreen', 'lightsteelblue', 'grey', 'fuchsia']\n",
    "\n",
    "data = {f\"{party} ({count}, {percentage:.1f}%)\": count for party, count, percentage in zip(parties, post_counts, percentages)}\n",
    "\n",
    "fig = plt.figure(\n",
    "    FigureClass=Waffle, \n",
    "    rows=25,  # Adjust the number of rows to change the size of squares\n",
    "    values=data, \n",
    "    colors=colors, \n",
    "    legend={'loc': 'upper left', 'bbox_to_anchor': (1, 1), 'fontsize': 10, 'title': 'Κόμματα'},\n",
    "    title={'label': 'Σύνολο και Ποσοστά δημοσιευμάτων για τα κόμματα - Iefimerida', 'loc': 'center', 'fontsize': 16},\n",
    "    block_arranging_style='snake',  # Arranges the blocks in a snake style\n",
    "    figsize=(14, 12)\n",
    ")\n",
    "\n",
    "plt.show()\n"
   ]
  },
  {
   "cell_type": "code",
   "execution_count": null,
   "metadata": {},
   "outputs": [],
   "source": [
    "means = {\n",
    "    'ΝΔ': {\n",
    "        'Πολικότητα Κειμένων': iefimerida_ΝΔ['pos/neg_text'].median().round(2),\n",
    "        'Πολικότητα Τίτλων': iefimerida_ΝΔ['pos/neg_title'].median().round(2)\n",
    "    },\n",
    "    'ΣΥΡΙΖΑ': {\n",
    "        'Πολικότητα Κειμένων': iefimerida_ΣΥΡΙΖΑ['pos/neg_text'].median().round(2),\n",
    "        'Πολικότητα Τίτλων': iefimerida_ΣΥΡΙΖΑ['pos/neg_title'].median().round(2)\n",
    "    },\n",
    "    'ΠΑΣΟΚ': {\n",
    "        'Πολικότητα Κειμένων': iefimerida_ΠΑΣΟΚ['pos/neg_text'].median().round(2),\n",
    "        'Πολικότητα Τίτλων': iefimerida_ΠΑΣΟΚ['pos/neg_title'].median().round(2)\n",
    "    },\n",
    "    'ΚΚΕ': {\n",
    "        'Πολικότητα Κειμένων': iefimerida_ΚΚΕ['pos/neg_text'].median().round(2),\n",
    "        'Πολικότητα Τίτλων': iefimerida_ΚΚΕ['pos/neg_title'].median().round(2)\n",
    "    },\n",
    "    'ΜέΡΑ25': {\n",
    "        'Πολικότητα Κειμένων': iefimerida_ΜέΡΑ25['pos/neg_text'].median().round(2),\n",
    "        'Πολικότητα Τίτλων': iefimerida_ΜέΡΑ25['pos/neg_title'].median().round(2)\n",
    "    },\n",
    "    'Ακροδεξιά': {\n",
    "        'Πολικότητα Κειμένων': iefimerida_Ακροδεξιά['pos/neg_text'].median().round(2),\n",
    "        'Πολικότητα Τίτλων': iefimerida_Ακροδεξιά['pos/neg_title'].median().round(2)\n",
    "    },\n",
    "    'Ελληνική Λύση': {\n",
    "        'Πολικότητα Κειμένων': iefimerida_Ελληνική_Λύση['pos/neg_text'].median().round(2),\n",
    "        'Πολικότητα Τίτλων': iefimerida_Ελληνική_Λύση['pos/neg_title'].median().round(2)\n",
    "    }\n",
    "}\n",
    "\n",
    "\n",
    "means_df = pd.DataFrame(means).T \n",
    "\n",
    "\n",
    "color_map = {\n",
    "    'ΝΔ': 'blue',\n",
    "    'ΣΥΡΙΖΑ': 'mediumpurple',\n",
    "    'ΠΑΣΟΚ': 'green',\n",
    "    'ΚΚΕ': 'red',\n",
    "    'ΜέΡΑ25': 'darkorange',\n",
    "    'Ακροδεξιά': 'darkseagreen',\n",
    "    'Ελληνική Λύση': 'lightblue'\n",
    "}\n",
    "\n",
    "new_col_titles = ['Πολικότητα Κειμένων', 'Πολικότητα Τίτλων']\n",
    "\n",
    "\n",
    "fig, ax = plt.subplots(figsize=(14, 8))\n",
    "\n",
    "ax.xaxis.set_visible(False)\n",
    "ax.yaxis.set_visible(False)\n",
    "ax.set_frame_on(False)\n",
    "\n",
    "table = ax.table(cellText=means_df.values,\n",
    "                 rowLabels=means_df.index,\n",
    "                 colLabels=new_col_titles,\n",
    "                 cellLoc='center',\n",
    "                 loc='center',\n",
    "                 colColours=['lightgrey'] * len(new_col_titles),\n",
    "                 rowColours=['white'] * len(means_df.index))  \n",
    "\n",
    "\n",
    "for i, label in enumerate(means_df.index):\n",
    "    row_color = color_map.get(label, 'white')  \n",
    "    for j in range(len(new_col_titles)):\n",
    "        table[(i + 1, j)].set_facecolor(row_color)  \n",
    "\n",
    "table.auto_set_font_size(False)\n",
    "table.set_fontsize(14)  \n",
    "table.scale(1.5,3)   \n"
   ]
  },
  {
   "cell_type": "code",
   "execution_count": null,
   "metadata": {},
   "outputs": [],
   "source": [
    "short_df = iefimerida_grel[[\"title\",\"Conflict\"]]"
   ]
  },
  {
   "cell_type": "code",
   "execution_count": null,
   "metadata": {},
   "outputs": [],
   "source": [
    "short_df\n"
   ]
  },
  {
   "cell_type": "code",
   "execution_count": null,
   "metadata": {},
   "outputs": [],
   "source": [
    "import re\n",
    "\n",
    "frames = {\n",
    "    'Σύγκρουση': [\n",
    "        'κόντρα', 'VS', 'μάχη', 'επίθεση', 'αντιπαράθεση', '«σφάχτηκαν»', '«επιτίθεται»', \"ή\", \"δίλημμα\",\n",
    "        '«πυρά»', '«Πυρά»','πυρά', 'Πυρά', 'μπηχτή', 'μεταξύ', 'σύγκρουση', '«σκοτωμός»', 'απαντά', '«σπόντα»',\n",
    "        '«μάχης»', 'μια πλευρά', 'Μητσοτάκη-Τσίπρα', 'απάντηση', 'καυγά', 'αίμα', 'απαντάμε',\n",
    "        'διαφορά', 'έναντι', 'σύγκριση', 'κατά', 'εναντίον','προβάδισμα', 'Μητσοτάκης-Τσίπρας', 'ΝΔ-ΣΥΡΙΖΑ' 'ΝΔ - ΣΥΡΙΖΑ',\n",
    "    ]\n",
    "}\n",
    "\n",
    "def detect_conflict_frames(title, frames):\n",
    "    conflict_keywords = frames['Σύγκρουση']\n",
    "    \n",
    "    pattern = r'\\b(?:' + '|'.join(map(re.escape, conflict_keywords)) + r')\\b'\n",
    "\n",
    "    return bool(re.search(pattern, title))\n",
    "\n",
    "\n",
    "iefimerida_grel['Conflict'] = iefimerida_grel['title'].apply(lambda x: 1 if detect_conflict_frames(x, frames) else 0)\n",
    "\n",
    "\n"
   ]
  },
  {
   "cell_type": "code",
   "execution_count": null,
   "metadata": {},
   "outputs": [],
   "source": [
    "iefimerida_grel['Conflict'].value_counts()"
   ]
  },
  {
   "cell_type": "code",
   "execution_count": null,
   "metadata": {},
   "outputs": [],
   "source": [
    "iefimerida_grel.shape"
   ]
  },
  {
   "cell_type": "code",
   "execution_count": null,
   "metadata": {},
   "outputs": [],
   "source": [
    "11.62"
   ]
  },
  {
   "cell_type": "code",
   "execution_count": null,
   "metadata": {},
   "outputs": [],
   "source": []
  },
  {
   "cell_type": "code",
   "execution_count": null,
   "metadata": {},
   "outputs": [],
   "source": []
  },
  {
   "cell_type": "code",
   "execution_count": null,
   "metadata": {},
   "outputs": [],
   "source": []
  },
  {
   "cell_type": "code",
   "execution_count": null,
   "metadata": {},
   "outputs": [],
   "source": []
  },
  {
   "cell_type": "code",
   "execution_count": null,
   "metadata": {},
   "outputs": [],
   "source": []
  }
 ],
 "metadata": {
  "colab": {
   "provenance": []
  },
  "kernelspec": {
   "display_name": "Python 3 (ipykernel)",
   "language": "python",
   "name": "python3"
  },
  "language_info": {
   "codemirror_mode": {
    "name": "ipython",
    "version": 3
   },
   "file_extension": ".py",
   "mimetype": "text/x-python",
   "name": "python",
   "nbconvert_exporter": "python",
   "pygments_lexer": "ipython3",
   "version": "3.12.4"
  }
 },
 "nbformat": 4,
 "nbformat_minor": 4
}
