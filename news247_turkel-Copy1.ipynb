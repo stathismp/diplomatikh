{
 "cells": [
  {
   "cell_type": "code",
   "execution_count": null,
   "metadata": {
    "id": "Kq_YhyTAz5t7"
   },
   "outputs": [],
   "source": [
    "import requests\n",
    "from bs4 import BeautifulSoup\n",
    "import pandas as pd\n",
    "import time\n",
    "import numpy as np\n",
    "import matplotlib.pyplot as plt\n",
    "import spacy\n",
    "from wordcloud import WordCloud\n",
    "import seaborn as sns"
   ]
  },
  {
   "cell_type": "code",
   "execution_count": null,
   "metadata": {},
   "outputs": [],
   "source": [
    "news247_turkel.shape"
   ]
  },
  {
   "cell_type": "code",
   "execution_count": null,
   "metadata": {
    "colab": {
     "base_uri": "https://localhost:8080/"
    },
    "id": "4G2BV-iiXnMw",
    "outputId": "44ca9451-70d4-4fb0-f8ee-36542cafb3f8"
   },
   "outputs": [],
   "source": [
    "from google.colab import drive\n",
    "drive.mount('/content/drive')"
   ]
  },
  {
   "cell_type": "code",
   "execution_count": null,
   "metadata": {
    "colab": {
     "base_uri": "https://localhost:8080/"
    },
    "id": "pMoIMSbVz8Rp",
    "outputId": "49601af1-a986-4bae-e668-27712bf70e2a"
   },
   "outputs": [],
   "source": [
    "urls = []\n",
    "base_url = \"https://www.news247.gr/tag/ekloges-stin-toyrkia/page/\"\n",
    "\n",
    "for page_num in range(1,2):\n",
    "    url = base_url + str(page_num)\n",
    "    response = requests.get(url)\n",
    "    soup = BeautifulSoup(response.text, 'html.parser')\n",
    "    articles = soup.find_all('article')\n",
    "\n",
    "    for article in articles:\n",
    "        article_url = article.find('a')['href']\n",
    "        if \"erntogan\" or \"ntemirtas\" or \"tourkia\" or \"tourkoi\" or \"kilitsntaroglou\" in article_url and \"2024\" not in article_url and \"kaiadas\" not in article_url and \"meloni\" not in article_url and \"politiki\" not in article_url and \"ellada\" not in article_url:\n",
    "          urls.append(article_url)\n",
    "\n",
    "\n",
    "print(urls)"
   ]
  },
  {
   "cell_type": "code",
   "execution_count": null,
   "metadata": {
    "colab": {
     "base_uri": "https://localhost:8080/"
    },
    "id": "xkFrnKpp4oZe",
    "outputId": "a5892b5c-cc8a-49ac-f4ef-2702793046e7"
   },
   "outputs": [],
   "source": [
    "len(urls)"
   ]
  },
  {
   "cell_type": "code",
   "execution_count": null,
   "metadata": {
    "colab": {
     "base_uri": "https://localhost:8080/"
    },
    "id": "gqLUFPgKESap",
    "outputId": "d67ceefd-a2a4-40e3-99b0-081b884598a3"
   },
   "outputs": [],
   "source": [
    "def scrape_page (page_num, limit=24):\n",
    "    base_url = f\"https://www.news247.gr/tag/ekloges-stin-toyrkia/page/1\"\n",
    "    response = requests.get(base_url)\n",
    "    soup = BeautifulSoup(response.text, 'html.parser')\n",
    "    articles = soup.find_all('article')\n",
    "\n",
    "    urls = []\n",
    "    count = 0\n",
    "    for article in articles:\n",
    "        if count >= limit:\n",
    "            break\n",
    "        article_url = article.find('a')['href']\n",
    "        urls.append(article_url)\n",
    "        count += 1\n",
    "\n",
    "    return urls\n",
    "\n",
    "page_1_urls = scrape_page(1, limit=24)\n",
    "print(page_1_urls)\n",
    "\n",
    "\n"
   ]
  },
  {
   "cell_type": "code",
   "execution_count": null,
   "metadata": {
    "colab": {
     "base_uri": "https://localhost:8080/"
    },
    "id": "ynDj1DtPF5iU",
    "outputId": "a1901bba-f267-46c0-949d-c94970739ac2"
   },
   "outputs": [],
   "source": [
    "page_1_urls"
   ]
  },
  {
   "cell_type": "code",
   "execution_count": null,
   "metadata": {
    "colab": {
     "base_uri": "https://localhost:8080/"
    },
    "id": "ckpTHAkMGBDa",
    "outputId": "eb1abea6-0e5f-4b09-8d98-de00ba799041"
   },
   "outputs": [],
   "source": [
    "def scrape_page (page_num, limit=24):\n",
    "    base_url = f\"https://www.news247.gr/tag/ekloges-stin-toyrkia/page/2\"\n",
    "    response = requests.get(base_url)\n",
    "    soup = BeautifulSoup(response.text, 'html.parser')\n",
    "    articles = soup.find_all('article')\n",
    "\n",
    "    urls = []\n",
    "    count = 0\n",
    "    for article in articles:\n",
    "        if count >= limit:\n",
    "            break\n",
    "        article_url = article.find('a')['href']\n",
    "        urls.append(article_url)\n",
    "        count += 1\n",
    "\n",
    "    return urls\n",
    "\n",
    "# Scrape page 1 with a limit of 24 articles\n",
    "page_2_urls = scrape_page(2, limit=24)\n",
    "print(page_2_urls)\n"
   ]
  },
  {
   "cell_type": "code",
   "execution_count": null,
   "metadata": {
    "colab": {
     "base_uri": "https://localhost:8080/"
    },
    "id": "_FU6OvaxGMVZ",
    "outputId": "c9a64c76-d96b-4163-9884-d2e343cc4653"
   },
   "outputs": [],
   "source": [
    "page_2_urls"
   ]
  },
  {
   "cell_type": "code",
   "execution_count": null,
   "metadata": {
    "colab": {
     "base_uri": "https://localhost:8080/"
    },
    "id": "3_yj9-iZGRK7",
    "outputId": "6b3e09af-76b3-4bee-aee0-b02ac8ac9ff4"
   },
   "outputs": [],
   "source": [
    "def scrape_page(page_num, limit=24):\n",
    "    base_url = f\"https://www.news247.gr/tag/ekloges-stin-toyrkia/page/{page_num}\"\n",
    "    response = requests.get(base_url)\n",
    "    soup = BeautifulSoup(response.text, 'html.parser')\n",
    "    articles = soup.find_all('article')\n",
    "\n",
    "    urls = []\n",
    "    count = 0\n",
    "    for article in articles:\n",
    "        if count >= limit:\n",
    "            break\n",
    "        article_url = article.find('a')['href']\n",
    "        urls.append(article_url)\n",
    "        count += 1\n",
    "\n",
    "    return urls\n",
    "\n",
    "\n",
    "all_urls = []\n",
    "for page_num in range(1, 9):\n",
    "    page_urls = scrape_page(page_num, limit=24)\n",
    "    all_urls.extend(page_urls)\n",
    "\n",
    "print(all_urls)\n"
   ]
  },
  {
   "cell_type": "code",
   "execution_count": null,
   "metadata": {
    "colab": {
     "base_uri": "https://localhost:8080/"
    },
    "id": "vZm2MzOAIUBy",
    "outputId": "81a913e5-9621-48b3-b8f1-170efb10c65d"
   },
   "outputs": [],
   "source": [
    "len(all_urls)\n"
   ]
  },
  {
   "cell_type": "code",
   "execution_count": null,
   "metadata": {
    "id": "f4p7TcWmIbfT"
   },
   "outputs": [],
   "source": [
    "news247_turkel = pd.DataFrame(all_urls)"
   ]
  },
  {
   "cell_type": "code",
   "execution_count": null,
   "metadata": {
    "id": "AVWWUR3iJahk"
   },
   "outputs": [],
   "source": [
    "news247_turkel = news247_turkel.rename(columns={0: 'URLs'})"
   ]
  },
  {
   "cell_type": "code",
   "execution_count": null,
   "metadata": {
    "colab": {
     "base_uri": "https://localhost:8080/",
     "height": 423
    },
    "id": "EMjHUmC2JTz7",
    "outputId": "39ebf245-9ce3-4087-ab47-f6ef331a26f2"
   },
   "outputs": [],
   "source": [
    "news247_turkel"
   ]
  },
  {
   "cell_type": "code",
   "execution_count": null,
   "metadata": {
    "colab": {
     "base_uri": "https://localhost:8080/"
    },
    "id": "CW7nylv5JrGQ",
    "outputId": "4cd06267-39b6-4586-c367-5eed7a1fe1eb"
   },
   "outputs": [],
   "source": [
    "full_articles_list = []\n",
    "titles = []\n",
    "\n",
    "for index, article_url in enumerate(news247_turkel['url']):\n",
    "  try:\n",
    "\n",
    "        response = requests.get(article_url)\n",
    "        soup = BeautifulSoup(response.text, 'html.parser')\n",
    "\n",
    "        full_article_dict = {}\n",
    "        full_article_dict['site'] = \"news247.gr\"\n",
    "        full_article_dict['url'] = article_url\n",
    "\n",
    "\n",
    "        title_tag = soup.find('h1', {\"class\": \"single_article__title article__small_title article__title\"})\n",
    "        title = title_tag.text.strip() if title_tag else 'No Title Found'\n",
    "        full_article_dict['title'] = title\n",
    "\n",
    "\n",
    "        category_tag = soup.find(\"a\", {\"title\": True})\n",
    "        category = category_tag['title'].strip() if category_tag else 'No Category Found'\n",
    "        full_article_dict['category'] = category\n",
    "\n",
    "        author_tag = soup.find(\"span\", {\"class\": \"post__author\"})\n",
    "        author = author_tag.text.strip() if author_tag else 'No Author Found'\n",
    "        full_article_dict['author'] = author\n",
    "\n",
    "        datetime_tag = soup.find(\"li\", {\"class\": \"article__date s-font\"})\n",
    "        datetime = datetime_tag.text.strip() if datetime_tag else 'No Date/Time Found'\n",
    "        full_article_dict['datetime'] = datetime\n",
    "\n",
    "        summary_tag = soup.find(\"h2\", {\"class\": \"article__lead\"})\n",
    "        summary = summary_tag.text.strip() if summary_tag else 'No Text Found'\n",
    "        full_article_dict[\"summary\"] = summary\n",
    "\n",
    "\n",
    "        text_tag = soup.find(\"div\", {\"class\": \"paragraph\"})\n",
    "        text = text_tag.text.strip() if text_tag else 'No Text Found'\n",
    "        full_article_dict['text'] = text\n",
    "\n",
    "\n",
    "        full_articles_list.append(full_article_dict)\n",
    "\n",
    "\n",
    "        print(f\"Processed {index + 1}/{len(news247_turkel)}: {article_url}\")\n",
    "\n",
    "\n",
    "        time.sleep(0.200)\n",
    "\n",
    "  except Exception as e:\n",
    "        print(f\"Error processing {article_url}: {e}\")\n",
    "        full_article_dict['title'] = 'Error'\n",
    "        full_article_dict['category'] = 'Error'\n",
    "        full_article_dict['author'] = 'Error'\n",
    "        full_article_dict['datetime'] = 'Error'\n",
    "        full_article_dict['text'] = 'Error'\n",
    "        full_articles_list.append(full_article_dict)\n",
    "\n",
    "news247_turkel = pd.DataFrame(full_articles_list)"
   ]
  },
  {
   "cell_type": "code",
   "execution_count": null,
   "metadata": {
    "id": "00_MaP1aK2Tt"
   },
   "outputs": [],
   "source": [
    "pd.set_option('display.max_rows', 192)"
   ]
  },
  {
   "cell_type": "code",
   "execution_count": null,
   "metadata": {
    "colab": {
     "base_uri": "https://localhost:8080/",
     "height": 1000
    },
    "id": "RdH6Q5QzM5Ma",
    "outputId": "c779cf95-206f-4978-c41d-68e12b6fe002"
   },
   "outputs": [],
   "source": [
    "news247_turkel"
   ]
  },
  {
   "cell_type": "code",
   "execution_count": null,
   "metadata": {
    "colab": {
     "base_uri": "https://localhost:8080/",
     "height": 511
    },
    "id": "ku5ozs7lNYXQ",
    "outputId": "64cd203b-94af-4836-b900-5f1c54c57819"
   },
   "outputs": [],
   "source": [
    "#Διορθώνοντας τα NaN values\n",
    "news247_turkel[news247_turkel['title'] == 'No Title Found']"
   ]
  },
  {
   "cell_type": "code",
   "execution_count": null,
   "metadata": {
    "id": "PISzpJO1OgV8"
   },
   "outputs": [],
   "source": [
    "news247_turkel[\"text\"][43] = \"Ο Ρετζέπ Ταγίπ Ερντογάν είναι ο κυρίαρχος του παιχνιδιού στην Τουρκία, κόντρα στις δημοσκοπήσεις και την ετερόκλητη αντιπολίτευση, που για πρώτη φορά συνασπίστηκε εναντίον του, στο πρόσωπο του Κεμάλ Κιλιτσντάρογλου. Το NEWS247 πέρασε μια εβδομάδα στην Κωνσταντινούπολη, επιχειρώντας να καταλάβει πώς σκέφτονται οι άνθρωποι πριν την κρισιμότερη εκλογική αναμέτρηση τελευταίων δεκαετιών. Πώς επηρέασε την ψήφο ο πρόσφατος καταστροφικός σεισμός; Γιατί η τιμή του κρεμμυδιού εξελίχθηκε σε σύμβολο της κάλπης; Γιατί, όποιο κι αν είναι το αποτέλεσμα, η Τουρκία του Ερντογάν θα είναι αύριο μια άλλη χώρα;\""
   ]
  },
  {
   "cell_type": "code",
   "execution_count": null,
   "metadata": {
    "id": "XyenF_8dOk3z"
   },
   "outputs": [],
   "source": [
    "news247_turkel.to_csv(\"/content/drive/MyDrive/news247_turkel\", index = False)"
   ]
  },
  {
   "cell_type": "code",
   "execution_count": null,
   "metadata": {
    "id": "PNHHuyTVXgsm"
   },
   "outputs": [],
   "source": [
    "news247_turkel = pd.read_csv(\"/content/drive/MyDrive/news247_turkel\")"
   ]
  },
  {
   "cell_type": "code",
   "execution_count": null,
   "metadata": {
    "colab": {
     "base_uri": "https://localhost:8080/",
     "height": 840
    },
    "id": "aXHNszDTGlQB",
    "outputId": "6cb14ee9-5661-4d56-8e4c-f23c9c6c7510"
   },
   "outputs": [],
   "source": [
    "news247_turkel"
   ]
  },
  {
   "cell_type": "code",
   "execution_count": null,
   "metadata": {
    "id": "uofUy0TJGnWs"
   },
   "outputs": [],
   "source": [
    "news247_turkel[\"text\"] = news247_turkel[\"text\"].str.replace(\"\\n\", \"\")\n",
    "news247_turkel['text'] = news247_turkel[\"text\"] .str.replace(\"\\n\", \"\")\n",
    "news247_turkel[\"text\"]  = news247_turkel['text'].str.replace(\"\\nΑκολουθήστε το News 24/7 στο Google News και μάθετε πρώτοι όλες τις ειδήσεις'\",\"\")\n",
    "news247_turkel[\"text\"]  = news247_turkel[\"text\"].str.replace(\"Ακολουθήστε το News 24/7 στο Google News και μάθετε πρώτοι όλες τις ειδήσεις\", \"\")\n",
    "news247_turkel[\"text\"] = news247_turkel[\"text\"].str.replace(\"pic.twitter.com/TjxKUU8QgJ\\n—\", \"\")\n",
    "news247_turkel[\"text\"] = news247_turkel[\"text\"].str.replace(\"🔴Siirt Pervari’de “ikinci bir duyuruya kadar” sokağa çıkma yasağı ilan edildi! pic.twitter.com/QYVmJqDxdZ— Haber 7 (@Haber7)\",\"\")\n",
    "news247_turkel[\"text\"] = news247_turkel[\"text\"].str.replace(\"\\xa0\", \"\")\n",
    "news247_turkel[\"text\"] = news247_turkel[\"text\"].str.replace(  \"AP Photo        \\r\", \"\")\n",
    "news247_turkel[\"text\"] = news247_turkel[\"text\"].str.replace(\"\\r\", \"\")\n",
    "news247_turkel[\"text\"] = news247_turkel[\"text\"].str.replace(\"pic.twitter.com/Z2A9gnfTq6— Ekrem İmamoğlu (International) (@imamoglu_int) March 31, 2024\",\"\")\n",
    "news247_turkel[\"text\"] = news247_turkel[\"text\"].str.replace(\"Tonight, #Istanbul has spoken clearly: our collective desire for #democracy shines brighter than ever, marking a pivotal step towards #unity and the end of polarization.At a time when the world witnesses a retreat from democratic values, our city stands as a beacon of hope and…\",\"\")\n",
    "news247_turkel[\"text\"] = news247_turkel[\"text\"].str.replace(\"Ακολουθήστε το News 24/7 στοGoogle Newsκαι μάθετε πρώτοι όλες τιςειδήσεις\",\"\")\n",
    "news247_turkel[\"text\"] = news247_turkel[\"text\"].str.replace(\"Pollitics – Όλες οι δημοσκοπήσεις σε μία σελίδα με αναλυτικά γραφήματαΑποτελέσματα Εκλογών 2023: Αναλυτικά τα αποτελέσματα με χάρτη επικράτειας και περιφερειών για τις εθνικές εκλογές 2023\",\"\")\n",
    "news247_turkel[\"text\"] = news247_turkel[\"text\"].str.replace(\"Ανταπόκριση του NEWS 24/7 από την Κωνσταντινούπολη\",\"\")\n",
    "\n"
   ]
  },
  {
   "cell_type": "code",
   "execution_count": null,
   "metadata": {
    "colab": {
     "base_uri": "https://localhost:8080/",
     "height": 87
    },
    "id": "BSGcoDvdKyEL",
    "outputId": "b1f30959-9939-49e5-c973-863b256d485d"
   },
   "outputs": [],
   "source": [
    "news247_turkel[\"text\"][26]"
   ]
  },
  {
   "cell_type": "code",
   "execution_count": null,
   "metadata": {
    "colab": {
     "base_uri": "https://localhost:8080/"
    },
    "id": "WgV2rKh-PNRu",
    "outputId": "2c76ee51-b82e-4385-aa6d-286e5cbc3aa1"
   },
   "outputs": [],
   "source": [
    "def replace_month_name(date_str):\n",
    "    months = {\n",
    "        \"Ιανουαρίου\": \"01\",\n",
    "        \"Φεβρουαρίου\": \"02\",\n",
    "        \"Μαρτίου\": \"03\",\n",
    "        \"Απριλίου\": \"04\",\n",
    "        \"Μαΐου\": \"05\",\n",
    "        \"Ιουνίου\": \"06\",\n",
    "        \"Ιουλίου\": \"07\",\n",
    "        \"Αυγούστου\": \"08\",\n",
    "        \"Σεπτεμβρίου\": \"09\",\n",
    "        \"Οκτωβρίου\": \"10\",\n",
    "        \"Νοεμβρίου\": \"11\",\n",
    "        \"Δεκεμβρίου\": \"12\"\n",
    "    }\n",
    "    for greek_month, month_num in months.items():\n",
    "        if greek_month in date_str:\n",
    "            return date_str.replace(greek_month, month_num)\n",
    "    return date_str\n",
    "\n",
    "news247_turkel['datetime'] = news247_turkel['datetime'].apply(replace_month_name)\n",
    "news247_turkel['datetime'] = pd.to_datetime(news247_turkel['datetime'], format='%d %m %Y %H:%M', errors='coerce') #για την περίπτωση που έχω missing values\n",
    "\n",
    "print(news247_turkel)\n"
   ]
  },
  {
   "cell_type": "code",
   "execution_count": null,
   "metadata": {
    "colab": {
     "base_uri": "https://localhost:8080/",
     "height": 788
    },
    "id": "bvp6TZnxLHC3",
    "outputId": "b254561d-ecf3-46e5-855e-9efacbef4985"
   },
   "outputs": [],
   "source": [
    "news247_turkel"
   ]
  },
  {
   "cell_type": "code",
   "execution_count": null,
   "metadata": {
    "id": "ZFINAODrPoxL"
   },
   "outputs": [],
   "source": [
    "news247_turkel.to_csv(\"/content/drive/MyDrive/news247_turkel\", index = False)"
   ]
  },
  {
   "cell_type": "code",
   "execution_count": null,
   "metadata": {
    "id": "N5jApEK6P5dL"
   },
   "outputs": [],
   "source": [
    "news247_turkel = pd.read_csv(\"/content/drive/MyDrive/news247_turkel\")"
   ]
  },
  {
   "cell_type": "code",
   "execution_count": null,
   "metadata": {
    "id": "mK2PwjiGSEeA"
   },
   "outputs": [],
   "source": [
    "news247_turkel;"
   ]
  },
  {
   "cell_type": "code",
   "execution_count": null,
   "metadata": {
    "id": "duTAzztpSFy1"
   },
   "outputs": [],
   "source": [
    "news247_turkel['year'] = pd.DatetimeIndex(news247_turkel['datetime']).year\n",
    "news247_turkel['month'] = pd.DatetimeIndex(news247_turkel['datetime']).month\n",
    "news247_turkel['day'] = pd.DatetimeIndex(news247_turkel['datetime']).day\n",
    "news247_turkel['hour'] = pd.DatetimeIndex(news247_turkel['datetime']).hour"
   ]
  },
  {
   "cell_type": "code",
   "execution_count": null,
   "metadata": {
    "colab": {
     "base_uri": "https://localhost:8080/",
     "height": 1000
    },
    "id": "4T8kT5fCSu_q",
    "outputId": "3c727927-0e7b-49b6-ce9b-7f09371ef9b2"
   },
   "outputs": [],
   "source": [
    "news247_turkel"
   ]
  },
  {
   "cell_type": "code",
   "execution_count": null,
   "metadata": {
    "colab": {
     "base_uri": "https://localhost:8080/",
     "height": 483
    },
    "id": "0DMkHDbJS0Ac",
    "outputId": "459087d6-730d-450e-deec-76ad8e9d822e"
   },
   "outputs": [],
   "source": [
    "news247_turkel['hour'].value_counts().plot(kind='bar')"
   ]
  },
  {
   "cell_type": "code",
   "execution_count": null,
   "metadata": {
    "colab": {
     "base_uri": "https://localhost:8080/",
     "height": 483
    },
    "id": "WxwPQhWao07B",
    "outputId": "7c60d108-b559-444f-dfd3-f5aa4d417f6d"
   },
   "outputs": [],
   "source": [
    "news247_turkel['day'].value_counts().plot(kind='bar')"
   ]
  },
  {
   "cell_type": "code",
   "execution_count": null,
   "metadata": {
    "id": "EeTT_bGbpLx5"
   },
   "outputs": [],
   "source": [
    "import numpy as np\n",
    "import matplotlib.pyplot as plt\n",
    "import spacy\n",
    "from wordcloud import WordCloud\n",
    "import seaborn as sns"
   ]
  },
  {
   "cell_type": "code",
   "execution_count": null,
   "metadata": {
    "colab": {
     "base_uri": "https://localhost:8080/"
    },
    "id": "wyQQW-MTqZxx",
    "outputId": "0d62cbcc-a2a3-41ed-ef2b-22426a81575e"
   },
   "outputs": [],
   "source": [
    "!python -m spacy download el_core_news_sm"
   ]
  },
  {
   "cell_type": "code",
   "execution_count": null,
   "metadata": {
    "colab": {
     "base_uri": "https://localhost:8080/",
     "height": 139
    },
    "id": "G52Gb0lrqwpn",
    "outputId": "5a0b6400-b2e3-4f0b-cf2b-5cc2838a9ff9"
   },
   "outputs": [],
   "source": [
    "news247_turkel_full_text = news247_turkel['text'].str.cat(sep = ' ')\n",
    "news247_turkel_full_text"
   ]
  },
  {
   "cell_type": "code",
   "execution_count": null,
   "metadata": {
    "id": "d2hItKW1r9AM"
   },
   "outputs": [],
   "source": [
    "nlp = spacy.load('el_core_news_sm')\n"
   ]
  },
  {
   "cell_type": "code",
   "execution_count": null,
   "metadata": {
    "colab": {
     "base_uri": "https://localhost:8080/",
     "height": 657
    },
    "id": "kXEo7tFprPro",
    "outputId": "17ae3046-9a2e-4699-8c9e-794e908edb03"
   },
   "outputs": [],
   "source": [
    "wordcloud1 = WordCloud(\n",
    "    stopwords = nlp.Defaults.stop_words,\n",
    "    width = 2000,\n",
    "    height = 1000,\n",
    "    background_color = 'black'\n",
    " ).generate(news247_turkel_full_text)\n",
    "fig = plt.figure(\n",
    "    figsize = (40, 30),\n",
    "    facecolor = 'k',\n",
    "    edgecolor = 'k')\n",
    "plt.imshow(wordcloud1, interpolation = 'bilinear')\n",
    "plt.axis('off')\n",
    "plt.tight_layout(pad=0)\n",
    "plt.show()"
   ]
  },
  {
   "cell_type": "code",
   "execution_count": null,
   "metadata": {
    "id": "MMus_DYWrySr"
   },
   "outputs": [],
   "source": [
    "full_doc = nlp(news247_turkel_full_text)"
   ]
  },
  {
   "cell_type": "code",
   "execution_count": null,
   "metadata": {
    "colab": {
     "base_uri": "https://localhost:8080/"
    },
    "id": "kNUJK-nQsdKW",
    "outputId": "bb7023b0-3b22-4105-ebf0-7e4c9672879e"
   },
   "outputs": [],
   "source": [
    "full_doc[:200]"
   ]
  },
  {
   "cell_type": "code",
   "execution_count": null,
   "metadata": {
    "id": "Hcxjo0mOsnLQ"
   },
   "outputs": [],
   "source": [
    "lemmatized_text = ' '.join(token.lemma_ for token in full_doc)"
   ]
  },
  {
   "cell_type": "code",
   "execution_count": null,
   "metadata": {
    "colab": {
     "base_uri": "https://localhost:8080/",
     "height": 657
    },
    "id": "BBjncts9suRS",
    "outputId": "3e6d1421-1077-4caf-bce3-6f0d699254ac"
   },
   "outputs": [],
   "source": [
    "wordcloud2 = WordCloud(\n",
    "    stopwords = nlp.Defaults.stop_words,\n",
    "    width = 2000,\n",
    "    height = 1000,\n",
    "    background_color = 'black'\n",
    " ).generate(lemmatized_text)\n",
    "fig = plt.figure(\n",
    "    figsize = (40, 30),\n",
    "    facecolor = 'k',\n",
    "    edgecolor = 'k')\n",
    "plt.imshow(wordcloud2, interpolation = 'bilinear')\n",
    "plt.axis('off')\n",
    "plt.tight_layout(pad=0)\n",
    "plt.show()"
   ]
  },
  {
   "cell_type": "code",
   "execution_count": null,
   "metadata": {},
   "outputs": [],
   "source": [
    "news247_turkel = pd.read_csv('news247_turkish_elections')"
   ]
  },
  {
   "cell_type": "code",
   "execution_count": null,
   "metadata": {},
   "outputs": [],
   "source": [
    "news247_turkel.to_csv('news247_turkish_elections', index = False)"
   ]
  },
  {
   "cell_type": "code",
   "execution_count": null,
   "metadata": {},
   "outputs": [],
   "source": [
    "news247_turkel"
   ]
  },
  {
   "cell_type": "code",
   "execution_count": null,
   "metadata": {},
   "outputs": [],
   "source": [
    "pd.set_option('display.max_rows', 193)"
   ]
  },
  {
   "cell_type": "code",
   "execution_count": null,
   "metadata": {},
   "outputs": [],
   "source": [
    "short_df = news247_turkel[[\"title\", \"datetime\"]]"
   ]
  },
  {
   "cell_type": "code",
   "execution_count": null,
   "metadata": {},
   "outputs": [],
   "source": [
    "pd.set_option('display.max_colwidth', None)"
   ]
  },
  {
   "cell_type": "code",
   "execution_count": null,
   "metadata": {},
   "outputs": [],
   "source": [
    "short_df"
   ]
  },
  {
   "cell_type": "code",
   "execution_count": null,
   "metadata": {},
   "outputs": [],
   "source": [
    "pd.set_option('display.max_colwidth', None)"
   ]
  },
  {
   "cell_type": "code",
   "execution_count": null,
   "metadata": {},
   "outputs": [],
   "source": [
    "nlp = spacy.load('el_core_news_md')"
   ]
  },
  {
   "cell_type": "code",
   "execution_count": null,
   "metadata": {},
   "outputs": [],
   "source": [
    "news247_turkel_full_text = news247_turkel['text'].str.cat(sep = ' ')"
   ]
  },
  {
   "cell_type": "code",
   "execution_count": null,
   "metadata": {},
   "outputs": [],
   "source": [
    "news247_turkel_full_doc = nlp(news247_turkel_full_text)"
   ]
  },
  {
   "cell_type": "code",
   "execution_count": null,
   "metadata": {},
   "outputs": [],
   "source": [
    "lemmatized_text = ' '.join(token.lemma_ for token in news247_turkel_full_doc)"
   ]
  },
  {
   "cell_type": "code",
   "execution_count": null,
   "metadata": {},
   "outputs": [],
   "source": [
    "stopwords = nlp.Defaults.stop_words\n",
    "stopwords.add(\"ς\")\n",
    "stopwords.add(\"μπορώ\")\n",
    "stopwords.add(\"αναφέρω\")\n",
    "stopwords.add(\"υπάρχω\")\n",
    "stopwords.add(\"γίνομαι\")\n",
    "stopwords.add(\"ή\")\n",
    "stopwords.add(\"κάνω\")\n",
    "stopwords.add(\"θέλω\")\n",
    "stopwords.add(\"κ\")\n",
    "stopwords.add(\"λέγω\")"
   ]
  },
  {
   "cell_type": "code",
   "execution_count": null,
   "metadata": {},
   "outputs": [],
   "source": [
    "lemmatized_text = lemmatized_text.replace(\"Κεμάλς Κιλιτσντάρογλου\", \"Κεμάλ Κιλιτσντάρογλου\")\n",
    "wordcloud_news247_turkel = WordCloud(\n",
    "    stopwords=nlp.Defaults.stop_words,\n",
    "    width=2000,\n",
    "    height=1000,\n",
    "    background_color='black'\n",
    ").generate(lemmatized_text)\n",
    "\n",
    "fig = plt.figure(\n",
    "    figsize=(40, 30),\n",
    "    facecolor='k',\n",
    "    edgecolor='k'\n",
    ")\n",
    "plt.imshow(wordcloud_news247_turkel, interpolation='bilinear')\n",
    "plt.axis('off')\n",
    "plt.tight_layout(pad=0)\n",
    "plt.show()"
   ]
  },
  {
   "cell_type": "code",
   "execution_count": null,
   "metadata": {},
   "outputs": [],
   "source": [
    "from sklearn.feature_extraction.text import CountVectorizer"
   ]
  },
  {
   "cell_type": "code",
   "execution_count": null,
   "metadata": {},
   "outputs": [],
   "source": [
    "cv = CountVectorizer(stop_words= list(nlp.Defaults.stop_words), min_df=0.01, max_df=0.95)"
   ]
  },
  {
   "cell_type": "code",
   "execution_count": null,
   "metadata": {},
   "outputs": [],
   "source": [
    "news247_turkel_clean = news247_turkel.dropna(subset=[\"text\"])\n",
    "count_vector = cv.fit_transform(news247_turkel_clean[\"text\"])\n"
   ]
  },
  {
   "cell_type": "code",
   "execution_count": null,
   "metadata": {},
   "outputs": [],
   "source": [
    "cv = CountVectorizer(stop_words= list(nlp.Defaults.stop_words), max_features=100, ngram_range=(2,5))\n",
    "count_vector = cv.fit_transform(news247_turkel_clean[\"text\"])\n",
    "news247_turkel_bigrams = pd.DataFrame(count_vector.toarray(), columns=cv.get_feature_names_out()) "
   ]
  },
  {
   "cell_type": "code",
   "execution_count": null,
   "metadata": {},
   "outputs": [],
   "source": [
    "news247_turkel_bigrams.sum(axis =0).sort_values(ascending = False)"
   ]
  },
  {
   "cell_type": "code",
   "execution_count": null,
   "metadata": {},
   "outputs": [],
   "source": [
    "data = {\"Ταγίπ Ερντογάν\" :                                     169,\n",
    "\"Κεμάλ Κιλιτσντάρογλου\" :                                     158,\n",
    "\"Ρετζέπ Ταγίπ Ερντογάν\" :                                     140,\n",
    "\"προεδρικές εκλογές/προεδρικών εκλογών\"  :                     103,\n",
    "\"Τούρκος Πρόεδρος/Τούρκο Πρόεδρο\"  :                           73,\n",
    "\"δεύτερο γύρο\"     :                                           59,\n",
    "\"τουρκικές εκλογές\" :                                          57,\n",
    "\"14ης μαΐου\" :                                                 47,\n",
    "\"news247 καλύπτει τουρκικές εκλογές\"  :                        37,\n",
    "\"τουρκικές εκλογές κωνσταντινούπολη διαβάστε ανταπόκριση\":     35,\n",
    "\"βουλευτικές εκλογές\" :                                        30,\n",
    "\"ρεπουμπλικανικού λαϊκού κόμματος\"  :                          30,\n",
    "\"Εκρέμ Ιμάμογλου\" :                                            29,\n",
    "\"Σινάν Ογάν\"  :                                                28,\n",
    "\"ανατολική μεσόγειο\" :                                         27,\n",
    "\"εκλογές 14ης μαΐου\" :                                         26,\n",
    "\"28 μαΐου\" :                                                   26,\n",
    "\"δικαιοσύνης ανάπτυξης\" :                                      24,\n",
    "\"Μεράλ Ακσενέρ\"  :                                             23,\n",
    "\"κομμάτων αντιπολίτευσης\" :                                    23,\n",
    "\"20 χρόνια\"  :                                                 23,\n",
    "\"εξωτερική πολιτική\"  :                                        23,\n",
    "\"εκλογών τουρκία\"   :                                          22,\n",
    "\"προεκλογική εκστρατεία\" :                                     22,\n",
    "\"14 μαΐου\"  :                                                  21,\n",
    "\"γύρο προεδρικών εκλογών\"  :                                   21,                                         }\n",
    "\n",
    "df = pd.DataFrame(list(data.items()), columns=['Διγράμματα / Πολυγράμματα', 'Αναφορές'])\n",
    "\n",
    "df = df.sort_values(by='Αναφορές', ascending=False)\n",
    "\n",
    "plt.figure(figsize=(10, 8))\n",
    "\n",
    "bars = plt.barh(df['Διγράμματα / Πολυγράμματα'], df['Αναφορές'], color='crimson', edgecolor= 'black')\n",
    "for bar in bars:\n",
    "    plt.text(\n",
    "        bar.get_width() + 2, bar.get_y() + bar.get_height() / 2,  \n",
    "        str(bar.get_width()),\n",
    "        va='center',\n",
    "        ha='left',  \n",
    "        color='black',\n",
    "        fontsize=10\n",
    "    )\n",
    "    \n",
    "plt.xlabel('Αναφορές')\n",
    "plt.ylabel('Διγράμματα / Πολυγράμματα')\n",
    "plt.xlim(0,200)\n",
    "plt.title('Διγράμματα/Πολυγράμματα Τουρκικών Εκλογών 2023 - News247')\n",
    "plt.gca().invert_yaxis() \n",
    "plt.show()"
   ]
  },
  {
   "cell_type": "code",
   "execution_count": null,
   "metadata": {},
   "outputs": [],
   "source": [
    "filepath = \"https://raw.githubusercontent.com/datajour-gr/DataJournalism/main/Bachelor%20Lessons%202023/Lesson%2010/NRC_GREEK_Translated_6_2020.csv\""
   ]
  },
  {
   "cell_type": "code",
   "execution_count": null,
   "metadata": {},
   "outputs": [],
   "source": [
    "emolex_df = pd.read_csv(filepath)"
   ]
  },
  {
   "cell_type": "code",
   "execution_count": null,
   "metadata": {},
   "outputs": [],
   "source": [
    "emolex_df = emolex_df.drop_duplicates(subset=['word'])\n",
    "emolex_df = emolex_df.dropna()\n",
    "emolex_df.reset_index(inplace = True, drop=True)"
   ]
  },
  {
   "cell_type": "code",
   "execution_count": null,
   "metadata": {},
   "outputs": [],
   "source": [
    "vec = CountVectorizer(analyzer = 'word', vocabulary = emolex_df.word,\n",
    "                      lowercase=False, \n",
    "                      strip_accents = 'unicode',  \n",
    "                      stop_words= list(nlp.Defaults.stop_words),\n",
    "                      ngram_range=(1, 2))"
   ]
  },
  {
   "cell_type": "code",
   "execution_count": null,
   "metadata": {},
   "outputs": [],
   "source": [
    "matrix = vec.fit_transform(news247_turkel_clean[\"text\"])\n",
    "vocab = vec.get_feature_names_out()\n",
    "wordcount_df = pd.DataFrame(matrix.toarray(), columns=vocab)"
   ]
  },
  {
   "cell_type": "code",
   "execution_count": null,
   "metadata": {},
   "outputs": [],
   "source": [
    "positive_words = emolex_df[emolex_df.Positive == 1]['word']"
   ]
  },
  {
   "cell_type": "code",
   "execution_count": null,
   "metadata": {},
   "outputs": [],
   "source": [
    "negative_words = emolex_df[emolex_df.Negative == 1]['word']"
   ]
  },
  {
   "cell_type": "code",
   "execution_count": null,
   "metadata": {},
   "outputs": [],
   "source": [
    "news247_turkel['positive_text'] = wordcount_df[positive_words].sum(axis=1)"
   ]
  },
  {
   "cell_type": "code",
   "execution_count": null,
   "metadata": {},
   "outputs": [],
   "source": [
    "news247_turkel['negative_text'] = wordcount_df[negative_words].sum(axis=1)"
   ]
  },
  {
   "cell_type": "code",
   "execution_count": null,
   "metadata": {},
   "outputs": [],
   "source": [
    "news247_turkel['pos/neg_text'] = news247_turkel['positive_text'] - news247_turkel['negative_text']"
   ]
  },
  {
   "cell_type": "code",
   "execution_count": null,
   "metadata": {},
   "outputs": [],
   "source": [
    "news247_turkel['pos/neg_text'].mean()"
   ]
  },
  {
   "cell_type": "code",
   "execution_count": null,
   "metadata": {},
   "outputs": [],
   "source": [
    "joy_words = emolex_df[emolex_df.Joy == 1]['word']"
   ]
  },
  {
   "cell_type": "code",
   "execution_count": null,
   "metadata": {},
   "outputs": [],
   "source": [
    "anger_words = emolex_df[emolex_df.Anger == 1]['word']"
   ]
  },
  {
   "cell_type": "code",
   "execution_count": null,
   "metadata": {},
   "outputs": [],
   "source": [
    "news247_turkel['joy_text'] = wordcount_df[joy_words].sum(axis=1)"
   ]
  },
  {
   "cell_type": "code",
   "execution_count": null,
   "metadata": {},
   "outputs": [],
   "source": [
    "news247_turkel['anger_text'] =  wordcount_df[anger_words].sum(axis=1)"
   ]
  },
  {
   "cell_type": "code",
   "execution_count": null,
   "metadata": {},
   "outputs": [],
   "source": [
    "news247_turkel['joy/anger_text'] = news247_turkel['joy_text'] - news247_turkel['anger_text']"
   ]
  },
  {
   "cell_type": "code",
   "execution_count": null,
   "metadata": {},
   "outputs": [],
   "source": [
    "news247_turkel['joy/anger_text'].mean()"
   ]
  },
  {
   "cell_type": "code",
   "execution_count": null,
   "metadata": {},
   "outputs": [],
   "source": [
    "fear_words = emolex_df[emolex_df.Fear == 1]['word']"
   ]
  },
  {
   "cell_type": "code",
   "execution_count": null,
   "metadata": {},
   "outputs": [],
   "source": [
    "trust_words = emolex_df[emolex_df.Trust == 1]['word']"
   ]
  },
  {
   "cell_type": "code",
   "execution_count": null,
   "metadata": {},
   "outputs": [],
   "source": [
    "news247_turkel['fear_text'] = wordcount_df[fear_words].sum(axis=1)\n"
   ]
  },
  {
   "cell_type": "code",
   "execution_count": null,
   "metadata": {},
   "outputs": [],
   "source": [
    "news247_turkel['trust_text'] = wordcount_df[trust_words].sum(axis=1)"
   ]
  },
  {
   "cell_type": "code",
   "execution_count": null,
   "metadata": {},
   "outputs": [],
   "source": [
    "news247_turkel['trust/fear_text'] = news247_turkel['trust_text'] - news247_turkel['fear_text']"
   ]
  },
  {
   "cell_type": "code",
   "execution_count": null,
   "metadata": {},
   "outputs": [],
   "source": [
    "news247_turkel['trust/fear_text'].mean()"
   ]
  },
  {
   "cell_type": "code",
   "execution_count": null,
   "metadata": {},
   "outputs": [],
   "source": [
    "matrix = vec.fit_transform(news247_turkel[\"title\"])\n",
    "vocab = vec.get_feature_names_out()\n",
    "wordcount_df = pd.DataFrame(matrix.toarray(), columns=vocab)"
   ]
  },
  {
   "cell_type": "code",
   "execution_count": null,
   "metadata": {},
   "outputs": [],
   "source": [
    "news247_turkel['positive_title'] = wordcount_df[positive_words].sum(axis=1)"
   ]
  },
  {
   "cell_type": "code",
   "execution_count": null,
   "metadata": {},
   "outputs": [],
   "source": [
    "news247_turkel['negative_title'] = wordcount_df[negative_words].sum(axis=1)"
   ]
  },
  {
   "cell_type": "code",
   "execution_count": null,
   "metadata": {},
   "outputs": [],
   "source": [
    "news247_turkel['pos/neg_title'] = news247_turkel['positive_title'] - news247_turkel['negative_title']"
   ]
  },
  {
   "cell_type": "code",
   "execution_count": null,
   "metadata": {},
   "outputs": [],
   "source": [
    "news247_turkel['pos/neg_title'].mean()"
   ]
  },
  {
   "cell_type": "code",
   "execution_count": null,
   "metadata": {},
   "outputs": [],
   "source": [
    "news247_turkel['joy_title'] = wordcount_df[joy_words].sum(axis=1)"
   ]
  },
  {
   "cell_type": "code",
   "execution_count": null,
   "metadata": {},
   "outputs": [],
   "source": [
    "news247_turkel['anger_title'] =  wordcount_df[anger_words].sum(axis=1)"
   ]
  },
  {
   "cell_type": "code",
   "execution_count": null,
   "metadata": {},
   "outputs": [],
   "source": [
    "news247_turkel['joy/anger_title'] = news247_turkel['joy_title'] - news247_turkel['anger_title']"
   ]
  },
  {
   "cell_type": "code",
   "execution_count": null,
   "metadata": {},
   "outputs": [],
   "source": [
    "news247_turkel['joy/anger_title'].mean()"
   ]
  },
  {
   "cell_type": "code",
   "execution_count": null,
   "metadata": {},
   "outputs": [],
   "source": [
    "news247_turkel['fear_title'] = wordcount_df[fear_words].sum(axis=1)"
   ]
  },
  {
   "cell_type": "code",
   "execution_count": null,
   "metadata": {},
   "outputs": [],
   "source": [
    "news247_turkel['trust_title'] = wordcount_df[trust_words].sum(axis=1)"
   ]
  },
  {
   "cell_type": "code",
   "execution_count": null,
   "metadata": {},
   "outputs": [],
   "source": [
    "news247_turkel['trust/fear_title'] = news247_turkel['trust_title'] - news247_turkel['fear_title']"
   ]
  },
  {
   "cell_type": "code",
   "execution_count": null,
   "metadata": {},
   "outputs": [],
   "source": [
    "news247_turkel['trust/fear_title'].mean()"
   ]
  },
  {
   "cell_type": "code",
   "execution_count": null,
   "metadata": {},
   "outputs": [],
   "source": [
    "means = {\n",
    "    \"Θετικότητα/Αρνητικότητα\": {\n",
    "        'Πολικότητα Κειμένων': news247_turkel['pos/neg_text'].mean().round(2),\n",
    "        'Πολικότητα Τίτλων': news247_turkel['pos/neg_title'].mean().round(2)\n",
    "    },\n",
    "    'Εμπιστοσύνη/Φόβος': {\n",
    "        'Πολικότητα Κειμένων': news247_turkel['trust/fear_text'].mean().round(2),\n",
    "        'Πολικότητα Τίτλων': news247_turkel['trust/fear_title'].mean().round(2)\n",
    "    },\n",
    "    'Χαρά/Θυμός': {\n",
    "        'Πολικότητα Κειμένων': news247_turkel['joy/anger_text'].mean().round(2),\n",
    "        'Πολικότητα Τίτλων': news247_turkel['joy/anger_title'].mean().round(2),\n",
    "    }\n",
    "}\n",
    "\n",
    "\n",
    "means_df = pd.DataFrame(means).T\n",
    "\n",
    "\n",
    "color_map = {\n",
    "    \"Θετικότητα/Αρνητικότητα\": 'green',\n",
    "    'Εμπιστοσύνη/Φόβος': 'lightblue',\n",
    "    'Χαρά/Θυμός': 'crimson'\n",
    "}\n",
    "\n",
    "\n",
    "new_col_titles = ['Πολικότητα Κειμένων', 'Πολικότητα Τίτλων']\n",
    "\n",
    "\n",
    "fig, ax = plt.subplots(figsize=(14, 8))\n",
    "\n",
    "\n",
    "ax.xaxis.set_visible(False)\n",
    "ax.yaxis.set_visible(False)\n",
    "ax.set_frame_on(False)\n",
    "\n",
    "\n",
    "table = ax.table(\n",
    "    cellText=means_df.values,\n",
    "    rowLabels=means_df.index,\n",
    "    colLabels=new_col_titles,\n",
    "    cellLoc='center',\n",
    "    loc='center',\n",
    "    colColours=['lightgrey'] * len(new_col_titles),\n",
    "    rowColours=['white'] * len(means_df.index)\n",
    ")\n",
    "\n",
    "\n",
    "for i, label in enumerate(means_df.index):\n",
    "    row_color = color_map.get(label, 'white') \n",
    "    for j in range(len(new_col_titles)):\n",
    "        table[(i + 1, j)].set_facecolor(row_color)\n",
    "\n",
    "\n",
    "table.auto_set_font_size(False)\n",
    "table.set_fontsize(14)\n",
    "table.scale(1.5, 3)\n",
    "\n",
    "\n",
    "plt.show()"
   ]
  },
  {
   "cell_type": "code",
   "execution_count": null,
   "metadata": {},
   "outputs": [],
   "source": [
    "titles_erdogan = news247_turkel[news247_turkel['title'].str.contains('Ερντογάν', case=False, na=False)]"
   ]
  },
  {
   "cell_type": "code",
   "execution_count": null,
   "metadata": {},
   "outputs": [],
   "source": [
    "titles_erdogan.shape"
   ]
  },
  {
   "cell_type": "code",
   "execution_count": null,
   "metadata": {},
   "outputs": [],
   "source": [
    "titles_Κιλιτσντάρογλου= news247_turkel[news247_turkel['title'].str.contains('Κιλιτσντάρογλου', case=False, na=False)]"
   ]
  },
  {
   "cell_type": "code",
   "execution_count": null,
   "metadata": {},
   "outputs": [],
   "source": [
    "titles_Κιλιτσντάρογλου.shape"
   ]
  },
  {
   "cell_type": "code",
   "execution_count": null,
   "metadata": {},
   "outputs": [],
   "source": [
    "titles_with_both = news247_turkel[\n",
    "    news247_turkel['title'].str.contains(r'Ερντογάν.*Κιλιτσντάρογλου|Κιλιτσντάρογλου.*Ερντογάν', case=False, na=False)\n",
    "]\n",
    "\n",
    "titles_with_both.shape\n"
   ]
  },
  {
   "cell_type": "code",
   "execution_count": null,
   "metadata": {},
   "outputs": [],
   "source": [
    "news247_turkel.shape"
   ]
  },
  {
   "cell_type": "code",
   "execution_count": null,
   "metadata": {},
   "outputs": [],
   "source": [
    "pip install matplotlib-venn\n"
   ]
  },
  {
   "cell_type": "code",
   "execution_count": null,
   "metadata": {},
   "outputs": [],
   "source": [
    "from matplotlib_venn import venn2\n",
    "count_erdogan_only = 96 - 16\n",
    "count_kilicdaroglu_only = 32 - 16\n",
    "count_both = 16\n",
    "total_titles = 172\n",
    "\n",
    "\n",
    "count_neither = total_titles - (count_erdogan_only + count_kilicdaroglu_only + count_both)\n",
    "\n",
    "\n",
    "plt.figure(figsize=(10, 8))\n",
    "\n",
    "venn = venn2(subsets=(count_erdogan_only, \n",
    "                      count_kilicdaroglu_only, \n",
    "                      count_both), \n",
    "             set_labels=('Ερντογάν', 'Κιλιτσντάρογλου'))\n",
    "\n",
    "\n",
    "plt.title('Δημοσιεύματα για Ερντογάν-Κιλιτσντάρογλου -News247')\n",
    "\n",
    "plt.text(0.5, -0.3, f'Σύνολο Άρθρων: {total_titles}', ha='center', va='center', fontsize=8, color='black')\n",
    "\n",
    "\n",
    "plt.show()\n"
   ]
  },
  {
   "cell_type": "code",
   "execution_count": null,
   "metadata": {},
   "outputs": [],
   "source": [
    "count_vector = cv.fit_transform(titles_erdogan[\"title\"])"
   ]
  },
  {
   "cell_type": "code",
   "execution_count": null,
   "metadata": {},
   "outputs": [],
   "source": [
    "cv = CountVectorizer(stop_words= list(nlp.Defaults.stop_words), max_features=100, ngram_range=(2,2))\n",
    "count_vector = cv.fit_transform(titles_erdogan[\"title\"])\n",
    "titles_erdogan_bigrams = pd.DataFrame(count_vector.toarray(), columns=cv.get_feature_names_out())"
   ]
  },
  {
   "cell_type": "code",
   "execution_count": null,
   "metadata": {},
   "outputs": [],
   "source": [
    "titles_erdogan_bigrams.sum(axis =0).sort_values(ascending = False)"
   ]
  },
  {
   "cell_type": "code",
   "execution_count": null,
   "metadata": {},
   "outputs": [],
   "source": [
    "count_vector = cv.fit_transform(titles_Κιλιτσντάρογλου[\"title\"])"
   ]
  },
  {
   "cell_type": "code",
   "execution_count": null,
   "metadata": {},
   "outputs": [],
   "source": [
    "cv = CountVectorizer(stop_words= list(nlp.Defaults.stop_words), max_features=100, ngram_range=(2,2))\n",
    "count_vector = cv.fit_transform(titles_Κιλιτσντάρογλου[\"title\"])\n",
    "titles_Κιλιτσντάρογλου_bigrams = pd.DataFrame(count_vector.toarray(), columns=cv.get_feature_names_out())"
   ]
  },
  {
   "cell_type": "code",
   "execution_count": null,
   "metadata": {},
   "outputs": [],
   "source": [
    "titles_Κιλιτσντάρογλου_bigrams.sum(axis =0).sort_values(ascending = False)"
   ]
  },
  {
   "cell_type": "code",
   "execution_count": null,
   "metadata": {},
   "outputs": [],
   "source": [
    "import geopandas as gpd\n",
    "\n",
    "\n",
    "shapefile_path = r\"C:\\Users\\stath\\OneDrive\\Υπολογιστής\\ne_110m_admin_0_countries\\ne_110m_admin_0_countries.shp\"\n",
    "\n",
    "\n",
    "world = gpd.read_file(shapefile_path)\n",
    "\n",
    "\n",
    "greece_turkey = world[world[\"SOVEREIGNT\"].isin(['Greece', 'Turkey'])]\n",
    "\n",
    "\n",
    "fig, ax = plt.subplots(figsize=(20, 10))  # Increased size\n",
    "\n",
    "\n",
    "greece_turkey[greece_turkey[\"SOVEREIGNT\"] == \"Greece\"].plot(ax=ax, color='blue', edgecolor='black', label='Greece')\n",
    "greece_turkey[greece_turkey[\"SOVEREIGNT\"] == \"Turkey\"].plot(ax=ax, color='red', edgecolor='black', label='Turkey')\n",
    "\n",
    "\n",
    "ax.set_title('Τίτλοι δημοσιευμάτων για Μητσοτάκη(ΝΔ)-Τσίπρα(ΣΥΡΙΖΑ), Ερντογάν-Κιλιτσντάρογλου - News247', fontsize=17)\n",
    "\n",
    "\n",
    "ax.grid(True, linestyle='--', alpha=0.7)\n",
    "\n",
    "\n",
    "greece_coords = (19.0, 36.5) \n",
    "turkey_coords = (33.0, 37.5)  \n",
    "\n",
    "# Phrases for Greece\n",
    "greece_phrases = [\n",
    "      \n",
    "     \"Τσίπρας: (αυτούσια δήλωση)\",\n",
    "    \n",
    "     'ΝΔ ψάχνουν “πιο σοβαρή Χρυσή Αυγή”',\n",
    "      '\"δόγμα Μητσοτάκη\"',\n",
    "      \"άκομψη υπόδειξη Γεραπετρίτη σε δημοσιογράφο\",\n",
    "     \"εκβιασμός εργοδότη σε υπαλλήλους για να ψηφίσουν ΝΔ\"\n",
    "]\n",
    "\n",
    "\n",
    "turkey_phrases = [\n",
    "     \"ακατάδεκτος Ερντογάν\",\n",
    "     \"ακροδεξιό παραλήρημα Κιλιτσντάρογλου\",\n",
    "     \"οικονομική αναταραχή\",\n",
    "     \"ανησυχία δυτικών ΜΜΕ\",\n",
    "     \"δύο Τουρκίες\"\n",
    "]\n",
    "\n",
    "\n",
    "for i, phrase in enumerate(greece_phrases):\n",
    "    ax.text(greece_coords[0], greece_coords[1] + i*0.7, phrase, fontsize=12, color='black', ha='left', weight='bold')\n",
    "\n",
    "\n",
    "for i, phrase in enumerate(turkey_phrases):\n",
    "    ax.text(turkey_coords[0], turkey_coords[1] + i*0.7, phrase, fontsize=14, color='black', ha='center', weight='bold')\n",
    "\n",
    "\n",
    "ax.legend()\n",
    "\n",
    "plt.show()"
   ]
  },
  {
   "cell_type": "code",
   "execution_count": null,
   "metadata": {},
   "outputs": [],
   "source": [
    "import re\n",
    "\n",
    "frames = {\n",
    "    'Σύγκρουση': [\n",
    "        'κόντρα', 'VS', 'μάχη', 'επίθεση', 'αντιπαράθεση', '«σφάχτηκαν»', '«επιτίθεται»', \"ή\", \"δίλημμα\",\n",
    "        '«πυρά»', '«Πυρά»','πυρά', 'Πυρά', 'μπηχτή', 'μεταξύ', 'σύγκρουση', '«σκοτωμός»', 'απαντά', '«σπόντα»',\n",
    "        '«μάχης»', 'μια πλευρά', 'Μητσοτάκη-Τσίπρα', 'απάντηση', 'καυγά', 'αίμα', 'απαντάμε',\n",
    "        'διαφορά', 'έναντι', 'σύγκριση', 'κατά', 'εναντίον','προβάδισμα', 'Μητσοτάκης-Τσίπρας', 'ΝΔ-ΣΥΡΙΖΑ' 'ΝΔ - ΣΥΡΙΖΑ', \"Ερντογάν - Κιλιτσντάρογλου, Ερντογάν-Κιλιτσντάρογλου\", \"ελληνοτουρκικά\"\n",
    "    ]\n",
    "}\n",
    "\n",
    "def detect_conflict_frames(title, frames):\n",
    "    conflict_keywords = frames['Σύγκρουση']\n",
    "    \n",
    "    pattern = r'\\b(?:' + '|'.join(map(re.escape, conflict_keywords)) + r')\\b'\n",
    "\n",
    "    return bool(re.search(pattern, title))\n",
    "\n",
    "\n",
    "news247_turkel['Conflict'] = news247_turkel['title'].apply(lambda x: 1 if detect_conflict_frames(x, frames) else 0)"
   ]
  },
  {
   "cell_type": "code",
   "execution_count": null,
   "metadata": {},
   "outputs": [],
   "source": [
    "news247_turkel['Conflict'].value_counts()"
   ]
  },
  {
   "cell_type": "code",
   "execution_count": null,
   "metadata": {},
   "outputs": [],
   "source": [
    "news247_turkel.shape"
   ]
  },
  {
   "cell_type": "code",
   "execution_count": null,
   "metadata": {},
   "outputs": [],
   "source": [
    "7.55"
   ]
  },
  {
   "cell_type": "code",
   "execution_count": null,
   "metadata": {},
   "outputs": [],
   "source": [
    "\n",
    "import pandas as pd\n",
    "import matplotlib.pyplot as plt\n",
    "\n",
    "\n",
    "data = {\n",
    "    'Ιστοσελίδα': ['Iefimerida', 'NewsIT', 'News247', 'PressProject'],\n",
    "    'Ελληνικές εκλογές %': [11.62, 11.07, 6.58, 6.96],\n",
    "    'Τουρκικές εκλογές %': [12.72, 8.90, 7.55, \"-\"]  \n",
    "}\n",
    "\n",
    "\n",
    "df = pd.DataFrame(data)\n",
    "\n",
    "\n",
    "colors = {\n",
    "    'Iefimerida': 'black',\n",
    "    'NewsIT': 'darkorange',\n",
    "    'News247': 'red',\n",
    "    'PressProject': 'lightblue'\n",
    "}\n",
    "\n",
    "\n",
    "fig, ax = plt.subplots(figsize=(12, 4))  # Adjust figure size\n",
    "\n",
    "\n",
    "ax.axis('off')\n",
    "ax.axis('tight')\n",
    "\n",
    "\n",
    "table = ax.table(cellText=df.values, colLabels=df.columns, cellLoc='center', loc='center')\n",
    "\n",
    "\n",
    "table.auto_set_font_size(False)\n",
    "table.set_fontsize(12)\n",
    "\n",
    "\n",
    "table.scale(1.2, 1.2)\n",
    "\n",
    "\n",
    "for i, website in enumerate(df['Ιστοσελίδα']):\n",
    "    row_color = colors.get(website, 'white')  \n",
    "    for j in range(len(df.columns)):\n",
    "        cell = table[(i + 1, j)]\n",
    "        cell.set_facecolor(row_color)\n",
    "      \n",
    "        if website == 'Iefimerida':\n",
    "            cell.set_text_props(color='white')\n",
    "\n",
    "\n",
    "for key, cell in table.get_celld().items():\n",
    "    if key[0] == 0:\n",
    "        cell.set_text_props(weight='bold', color='white')\n",
    "        cell.set_facecolor('grey')\n",
    "\n",
    "\n",
    "plt.title('Χρήση Πλαισίου Σύγκρουσης στις Ελληνικές και Τουρκικές Εκλογές ανά Ιστοσελίδα', fontsize=14)\n",
    "plt.show()\n",
    "\n"
   ]
  },
  {
   "cell_type": "code",
   "execution_count": null,
   "metadata": {},
   "outputs": [],
   "source": []
  }
 ],
 "metadata": {
  "colab": {
   "provenance": []
  },
  "kernelspec": {
   "display_name": "Python 3 (ipykernel)",
   "language": "python",
   "name": "python3"
  },
  "language_info": {
   "codemirror_mode": {
    "name": "ipython",
    "version": 3
   },
   "file_extension": ".py",
   "mimetype": "text/x-python",
   "name": "python",
   "nbconvert_exporter": "python",
   "pygments_lexer": "ipython3",
   "version": "3.12.4"
  }
 },
 "nbformat": 4,
 "nbformat_minor": 4
}
