{
 "cells": [
  {
   "cell_type": "code",
   "execution_count": null,
   "metadata": {
    "id": "ofg8akdv-m0k"
   },
   "outputs": [],
   "source": [
    "import requests\n",
    "from bs4 import BeautifulSoup\n",
    "import pandas as pd\n",
    "import time\n",
    "import numpy as np\n",
    "import matplotlib.pyplot as plt\n",
    "import spacy\n",
    "from wordcloud import WordCloud\n",
    "import seaborn as sns"
   ]
  },
  {
   "cell_type": "code",
   "execution_count": null,
   "metadata": {},
   "outputs": [],
   "source": [
    "news247_grel.shape"
   ]
  },
  {
   "cell_type": "markdown",
   "metadata": {
    "id": "dJB68rbIGM1q"
   },
   "source": [
    "Φτιάχνω τη λούπα για να πάρω τα λινκς που θέλω για τις ελληνικές βουλευτικές εκλογές του 2023. Το \"εκλογές 2023\" αποτελεί σχετικά παλιό tag του news247, γι' αυτό το λόγο μου έφερνε- εκτός από τα άρθρα των εκλογών- νέα άρθρα από άλλες κατηγορίες. Για να \"φιλτράρω\" τα άρθρα που θα μου έρθουν μέσω του κώδικα έβαλα παραμέτρους με if και if not."
   ]
  },
  {
   "cell_type": "code",
   "execution_count": null,
   "metadata": {
    "id": "LTEfHYqQ-43q"
   },
   "outputs": [],
   "source": [
    "urls = []\n",
    "base_url = \"https://www.news247.gr/ekloges/page/\"\n",
    "\n",
    "for page_num in range(56, 84):\n",
    "    url = base_url + str(page_num)\n",
    "    response = requests.get(url)\n",
    "    soup = BeautifulSoup(response.text, 'html.parser')\n",
    "    articles = soup.find_all('article')\n",
    "\n",
    "    for article in articles:\n",
    "        article_url = article.find('a')['href']\n",
    "        if 'ekloges' in article_url and 'evroekloges' not in article_url and \"2024\" not in article_url and \"kasselakis\" not in article_url:\n",
    "            urls.append(article_url)\n",
    "\n",
    "\n",
    "print(urls)"
   ]
  },
  {
   "cell_type": "markdown",
   "metadata": {
    "id": "WfCxpkBVHFPE"
   },
   "source": [
    "Μετατροπή σε dataframe και αποθήκευση στο drive."
   ]
  },
  {
   "cell_type": "code",
   "execution_count": null,
   "metadata": {
    "colab": {
     "base_uri": "https://localhost:8080/",
     "height": 141
    },
    "id": "5lNxalbq_MLI",
    "outputId": "7c684518-311d-41db-cdf7-4b363951a9b4"
   },
   "outputs": [],
   "source": [
    "news_247_grel_urls = pd.DataFrame(urls)\n"
   ]
  },
  {
   "cell_type": "code",
   "execution_count": null,
   "metadata": {
    "colab": {
     "base_uri": "https://localhost:8080/"
    },
    "id": "DpHRSFJ7_xb1",
    "outputId": "e55998db-f63d-48af-f49f-b5f5a992b063"
   },
   "outputs": [],
   "source": [
    "from google.colab import drive\n",
    "drive.mount('/content/drive')"
   ]
  },
  {
   "cell_type": "code",
   "execution_count": null,
   "metadata": {
    "id": "j8T4U17O_P4K"
   },
   "outputs": [],
   "source": [
    "news_247_grel_urls.to_csv(\"/content/drive/MyDrive/news_247_grel_urls\", index = False)"
   ]
  },
  {
   "cell_type": "code",
   "execution_count": null,
   "metadata": {
    "colab": {
     "base_uri": "https://localhost:8080/"
    },
    "id": "exJ500w-_R45",
    "outputId": "a46cbf8b-96a6-4577-e22c-c1c50637571a"
   },
   "outputs": [],
   "source": [
    "!ls '/content/drive/My Drive/articles_df'"
   ]
  },
  {
   "cell_type": "code",
   "execution_count": null,
   "metadata": {
    "id": "C7vW71LE_R8h"
   },
   "outputs": [],
   "source": [
    "news247_grel = pd.read_csv('/content/drive/My Drive/articles_df')"
   ]
  },
  {
   "cell_type": "code",
   "execution_count": null,
   "metadata": {
    "colab": {
     "base_uri": "https://localhost:8080/",
     "height": 423
    },
    "id": "PQ8IavSP_bGs",
    "outputId": "e45b5114-d44b-4e82-cc58-92b5019ec057"
   },
   "outputs": [],
   "source": [
    "news247_grel_urls"
   ]
  },
  {
   "cell_type": "code",
   "execution_count": null,
   "metadata": {
    "id": "4PjIRql9DDXC"
   },
   "outputs": [],
   "source": [
    "news247_grel = news247_grel_urls.rename(columns={\"0\": 'URLs'}) #μετονομασία στήλης με rename"
   ]
  },
  {
   "cell_type": "code",
   "execution_count": null,
   "metadata": {
    "colab": {
     "base_uri": "https://localhost:8080/",
     "height": 423
    },
    "id": "Dc342y--ErYT",
    "outputId": "ea484638-c0e6-437d-ab0e-60debfbadcb8"
   },
   "outputs": [],
   "source": [
    "news247_grel"
   ]
  },
  {
   "cell_type": "markdown",
   "metadata": {
    "id": "D67Bi7vPIE_m"
   },
   "source": [
    "Φτιάχνω λίστες για να αποθηκεύσω όσα scrape-άρω και λούπα για τη διαδικασία. Μέσω της  λειτουργίας enumerate, σε συνδυασμό με το index και το url, δίνεται η δυνατότητα να παρακολουθώ ακριβώς το που βρίσκεται ο κώδικάς μου όσον αφορά το scraping. Παρατηρώ ότι οι μεταβλητές \"tag\", σε συνδυασμό με το else, κάνουν τον κώδικα να εκτελείται γρηγορότερα."
   ]
  },
  {
   "cell_type": "code",
   "execution_count": null,
   "metadata": {
    "colab": {
     "base_uri": "https://localhost:8080/",
     "height": 211
    },
    "id": "C_IxaIlW-V7c",
    "outputId": "6d32747e-e593-490d-9c70-65d09529fbd8"
   },
   "outputs": [],
   "source": [
    "full_articles_list = []\n",
    "titles = []\n",
    "\n",
    "\n",
    "\n",
    "for index, article_url in enumerate(news247_grel['URLs']):\n",
    "\n",
    "    try:\n",
    "\n",
    "        response = requests.get(article_url)\n",
    "        soup = BeautifulSoup(response.text, 'html.parser')\n",
    "\n",
    "        full_article_dict = {}\n",
    "        full_article_dict['site'] = \"news247.gr\"\n",
    "        full_article_dict['url'] = article_url\n",
    "\n",
    "\n",
    "        title_tag = soup.find('h1', {\"class\": \"single_article__title article__small_title article__title\"})\n",
    "        title = title_tag.text.strip() if title_tag else 'No Title Found'\n",
    "        full_article_dict['title'] = title\n",
    "\n",
    "\n",
    "        full_articles_list.append(full_article_dict)\n",
    "\n",
    "\n",
    "        print(f\"Processed {index + 1}/{len(news247_grel)}: {article_url}\")\n",
    "\n",
    "\n",
    "\n",
    "    except Exception as e:\n",
    "        print(f\"Error processing {article_url}: {e}\")\n",
    "        full_article_dict['title'] = 'Error'\n",
    "        full_articles_list.append(full_article_dict)\n",
    "\n",
    "\n",
    "articles_df = pd.DataFrame(full_articles_list)\n",
    "\n",
    "print(articles_df.head())\n",
    "\n",
    "\n"
   ]
  },
  {
   "cell_type": "code",
   "execution_count": null,
   "metadata": {
    "colab": {
     "base_uri": "https://localhost:8080/"
    },
    "id": "id3_eOXTNeXI",
    "outputId": "9ab54a23-2d14-4353-e8c1-a830479d8da9"
   },
   "outputs": [],
   "source": [
    "(full_article_dict)"
   ]
  },
  {
   "cell_type": "code",
   "execution_count": null,
   "metadata": {
    "id": "CKtOtsIVA6eX"
   },
   "outputs": [],
   "source": [
    "articles_df = pd.DataFrame(full_articles_list)"
   ]
  },
  {
   "cell_type": "code",
   "execution_count": null,
   "metadata": {
    "colab": {
     "base_uri": "https://localhost:8080/",
     "height": 423
    },
    "id": "8vDtkcKNA-Wc",
    "outputId": "e4906e55-2b67-495c-c6da-4b5985ce6f4b"
   },
   "outputs": [],
   "source": [
    "articles_df"
   ]
  },
  {
   "cell_type": "markdown",
   "metadata": {
    "id": "6iaf0bM-K9DX"
   },
   "source": [
    "Εδώ προσπαθώ να βρω τα υπόλοιπα στοιχεία των άρθρων στην html του news247"
   ]
  },
  {
   "cell_type": "code",
   "execution_count": null,
   "metadata": {
    "colab": {
     "base_uri": "https://localhost:8080/"
    },
    "id": "aBZtBmNTCp3G",
    "outputId": "e6e7ee86-d6d9-48cb-f5cf-7f1d90d63787"
   },
   "outputs": [],
   "source": [
    "link = \"https://www.news247.gr/kosmos/noa-argkamani-eleftheri-i-26xroni-omiros-epanenothike-me-tin-arrosti-mitera-tis/\"\n",
    "response = requests.get(link)\n",
    "soup = BeautifulSoup(response.text, 'html.parser')\n",
    "article = soup.find(\"article\")\n",
    "\n",
    "category = article.find(\"a\")[\"title\"]\n",
    "author = article.find(\"span\", {\"class\": \"post__author\"}).text.strip()\n",
    "datetime = article.find(\"li\", {\"class\": \"article__date s-font\"}).text.strip()\n",
    "print(category)\n",
    "print(author)\n",
    "print(datetime)"
   ]
  },
  {
   "cell_type": "code",
   "execution_count": null,
   "metadata": {
    "colab": {
     "base_uri": "https://localhost:8080/",
     "height": 1000
    },
    "id": "Y12R9jJnJ0v5",
    "outputId": "ed77108c-081a-41c7-ca3a-065b817f7099"
   },
   "outputs": [],
   "source": [
    "full_articles_list = []\n",
    "\n",
    "\n",
    "for index, article_url in enumerate(news247_grel['url']):\n",
    "    try:\n",
    "\n",
    "        response = requests.get(article_url)\n",
    "        soup = BeautifulSoup(response.text, 'html.parser')\n",
    "\n",
    "        full_article_dict = {}\n",
    "        full_article_dict['site'] = \"news247.gr\"\n",
    "        full_article_dict['url'] = article_url\n",
    "\n",
    "\n",
    "        title_tag = soup.find('h1', {\"class\": \"single_article__title article__small_title article__title\"})\n",
    "        title = title_tag.text.strip() if title_tag else 'No Title Found'\n",
    "        full_article_dict['title'] = title\n",
    "\n",
    "\n",
    "        category_tag = soup.find(\"a\", {\"title\": True})\n",
    "        category = category_tag['title'].strip() if category_tag else 'No Category Found'\n",
    "        full_article_dict['category'] = category\n",
    "\n",
    "        author_tag = soup.find(\"span\", {\"class\": \"post__author\"})\n",
    "        author = author_tag.text.strip() if author_tag else 'No Author Found'\n",
    "        full_article_dict['author'] = author\n",
    "\n",
    "        datetime_tag = soup.find(\"li\", {\"class\": \"article__date s-font\"})\n",
    "        datetime = datetime_tag.text.strip() if datetime_tag else 'No Date/Time Found'\n",
    "        full_article_dict['datetime'] = datetime\n",
    "\n",
    "\n",
    "        text_tag = soup.find(\"div\", {\"class\": \"paragraph\"})\n",
    "        text = text_tag.text.strip() if text_tag else 'No Text Found'\n",
    "        full_article_dict['text'] = text\n",
    "\n",
    "\n",
    "        full_articles_list.append(full_article_dict)\n",
    "\n",
    "\n",
    "        print(f\"Processed {index + 1}/{len(news247_grel)}: {article_url}\")\n",
    "\n",
    "\n",
    "        time.sleep(0.200)\n",
    "\n",
    "    except Exception as e:\n",
    "        print(f\"Error processing {article_url}: {e}\")\n",
    "        full_article_dict['title'] = 'Error'\n",
    "        full_article_dict['category'] = 'Error'\n",
    "        full_article_dict['author'] = 'Error'\n",
    "        full_article_dict['datetime'] = 'Error'\n",
    "        full_article_dict['text'] = 'Error'\n",
    "        full_articles_list.append(full_article_dict)\n",
    "\n",
    "news247_grel = pd.DataFrame(full_articles_list)\n",
    "\n",
    "news247_grel.to_csv('news247_grel_articles_with_details.csv', index=False)\n",
    "news247_grel.to_csv(\"/content/drive/MyDrive/news247_grel\", index = False)\n"
   ]
  },
  {
   "cell_type": "code",
   "execution_count": null,
   "metadata": {
    "colab": {
     "base_uri": "https://localhost:8080/",
     "height": 69
    },
    "id": "hU9d9UmaIWbX",
    "outputId": "b5990d99-09c0-4c83-850b-f50402efb250"
   },
   "outputs": [],
   "source": [
    "news247_grel"
   ]
  },
  {
   "cell_type": "code",
   "execution_count": null,
   "metadata": {
    "id": "EsjiwhV6Kl8J"
   },
   "outputs": [],
   "source": [
    "news247_grel.to_csv(\"/content/drive/MyDrive/news247_grel\", index = False)"
   ]
  },
  {
   "cell_type": "code",
   "execution_count": null,
   "metadata": {
    "colab": {
     "base_uri": "https://localhost:8080/",
     "height": 614
    },
    "id": "zoEhWwVqIr3D",
    "outputId": "a5a11254-5c4f-4783-9125-bb468681ba7f"
   },
   "outputs": [],
   "source": [
    "news247_grel"
   ]
  },
  {
   "cell_type": "code",
   "execution_count": null,
   "metadata": {
    "colab": {
     "base_uri": "https://localhost:8080/",
     "height": 42225
    },
    "id": "zuVxzvMmIF3F",
    "outputId": "1923561a-b0a9-48f8-e7c3-3e207bba38d1"
   },
   "outputs": [],
   "source": [
    "full_articles_list = []\n",
    "\n",
    "for index, article_url in enumerate(news247_grel2_urls['URLs']):\n",
    "    try:\n",
    "        response = requests.get(article_url)\n",
    "        soup = BeautifulSoup(response.text, 'html.parser')\n",
    "\n",
    "        full_article_dict = {}\n",
    "        full_article_dict['site'] = \"news247.gr\"\n",
    "        full_article_dict['url'] = article_url\n",
    "\n",
    "        title_tag = soup.find('h1', {\"class\": \"single_article__title article__small_title article__title\"})\n",
    "        title = title_tag.text.strip() if title_tag else 'No Title Found'\n",
    "        full_article_dict['title'] = title\n",
    "\n",
    "        category_tag = soup.find(\"a\", {\"title\": True})\n",
    "        category = category_tag['title'].strip() if category_tag else 'No Category Found'\n",
    "        full_article_dict['category'] = category\n",
    "\n",
    "        author_tag = soup.find(\"span\", {\"class\": \"post__author\"})\n",
    "        author = author_tag.text.strip() if author_tag else 'No Author Found'\n",
    "        full_article_dict['author'] = author\n",
    "\n",
    "        datetime_tag = soup.find(\"li\", {\"class\": \"article__date s-font\"})\n",
    "        datetime = datetime_tag.text.strip() if datetime_tag else 'No Date/Time Found'\n",
    "        full_article_dict['datetime'] = datetime\n",
    "\n",
    "        summary_tag = soup.find(\"h2\", {\"class\": \"article__lead\"})\n",
    "        summary = summary_tag.text.strip() if summary_tag else 'No Text Found'\n",
    "        full_article_dict[\"summary\"] = summary\n",
    "\n",
    "        text_tag = soup.find(\"div\", {\"class\": \"paragraph\"})\n",
    "        text = text_tag.text.strip() if text_tag else 'No Text Found'\n",
    "        full_article_dict['text'] = text\n",
    "\n",
    "        full_articles_list.append(full_article_dict)\n",
    "\n",
    "        print(f\" {index + 1}/{len(news247_grel2_urls)}: {article_url}\")\n",
    "\n",
    "        time.sleep(0.200)\n",
    "\n",
    "    except Exception as e:\n",
    "        print(f\"Error processing {article_url}: {e}\")\n",
    "        full_article_dict = {}\n",
    "        full_article_dict['site'] = \"news247.gr\"\n",
    "        full_article_dict['url'] = article_url\n",
    "        full_article_dict['title'] = 'Error'\n",
    "        full_article_dict['category'] = 'Error'\n",
    "        full_article_dict['author'] = 'Error'\n",
    "        full_article_dict['datetime'] = 'Error'\n",
    "        full_article_dict['summary'] = 'Error'\n",
    "        full_article_dict['text'] = 'Error'\n",
    "        full_articles_list.append(full_article_dict)\n",
    "\n",
    "news247_grel = pd.DataFrame(full_articles_list)\n",
    "\n",
    "news247_grel"
   ]
  },
  {
   "cell_type": "code",
   "execution_count": null,
   "metadata": {
    "id": "KLJmv7ADIHbg"
   },
   "outputs": [],
   "source": [
    "news247_grel.to_csv(\"/content/drive/MyDrive/news247_grel\", index = False)"
   ]
  },
  {
   "cell_type": "code",
   "execution_count": null,
   "metadata": {
    "colab": {
     "base_uri": "https://localhost:8080/"
    },
    "id": "U1q2ghCPkHc7",
    "outputId": "86625244-e542-44c9-8491-9adcdec0cd4e"
   },
   "outputs": [],
   "source": [
    "news247_grel.dtypes"
   ]
  },
  {
   "cell_type": "code",
   "execution_count": null,
   "metadata": {
    "id": "uHa7eTd7oR4E"
   },
   "outputs": [],
   "source": [
    "news247_grel = pd.read_csv('/content/drive/My Drive/news247_grel')"
   ]
  },
  {
   "cell_type": "markdown",
   "metadata": {
    "id": "bzQxYI8mL5bA"
   },
   "source": [
    "Εδώ διαπιστώνω ότι έχω ξεχάσει τα summaries..."
   ]
  },
  {
   "cell_type": "code",
   "execution_count": null,
   "metadata": {
    "colab": {
     "base_uri": "https://localhost:8080/",
     "height": 1000
    },
    "id": "ZV-_v7NNA32z",
    "outputId": "c0bde350-6c61-4b0d-8b81-6a7dd5e89c77"
   },
   "outputs": [],
   "source": [
    "summaries_list = []\n",
    "\n",
    "for index, article_url in enumerate(news247_grel['url']):\n",
    "    try:\n",
    "        response = requests.get(article_url)\n",
    "        soup = BeautifulSoup(response.text, 'html.parser')\n",
    "\n",
    "        summary_dict = {}\n",
    "        summary_dict['site'] = \"news247.gr\"\n",
    "        summary_dict['url'] = article_url\n",
    "\n",
    "        summary_tag = soup.find(\"h2\", {\"class\": \"article__lead\"})\n",
    "        summary = summary_tag.text.strip() if summary_tag else 'No Summary Found'\n",
    "        summary_dict[\"summary\"] = summary\n",
    "\n",
    "        summaries_list.append(summary_dict)\n",
    "\n",
    "        print(f\"Processed {index + 1}/{len(news247_grel)}: {article_url}\")\n",
    "\n",
    "        time.sleep(0.200)\n",
    "\n",
    "    except Exception as e:\n",
    "        print(f\"Error processing {article_url}: {e}\")\n",
    "        summaries_list.append({'site': 'news247.gr', 'url': article_url, 'summary': 'Error'})\n",
    "\n",
    "summaries_df = pd.DataFrame(summaries_list)\n",
    "\n",
    "news247_grel = pd.merge(news247_grel, summaries_df, on='url', how='left')\n",
    "\n",
    "print(news247_grel.head())\n",
    "\n",
    "summaries_list = []\n",
    "\n",
    "for index, article_url in enumerate(news247_grel['url']):\n",
    "    try:\n",
    "        response = requests.get(article_url)\n",
    "        soup = BeautifulSoup(response.text, 'html.parser')\n",
    "\n",
    "        summary_dict = {}\n",
    "        summary_dict['site'] = \"news247.gr\"\n",
    "        summary_dict['url'] = article_url\n",
    "\n",
    "\n",
    "        summary_tag = soup.find(\"h2\", {\"class\": \"article__lead\"})\n",
    "        summary = summary_tag.text.strip() if summary_tag else 'No Summary Found'\n",
    "        summary_dict[\"summary\"] = summary\n",
    "\n",
    "\n",
    "        summaries_list.append(summary_dict)\n",
    "\n",
    "        print(f\"Processed {index + 1}/{len(news247_grel)}: {article_url}\")\n",
    "\n",
    "        time.sleep(0.200)\n",
    "\n",
    "    except Exception as e:\n",
    "        print(f\"Error processing {article_url}: {e}\")\n",
    "        summaries_list.append({'site': 'news247.gr', 'url': article_url, 'summary': 'Error'})\n",
    "\n",
    "summaries_df = pd.DataFrame(summaries_list)\n",
    "\n",
    "news247_grel = pd.merge(news247_grel, summaries_df, on='url', how='left')\n",
    "\n",
    "print(news247_grel.head())\n"
   ]
  },
  {
   "cell_type": "code",
   "execution_count": null,
   "metadata": {
    "colab": {
     "base_uri": "https://localhost:8080/",
     "height": 423
    },
    "id": "AFtKSvWXCh64",
    "outputId": "4407481f-9271-4fd7-ecc6-5290b7d5dca7"
   },
   "outputs": [],
   "source": [
    "summaries_df"
   ]
  },
  {
   "cell_type": "code",
   "execution_count": null,
   "metadata": {
    "id": "s3lFOjtEFgFL"
   },
   "outputs": [],
   "source": [
    "summaries_df = summaries_df.drop(['site', 'url'], axis=1)"
   ]
  },
  {
   "cell_type": "code",
   "execution_count": null,
   "metadata": {
    "colab": {
     "base_uri": "https://localhost:8080/",
     "height": 423
    },
    "id": "pnR66wkxF7tk",
    "outputId": "410dda29-acf4-4bda-fba9-54417605fcba"
   },
   "outputs": [],
   "source": [
    "summaries_df"
   ]
  },
  {
   "cell_type": "code",
   "execution_count": null,
   "metadata": {
    "id": "9ajkZlNkGQg1"
   },
   "outputs": [],
   "source": [
    "news247_grel = pd.read_csv(\"/content/drive/MyDrive/news247_grel\")"
   ]
  },
  {
   "cell_type": "code",
   "execution_count": null,
   "metadata": {
    "id": "T45gC7FqGiUI"
   },
   "outputs": [],
   "source": [
    "news247_grel['summary'] = summaries_df['summary']"
   ]
  },
  {
   "cell_type": "code",
   "execution_count": null,
   "metadata": {
    "colab": {
     "base_uri": "https://localhost:8080/",
     "height": 788
    },
    "id": "BEu2xz-hGl-I",
    "outputId": "6a7d86ca-f32e-48e3-ed24-37b058b8881e"
   },
   "outputs": [],
   "source": [
    "news247_grel"
   ]
  },
  {
   "cell_type": "code",
   "execution_count": null,
   "metadata": {
    "id": "AGnnExAaHPKs"
   },
   "outputs": [],
   "source": [
    "new_order = ['site','url', 'title', 'category', 'author', 'datetime', 'summary', 'text']\n",
    "\n",
    "news247_grel = news247_grel[new_order]\n"
   ]
  },
  {
   "cell_type": "code",
   "execution_count": null,
   "metadata": {
    "id": "M_jDY_R-H5z2"
   },
   "outputs": [],
   "source": [
    "news247_grel.to_csv(\"/content/drive/MyDrive/news247_greek\", index = False)"
   ]
  },
  {
   "cell_type": "code",
   "execution_count": null,
   "metadata": {
    "id": "0k7Pby-nIPqJ"
   },
   "outputs": [],
   "source": [
    "news247_grel = pd.read_csv('/content/drive/My Drive/news247_grel')"
   ]
  },
  {
   "cell_type": "code",
   "execution_count": null,
   "metadata": {
    "id": "k3gZ9AIiIma5"
   },
   "outputs": [],
   "source": [
    "news247_grel2 =  pd.read_csv('/content/drive/My Drive/news247_grel2')"
   ]
  },
  {
   "cell_type": "code",
   "execution_count": null,
   "metadata": {
    "id": "EX2CGEc6Joxn"
   },
   "outputs": [],
   "source": [
    "news247_greek_elections = pd.concat([news247_grel, news247_grel2], ignore_index=True)"
   ]
  },
  {
   "cell_type": "code",
   "execution_count": null,
   "metadata": {
    "id": "yF4DPfTSJ5LH"
   },
   "outputs": [],
   "source": [
    "news247_grel.to_csv('C:\\\\Users\\\\stath\\\\news247_greek_elections', index = False)"
   ]
  },
  {
   "cell_type": "markdown",
   "metadata": {
    "id": "PjYeEbLYMInu"
   },
   "source": [
    "Συνεχίζουμε στο news247 greek_elections"
   ]
  },
  {
   "cell_type": "code",
   "execution_count": null,
   "metadata": {},
   "outputs": [],
   "source": [
    "news247_grel = pd.read_csv('C:\\\\Users\\\\stath\\\\news247_greek_elections')"
   ]
  },
  {
   "cell_type": "code",
   "execution_count": null,
   "metadata": {},
   "outputs": [],
   "source": [
    "import pandas as pd\n",
    "\n",
    "def replace_month_name(date_str):\n",
    "    month_map = {\n",
    "        \"Ιανουαρίου\": \"01\",\n",
    "        \"Φεβρουαρίου\": \"02\",\n",
    "        \"Μαρτίου\": \"03\",\n",
    "        \"Απριλίου\": \"04\",\n",
    "        \"Μαΐου\": \"05\",\n",
    "        \"Ιουνίου\": \"06\",\n",
    "        \"Ιουλίου\": \"07\",\n",
    "        \"Αυγούστου\": \"08\",\n",
    "        \"Σεπτεμβρίου\": \"09\",\n",
    "        \"Οκτωβρίου\": \"10\",\n",
    "        \"Νοεμβρίου\": \"11\",\n",
    "        \"Δεκεμβρίου\": \"12\"\n",
    "    }\n",
    "    \n",
    "    if isinstance(date_str, str):\n",
    "        for greek_month, month_num in month_map.items():\n",
    "            if greek_month in date_str:\n",
    "                return date_str.replace(greek_month, month_num)\n",
    "    return date_str\n",
    "\n",
    "news247_grel.loc[:646, 'datetime'] = news247_grel.loc[:646, 'datetime'].apply(replace_month_name)\n",
    "\n",
    "news247_grel.loc[:646, 'datetime'] = pd.to_datetime(news247_grel.loc[:646, 'datetime'], format='%d %m %Y %H:%M', errors='coerce')\n"
   ]
  },
  {
   "cell_type": "code",
   "execution_count": null,
   "metadata": {},
   "outputs": [],
   "source": [
    "news247_grel.drop(news247_grel.index[[876,877]], inplace=True)\n"
   ]
  },
  {
   "cell_type": "code",
   "execution_count": null,
   "metadata": {},
   "outputs": [],
   "source": [
    "pd.set_option('display.max_rows', 876)"
   ]
  },
  {
   "cell_type": "code",
   "execution_count": null,
   "metadata": {},
   "outputs": [],
   "source": [
    "news247_grel[\"title\"] = news247_grel[\"title\"].str.replace(\"\\n\", \"\")"
   ]
  },
  {
   "cell_type": "code",
   "execution_count": null,
   "metadata": {},
   "outputs": [],
   "source": [
    "news247_grel[\"text\"] = news247_grel[\"text\"].str.replace(\"\\n\", \"\")\n",
    "news247_grel[\"text\"] = news247_grel[\"text\"].str.replace(\"\\xa0\", \"\")\n",
    "news247_grel[\"text\"] = news247_grel[\"text\"].str.replace(\"https tinyurl com\", \"\") \n",
    "news247_grel[\"text\"] = news247_grel[\"text\"].str.replace(\"Ακολουθήστε το News 24/7 στο Google News και μάθετε πρώτοι όλες τις ειδήσεις\",\"\")\n",
    "news247_grel[\"text\"] = news247_grel[\"text\"].str.replace(\"Εκλογές 2023: Όλες οι εξελίξεις, για την εκλογική αναμέτρησηΠού Ψηφίζω: Μάθε πού ψηφίζεις, βρες το εκλογικό σου διαμέρισμαΑποτελέσματα Εκλογών 2023: Αναλυτικά τα αποτελέσματα με χάρτη επικράτειας και περιφερειών για τις εθνικές εκλογές 2023Pollitics – Όλες οι δημοσκοπήσεις σε μία σελίδα με αναλυτικά γραφήματαLive Εκπομπή εκλογών 2023: Δες τις εκλογές αλλιώςΑκολουθήστε το News 24/7 στο Google News και μάθετε πρώτοι όλες τις ειδήσεις\", \"\")\n",
    "news247_grel[\"text\"] = news247_grel[\"text\"].str.replace(\"Εκλογές 2023: Όλες οι εξελίξεις, για την εκλογική αναμέτρησηΠού Ψηφίζω: Μάθε που ψηφίζεις, βρες το εκλογικό σου διαμέρισμαΑποτελέσματα Εκλογών 2023: Αναλυτικά τα αποτελέσματα με χάρτη επικράτειας και περιφερειών για τις εθνικές εκλογές 2023Pollitics – Όλες οι δημοσκοπήσεις σε μία σελίδα με αναλυτικά γραφήματαLive Εκπομπή εκλογών 2023: Δες τις εκλογές αλλιώς\",\"\")\n",
    "news247_grel[\"text\"] = news247_grel[\"text\"].str.replace(\"Ακολουθήστε το News24/7 στο Google News και μάθετε πρώτοι όλες τις ειδήσεις\",\"\")\n",
    "news247_grel[\"text\"] = news247_grel[\"text\"].str.replace(\"Ακολουθήστε το News 24/7 στοGoogle Newsκαι μάθετε πρώτοι όλες τιςειδήσεις\", \"\")\n",
    "news247_grel[\"text\"] = news247_grel[\"text\"].str.replace(\"Είχαμε κάνει δουλειά για να γίνει αυτό”.Ακολουθήστε το News247.gr στο Google News και μάθετε πρώτοι όλες τις ειδήσεις\", \"Είχαμε κάνει δουλειά για να γίνει αυτό\")\n",
    "news247_grel[\"text\"] = news247_grel[\"text\"].str.replace(\"Υγεία.Ακολουθήστε το News247.gr στο Google News και μάθετε πρώτοι όλες τις ειδήσεις\", \"Υγεία.\") \n",
    "news247_grel[\"text\"] = news247_grel[\"text\"].str.replace(\"Μητσοτάκης.Ακολουθήστε το News247.gr στο Google News και μάθετε πρώτοι όλες τις ειδήσεις\", \"Μητσοτάκης\")\n",
    "news247_grel[\"text\"] = news247_grel[\"text\"].str.replace(\"Ακολουθήστε το News247.gr στο Google News και μάθετε πρώτοι όλες τις ειδήσεις\", \"\")"
   ]
  },
  {
   "cell_type": "code",
   "execution_count": null,
   "metadata": {},
   "outputs": [],
   "source": [
    "nlp = spacy.load('el_core_news_md')"
   ]
  },
  {
   "cell_type": "code",
   "execution_count": null,
   "metadata": {},
   "outputs": [],
   "source": [
    "news247_grel_full_text = news247_grel['text'].str.cat(sep = ' ')"
   ]
  },
  {
   "cell_type": "code",
   "execution_count": null,
   "metadata": {},
   "outputs": [],
   "source": [
    "print(len(news247_grel_full_text ))"
   ]
  },
  {
   "cell_type": "code",
   "execution_count": null,
   "metadata": {},
   "outputs": [],
   "source": [
    "nlp.max_length = 4000000"
   ]
  },
  {
   "cell_type": "code",
   "execution_count": null,
   "metadata": {},
   "outputs": [],
   "source": [
    "news247_grel_full_doc = nlp(news247_grel_full_text)"
   ]
  },
  {
   "cell_type": "code",
   "execution_count": null,
   "metadata": {},
   "outputs": [],
   "source": [
    "from joblib import dump, load"
   ]
  },
  {
   "cell_type": "code",
   "execution_count": null,
   "metadata": {},
   "outputs": [],
   "source": [
    "#dump(news247_grel_full_doc, 'news247_full_doc.joblib')"
   ]
  },
  {
   "cell_type": "code",
   "execution_count": null,
   "metadata": {},
   "outputs": [],
   "source": [
    "news247_grel_full_doc = load('news247_full_doc.joblib')"
   ]
  },
  {
   "cell_type": "code",
   "execution_count": null,
   "metadata": {},
   "outputs": [],
   "source": [
    "lemmatized_text = ' '.join(token.lemma_ for token in news247_grel_full_doc)"
   ]
  },
  {
   "cell_type": "code",
   "execution_count": null,
   "metadata": {},
   "outputs": [],
   "source": [
    "stopwords = nlp.Defaults.stop_words\n",
    "stopwords.add(\"ς\")\n",
    "stopwords.add(\"μπορώ\")\n",
    "stopwords.add(\"αναφέρω\")\n",
    "stopwords.add(\"υπάρχω\")\n",
    "stopwords.add(\"γίνομαι\")\n",
    "stopwords.add(\"ή\")\n",
    "stopwords.add(\"κάνω\")\n",
    "stopwords.add(\"θέλω\")\n",
    "stopwords.add(\"κ\")\n",
    "stopwords.add(\"λέγω\")"
   ]
  },
  {
   "cell_type": "code",
   "execution_count": null,
   "metadata": {},
   "outputs": [],
   "source": [
    "lemmatized_text = lemmatized_text.replace(\"ΣΥΡΙΖΑς\", \"ΣΥΡΙΖΑ\")\n",
    "\n",
    "wordcloud_news247_grel = WordCloud(\n",
    "    stopwords = nlp.Defaults.stop_words,\n",
    "    width = 2000,\n",
    "    height = 1000,\n",
    "    background_color = 'black'\n",
    " ).generate(lemmatized_text)\n",
    "fig = plt.figure(\n",
    "    figsize = (40, 30),\n",
    "    facecolor = 'k',\n",
    "    edgecolor = 'k')\n",
    "plt.imshow(wordcloud_news247_grel, interpolation = 'bilinear')\n",
    "plt.axis('off')\n",
    "plt.tight_layout(pad=0)\n",
    "plt.show()"
   ]
  },
  {
   "cell_type": "code",
   "execution_count": null,
   "metadata": {},
   "outputs": [],
   "source": [
    "from sklearn.feature_extraction.text import CountVectorizer"
   ]
  },
  {
   "cell_type": "code",
   "execution_count": null,
   "metadata": {},
   "outputs": [],
   "source": [
    "cv = CountVectorizer(stop_words= list(nlp.Defaults.stop_words), min_df=0.01, max_df=0.95)"
   ]
  },
  {
   "cell_type": "code",
   "execution_count": null,
   "metadata": {},
   "outputs": [],
   "source": [
    "count_vector = cv.fit_transform(news247_grel[\"text\"])"
   ]
  },
  {
   "cell_type": "code",
   "execution_count": null,
   "metadata": {},
   "outputs": [],
   "source": [
    "news247_grel_results = pd.DataFrame(count_vector.toarray(), columns=cv.get_feature_names_out()) "
   ]
  },
  {
   "cell_type": "code",
   "execution_count": null,
   "metadata": {},
   "outputs": [],
   "source": [
    "cv = CountVectorizer(stop_words= list(nlp.Defaults.stop_words), max_features=20, ngram_range=(2,2))\n",
    "count_vector = cv.fit_transform(news247_grel[\"text\"])\n",
    "news247_grel_bigrams = pd.DataFrame(count_vector.toarray(), columns=cv.get_feature_names_out()) "
   ]
  },
  {
   "cell_type": "code",
   "execution_count": null,
   "metadata": {},
   "outputs": [],
   "source": [
    "news247_grel_bigrams.sum(axis =0).sort_values(ascending = False)"
   ]
  },
  {
   "cell_type": "code",
   "execution_count": null,
   "metadata": {},
   "outputs": [],
   "source": [
    "cv = CountVectorizer(stop_words= list(nlp.Defaults.stop_words), max_features=20, ngram_range=(4,10))\n",
    "count_vector = cv.fit_transform(news247_grel[\"text\"])\n",
    "news247_grel_polygrams = pd.DataFrame(count_vector.toarray(), columns=cv.get_feature_names_out()) "
   ]
  },
  {
   "cell_type": "code",
   "execution_count": null,
   "metadata": {},
   "outputs": [],
   "source": [
    "news247_grel_polygrams.sum(axis =0).sort_values(ascending = False)"
   ]
  },
  {
   "cell_type": "code",
   "execution_count": null,
   "metadata": {},
   "outputs": [],
   "source": [
    "\n",
    "\n",
    "# Assuming `news247_grel` is your DataFrame and 'text' is the column you want to search\n",
    "search_text = \"www\"\n",
    "\n",
    "# Find rows where the 'text' column contains the search_text\n",
    "matching_rows = news247_grel[news247_grel['text'].str.contains(search_text, na=False)]\n",
    "\n",
    "# Display the matching rows\n",
    "print(matching_rows)\n"
   ]
  },
  {
   "cell_type": "code",
   "execution_count": null,
   "metadata": {},
   "outputs": [],
   "source": [
    "data = {\n",
    "    \"ΣΥΡΙΖΑ ΠΣ\"              : 380,\n",
    "    \"αλέξης τσίπρας\"          : 337,\n",
    "    \"κυριάκος μητσοτάκης\"     : 321,\n",
    "    \"νέα δημοκρατία\"         : 270,\n",
    "    \"νέας δημοκρατίας\"       : 252,\n",
    "    \"21ης μαΐου\"            : 203,\n",
    "    \"αλέξη τσίπρα\"           : 192,\n",
    "    \"πρόεδρος ΣΥΡΙΖΑ\"        : 190,\n",
    "    \"εκλογές 21ης\"           : 176,\n",
    "    \"αρείου πάγου\"           : 143,\n",
    "    \"άκρας δεξιάς\"           : 140,\n",
    "    \"πρόεδρος ΠΑΣΟΚ\"         : 129,\n",
    "    \"μεσαία τάξη\"            : 127,\n",
    "    \"τέσσερα χρόνια\"         : 124,\n",
    "    \"ΠΑΣΟΚ ΚΙΝΑΛ\"            : 120,\n",
    "    \"πρώτης κατοικίας\"       : 114,\n",
    "    \"21 μαΐου\"               : 111,\n",
    "    \"Νίκος Ανδρουλάκης\"      : 107\n",
    "}\n",
    "\n",
    "data[\"Αλέξης Τσίπρας/Αλέξη Τσίπρα\"] = data.pop(\"αλέξης τσίπρας\") + data.pop(\"αλέξη τσίπρα\")\n",
    "data[\"Νέας Δημοκρατίας/Νέα Δημοκρατία\"] = data.pop(\"νέα δημοκρατία\") + data.pop(\"νέας δημοκρατίας\")\n",
    "\n",
    "df = pd.DataFrame(list(data.items()), columns=['Διγράμματα', 'Αναφορές'])\n",
    "\n",
    "df = df.sort_values(by='Αναφορές', ascending=False)\n",
    "\n",
    "plt.figure(figsize=(14, 10), dpi=100)\n",
    "bars = plt.barh(df['Διγράμματα'], df['Αναφορές'], color='crimson', edgecolor='black')\n",
    "\n",
    "\n",
    "for bar in bars:\n",
    "    plt.text(\n",
    "        bar.get_width() - 5, bar.get_y() + bar.get_height() / 2,\n",
    "        str(bar.get_width()),\n",
    "        va='center',\n",
    "        ha='right', \n",
    "        color='white',\n",
    "        fontsize=12  \n",
    "    )\n",
    "\n",
    "\n",
    "plt.xlabel('Αναφορές')\n",
    "plt.ylabel('Διγράμματα')\n",
    "plt.xlim(0, 700)\n",
    "plt.title('Διγράμματα Εθνικών Εκλογών 2023 - News247')\n",
    "plt.gca().invert_yaxis()\n",
    "plt.tight_layout()  \n",
    "plt.show()\n"
   ]
  },
  {
   "cell_type": "code",
   "execution_count": null,
   "metadata": {},
   "outputs": [],
   "source": [
    "data =  {\"πρωθυπουργός Κυριάκος Μητσοτάκης\" :      117,\n",
    "\"εκλογές 21ης μαΐου\"   :                  99,\n",
    "\"ΜέΡΑ25 Συμμαχία Ρήξη\" :                  90,\n",
    "\"ΠΑΣΟΚ Κινήματος Αλλαγής\" :             89,\n",
    "\"ΣΥΡΙΖΑ προοδευτική συμμαχία\"  :           82,\n",
    "\"προστασία πρώτης κατοικίας\"  :           72,\n",
    "\"πρόεδρος ΣΥΡΙΖΑ ΠΣ\"  :                   71,\n",
    "\"εκλογές 21ης μαϊου\"  :                   56,\n",
    "\"πρόεδρος Νέας Δημοκρατίας\"  :            47,\n",
    "\"πρόεδρος πασοκ κινήματος\"  :             45,\n",
    "\"πρόεδρος πασοκ κιναλ\"   :                44,\n",
    "\"εκλογών 21ης μαΐου\"  :                   38,\n",
    "\"ΠΑΣΟΚ Κίνημα Αλλαγής\" :                  37,\n",
    "\"κυβέρνηση προοδευτικής συνεργασίας\" :     35,\n",
    "\"γγ κε κκε\"    :                          35,\n",
    "\"κυβερνητικός εκπρόσωπος Άκης Σκέρτσος\" : 29,        \n",
    "\"μείωση τιμών ρύθμιση χρεών\" : 28}\n",
    "\n",
    "data[\"πρόεδρος πασοκ κιναλ/πρόεδρος πασοκ κινήματος\"] = data.pop(\"πρόεδρος πασοκ κινήματος\") + data.pop(\"πρόεδρος πασοκ κιναλ\")\n",
    "\n",
    "df = pd.DataFrame(list(data.items()), columns=['Πολυγράμματα', 'Αναφορές'])\n",
    "\n",
    "df = df.sort_values(by='Αναφορές', ascending=False)\n",
    "\n",
    "plt.figure(figsize=(14, 10), dpi=100)\n",
    "bars = plt.barh(df['Πολυγράμματα'], df['Αναφορές'], color='crimson', edgecolor='black')\n",
    "\n",
    "\n",
    "for bar in bars:\n",
    "    plt.text(\n",
    "        bar.get_width() - 5, bar.get_y() + bar.get_height() / 2,\n",
    "        str(bar.get_width()),\n",
    "        va='center',\n",
    "        ha='right', \n",
    "        color='white',\n",
    "        fontsize=12  \n",
    "    )\n",
    "\n",
    "\n",
    "plt.xlabel('Αναφορές')\n",
    "plt.ylabel('Διγράμματα')\n",
    "plt.xlim(0, 150)\n",
    "plt.title('Πολυγράμματα Εθνικών Εκλογών 2023 - News247')\n",
    "plt.gca().invert_yaxis()\n",
    "plt.tight_layout()  \n",
    "plt.show()"
   ]
  },
  {
   "cell_type": "code",
   "execution_count": null,
   "metadata": {},
   "outputs": [],
   "source": [
    "filepath = \"https://raw.githubusercontent.com/datajour-gr/DataJournalism/main/Bachelor%20Lessons%202023/Lesson%2010/NRC_GREEK_Translated_6_2020.csv\""
   ]
  },
  {
   "cell_type": "code",
   "execution_count": null,
   "metadata": {},
   "outputs": [],
   "source": [
    "emolex_df = pd.read_csv(filepath)"
   ]
  },
  {
   "cell_type": "code",
   "execution_count": null,
   "metadata": {},
   "outputs": [],
   "source": [
    "emolex_df = emolex_df.drop_duplicates(subset=['word'])\n",
    "emolex_df = emolex_df.dropna()\n",
    "emolex_df.reset_index(inplace = True, drop=True)"
   ]
  },
  {
   "cell_type": "code",
   "execution_count": null,
   "metadata": {},
   "outputs": [],
   "source": [
    "vec = CountVectorizer(analyzer = 'word', vocabulary = emolex_df.word,\n",
    "                      lowercase=False, \n",
    "                      strip_accents = 'unicode',  \n",
    "                      stop_words= list(nlp.Defaults.stop_words),\n",
    "                      ngram_range=(1, 2))"
   ]
  },
  {
   "cell_type": "code",
   "execution_count": null,
   "metadata": {},
   "outputs": [],
   "source": [
    "matrix = vec.fit_transform(news247_grel[\"text\"])\n",
    "vocab = vec.get_feature_names_out()\n",
    "wordcount_df = pd.DataFrame(matrix.toarray(), columns=vocab)"
   ]
  },
  {
   "cell_type": "code",
   "execution_count": null,
   "metadata": {},
   "outputs": [],
   "source": [
    "positive_words = emolex_df[emolex_df.Positive == 1]['word']"
   ]
  },
  {
   "cell_type": "code",
   "execution_count": null,
   "metadata": {},
   "outputs": [],
   "source": [
    "negative_words = emolex_df[emolex_df.Negative == 1]['word']"
   ]
  },
  {
   "cell_type": "code",
   "execution_count": null,
   "metadata": {},
   "outputs": [],
   "source": [
    "news247_grel['positive_text'] = wordcount_df[positive_words].sum(axis=1)"
   ]
  },
  {
   "cell_type": "code",
   "execution_count": null,
   "metadata": {},
   "outputs": [],
   "source": [
    "news247_grel['negative_text'] = wordcount_df[negative_words].sum(axis=1)"
   ]
  },
  {
   "cell_type": "code",
   "execution_count": null,
   "metadata": {},
   "outputs": [],
   "source": [
    "news247_grel['pos/neg_text'] = news247_grel['positive_text'] - news247_grel['negative_text']"
   ]
  },
  {
   "cell_type": "code",
   "execution_count": null,
   "metadata": {},
   "outputs": [],
   "source": [
    "matrix = vec.fit_transform(news247_grel[\"title\"])\n",
    "vocab = vec.get_feature_names_out()\n",
    "wordcount_df2 = pd.DataFrame(matrix.toarray(), columns=vocab)"
   ]
  },
  {
   "cell_type": "code",
   "execution_count": null,
   "metadata": {},
   "outputs": [],
   "source": [
    "news247_grel['positive_title'] = wordcount_df2[positive_words].sum(axis=1)"
   ]
  },
  {
   "cell_type": "code",
   "execution_count": null,
   "metadata": {},
   "outputs": [],
   "source": [
    "news247_grel['negative_title'] = wordcount_df2[negative_words].sum(axis=1)"
   ]
  },
  {
   "cell_type": "code",
   "execution_count": null,
   "metadata": {},
   "outputs": [],
   "source": [
    "news247_grel['pos/neg_title'] = news247_grel['positive_title'] - news247_grel['negative_title']"
   ]
  },
  {
   "cell_type": "code",
   "execution_count": null,
   "metadata": {},
   "outputs": [],
   "source": [
    "news247_grel['pos/neg_title'].mean()"
   ]
  },
  {
   "cell_type": "code",
   "execution_count": null,
   "metadata": {},
   "outputs": [],
   "source": [
    "short_df = news247_grel[[\"title\", \"datetime\"]]"
   ]
  },
  {
   "cell_type": "code",
   "execution_count": null,
   "metadata": {},
   "outputs": [],
   "source": [
    "#pd.set_option('display.max_colwidth', None)"
   ]
  },
  {
   "cell_type": "code",
   "execution_count": null,
   "metadata": {},
   "outputs": [],
   "source": [
    "short_df"
   ]
  },
  {
   "cell_type": "code",
   "execution_count": null,
   "metadata": {},
   "outputs": [],
   "source": [
    "phrase_to_remove = \"Η άκρα δεξιά και το διακύβευμα των ευρωεκλογών\"\n",
    "news247_grel = news247_grel[~news247_grel['title'].str.contains(phrase_to_remove, na=False)]"
   ]
  },
  {
   "cell_type": "code",
   "execution_count": null,
   "metadata": {},
   "outputs": [],
   "source": [
    "titles_Τσίπρας= news247_grel[news247_grel['title'].str.contains('Τσίπρας', case=False, na=False)]"
   ]
  },
  {
   "cell_type": "code",
   "execution_count": null,
   "metadata": {},
   "outputs": [],
   "source": [
    "row_indices = [7, 8, 36, 39, 40, 58, 69, 85, 95, 96, 98, 111, 112, 126, 131, 133, 152, 166, 169, 182, 183, 192, 194, 204, 206, 211, 220, 224, 225, 227, 240, 263, 271, 287, 299, 300, 318, 319, 320, 321, 327, 334, 335, 338, 339, 344, 353, 354, 357, 358, 372, 373, 379, 383, 395, 412, 425, 430, 440, 443, 447, 462, 466, 467, 468, 480, 486, 487, 510, 520, 526, 531, 548, 556, 562, 568, 572]\n",
    "\n",
    "news247_Σχόλιο = news247_grel.iloc[row_indices]\n",
    "\n"
   ]
  },
  {
   "cell_type": "code",
   "execution_count": null,
   "metadata": {},
   "outputs": [],
   "source": [
    "news247_Σχόλιο = news247_grel[[7, 8, 36, 39, 40 ,58, 69,85,95,96, 98,111,112,126,131,133,152,166,169,182,183,192,194,204,206,211,220,224,225,227,240,263,271,287,299,300,318,319,320,321,327,334,335,338,339,344,353,354,357,358,372,373,379,383,395,412,425,430,440,443,447,462,466,467,468,480,486,487,510,520,526,531,548,556,562,568,572]]"
   ]
  },
  {
   "cell_type": "code",
   "execution_count": null,
   "metadata": {},
   "outputs": [],
   "source": [
    "custom_negative_words = {\"Θάτσερ\",\"θατσερικά\", \"Μητσοτακισμός\", \"καθεστώς\",\"επιτέθηκαν\",\"χάος\", \"Απομονωμένος\",\"ξεπερασμένα\", \"γελοίο\", \"επικίνδυνο\",\"τερατογένεση\", \"εφιάλτης\", \"διασύρει\", \"Dealer\",\"επιβάρυνση\",\"ψέμα\",\"παραλήρημα\",\"παρακράτος\", \"έγκλημα\",\"μπάχαλο\"}"
   ]
  },
  {
   "cell_type": "code",
   "execution_count": null,
   "metadata": {},
   "outputs": [],
   "source": [
    "custom_negative_df = pd.DataFrame({'word': list(custom_negative_words), 'Positive': 0, 'Negative': 1})\n",
    "emolex_df = pd.concat([emolex_df, custom_negative_df], ignore_index=True).drop_duplicates(subset=['word']).reset_index(drop=True)\n"
   ]
  },
  {
   "cell_type": "code",
   "execution_count": null,
   "metadata": {},
   "outputs": [],
   "source": [
    "news247_ΝΔ = news247_grel[[6,7,8,16,17,25,36,39,42,49,61,71,81,88,90,103,113,115,120,123,125,129,139,143,144,158,159,163,174,175,176,179,188,201,208,213,230,238,239,247,252,254,255,260,267,269,272,279,284,285,301,305,309,315,324,329,332,333,343,351,352,363,371,380,387,388,390,398,410,416,418,424,427,431,444,445,446,450,451,461,463,477,485,498,502,505,507,515,527,532,536,541,542,549,563,566,571,575]]"
   ]
  },
  {
   "cell_type": "code",
   "execution_count": null,
   "metadata": {},
   "outputs": [],
   "source": [
    "news247_Γενική_Αρθρογραφία = news247_grel[[0,1,2,4,5,9,10,13,19,20,29,30,31,33,34,37,43,47,48,51,52,53,57,59,63,66,68,76,77,78,79,80,82,83,84,86,91,93,94,95,97,104,108,111,124,128,141,155,165,166,172,178,189,192,195,196,199,206,214,215,216,217,218,223,229,244,248,249,253,257,278,308,316,323,326,340,355,356,361,365,368,370,376,378,381,402,406,407,411,432,449,455,460,471,419,457,469,472,473,484,491,509,514,518,528,533,543,545,547,567,569,570],574]"
   ]
  },
  {
   "cell_type": "code",
   "execution_count": null,
   "metadata": {},
   "outputs": [],
   "source": [
    "news247_ΣΥΡΙΖΑ = news247_grel[[3,11,15,21,22,24,27,35,38,40,46,50,54,55,56,60,64,65,67,74,75,99,102,106,107,110,116,118,121,122,127,130,135,136,137,142,148,150,151,156,164,167,173,184,185,187,191,202,209,212,219,221,222,226,228,231,232,234,235,236,243,245,246,250,259,261,262,264,265,268,275,277,286,288,290,291,292,294,298,303,307,310,311,328,330,331,345,347,350,359,364,366,367,374,375,385,386,393,397,399,400,403,405,408,413,417,420,421,426,428,429,433,434,435,436,438,442,453,459,464,470,474,478,481,482,490,492,495,504,508,512,513,517,519,522,534,537,544,546,551,560,564]]"
   ]
  },
  {
   "cell_type": "code",
   "execution_count": null,
   "metadata": {},
   "outputs": [],
   "source": [
    "ΠΑΣΟΚ news247_grel[[18,23,26,32,41,62,70,72,101,109,119,132,138,140,146,154,157,161,171,186,193,198,207,210,211,241,270,273,283,289,295,296,304,306,312,314,320,322,325,342,348,360,369,382,392,404,414,422,437,439,441,454,458,475,480,488,494,496,500,501,506,511,516,524,529,535,540,553,558,565]] "
   ]
  },
  {
   "cell_type": "code",
   "execution_count": null,
   "metadata": {},
   "outputs": [],
   "source": [
    "ΚΚΕnews247_grel[[14,28,44,73,114,145,149,153,160,200,258,276,282,297,336,337,362,377,389,391,394,396,401,452,456,479,499,525,550,557,559,573]] "
   ]
  },
  {
   "cell_type": "code",
   "execution_count": null,
   "metadata": {},
   "outputs": [],
   "source": [
    "ΜέΡΑ25news247_grel[[12,45,87,92,105,117,134,147,162,170,177,190,237,242,256,266,274,280,281,293,302,341,346,349,384,415,423,465,476,483,489,497,503,521,523,538,539,552]] "
   ]
  },
  {
   "cell_type": "code",
   "execution_count": null,
   "metadata": {},
   "outputs": [],
   "source": [
    "Εξωκοινοβουλευτική Αριστερά news247_grel[[89,168,251,313,409,493]] "
   ]
  },
  {
   "cell_type": "code",
   "execution_count": null,
   "metadata": {},
   "outputs": [],
   "source": [
    "Ελληνική Λύση [180,181,197,203,205,530,531,554,555,561]"
   ]
  },
  {
   "cell_type": "code",
   "execution_count": null,
   "metadata": {},
   "outputs": [],
   "source": [
    "custom_negative_df = pd.DataFrame({'word': list(custom_negative_words), 'Positive': 0, 'Negative': 1})\n",
    "emolex_df = pd.concat([emolex_df, custom_negative_df]).drop_duplicates(subset=['word']).reset_index(drop=True)"
   ]
  },
  {
   "cell_type": "code",
   "execution_count": null,
   "metadata": {},
   "outputs": [],
   "source": [
    "row_indices = [6,7,8,16,17,25,36,39,42,49,61,71,81,88,90,103,113,115,120,123,125,129,139,143,144,158,159,163,174,175,176,179,188,201,208,213,230,238,239,247,252,254,255,260,267,269,272,279,284,285,301,305,309,315,324,329,332,333,343,351,352,363,371,380,387,388,390,398,410,416,418,424,427,431,444,445,446,450,451,461,463,477,485,498,502,505,507,515,520,527,532,536,541,542,549,563,566,571,575]\n",
    "\n",
    "news247_ΝΔ = news247_grel.iloc[row_indices]"
   ]
  },
  {
   "cell_type": "code",
   "execution_count": null,
   "metadata": {},
   "outputs": [],
   "source": [
    "row_indices = [3,11,15,21,22,24,27,35,38,40,46,50,54,55,56,60,64,65,67,74,75,99,102,106,107,110,116,118,121,122,127,130,135,136,137,142,148,150,151,156,164,167,173,184,185,187,191,202,209,212,219,221,222,226,228,231,232,234,235,236,243,245,246,250,259,261,262,264,265,268,275,277,286,288,290,291,292,294,298,303,307,310,311,328,330,331,345,347,350,359,364,366,367,374,375,385,386,393,397,399,400,403,405,408,413,417,420,421,426,428,429,433,434,435,436,438,442,453,459,464,470,474,478,481,482,490,492,495,504,508,512,513,517,519,522,534,537,544,546,551,560,564]\n",
    "news247_ΣΥΡΙΖΑ = news247_grel.iloc[row_indices]"
   ]
  },
  {
   "cell_type": "code",
   "execution_count": null,
   "metadata": {},
   "outputs": [],
   "source": [
    " "
   ]
  },
  {
   "cell_type": "code",
   "execution_count": null,
   "metadata": {},
   "outputs": [],
   "source": [
    "news247_ΝΔ[\"pos/neg_text\"].mean()"
   ]
  },
  {
   "cell_type": "code",
   "execution_count": null,
   "metadata": {},
   "outputs": [],
   "source": [
    "row_indices = [7, 8, 36, 39, 40 ,58, 69,85,95,96, 98,111,112,126,131,133,152,166,169,182,183,192,194,204,206,211,220,224,225,227,240,263,271,287,299,300,318,319,320,321,327,334,335,338,339,344,353,354,357,358,372,373,379,383,395,412,425,430,440,443,447,462,466,467,468,480,486,487,510,520,526,531,548,556,562,568,572]\n",
    "news247_Σχόλιο = news247_grel.iloc[row_indices]"
   ]
  },
  {
   "cell_type": "code",
   "execution_count": null,
   "metadata": {},
   "outputs": [],
   "source": [
    "pd.set_option('display.max_colwidth', None)\n",
    "\n",
    "# Display the full titles\n",
    "print(news247_Σχόλιο[\"title\"])"
   ]
  },
  {
   "cell_type": "code",
   "execution_count": null,
   "metadata": {},
   "outputs": [],
   "source": [
    "row_indices = [6,7,8,16,17,25,36,39,42,49,58,61,69,71,81,85,88,90,96,98,103,112,113,115,120,123,125,126,129,131,133,139,143,144,158,159,163,169,174,175,176,179,183,188,194,201,208,213,220,224,225,227,240,263,271,287,300,230,238,239,247,252,254,255,260,267,269,272,279,284,285,301,305,309,315,319,324,327,329,332,333,334,338,343,351,352,353,354,363,371,372,373,379,380,387,388,390,395,398,410,412,416,418,424,427,430,431,443,444,445,446,447,450,451,461,462,463,467,468,477,485,487,498,502,505,507,510,515,526,527,532,536,541,542,549,562,563,566,568,571,575]\n",
    "\n",
    "news247_ΝΔ = news247_grel.iloc[row_indices]"
   ]
  },
  {
   "cell_type": "code",
   "execution_count": null,
   "metadata": {},
   "outputs": [],
   "source": [
    "news247_ΝΔ.shape"
   ]
  },
  {
   "cell_type": "code",
   "execution_count": null,
   "metadata": {},
   "outputs": [],
   "source": [
    "row_indices = [3,11,15,21,22,24,27,35,38,40,46,50,54,55,56,60,64,65,67,74,75,99,102,106,107,110,116,118,121,122,127,130,135,136,137,142,148,150,151,156,164,167,173,182,184,185,187,191,202,209,212,219,221,222,226,228,231,232,234,235,236,243,245,246,250,259,261,262,264,265,268,275,277,286,288,290,291,292,294,298,303,307,310,311,318,328,330,331,339,344,345,347,350,357,359,364,366,367,374,375,385,386,393,397,399,400,403,405,408,413,417,420,421,426,428,429,433,434,435,436,438,440,442,453,459,464,466,470,474,478,481,482,490,492,495,504,508,512,513,517,519,522,534,537,544,546,548,551,560,564]\n",
    "news247_ΣΥΡΙΖΑ = news247_grel.iloc[row_indices]"
   ]
  },
  {
   "cell_type": "code",
   "execution_count": null,
   "metadata": {},
   "outputs": [],
   "source": [
    "news247_ΣΥΡΙΖΑ.shape"
   ]
  },
  {
   "cell_type": "code",
   "execution_count": null,
   "metadata": {},
   "outputs": [],
   "source": [
    "news247_Άλλο = news247_grel[[0,1,2,4,5,9,10,13,19,20,29,30,31,33,34,37,43,47,48,51,52,53,57,59,63,66,68,76,77,78,79,80,82,83,84,86,91,93,94,95,97,104,108,111,124,128,141,155,165,166,172,178,189,192,195,196,199,204,206,214,215,216,217,218,223,229,244,248,249,253,257,278,308,316,321,323,326,335,340,355,356,361,365,368,370,376,378,381,402,406,407,411,425,432,449,455,460,471,419,457,469,472,473,484,491,509,514,518,528,533,543,545,547,567,569,570,574]"
   ]
  },
  {
   "cell_type": "code",
   "execution_count": null,
   "metadata": {},
   "outputs": [],
   "source": [
    "Ακροδεξιά[358,383,486,556,572]"
   ]
  },
  {
   "cell_type": "code",
   "execution_count": null,
   "metadata": {},
   "outputs": [],
   "source": [
    "news247_Σχόλιο.shape"
   ]
  },
  {
   "cell_type": "code",
   "execution_count": null,
   "metadata": {},
   "outputs": [],
   "source": [
    "\n",
    "news247_grel['κόμματα'] = ''\n",
    "\n",
    "news247_grel.loc[[6,7,8,16,17,25,36,39,42,49,58,61,69,71,81,85,88,90,96,98,103,112,113,115,120,123,125,126,129,131,133,139,143,144,158,159,163,169,174,175,176,179,183,188,194,201,208,213,220,224,225,227,240,263,271,287,300,230,238,239,247,252,254,255,260,267,269,272,279,284,285,301,305,309,315,319,324,327,329,332,333,334,338,343,351,352,353,354,363,371,372,373,379,380,387,388,390,395,398,410,412,416,418,424,427,430,431,443,444,445,446,447,450,451,461,462,463,467,468,477,485,487,498,502,505,507,510,515,526,527,532,536,541,542,549,562,563,566,568,571,575], 'κόμματα'] = 'ΝΔ'\n",
    "\n",
    "news247_grel.loc[[3,11,15,21,22,24,27,35,38,40,46,50,54,55,56,60,64,65,67,74,75,99,102,106,107,110,116,118,121,122,127,130,135,136,137,142,148,150,151,156,164,167,173,182,184,185,187,191,202,209,212,219,221,222,226,228,231,232,234,235,236,243,245,246,250,259,261,262,264,265,268,275,277,286,288,290,291,292,294,298,303,307,310,311,318,328,330,331,339,344,345,347,350,357,359,364,366,367,374,375,385,386,393,397,399,400,403,405,408,413,417,420,421,426,428,429,433,434,435,436,438,440,442,453,459,464,466,470,474,478,481,482,490,492,495,504,508,512,513,517,519,522,534,537,544,546,548,551,560,564], 'κόμματα'] = 'ΣΥΡΙΖΑ'\n",
    "\n",
    "news247_grel.loc[[358,383,486,556,572], 'κόμματα'] = 'Ακροδεξιά'\n",
    "\n",
    "news247_grel.loc[[0,1,2,4,5,9,10,13,19,20,29,30,31,33,34,37,43,47,48,51,52,53,57,59,63,66,68,76,77,78,79,80,82,83,84,86,91,93,94,95,97,104,108,111,124,128,141,155,165,166,172,178,189,192,195,196,199,204,206,214,215,216,217,218,223,229,244,248,249,253,257,278,308,316,321,323,326,335,340,355,356,361,365,368,370,376,378,381,402,406,407,411,425,432,449,455,460,471,419,457,469,472,473,484,491,509,514,518,528,533,543,545,547,567,569,570,574], 'κόμματα'] = 'Γενική Αρθρογραφία'\n",
    "\n",
    "news247_grel.loc[[180,181,197,203,205,530,531,554,555,561], 'κόμματα'] = 'Ελληνική Λύση'\n",
    "\n",
    "news247_grel.loc[[18,23,26,32,41,62,70,72,101,109,119,132,138,140,146,154,157,161,171,186,193,198,207,210,211,241,270,273,283,289,295,296,304,306,312,314,320,322,325,342,348,360,369,382,392,404,414,422,437,439,441,454,458,475,480,488,494,496,500,501,506,511,516,524,529,535,540,553,558,565], 'κόμματα'] = 'ΠΑΣΟΚ'\n",
    "\n",
    "news247_grel.loc[[14,28,44,73,114,145,149,153,160,200,258,276,282,297,336,337,362,377,389,391,394,396,401,452,456,479,499,525,550,557,559,573], 'κόμματα'] = 'ΚΚΕ'\n",
    "\n",
    "news247_grel.loc[[12,45,87,92,105,117,134,147,162,170,177,190,237,242,256,266,274,280,281,293,302,341,346,349,384,415,423,465,476,483,489,497,503,521,523,538,539,552], 'κόμματα'] = 'ΜέΡΑ25'\n",
    "\n",
    "news247_grel.loc[[89,168,251,313,409,493], 'κόμματα'] = 'Εξωκοινοβουλευτική Αριστερά'\n"
   ]
  },
  {
   "cell_type": "code",
   "execution_count": null,
   "metadata": {},
   "outputs": [],
   "source": [
    "news247_Γενική_Αρθρογραφία = news247_grel.loc[news247_grel['κόμματα'] == 'Γενική Αρθρογραφία']\n",
    "news247_ΝΔ = news247_grel.loc[news247_grel['κόμματα'] == 'ΝΔ']\n",
    "news247_ΣΥΡΙΖΑ = news247_grel.loc[news247_grel['κόμματα'] == 'ΣΥΡΙΖΑ']\n",
    "news247_ΠΑΣΟΚ = news247_grel.loc[news247_grel['κόμματα'] == 'ΠΑΣΟΚ']\n",
    "news247_ΚΚΕ = news247_grel.loc[news247_grel['κόμματα'] == 'ΚΚΕ']\n",
    "news247_ΜέΡΑ25 = news247_grel.loc[news247_grel['κόμματα'] == 'ΜέΡΑ25']\n",
    "news247_Ακροδεξιά = news247_grel.loc[news247_grel['κόμματα'] == 'Ακροδεξιά']\n",
    "news247_Ελληνική_Λύση = news247_grel.loc[news247_grel['κόμματα'] == 'Ελληνική Λύση']\n",
    "news247_Εξωκοινοβουλευτική_Αριστερά = news247_grel.loc[news247_grel['κόμματα'] == 'Εξωκοινοβουλευτική Αριστερά']"
   ]
  },
  {
   "cell_type": "code",
   "execution_count": null,
   "metadata": {},
   "outputs": [],
   "source": [
    "news247_grel = news247_grel.drop(index=range(577, 849))\n"
   ]
  },
  {
   "cell_type": "code",
   "execution_count": null,
   "metadata": {},
   "outputs": [],
   "source": [
    "news247_Σχόλιο.loc[[7,8,36,39,58,69,85,96,98,112,126,131,133,152,169,182,183,194,220,224,225,227,240,263,271,287,299,300,319,327,334,338,344,353,372,373,379,395,412,430,447,462,468,487,510,526,562,568], 'κόμματα_2'] = 'ΝΔ'\n",
    "news247_Σχόλιο.loc[[40,111,318,339,354,357,440,443,467,548],'κόμματα_2'] = 'ΣΥΡΙΖΑ'\n",
    "news247_Σχόλιο.loc[[95,166,192,204,206,321,335,425,466], 'κόμματα_2'] = 'Γενική Αρθρογραφία'\n",
    "news247_Σχόλιο.loc[[211,320,480], 'κόμματα_2'] = 'ΠΑΣΟΚ'\n",
    "news247_Σχόλιο.loc[[358,383,486,556,572], 'κόμματα_2'] = 'Ακροδεξιά'\n",
    "news247_Σχόλιο.loc[[520], 'κόμματα_2'] = 'ΚΚΕ'\n",
    "news247_Σχόλιο.loc[[531], 'κόμματα_2'] = 'Ελληνική Λύση'\n"
   ]
  },
  {
   "cell_type": "code",
   "execution_count": null,
   "metadata": {},
   "outputs": [],
   "source": [
    "news247_Σχόλιο"
   ]
  },
  {
   "cell_type": "code",
   "execution_count": null,
   "metadata": {},
   "outputs": [],
   "source": [
    "news247_ΝΔ"
   ]
  },
  {
   "cell_type": "code",
   "execution_count": null,
   "metadata": {},
   "outputs": [],
   "source": [
    "news247_Γενική_Αρθρογραφία = news247_grel.loc[news247_grel['κόμματα'] == 'Γενική Αρθρογραφία']\n",
    "news247_ΝΔ = news247_grel.loc[news247_grel['κόμματα'] == 'ΝΔ']\n",
    "news247_ΣΥΡΙΖΑ = news247_grel.loc[news247_grel['κόμματα'] == 'ΣΥΡΙΖΑ']\n",
    "news247_ΠΑΣΟΚ = news247_grel.loc[news247_grel['κόμματα'] == 'ΠΑΣΟΚ']\n",
    "news247_ΚΚΕ = news247_grel.loc[news247_grel['κόμματα'] == 'ΚΚΕ']\n",
    "news247_ΜέΡΑ25 = news247_grel.loc[news247_grel['κόμματα'] == 'ΜέΡΑ25']\n",
    "news247_Ακροδεξιά = news247_grel.loc[news247_grel['κόμματα'] == 'Ακροδεξιά']\n",
    "news247_Ελληνική_Λύση = news247_grel.loc[news247_grel['κόμματα'] == 'Ελληνική Λύση']\n",
    "news247_Εξωκοινοβουλευτική_Αριστερά = news247_grel.loc[news247_grel['κόμματα'] == 'Εξωκοινοβουλευτική Αριστερά']"
   ]
  },
  {
   "cell_type": "code",
   "execution_count": null,
   "metadata": {},
   "outputs": [],
   "source": [
    " news247_ΝΔ[\"pos/neg_text\"].mean()"
   ]
  },
  {
   "cell_type": "code",
   "execution_count": null,
   "metadata": {},
   "outputs": [],
   "source": [
    " news247_ΝΔ[\"pos/neg_title\"].mean()"
   ]
  },
  {
   "cell_type": "code",
   "execution_count": null,
   "metadata": {},
   "outputs": [],
   "source": [
    "news247_Γενική_Αρθρογραφία[\"pos/neg_text\"].mean()"
   ]
  },
  {
   "cell_type": "code",
   "execution_count": null,
   "metadata": {},
   "outputs": [],
   "source": [
    "news247_Γενική_Αρθρογραφία[\"pos/neg_title\"].mean()"
   ]
  },
  {
   "cell_type": "code",
   "execution_count": null,
   "metadata": {},
   "outputs": [],
   "source": [
    "news247_ΣΥΡΙΖΑ[\"pos/neg_text\"].mean()"
   ]
  },
  {
   "cell_type": "code",
   "execution_count": null,
   "metadata": {},
   "outputs": [],
   "source": [
    "news247_ΣΥΡΙΖΑ[\"pos/neg_title\"].mean()"
   ]
  },
  {
   "cell_type": "code",
   "execution_count": null,
   "metadata": {},
   "outputs": [],
   "source": [
    "news247_ΠΑΣΟΚ[\"pos/neg_text\"].mean()"
   ]
  },
  {
   "cell_type": "code",
   "execution_count": null,
   "metadata": {},
   "outputs": [],
   "source": [
    "news247_ΠΑΣΟΚ[\"pos/neg_title\"].mean()"
   ]
  },
  {
   "cell_type": "code",
   "execution_count": null,
   "metadata": {},
   "outputs": [],
   "source": [
    "news247_ΚΚΕ[\"pos/neg_text\"].mean()"
   ]
  },
  {
   "cell_type": "code",
   "execution_count": null,
   "metadata": {},
   "outputs": [],
   "source": [
    "news247_ΚΚΕ[\"pos/neg_title\"].mean()"
   ]
  },
  {
   "cell_type": "code",
   "execution_count": null,
   "metadata": {},
   "outputs": [],
   "source": [
    "news247_ΜέΡΑ25[\"pos/neg_text\"].mean()"
   ]
  },
  {
   "cell_type": "code",
   "execution_count": null,
   "metadata": {},
   "outputs": [],
   "source": [
    "news247_ΜέΡΑ25[\"pos/neg_title\"].mean()"
   ]
  },
  {
   "cell_type": "code",
   "execution_count": null,
   "metadata": {},
   "outputs": [],
   "source": [
    "news247_Ακροδεξιά[\"pos/neg_text\"].mean()"
   ]
  },
  {
   "cell_type": "code",
   "execution_count": null,
   "metadata": {},
   "outputs": [],
   "source": [
    "news247_Ακροδεξιά[\"pos/neg_title\"].mean()"
   ]
  },
  {
   "cell_type": "code",
   "execution_count": null,
   "metadata": {},
   "outputs": [],
   "source": [
    "news247_Ελληνική_Λύση[\"pos/neg_text\"].mean()"
   ]
  },
  {
   "cell_type": "code",
   "execution_count": null,
   "metadata": {},
   "outputs": [],
   "source": [
    "news247_Ελληνική_Λύση[\"pos/neg_title\"].mean()"
   ]
  },
  {
   "cell_type": "code",
   "execution_count": null,
   "metadata": {},
   "outputs": [],
   "source": [
    "news247_Εξωκοινοβουλευτική_Αριστερά[\"pos/neg_text\"].mean()"
   ]
  },
  {
   "cell_type": "code",
   "execution_count": null,
   "metadata": {},
   "outputs": [],
   "source": [
    "news247_Εξωκοινοβουλευτική_Αριστερά[\"pos/neg_title\"].mean()"
   ]
  },
  {
   "cell_type": "code",
   "execution_count": null,
   "metadata": {},
   "outputs": [],
   "source": [
    "news247_grel['κόμματα'].value_counts(ascending = False)"
   ]
  },
  {
   "cell_type": "code",
   "execution_count": null,
   "metadata": {},
   "outputs": [],
   "source": [
    "ΣΥΡΙΖΑ                         \n",
    "ΝΔ                             \n",
    "Γενική Αρθρογραφία             \n",
    "ΠΑΣΟΚ                           \n",
    "ΜέΡΑ25                          \n",
    "ΚΚΕ                             \n",
    "Ελληνική Λύση                   \n",
    "Εξωκοινοβουλευτική Αριστερά      "
   ]
  },
  {
   "cell_type": "code",
   "execution_count": null,
   "metadata": {},
   "outputs": [],
   "source": [
    "from pywaffle import Waffle\n",
    "\n",
    "parties = ['Νέα Δημοκρατία', 'ΣΥΡΙΖΑ', 'ΠΑΣΟΚ', 'ΚΚΕ', 'ΜέΡΑ25', 'Ακροδεξιά', 'Ελληνική Λύση', 'Γενική Αρθρογραφία', 'Εξωκοινοβουλευτική Αριστερά']\n",
    "post_counts = [141, 150, 70, 32, 38, 5, 10, 117, 6]\n",
    "\n",
    "total_posts = sum(post_counts)\n",
    "percentages = [count / total_posts * 100 for count in post_counts]\n",
    "\n",
    "colors = ['blue', 'mediumpurple', 'green', 'red', 'darkorange', 'darkseagreen', 'lightsteelblue', 'grey', 'fuchsia']\n",
    "\n",
    "data = {f\"{party} ({count}, {percentage:.1f}%)\": count for party, count, percentage in zip(parties, post_counts, percentages)}\n",
    "\n",
    "fig = plt.figure(\n",
    "    FigureClass=Waffle, \n",
    "    rows=18, \n",
    "    values=data, \n",
    "    colors=colors, \n",
    "    legend={'loc': 'upper left', 'bbox_to_anchor': (1, 1), 'fontsize': 10, 'title': 'Κόμματα'},\n",
    "    title={'label': 'Σύνολο και Ποσοστά δημοσιευμάτων για τα κόμματα - News247', 'loc': 'center', 'fontsize': 16},\n",
    "    block_arranging_style='snake', \n",
    "    figsize=(14, 12)\n",
    ")\n",
    "\n",
    "plt.show()"
   ]
  },
  {
   "cell_type": "code",
   "execution_count": null,
   "metadata": {},
   "outputs": [],
   "source": [
    "means = {\n",
    "    'ΝΔ': {\n",
    "        'Πολικότητα Κειμένων': 1.73,\n",
    "        'Πολικότητα Τίτλων': -0.007\n",
    "    },\n",
    "    'ΣΥΡΙΖΑ': {\n",
    "        'Πολικότητα Κειμένων': 1.14,\n",
    "        'Πολικότητα Τίτλων': - 0.05\n",
    "    },\n",
    "    'ΠΑΣΟΚ': {\n",
    "        'Πολικότητα Κειμένων': 2.75,\n",
    "        'Πολικότητα Τίτλων': 0.05\n",
    "    },\n",
    "    'ΚΚΕ': {\n",
    "        'Πολικότητα Κειμένων': - 0.09,\n",
    "        'Πολικότητα Τίτλων': - 0.06\n",
    "    },\n",
    "    'ΜέΡΑ25': {\n",
    "        'Πολικότητα Κειμένων': - 3.05,\n",
    "        'Πολικότητα Τίτλων': - 0.31\n",
    "    } }\n",
    "    \n",
    "\n",
    "means_df = pd.DataFrame(means).T \n",
    "\n",
    "\n",
    "color_map = {\n",
    "    'ΝΔ': 'blue',\n",
    "    'ΣΥΡΙΖΑ': 'mediumpurple',\n",
    "    'ΠΑΣΟΚ': 'green',\n",
    "    'ΚΚΕ': 'red',\n",
    "    'ΜέΡΑ25': 'darkorange',\n",
    "    \n",
    "}\n",
    "\n",
    "new_col_titles = ['Πολικότητα Κειμένων', 'Πολικότητα Τίτλων']\n",
    "\n",
    "\n",
    "fig, ax = plt.subplots(figsize=(14, 8))\n",
    "\n",
    "ax.xaxis.set_visible(False)\n",
    "ax.yaxis.set_visible(False)\n",
    "ax.set_frame_on(False)\n",
    "\n",
    "table = ax.table(cellText=means_df.values,\n",
    "                 rowLabels=means_df.index,\n",
    "                 colLabels=new_col_titles,\n",
    "                 cellLoc='center',\n",
    "                 loc='center',\n",
    "                 colColours=['lightgrey'] * len(new_col_titles),\n",
    "                 rowColours=['white'] * len(means_df.index))  \n",
    "\n",
    "\n",
    "for i, label in enumerate(means_df.index):\n",
    "    row_color = color_map.get(label, 'white')  \n",
    "    for j in range(len(new_col_titles)):\n",
    "        table[(i + 1, j)].set_facecolor(row_color)  \n",
    "\n",
    "table.auto_set_font_size(False)\n",
    "table.set_fontsize(14)  \n",
    "table.scale(1.5,3)"
   ]
  },
  {
   "cell_type": "code",
   "execution_count": null,
   "metadata": {},
   "outputs": [],
   "source": [
    "news247_ΝΔ_full_text = news247_ΝΔ['text'].str.cat(sep = ' ')"
   ]
  },
  {
   "cell_type": "code",
   "execution_count": null,
   "metadata": {},
   "outputs": [],
   "source": [
    "news247_ΝΔ_full_doc = nlp(news247_ΝΔ_full_text)"
   ]
  },
  {
   "cell_type": "code",
   "execution_count": null,
   "metadata": {},
   "outputs": [],
   "source": [
    "cv = CountVectorizer(stop_words= list(nlp.Defaults.stop_words), max_features=40, ngram_range=(2,5))\n",
    "count_vector = cv.fit_transform(news247_ΝΔ[\"text\"])\n",
    "news247_ΝΔ_bigrams = pd.DataFrame(count_vector.toarray(), columns=cv.get_feature_names_out()) "
   ]
  },
  {
   "cell_type": "code",
   "execution_count": null,
   "metadata": {},
   "outputs": [],
   "source": [
    "news247_ΝΔ_bigrams.sum(axis =0).sort_values(ascending = False)"
   ]
  },
  {
   "cell_type": "code",
   "execution_count": null,
   "metadata": {},
   "outputs": [],
   "source": [
    "import pandas as pd\n",
    "import matplotlib.pyplot as plt\n",
    "\n",
    "\n",
    "data = {\n",
    "    \"κυριάκος μητσοτάκης\": 153,\n",
    "    \"νέα δημοκρατία\": 89,\n",
    "    \"νέας δημοκρατίας\": 81,\n",
    "    \"πρωθυπουργός κυριάκος μητσοτάκης\": 59,\n",
    "    \"εκλογές 21ης Μαΐου\": 81,\n",
    "    \"κυβερνητικός εκπρόσωπος\": 38,\n",
    "    \"εκ νέου\": 34,\n",
    "    \"δισ ευρώ\": 32,\n",
    "    \"Aλέξη Tσίπρα\": 31,\n",
    "    \"τέσσερα χρόνια\": 30,\n",
    "    \"κυριάκου μητσοτάκη\": 28,\n",
    "    \"κυβέρνηση ηττημένων\": 28,\n",
    "    \"δεύτερες εκλογές\": 23,\n",
    "    \"κυβερνητικός εκπρόσωπος άκης σκέρτσος\": 22,\n",
    "    \"Mητσοτάκης δήλωσε\": 21,\n",
    "    \"Mητσοτάκης υποστήριξε\": 21,\n",
    "    \"πρωθυπουργός πρόεδρος Νέας Δημοκρατίας\": 20,\n",
    "    \"ΠΑΣΟΚ Ανδρουλάκη\": 18,\n",
    "    \"κάλπη 21ης\": 18,\n",
    "}\n",
    "\n",
    "\n",
    "data[\"Νέα Δημοκρατία/Νέας Δημοκρατίας\"] = data.pop(\"νέας δημοκρατίας\") + data.pop(\"νέα δημοκρατία\")\n",
    "data[\"Κυριάκος Μητσοτάκης/Κυριάκου Μητσοτάκη\"] = data.pop(\"κυριάκος μητσοτάκης\") + data.pop(\"κυριάκου μητσοτάκη\")\n",
    "\n",
    "df = pd.DataFrame(list(data.items()), columns=[\"Διγράμματα/Πολυγράμματα\", \"Αναφορές\"])\n",
    "df = df.sort_values(by=\"Αναφορές\", ascending=False)\n",
    "\n",
    "\n",
    "plt.figure(figsize=(10, 8))\n",
    "bars = plt.barh(df[\"Διγράμματα/Πολυγράμματα\"], df[\"Αναφορές\"], color=\"blue\", edgecolor=\"crimson\")\n",
    "\n",
    "\n",
    "for bar in bars:\n",
    "    plt.text(\n",
    "        bar.get_width() + 2, bar.get_y() + bar.get_height() / 2,\n",
    "        str(bar.get_width()),\n",
    "        va=\"center\",\n",
    "        ha=\"left\",\n",
    "        color=\"black\",\n",
    "        fontsize=10\n",
    "    )\n",
    "\n",
    "plt.xlabel(\"Αναφορές\")\n",
    "plt.ylabel(\"Διγράμματα/Πολυγράμματα\")\n",
    "plt.xlim(0, 200)\n",
    "plt.title(\"Διγράμματα/Πολυγράμματα Εθνικών Εκλογών 2023- Νέα Δημοκρατία - News247\")\n",
    "plt.gca().invert_yaxis()\n",
    "plt.show()\n"
   ]
  },
  {
   "cell_type": "code",
   "execution_count": null,
   "metadata": {},
   "outputs": [],
   "source": [
    "news247_ΣΥΡΙΖΑ_full_text = news247_ΣΥΡΙΖΑ['text'].str.cat(sep = ' ')"
   ]
  },
  {
   "cell_type": "code",
   "execution_count": null,
   "metadata": {},
   "outputs": [],
   "source": [
    "news247_ΣΥΡΙΖΑ_full_doc = nlp(news247_ΣΥΡΙΖΑ_full_text)"
   ]
  },
  {
   "cell_type": "code",
   "execution_count": null,
   "metadata": {},
   "outputs": [],
   "source": [
    "cv = CountVectorizer(stop_words= list(nlp.Defaults.stop_words), max_features=40, ngram_range=(2,5))\n",
    "count_vector = cv.fit_transform(news247_ΣΥΡΙΖΑ[\"text\"])\n",
    "news247_ΣΥΡΙΖΑ_bigrams = pd.DataFrame(count_vector.toarray(), columns=cv.get_feature_names_out()) "
   ]
  },
  {
   "cell_type": "code",
   "execution_count": null,
   "metadata": {},
   "outputs": [],
   "source": [
    "news247_ΣΥΡΙΖΑ_bigrams.sum(axis =0).sort_values(ascending = False)"
   ]
  },
  {
   "cell_type": "code",
   "execution_count": null,
   "metadata": {},
   "outputs": [],
   "source": [
    "data = {\"συριζα πς\" :                     212,\n",
    "\"αλέξης τσίπρας\"  :               171,\n",
    "\"πρόεδρος συριζα\"  :              102,\n",
    "\"αλέξη τσίπρα\" :                    77,\n",
    "\"προοδευτική κυβέρνηση\"  :         57,\n",
    "\"μεσαία τάξη\"   :                  55,\n",
    "\"συριζα προοδευτική συμμαχία\" :             55,\n",
    "\"Κυριάκο Μητσοτάκη/Κυριάκου Μητσοτάκη\" :              53,\n",
    "\"νίκη ΣΥΡΙΖΑ\"   :                  47,\n",
    "\"πρόεδρος ΣΥΡΙΖΑ ΠΣ\"   :           46,\n",
    "\"τέσσερα χρόνια\"  :                44,\n",
    "\"πρώτης κατοικίας\" :               35,\n",
    "\"ρύθμιση χρεών\" :                  32,\n",
    "\"ελληνικός λαός\"  :                31,\n",
    "\"πρόγραμμα ΣΥΡΙΖΑ\"   :             30,\n",
    "\"συμβόλαιο αλλαγής\"  :             29,\n",
    "\"21 μαΐου\"   :                     28,\n",
    "\"μείωση φπα\"  :                    28,\n",
    "\"Πόπη Τσαπανίδου\" :                27,\n",
    "\"κυβέρνηση Μητσοτάκη\" :            27,\n",
    "\"μείωση τιμών\"  :                   27,\n",
    "\"21ης μαΐου\"  :                    27,\n",
    "\"Tσίπρας είπε\"  :                  25,\n",
    "\"21 μάη\"  :                        25,\n",
    "\n",
    "\"απλή αναλογική\"  :                25}\n",
    "\n",
    "\n",
    "data[\"ΣΥΡΙΖΑ ΠΣ/ ΣΥΡΙΖΑ Προοδευτική Συμμαχία\"] = data.pop(\"συριζα πς\") + data.pop(\"συριζα προοδευτική συμμαχία\")\n",
    "data[\"Αλέξης Τσίπρας/Αλέξη Τσίπρα\"] = data.pop(\"αλέξης τσίπρας\") + data.pop(\"αλέξη τσίπρα\")\n",
    "\n",
    "df = pd.DataFrame(list(data.items()), columns=['Διγράμματα', 'Αναφορές'])\n",
    "df = df.sort_values(by='Αναφορές', ascending=False)\n",
    "\n",
    "plt.figure(figsize=(10, 8))\n",
    "\n",
    "bars = plt.barh(df['Διγράμματα'], df['Αναφορές'], color= 'mediumpurple', edgecolor= 'crimson')\n",
    "for bar in bars:\n",
    "    plt.text(\n",
    "        bar.get_width() + 2, bar.get_y() + bar.get_height() / 2,  \n",
    "        str(bar.get_width()),\n",
    "        va='center',\n",
    "        ha='left',  \n",
    "        color='black',\n",
    "        fontsize=10\n",
    "    )\n",
    "    \n",
    "plt.xlabel('Αναφορές')\n",
    "plt.ylabel('Διγράμματα/Πολυγράμματα')\n",
    "plt.xlim(0,350)\n",
    "plt.title('Διγράμματα/Πολυγράμματα Εθνικών Εκλογών 2023- ΣΥΡΙΖΑ ΠΣ - News247')\n",
    "plt.gca().invert_yaxis() \n",
    "plt.show()"
   ]
  },
  {
   "cell_type": "code",
   "execution_count": null,
   "metadata": {},
   "outputs": [],
   "source": [
    "news247_ΠΑΣΟΚ_full_text = news247_ΠΑΣΟΚ['text'].str.cat(sep = ' ')"
   ]
  },
  {
   "cell_type": "code",
   "execution_count": null,
   "metadata": {},
   "outputs": [],
   "source": [
    "news247_ΠΑΣΟΚ_full_doc = nlp(news247_ΠΑΣΟΚ_full_text)"
   ]
  },
  {
   "cell_type": "code",
   "execution_count": null,
   "metadata": {},
   "outputs": [],
   "source": [
    "cv = CountVectorizer(stop_words= list(nlp.Defaults.stop_words), max_features=40, ngram_range=(2,5))\n",
    "count_vector = cv.fit_transform(news247_ΠΑΣΟΚ[\"text\"])\n",
    "news247_ΠΑΣΟΚ_bigrams = pd.DataFrame(count_vector.toarray(), columns=cv.get_feature_names_out()) "
   ]
  },
  {
   "cell_type": "code",
   "execution_count": null,
   "metadata": {},
   "outputs": [],
   "source": [
    "news247_ΠΑΣΟΚ_bigrams.sum(axis =0).sort_values(ascending = False)"
   ]
  },
  {
   "cell_type": "code",
   "execution_count": null,
   "metadata": {},
   "outputs": [],
   "source": [
    "data = {\"Πρόεδρος ΠΑΣΟΚ\" :                              77,\n",
    "\"ΠΑΣΟΚ Κινήματος Αλλαγής\" :                          66,\n",
    "\"νίκος ανδρουλάκης\"   :                         62,\n",
    "\"ΠΑΣΟΚ ΚΙΝΑΛ\"     :                            58,\n",
    "\"νέα δημοκρατία\"  :                             34,\n",
    "\"Πρόεδρος ΠΑΣΟΚ Κινήματος Αλλαγής\" :           55,\n",
    "\"νέας δημοκρατίας\" :                             27,\n",
    "\"Ανδρέα Παπανδρέου\"  :                          24,\n",
    "\"ελληνικού λαού\" :                              24,\n",
    "\"21 μαΐου\"   :                                  22,\n",
    "\"ελληνικό λαό\" :                                19,\n",
    "\"αλέξη τσίπρα\"   :                              17,\n",
    "\"νίκου ανδρουλάκη\" :                            16,\n",
    "\"Ανδρέας Παπανδρέου\":                           15,\n",
    "\"ΝΔ ΣΥΡΙΖΑ\"      :                              14,\n",
    "\"νέα γενιά\"    :                                14,\n",
    "'Χρυσή Αυγή'    :                               14,\n",
    "\"ευρωπαϊκή χώρα\"  :                             13,\n",
    "\"εκπρόσωπος τύπου\"   :                          13,\n",
    "\"δημοκρατική παράταξη\" :                        13,\n",
    "\"Κυριάκο Μητσοτάκη\" :                           12,\n",
    "\"κοινής αποδοχής\"  :                            12,\n",
    "\"πρώτης κατοικίας\" :                            12 }\n",
    "\n",
    "\n",
    "data[\"Νέα Δημοκρατία/Νέας Δημοκρατίας\"] = data.pop(\"νέας δημοκρατίας\") + data.pop(\"νέα δημοκρατία\")\n",
    "data[\"Νίκος Ανδρουλάκης/Νίκου Ανδρουλάκη\"] = data.pop(\"νίκος ανδρουλάκης\") + data.pop(\"νίκου ανδρουλάκη\")\n",
    "data[\"ελληνικού λαού / ελληνικό λαό\"] = data.pop(\"ελληνικού λαού\") + data.pop(\"ελληνικό λαό\")\n",
    "data[\"Ανδρέα Παπανδρέου / Ανδρέας Παπανδρέου\"] = data.pop(\"Ανδρέα Παπανδρέου\") + data.pop(\"Ανδρέας Παπανδρέου\")\n",
    "\n",
    "df = pd.DataFrame(list(data.items()), columns=[\"Διγράμματα\", \"Αναφορές\"])\n",
    "df = df.sort_values(by=\"Αναφορές\", ascending=False)\n",
    "\n",
    "plt.figure(figsize=(10, 8))\n",
    "bars = plt.barh(df[\"Διγράμματα\"], df[\"Αναφορές\"], color=\"green\", edgecolor=\"crimson\")\n",
    "\n",
    "for bar in bars:\n",
    "    plt.text(\n",
    "        bar.get_width() + 2, bar.get_y() + bar.get_height() / 2,\n",
    "        str(bar.get_width()),\n",
    "        va=\"center\",\n",
    "        ha=\"left\",\n",
    "        color=\"black\",\n",
    "        fontsize=10\n",
    "    )\n",
    "\n",
    "plt.xlabel(\"Αναφορές\")\n",
    "plt.ylabel(\"Διγράμματα/Πολυγράμματα\")\n",
    "plt.xlim(0, 100)\n",
    "plt.title(\"Διγράμματα/Πολυγράμματα Εθνικών Εκλογών 2023- ΠΑΣΟΚ-ΚΙΝΑΛ - News247\")\n",
    "plt.gca().invert_yaxis()\n",
    "plt.show()\n"
   ]
  },
  {
   "cell_type": "code",
   "execution_count": null,
   "metadata": {},
   "outputs": [],
   "source": [
    "news247_ΜέΡΑ25_full_text = news247_ΜέΡΑ25['text'].str.cat(sep = ' ')"
   ]
  },
  {
   "cell_type": "code",
   "execution_count": null,
   "metadata": {},
   "outputs": [],
   "source": [
    "news247_ΜέΡΑ25_full_doc = nlp(news247_ΜέΡΑ25_full_text)"
   ]
  },
  {
   "cell_type": "code",
   "execution_count": null,
   "metadata": {},
   "outputs": [],
   "source": [
    "cv = CountVectorizer(stop_words= list(nlp.Defaults.stop_words), max_features=30, ngram_range=(2,5))\n",
    "count_vector = cv.fit_transform(news247_ΜέΡΑ25[\"text\"])\n",
    "news247_ΜέΡΑ25_bigrams = pd.DataFrame(count_vector.toarray(), columns=cv.get_feature_names_out())"
   ]
  },
  {
   "cell_type": "code",
   "execution_count": null,
   "metadata": {},
   "outputs": [],
   "source": [
    "news247_ΜέΡΑ25_bigrams.sum(axis =0).sort_values(ascending = False)"
   ]
  },
  {
   "cell_type": "code",
   "execution_count": null,
   "metadata": {},
   "outputs": [],
   "source": [
    "data = {\n",
    "\"ΜέΡΑ25 συμμαχία ρήξη\"  :                    81,   \n",
    "\"Γιάνης ΒαρουφάκηςΓιάνη Βαρουφάκη\" :                         49,\n",
    "\"κόκκινα δάνεια/κόκκινων δανείων\" :                   22,\n",
    "\"επικεφαλής ΜέΡΑ25 συμμαχία ρήξη\" :           21,\n",
    "\"σχέδιο Δήμητρα\"   :                         14,\n",
    "\"Αλέξη Τσίπρα\"  :                            13,\n",
    "\"επικεφαλής ΜέΡΑ25\"  :                       12,\n",
    "\"ΣΥΡΙΖΑ ΠΑΣΟΚ\" :                      11,\n",
    "\"Μητσοτάκης ΑΕ\"  :                    10,\n",
    "\"εκπρόσωπος τύπου\" :                          9,\n",
    "\"αρπακτικά ταμεία\"  :                  8,\n",
    "\"100 ημερών\" :                         8,\n",
    "\"ΝΔ ΣΥΡΙΖΑ\" :                         8,                         \n",
    "\"χρηματιστηρίου ενέργειας\" :            8,\n",
    "\"αγωνιστικής αριστεράς\" :              8,\n",
    "\"απλή αναλογική\"  :                           8,\n",
    "\"έξοδο ευρώ\"  :                              7,\n",
    "\"ψήφο ανοχής\"  :                              7,\n",
    "  \n",
    "}\n",
    "\n",
    "df = pd.DataFrame(list(data.items()), columns=['Διγράμματα/Πολυγράμματα', 'Αναφορές'])\n",
    "df = df.sort_values(by='Αναφορές', ascending=False)\n",
    "\n",
    "plt.figure(figsize=(10, 8))\n",
    "\n",
    "bars = plt.barh(df['Διγράμματα/Πολυγράμματα'], df['Αναφορές'], color= 'orange', edgecolor= 'crimson')\n",
    "for bar in bars:\n",
    "    plt.text(\n",
    "        bar.get_width() + 2, bar.get_y() + bar.get_height() / 2,  \n",
    "        str(bar.get_width()),\n",
    "        va='center',\n",
    "        ha='left',  \n",
    "        color='black',\n",
    "        fontsize=10\n",
    "    )\n",
    "    \n",
    "plt.xlabel('Αναφορές')\n",
    "plt.ylabel('Διγράμματα/Πολυγράμματα')\n",
    "plt.xlim(0,100)\n",
    "plt.title('Διγράμματα/Πολυγράμματα Εθνικών Εκλογών 2023- ΜέΡΑ25 - News247')\n",
    "plt.gca().invert_yaxis() \n",
    "plt.show()"
   ]
  },
  {
   "cell_type": "code",
   "execution_count": null,
   "metadata": {},
   "outputs": [],
   "source": [
    "news247_ΚΚΕ_full_text = news247_ΚΚΕ['text'].str.cat(sep = ' ')"
   ]
  },
  {
   "cell_type": "code",
   "execution_count": null,
   "metadata": {},
   "outputs": [],
   "source": [
    "news247_ΚΚΕ_full_doc = nlp(news247_ΚΚΕ_full_text)"
   ]
  },
  {
   "cell_type": "code",
   "execution_count": null,
   "metadata": {},
   "outputs": [],
   "source": [
    "cv = CountVectorizer(stop_words= list(nlp.Defaults.stop_words), max_features=30, ngram_range=(2,5))\n",
    "count_vector = cv.fit_transform(news247_ΚΚΕ[\"text\"])\n",
    "news247_ΚΚΕ_bigrams = pd.DataFrame(count_vector.toarray(), columns=cv.get_feature_names_out())"
   ]
  },
  {
   "cell_type": "code",
   "execution_count": null,
   "metadata": {},
   "outputs": [],
   "source": [
    "news247_ΚΚΕ_bigrams.sum(axis =0).sort_values(ascending = False)"
   ]
  },
  {
   "cell_type": "code",
   "execution_count": null,
   "metadata": {},
   "outputs": [],
   "source": [
    "data = {\"Δημήτρης Κουτσούμπας\"  :            33,\n",
    "\"ΚΕ ΚΚΕ\" :                           31,\n",
    "\"ΝΔ ΣΥΡΙΖΑ\"   :                      29,\n",
    "\"ΣΥΡΙΖΑ ΠΑΣΟΚ\"  :                    27,\n",
    "\"γγ κε ΚΚΕ Δημήτρης Κουτσούμπας\" :   25,                       \n",
    "\"μέλος ΔΣ\" :                         22,\n",
    "\"δυνατό ΚΚΕ\"  :                    20,\n",
    "\"ΝΔ ΣΥΡΙΖΑ ΠΑΣΟΚ\" :                 20,\n",
    "\"είπε Κουτσούμπας\" :                 14,\n",
    "\"ΝΔ ΠΑΣΟΚ\" :                         12,\n",
    "\"ισχυρό ΚΚΕ\" :                       10,\n",
    "\"ιατρικού συλλόγου\" :                 9,\n",
    "\"αντιλαϊκή κυβέρνηση\"  :             9,\n",
    "\"δυνατός λαός\"  :                     9}\n",
    "\n",
    "df = pd.DataFrame(list(data.items()), columns=['Διγράμματα/Πολυγράμματα', 'Αναφορές'])\n",
    "df = df.sort_values(by='Αναφορές', ascending=False)\n",
    "\n",
    "plt.figure(figsize=(10, 8))\n",
    "\n",
    "bars = plt.barh(df['Διγράμματα/Πολυγράμματα'], df['Αναφορές'], color= 'red', edgecolor= 'crimson')\n",
    "for bar in bars:\n",
    "    plt.text(\n",
    "        bar.get_width() + 2, bar.get_y() + bar.get_height() / 2,  \n",
    "        str(bar.get_width()),\n",
    "        va='center',\n",
    "        ha='left',  \n",
    "        color='black',\n",
    "        fontsize=10\n",
    "    )\n",
    "    \n",
    "plt.xlabel('Αναφορές')\n",
    "plt.ylabel('Διγράμματα/Πολυγράμματα')\n",
    "plt.xlim(0,50)\n",
    "plt.title('Διγράμματα/Πολυγράμματα Εθνικών Εκλογών 2023- ΚΚΕ - News247')\n",
    "plt.gca().invert_yaxis() \n",
    "plt.show()"
   ]
  },
  {
   "cell_type": "code",
   "execution_count": null,
   "metadata": {},
   "outputs": [],
   "source": [
    "import re\n",
    "\n",
    "frames = {\n",
    "    'Σύγκρουση': [\n",
    "        'κόντρα', 'VS', 'μάχη', 'επίθεση', 'αντιπαράθεση', '«σφάχτηκαν»', '«επιτίθεται»', \"ή\", \"δίλημμα\",\n",
    "        '«πυρά»', '«Πυρά»','πυρά', 'Πυρά', 'μπηχτή', 'μεταξύ', 'σύγκρουση', '«σκοτωμός»', 'απαντά', '«σπόντα»',\n",
    "        '«μάχης»', 'μια πλευρά', 'Μητσοτάκη-Τσίπρα', 'απάντηση', 'καυγά', 'αίμα', 'απαντάμε',\n",
    "        'διαφορά', 'έναντι', 'σύγκριση', 'κατά', 'εναντίον','προβάδισμα', 'Μητσοτάκης-Τσίπρας', 'ΝΔ-ΣΥΡΙΖΑ'\n",
    "    ]\n",
    "}\n",
    "\n",
    "def detect_conflict_frames(title, frames):\n",
    "    conflict_keywords = frames['Σύγκρουση']\n",
    "    \n",
    "    pattern = r'\\b(?:' + '|'.join(map(re.escape, conflict_keywords)) + r')\\b'\n",
    "\n",
    "    return bool(re.search(pattern, title))\n",
    "\n",
    "\n",
    "news247_grel['conflict'] = news247_grel['title'].apply(lambda x: 1 if detect_conflict_frames(x, frames) else 0)"
   ]
  },
  {
   "cell_type": "code",
   "execution_count": null,
   "metadata": {},
   "outputs": [],
   "source": [
    "news247_grel['Conflict'].value_counts()"
   ]
  },
  {
   "cell_type": "code",
   "execution_count": null,
   "metadata": {},
   "outputs": [],
   "source": [
    "6.58"
   ]
  }
 ],
 "metadata": {
  "colab": {
   "provenance": []
  },
  "kernelspec": {
   "display_name": "Python 3 (ipykernel)",
   "language": "python",
   "name": "python3"
  },
  "language_info": {
   "codemirror_mode": {
    "name": "ipython",
    "version": 3
   },
   "file_extension": ".py",
   "mimetype": "text/x-python",
   "name": "python",
   "nbconvert_exporter": "python",
   "pygments_lexer": "ipython3",
   "version": "3.12.4"
  }
 },
 "nbformat": 4,
 "nbformat_minor": 4
}
