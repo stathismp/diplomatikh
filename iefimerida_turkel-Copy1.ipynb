{
 "cells": [
  {
   "cell_type": "code",
   "execution_count": null,
   "id": "41000e5d-1c51-4fae-a1e6-a315cd97ab50",
   "metadata": {},
   "outputs": [],
   "source": [
    "import requests\n",
    "from bs4 import BeautifulSoup\n",
    "import pandas as pd\n",
    "import time\n",
    "import numpy as np\n",
    "import matplotlib.pyplot as plt\n",
    "import spacy\n",
    "from wordcloud import WordCloud\n",
    "import seaborn as sns"
   ]
  },
  {
   "cell_type": "code",
   "execution_count": null,
   "id": "4ec92223-65eb-40a5-9414-4aa36758f95b",
   "metadata": {},
   "outputs": [],
   "source": [
    "def process_url(url):\n",
    "    headers = {\n",
    "        'User-Agent': 'Mozilla/5.0 (Windows NT 10.0; Win64; x64) AppleWebKit/537.36 (KHTML, like Gecko) Chrome/91.0.4472.124 Safari/537.36'\n",
    "    }\n",
    "    response = requests.get(url, headers=headers)\n",
    "\n",
    "    if response.status_code == 200:\n",
    "        soup = BeautifulSoup(response.content, 'html.parser')\n",
    "        article_urls = []\n",
    "\n",
    "        articles = soup.find_all(\"article\")\n",
    "        for article in articles:\n",
    "            article_url = article.find(\"a\")[\"href\"]\n",
    "            if article_url.startswith('/'):\n",
    "                article_url = 'https://www.iefimerida.gr' + article_url\n",
    "            article_urls.append(article_url)\n",
    "\n",
    "        return article_urls\n",
    "    else:\n",
    "        print(f\"Failed to retrieve page {url}. Status code: {response.status_code}\")\n",
    "        return []\n",
    "\n",
    "base_url = 'https://www.iefimerida.gr/tag/ekloges-toyrkia?page='\n",
    "start_page = 1\n",
    "end_page = 11\n",
    "\n",
    "all_article_urls = []\n",
    "\n",
    "for page_num in range(start_page, end_page + 1):\n",
    "    print(f\"Processing page: {page_num}\")\n",
    "    url = base_url + str(page_num)\n",
    "    article_urls = process_url(url)\n",
    "    all_article_urls.extend(article_urls)\n",
    "\n",
    "print(f\"Total articles found: {len(all_article_urls)}\")\n",
    "\n",
    "print(\"Example article URLs:\")\n",
    "for idx, article_url in enumerate(all_article_urls[:5], start=1):\n",
    "    print(f\"{idx}. {article_url}\")"
   ]
  },
  {
   "cell_type": "code",
   "execution_count": null,
   "id": "56ebf391-2bce-441b-8f02-800a3126e21c",
   "metadata": {},
   "outputs": [],
   "source": [
    "len(all_article_urls)"
   ]
  },
  {
   "cell_type": "code",
   "execution_count": null,
   "id": "9155a6fd-95f8-4a33-b337-65c722ae60d9",
   "metadata": {},
   "outputs": [],
   "source": [
    "iefimerida_turkel_urls = pd.DataFrame(all_article_urls)"
   ]
  },
  {
   "cell_type": "code",
   "execution_count": null,
   "id": "06567e1a-383c-49d0-808a-e47cbe70e7b1",
   "metadata": {},
   "outputs": [],
   "source": [
    "iefimerida_turkel_urls;"
   ]
  },
  {
   "cell_type": "code",
   "execution_count": null,
   "id": "a4a80d2a-6608-4ed5-b351-4bf089cbb6d7",
   "metadata": {},
   "outputs": [],
   "source": [
    "iefimerida_turkel_urls.to_csv('C:\\\\Users\\\\stath\\\\iefimerida_turkel_urls.csv', index=False)\n"
   ]
  },
  {
   "cell_type": "code",
   "execution_count": null,
   "id": "fc84254a-db50-4421-a322-097294ae4f12",
   "metadata": {},
   "outputs": [],
   "source": [
    "full_articles_list = []\n",
    "headers = {\n",
    "    'User-Agent': 'Mozilla/5.0 (Windows NT 10.0; Win64; x64) AppleWebKit/537.36 '\n",
    "                  '(KHTML, like Gecko) Chrome/91.0.4472.124 Safari/537.36'\n",
    "}\n",
    "\n",
    "for index, processed_url in enumerate(iefimerida_turkel_urls[0]):\n",
    "    full_article_dict = {}\n",
    "    try:\n",
    "        response = requests.get(processed_url, headers=headers)\n",
    "        soup = BeautifulSoup(response.text, 'html.parser')\n",
    "\n",
    "        full_article_dict['site'] = \"iefimerida.gr\"\n",
    "        full_article_dict['url'] = processed_url\n",
    "\n",
    "        title_tag = soup.find(\"h1\", {\"class\": \"f-big w-bold\"})\n",
    "        title = title_tag.get_text(strip=True) if title_tag else 'No Title Found'\n",
    "        full_article_dict['title'] = title\n",
    "\n",
    "        category_tag = soup.find(\"div\", {\"class\": \"details f-details-alt c-red\"})\n",
    "        category = category_tag.get_text(strip=True) if category_tag else 'No Category Found'\n",
    "        full_article_dict['category'] = category\n",
    "\n",
    "        \n",
    "        datetime_div = soup.find(\"div\", {\"class\": \"f-details c-black w-regular details-below\"})\n",
    "        if datetime_div:\n",
    "            publication_time_tag = datetime_div.find(\"time\")\n",
    "            publication_time = publication_time_tag.get_text(strip=True) if publication_time_tag else 'No Publication Time Found'\n",
    "        else:\n",
    "            publication_time = 'No Publication Time Found'\n",
    "        full_article_dict['publication_time'] = publication_time\n",
    "\n",
    "        main_content = soup.find(\"div\", {\"class\": \"field--name-body\"})\n",
    "        content = ''\n",
    "        if main_content:\n",
    "            for child in main_content.children:\n",
    "                if child.name == 'p':\n",
    "                    content += child.get_text(strip=True) + '\\n'\n",
    "                elif child.name == 'h2':\n",
    "                    content += '\\n' + child.get_text(strip=True) + '\\n'\n",
    "        full_article_dict['content'] = content.strip()\n",
    "\n",
    "    except Exception as e:\n",
    "        print(f\"Error processing {processed_url}: {e}\")\n",
    "        full_article_dict = {\n",
    "            'site': \"iefimerida.gr\",\n",
    "            'url': processed_url,\n",
    "            'title': 'Error',\n",
    "            'category': 'Error',\n",
    "            'publication_time': 'Error',\n",
    "            'content': 'Error'\n",
    "        }\n",
    "\n",
    "    print(f\"Processed {index + 1}/{len(iefimerida_turkel_urls[0])}: {processed_url}\")\n",
    "\n",
    "    full_articles_list.append(full_article_dict)\n",
    "\n",
    "    time.sleep(1.5)\n",
    "\n",
    "    iefimerida_turkel = pd.DataFrame(full_articles_list)"
   ]
  },
  {
   "cell_type": "code",
   "execution_count": null,
   "id": "52e323a2-e046-4552-8784-785969cc1ed3",
   "metadata": {},
   "outputs": [],
   "source": [
    "iefimerida_turkel.rename(columns={\n",
    "    'content': 'text',\n",
    "    'publication_time': 'datetime'\n",
    "}, inplace=True)"
   ]
  },
  {
   "cell_type": "code",
   "execution_count": null,
   "id": "fd678e1e-f866-474e-8fe9-be656a563a28",
   "metadata": {},
   "outputs": [],
   "source": [
    "iefimerida_turkel.to_csv('C:\\\\Users\\\\stath\\\\iefimerida_turkish_elections.csv', index=False)"
   ]
  },
  {
   "cell_type": "code",
   "execution_count": null,
   "id": "317497f3-1992-4e17-8fb4-b08a52f497c8",
   "metadata": {},
   "outputs": [],
   "source": [
    "iefimerida_turkel = pd.read_csv('C:\\\\Users\\\\stath\\\\iefimerida_turkish_elections.csv')"
   ]
  },
  {
   "cell_type": "code",
   "execution_count": null,
   "id": "68c267ae-d82c-4a73-8cd2-d0f24e4e1b24",
   "metadata": {},
   "outputs": [],
   "source": [
    "iefimerida_turkel.shape"
   ]
  },
  {
   "cell_type": "code",
   "execution_count": null,
   "id": "4f3efb87-f298-4371-96fa-3e37c6a6192b",
   "metadata": {},
   "outputs": [],
   "source": [
    "pd.set_option('display.max_rows', 200)"
   ]
  },
  {
   "cell_type": "code",
   "execution_count": null,
   "id": "48786cc3-2438-4706-8ef4-14559e1ea106",
   "metadata": {},
   "outputs": [],
   "source": [
    "short_df = iefimerida_turkel[[\"title\", \"datetime\"]]"
   ]
  },
  {
   "cell_type": "code",
   "execution_count": null,
   "id": "1180779a-a666-4b2e-9cc4-78af7b0c408c",
   "metadata": {},
   "outputs": [],
   "source": [
    "pd.set_option('display.max_colwidth', None)"
   ]
  },
  {
   "cell_type": "code",
   "execution_count": null,
   "id": "0bca3292-709a-40b9-8f89-8d6b51348d6f",
   "metadata": {},
   "outputs": [],
   "source": [
    "short_df"
   ]
  },
  {
   "cell_type": "code",
   "execution_count": null,
   "id": "a0255b25-f727-4281-9952-dffd6b1e896a",
   "metadata": {},
   "outputs": [],
   "source": [
    "iefimerida_turkel[\"text\"] = iefimerida_turkel[\"text\"].str.replace(\"\\n\", \"\")\n",
    "iefimerida_turkel[\"text\"] = iefimerida_turkel[\"text\"].str.replace(\"\\xa0\", \"\")"
   ]
  },
  {
   "cell_type": "code",
   "execution_count": null,
   "id": "fafc22ab-06a5-4530-bca0-2228899ad5c3",
   "metadata": {},
   "outputs": [],
   "source": [
    "nlp = spacy.load('el_core_news_md')"
   ]
  },
  {
   "cell_type": "code",
   "execution_count": null,
   "id": "221ef85d-da4b-4e81-b257-a303afc1f7f8",
   "metadata": {},
   "outputs": [],
   "source": [
    "iefimerida_turkel_full_text = iefimerida_turkel['text'].str.cat(sep = ' ')"
   ]
  },
  {
   "cell_type": "code",
   "execution_count": null,
   "id": "e0b2a43b-1de4-4522-a695-bc6888865be9",
   "metadata": {},
   "outputs": [],
   "source": [
    "iefimerida_turkel_full_doc = nlp(iefimerida_turkel_full_text)"
   ]
  },
  {
   "cell_type": "code",
   "execution_count": null,
   "id": "3962d256-c7ef-4599-bf8f-9e7a01bea7fa",
   "metadata": {},
   "outputs": [],
   "source": [
    "lemmatized_text = ' '.join(token.lemma_ for token in iefimerida_turkel_full_doc)"
   ]
  },
  {
   "cell_type": "code",
   "execution_count": null,
   "id": "865c14b8-42e1-4f10-8f03-3219ea0a2a40",
   "metadata": {},
   "outputs": [],
   "source": [
    "stopwords = nlp.Defaults.stop_words\n",
    "stopwords.add(\"ς\")\n",
    "stopwords.add(\"μπορώ\")\n",
    "stopwords.add(\"αναφέρω\")\n",
    "stopwords.add(\"υπάρχω\")\n",
    "stopwords.add(\"γίνομαι\")\n",
    "stopwords.add(\"ή\")\n",
    "stopwords.add(\"κάνω\")\n",
    "stopwords.add(\"θέλω\")\n",
    "stopwords.add(\"κ\")\n",
    "stopwords.add(\"λέγω\")"
   ]
  },
  {
   "cell_type": "code",
   "execution_count": null,
   "id": "2231b034-74d4-465a-9266-d0fd92695493",
   "metadata": {},
   "outputs": [],
   "source": [
    "lemmatized_text = lemmatized_text.replace(\"Κεμάλς Κιλιτσντάρογλου\", \"Κεμάλ Κιλιτσντάρογλου\")\n",
    "wordcloud_iefimerida_turkel = WordCloud(\n",
    "    stopwords=nlp.Defaults.stop_words,\n",
    "    width=2000,\n",
    "    height=1000,\n",
    "    background_color='black'\n",
    ").generate(lemmatized_text)\n",
    "\n",
    "fig = plt.figure(\n",
    "    figsize=(40, 30),\n",
    "    facecolor='k',\n",
    "    edgecolor='k'\n",
    ")\n",
    "plt.imshow(wordcloud_iefimerida_turkel, interpolation='bilinear')\n",
    "plt.axis('off')\n",
    "plt.tight_layout(pad=0)\n",
    "plt.show()\n"
   ]
  },
  {
   "cell_type": "code",
   "execution_count": null,
   "id": "a2903c9a-aa42-4a63-b481-c80e83dc74e0",
   "metadata": {},
   "outputs": [],
   "source": [
    "from sklearn.feature_extraction.text import CountVectorizer"
   ]
  },
  {
   "cell_type": "code",
   "execution_count": null,
   "id": "42415dee-7ded-4d78-9876-ac8c2eae2579",
   "metadata": {},
   "outputs": [],
   "source": [
    "cv = CountVectorizer(stop_words= list(nlp.Defaults.stop_words), min_df=0.01, max_df=0.95)"
   ]
  },
  {
   "cell_type": "code",
   "execution_count": null,
   "id": "2c4f37ee-d936-4f8b-8e55-0056966332eb",
   "metadata": {},
   "outputs": [],
   "source": [
    "count_vector = cv.fit_transform(iefimerida_turkel[\"text\"])"
   ]
  },
  {
   "cell_type": "code",
   "execution_count": null,
   "id": "cc12d181-2113-4bc2-b07b-50c18f534af9",
   "metadata": {},
   "outputs": [],
   "source": [
    "cv = CountVectorizer(stop_words= list(nlp.Defaults.stop_words), max_features=40, ngram_range=(2,8))\n",
    "count_vector = cv.fit_transform(iefimerida_turkel[\"text\"])\n",
    "iefimerida_turkel_bigrams = pd.DataFrame(count_vector.toarray(), columns=cv.get_feature_names_out()) "
   ]
  },
  {
   "cell_type": "code",
   "execution_count": null,
   "id": "82e45acb-e9bb-4e68-aeca-a317917cc1df",
   "metadata": {},
   "outputs": [],
   "source": [
    "iefimerida_turkel_bigrams.sum(axis =0).sort_values(ascending = False)"
   ]
  },
  {
   "cell_type": "code",
   "execution_count": null,
   "id": "c8f681ca-ba77-4cae-b240-f9bd9ca28416",
   "metadata": {},
   "outputs": [],
   "source": [
    "data = {\"Tαγίπ Eρντογάν\"    :                 116,\n",
    "\"Κεμάλ Κιλιτσντάρογλου\"  :              92,\n",
    "\"Ρετζέπ Ταγίπ Ερντογάν\"  :              92,\n",
    "\"δεύτερο γύρο\"      :                   57,\n",
    "\"προεδρικές εκλογές\"   :               37,\n",
    "\"Τούρκος Πρόεδρος\"   :                  35,\n",
    "\"14ης μαΐου\"        :                   32,\n",
    "\"εκλογές Τουρκία\"    :                  30,\n",
    "\"προεδρικών εκλογών\" :                 22,\n",
    "\"14 μαΐου\"        :                     22,\n",
    "\"βουλευτικές εκλογές\"   :               22,\n",
    "\"τουρκικές εκλογές\"     :               20,\n",
    "\"28 μαΐου\"   :                          19,\n",
    "\"εξωτερική πολιτική\"  :                 18,\n",
    "\"σινάν ογάν\"    :                       16,\n",
    "\"μουχαρέμ ιντζέ\" :                      16,\n",
    "\"εκλογές 14ης\"  :                       16,\n",
    "\"δικαιοσύνης ανάπτυξης\" :              16,\n",
    "\"ρεπουμπλικανικού λαϊκού κόμματος\" :    15,\n",
    "\"ΑΠΕ ΜΠΕ\"  :                           15,\n",
    "\"Ερντογάν Κιλιτσντάρογλου\"  :           15,\n",
    "\"εκλογές 14ης μαΐου\" :                  15,\n",
    "\"γύρο προεδρικών\"  :                    15,\n",
    "\"μεγάλο βαθμό\"    :                     14,\n",
    "\"πηγή ΑΠΕ ΜΠΕ\"     :                   14,\n",
    "\"γύρο προεδρικών εκλογών\"  :            14,\n",
    "\"σινάν ογκάν\"  :                        14,\n",
    "\"συμμαχίας αντιπολίτευσης\"  :           13,\n",
    "\"Τούρκου Προέδρου\" :                    13,\n",
    "\"γύρο εκλογών\"     :                    13,\n",
    "\"κόμματος CHP\"     :                    13,\n",
    "\"κόμμα δικαιοσύνης ανάπτυξης\" :         13}\n",
    "\n",
    "df = pd.DataFrame(list(data.items()), columns=['Διγράμματα / Πολυγράμματα', 'Αναφορές'])\n",
    "\n",
    "df = df.sort_values(by='Αναφορές', ascending=False)\n",
    "\n",
    "plt.figure(figsize=(10, 8))\n",
    "plt.barh(df['Διγράμματα / Πολυγράμματα'], df['Αναφορές'], color='black', edgecolor= 'black')\n",
    "bars = plt.barh(df['Διγράμματα / Πολυγράμματα'], df['Αναφορές'], color='black', edgecolor= 'black')\n",
    "for bar in bars:\n",
    "    plt.text(\n",
    "        bar.get_width() + 2, bar.get_y() + bar.get_height() / 2,  \n",
    "        str(bar.get_width()),\n",
    "        va='center',\n",
    "        ha='left',  \n",
    "        color='black',\n",
    "        fontsize=10\n",
    "    )\n",
    "    \n",
    "plt.xlabel('Αναφορές')\n",
    "plt.ylabel('Διγράμματα / Πολυγράμματα')\n",
    "plt.xlim(0,130)\n",
    "plt.title('Διγράμματα/Πολυγράμματα Τουρκικών Εκλογών 2023 - Iefimerida')\n",
    "plt.gca().invert_yaxis() \n",
    "plt.show()"
   ]
  },
  {
   "cell_type": "code",
   "execution_count": null,
   "id": "15b59d77-8d3c-4998-a2f8-5a946ea84086",
   "metadata": {},
   "outputs": [],
   "source": [
    "filepath = \"https://raw.githubusercontent.com/datajour-gr/DataJournalism/main/Bachelor%20Lessons%202023/Lesson%2010/NRC_GREEK_Translated_6_2020.csv\""
   ]
  },
  {
   "cell_type": "code",
   "execution_count": null,
   "id": "be62ff43-fd5e-4935-a2ef-edb592847a1b",
   "metadata": {},
   "outputs": [],
   "source": [
    "emolex_df = pd.read_csv(filepath)"
   ]
  },
  {
   "cell_type": "code",
   "execution_count": null,
   "id": "0dd32f65-567a-41b1-88e6-e475abf200ab",
   "metadata": {},
   "outputs": [],
   "source": [
    "emolex_df = emolex_df.drop_duplicates(subset=['word'])\n",
    "emolex_df = emolex_df.dropna()\n",
    "emolex_df.reset_index(inplace = True, drop=True)"
   ]
  },
  {
   "cell_type": "code",
   "execution_count": null,
   "id": "285af85c-aaff-44ec-9ea9-fe6ad7e1154b",
   "metadata": {},
   "outputs": [],
   "source": [
    "vec = CountVectorizer(analyzer = 'word', vocabulary = emolex_df.word,\n",
    "                      lowercase=False, \n",
    "                      strip_accents = 'unicode',  \n",
    "                      stop_words= list(nlp.Defaults.stop_words),\n",
    "                      ngram_range=(1, 2))"
   ]
  },
  {
   "cell_type": "code",
   "execution_count": null,
   "id": "41ab0ada-183a-43b7-a59e-a8453d88bc45",
   "metadata": {},
   "outputs": [],
   "source": [
    "matrix = vec.fit_transform(iefimerida_turkel[\"text\"])\n",
    "vocab = vec.get_feature_names_out()\n",
    "wordcount_df = pd.DataFrame(matrix.toarray(), columns=vocab)"
   ]
  },
  {
   "cell_type": "code",
   "execution_count": null,
   "id": "f71e64d8-54a2-4a06-beab-049e82c3d510",
   "metadata": {},
   "outputs": [],
   "source": [
    "positive_words = emolex_df[emolex_df.Positive == 1]['word']"
   ]
  },
  {
   "cell_type": "code",
   "execution_count": null,
   "id": "20198dd0-7192-4ac8-aae2-a5b4cdbe1158",
   "metadata": {},
   "outputs": [],
   "source": [
    "negative_words = emolex_df[emolex_df.Negative == 1]['word']"
   ]
  },
  {
   "cell_type": "code",
   "execution_count": null,
   "id": "06da2885-f66c-42ec-b65b-7e7fa1433f54",
   "metadata": {},
   "outputs": [],
   "source": [
    "iefimerida_turkel['positive_text'] = wordcount_df[positive_words].sum(axis=1)"
   ]
  },
  {
   "cell_type": "code",
   "execution_count": null,
   "id": "4abb71d8-6d75-41db-b3a5-2af956c8056d",
   "metadata": {},
   "outputs": [],
   "source": [
    "iefimerida_turkel['negative_text'] = wordcount_df[negative_words].sum(axis=1)"
   ]
  },
  {
   "cell_type": "code",
   "execution_count": null,
   "id": "67f94cfc-2abd-4202-a9b5-781de4d89424",
   "metadata": {},
   "outputs": [],
   "source": [
    "iefimerida_turkel['pos/neg_text'] = iefimerida_turkel['positive_text'] - iefimerida_turkel['negative_text']"
   ]
  },
  {
   "cell_type": "code",
   "execution_count": null,
   "id": "ff8634dc-0865-4c4d-8dd2-2180a9468b73",
   "metadata": {},
   "outputs": [],
   "source": [
    "iefimerida_turkel['pos/neg_text'].mean()"
   ]
  },
  {
   "cell_type": "code",
   "execution_count": null,
   "id": "cd2e2a0f-ec35-4714-b0bb-c47974f2930f",
   "metadata": {},
   "outputs": [],
   "source": [
    "joy_words = emolex_df[emolex_df.Joy == 1]['word']"
   ]
  },
  {
   "cell_type": "code",
   "execution_count": null,
   "id": "dd5069e1-2edb-4a05-adfd-994953169dbb",
   "metadata": {},
   "outputs": [],
   "source": [
    "anger_words = emolex_df[emolex_df.Anger == 1]['word']"
   ]
  },
  {
   "cell_type": "code",
   "execution_count": null,
   "id": "19253298-7483-4594-91f1-51d51aa6af40",
   "metadata": {},
   "outputs": [],
   "source": [
    "iefimerida_turkel['joy_text'] = wordcount_df[joy_words].sum(axis=1)"
   ]
  },
  {
   "cell_type": "code",
   "execution_count": null,
   "id": "86dfd82a-ee0a-4a72-a335-9a8a9d66eb04",
   "metadata": {},
   "outputs": [],
   "source": [
    "iefimerida_turkel['anger_text'] =  wordcount_df[anger_words].sum(axis=1)"
   ]
  },
  {
   "cell_type": "code",
   "execution_count": null,
   "id": "e64219b0-52a5-4589-bf96-43fa8114281b",
   "metadata": {},
   "outputs": [],
   "source": [
    "iefimerida_turkel['joy/anger_text'] = iefimerida_turkel['joy_text'] - iefimerida_turkel['anger_text']"
   ]
  },
  {
   "cell_type": "code",
   "execution_count": null,
   "id": "a80c6962-ce74-4072-8ae5-6ceb9e089704",
   "metadata": {},
   "outputs": [],
   "source": [
    "iefimerida_turkel['joy/anger_text'].mean()"
   ]
  },
  {
   "cell_type": "code",
   "execution_count": null,
   "id": "58a0cfde-1053-4edd-8473-274c1bde8fde",
   "metadata": {},
   "outputs": [],
   "source": [
    "fear_words = emolex_df[emolex_df.Fear == 1]['word']"
   ]
  },
  {
   "cell_type": "code",
   "execution_count": null,
   "id": "f0350d88-18b5-40bf-a480-0389eb517d01",
   "metadata": {},
   "outputs": [],
   "source": [
    "trust_words = emolex_df[emolex_df.Trust == 1]['word']"
   ]
  },
  {
   "cell_type": "code",
   "execution_count": null,
   "id": "dc2c22b4-6df5-40af-851d-880c579f0198",
   "metadata": {},
   "outputs": [],
   "source": [
    "iefimerida_turkel['fear_text'] = wordcount_df[fear_words].sum(axis=1)"
   ]
  },
  {
   "cell_type": "code",
   "execution_count": null,
   "id": "e0c64d14-848c-4a34-a7fb-6874d21b1b57",
   "metadata": {},
   "outputs": [],
   "source": [
    "iefimerida_turkel['trust_text'] = wordcount_df[trust_words].sum(axis=1)"
   ]
  },
  {
   "cell_type": "code",
   "execution_count": null,
   "id": "9b22a4bb-8273-4cc3-b359-dc5b0cdac3f9",
   "metadata": {},
   "outputs": [],
   "source": [
    "iefimerida_turkel['trust/fear_text'] = iefimerida_turkel['trust_text'] - iefimerida_turkel['fear_text']"
   ]
  },
  {
   "cell_type": "code",
   "execution_count": null,
   "id": "e79c5525-9892-452c-884e-d09a61da2685",
   "metadata": {},
   "outputs": [],
   "source": [
    "iefimerida_turkel['trust/fear_text'].mean()"
   ]
  },
  {
   "cell_type": "code",
   "execution_count": null,
   "id": "f2349623-0f85-48e9-a8b5-4b454b049c1b",
   "metadata": {},
   "outputs": [],
   "source": [
    "matrix = vec.fit_transform(iefimerida_turkel[\"title\"])\n",
    "vocab = vec.get_feature_names_out()\n",
    "wordcount_df = pd.DataFrame(matrix.toarray(), columns=vocab)"
   ]
  },
  {
   "cell_type": "code",
   "execution_count": null,
   "id": "90d8d3b7-7ccf-4177-8ec9-3f188f98dab1",
   "metadata": {},
   "outputs": [],
   "source": [
    "iefimerida_turkel['positive_title'] = wordcount_df[positive_words].sum(axis=1)"
   ]
  },
  {
   "cell_type": "code",
   "execution_count": null,
   "id": "ca44c137-77a3-4ac4-a109-50b81afa62e9",
   "metadata": {},
   "outputs": [],
   "source": [
    "iefimerida_turkel['negative_title'] = wordcount_df[negative_words].sum(axis=1)"
   ]
  },
  {
   "cell_type": "code",
   "execution_count": null,
   "id": "1d68b363-b42e-4828-ba5d-4492d56f202f",
   "metadata": {},
   "outputs": [],
   "source": [
    "iefimerida_turkel['pos/neg_title'] = iefimerida_turkel['positive_title'] - iefimerida_turkel['negative_title']"
   ]
  },
  {
   "cell_type": "code",
   "execution_count": null,
   "id": "669aad35-55ac-4e63-8781-d9e64c247b4b",
   "metadata": {},
   "outputs": [],
   "source": [
    "iefimerida_turkel['pos/neg_title'].mean()"
   ]
  },
  {
   "cell_type": "code",
   "execution_count": null,
   "id": "71074775-4ab3-40b6-a721-76de4875196c",
   "metadata": {},
   "outputs": [],
   "source": [
    "iefimerida_turkel['joy_title'] = wordcount_df[joy_words].sum(axis=1)"
   ]
  },
  {
   "cell_type": "code",
   "execution_count": null,
   "id": "b6a43da7-ca11-46ca-817c-8c352ca43ea5",
   "metadata": {},
   "outputs": [],
   "source": [
    "iefimerida_turkel['anger_title'] =  wordcount_df[anger_words].sum(axis=1)"
   ]
  },
  {
   "cell_type": "code",
   "execution_count": null,
   "id": "4c593458-5464-4b69-8ea0-782bc994fc1d",
   "metadata": {},
   "outputs": [],
   "source": [
    "iefimerida_turkel['joy/anger_title'] = iefimerida_turkel['joy_title'] - iefimerida_turkel['anger_title']"
   ]
  },
  {
   "cell_type": "code",
   "execution_count": null,
   "id": "daf66df3-73e9-431c-820a-82450e78b702",
   "metadata": {},
   "outputs": [],
   "source": [
    "iefimerida_turkel['joy/anger_title'].mean()"
   ]
  },
  {
   "cell_type": "code",
   "execution_count": null,
   "id": "797d24fc-5019-480a-89a8-23bb0b064524",
   "metadata": {},
   "outputs": [],
   "source": [
    "iefimerida_turkel['fear_title'] = wordcount_df[fear_words].sum(axis=1)"
   ]
  },
  {
   "cell_type": "code",
   "execution_count": null,
   "id": "29003199-ce0f-4079-9564-6ba11cabc2d5",
   "metadata": {},
   "outputs": [],
   "source": [
    "iefimerida_turkel['trust_title'] = wordcount_df[trust_words].sum(axis=1)"
   ]
  },
  {
   "cell_type": "code",
   "execution_count": null,
   "id": "9aa95096-bde1-4f6d-bd84-9f825c92940f",
   "metadata": {},
   "outputs": [],
   "source": [
    "iefimerida_turkel['trust/fear_title'] = iefimerida_turkel['trust_title'] - iefimerida_turkel['fear_title']"
   ]
  },
  {
   "cell_type": "code",
   "execution_count": null,
   "id": "2353a60e-df00-435d-a3bd-4c14b84734d2",
   "metadata": {},
   "outputs": [],
   "source": [
    "iefimerida_turkel['trust/fear_title'].mean()"
   ]
  },
  {
   "cell_type": "code",
   "execution_count": null,
   "id": "65fc63ac-f95a-4e85-855e-8833aec8c91c",
   "metadata": {},
   "outputs": [],
   "source": [
    "means = {\n",
    "    \"Θετικότητα/Αρνητικότητα\": {\n",
    "        'Πολικότητα Κειμένων': iefimerida_turkel['pos/neg_text'].mean().round(2),\n",
    "        'Πολικότητα Τίτλων': iefimerida_turkel['pos/neg_title'].mean().round(2)\n",
    "    },\n",
    "    'Εμπιστοσύνη/Φόβος': {\n",
    "        'Πολικότητα Κειμένων': iefimerida_turkel['trust/fear_text'].mean().round(2),\n",
    "        'Πολικότητα Τίτλων': iefimerida_turkel['trust/fear_title'].mean().round(2)\n",
    "    },\n",
    "    'Χαρά/Θυμός': {\n",
    "        'Πολικότητα Κειμένων': iefimerida_turkel['joy/anger_text'].mean().round(2),\n",
    "        'Πολικότητα Τίτλων': iefimerida_turkel['joy/anger_title'].mean().round(2),\n",
    "    }\n",
    "}\n",
    "\n",
    "\n",
    "means_df = pd.DataFrame(means).T\n",
    "\n",
    "\n",
    "color_map = {\n",
    "    \"Θετικότητα/Αρνητικότητα\": 'green',\n",
    "    'Εμπιστοσύνη/Φόβος': 'lightblue',\n",
    "    'Χαρά/Θυμός': 'crimson'\n",
    "}\n",
    "\n",
    "\n",
    "new_col_titles = ['Πολικότητα Κειμένων', 'Πολικότητα Τίτλων']\n",
    "\n",
    "\n",
    "fig, ax = plt.subplots(figsize=(14, 8))\n",
    "\n",
    "\n",
    "ax.xaxis.set_visible(False)\n",
    "ax.yaxis.set_visible(False)\n",
    "ax.set_frame_on(False)\n",
    "\n",
    "\n",
    "table = ax.table(\n",
    "    cellText=means_df.values,\n",
    "    rowLabels=means_df.index,\n",
    "    colLabels=new_col_titles,\n",
    "    cellLoc='center',\n",
    "    loc='center',\n",
    "    colColours=['lightgrey'] * len(new_col_titles),\n",
    "    rowColours=['white'] * len(means_df.index)\n",
    ")\n",
    "\n",
    "\n",
    "for i, label in enumerate(means_df.index):\n",
    "    row_color = color_map.get(label, 'white')  # Default to white if not found in the map\n",
    "    for j in range(len(new_col_titles)):\n",
    "        table[(i + 1, j)].set_facecolor(row_color)\n",
    "\n",
    "\n",
    "table.auto_set_font_size(False)\n",
    "table.set_fontsize(14)\n",
    "table.scale(1.5, 3)\n",
    "\n",
    "\n",
    "plt.show()"
   ]
  },
  {
   "cell_type": "code",
   "execution_count": null,
   "id": "038e3cb3-faab-41ac-946a-a4312b3615a6",
   "metadata": {},
   "outputs": [],
   "source": [
    "titles_erdogan = iefimerida_turkel[iefimerida_turkel['title'].str.contains('Ερντογάν', case=False, na=False)]"
   ]
  },
  {
   "cell_type": "code",
   "execution_count": null,
   "id": "dc3cf47c-382f-4c29-8194-276b47ef98f3",
   "metadata": {},
   "outputs": [],
   "source": [
    "titles_erdogan"
   ]
  },
  {
   "cell_type": "code",
   "execution_count": null,
   "id": "f230133b-7562-4c5e-921e-63ce411da671",
   "metadata": {},
   "outputs": [],
   "source": [
    "iefimerida_turkel.shape"
   ]
  },
  {
   "cell_type": "code",
   "execution_count": null,
   "id": "65a15225-9a09-4065-8c72-f4d46eb53d54",
   "metadata": {},
   "outputs": [],
   "source": [
    "titles_Κιλιτσντάρογλου= iefimerida_turkel[iefimerida_turkel['title'].str.contains('Κιλιτσντάρογλου', case=False, na=False)]"
   ]
  },
  {
   "cell_type": "code",
   "execution_count": null,
   "id": "238baadf-7825-4f7c-9f42-4a2042ef2d40",
   "metadata": {},
   "outputs": [],
   "source": [
    "titles_Κιλιτσντάρογλου.shape"
   ]
  },
  {
   "cell_type": "code",
   "execution_count": null,
   "id": "42bca910-5d22-45f4-8d39-cb4c2fa09945",
   "metadata": {},
   "outputs": [],
   "source": [
    "titles_with_both = iefimerida_turkel[\n",
    "    iefimerida_turkel['title'].str.contains(r'Ερντογάν.*Κιλιτσντάρογλου|Κιλιτσντάρογλου.*Ερντογάν', case=False, na=False)\n",
    "]\n",
    "\n",
    "titles_with_both.shape\n"
   ]
  },
  {
   "cell_type": "code",
   "execution_count": null,
   "id": "6e46432c-456f-437a-ad19-a606fccf0d87",
   "metadata": {},
   "outputs": [],
   "source": [
    "pip install matplotlib-venn\n"
   ]
  },
  {
   "cell_type": "code",
   "execution_count": null,
   "id": "fd97e173-50bb-410b-bcd8-0925954414a1",
   "metadata": {},
   "outputs": [],
   "source": [
    "import matplotlib.pyplot as plt\n",
    "from matplotlib_venn import venn2\n",
    "\n",
    "# Data for the Venn diagram\n",
    "count_erdogan_only = 58 - 18\n",
    "count_kilicdaroglu_only = 35 - 18\n",
    "count_both = 18\n",
    "total_titles = 110\n",
    "\n",
    "# Calculate titles that do not contain either term\n",
    "count_neither = total_titles - (count_erdogan_only + count_kilicdaroglu_only + count_both)\n",
    "\n",
    "# Create a Venn diagram\n",
    "plt.figure(figsize=(10, 8))\n",
    "\n",
    "venn = venn2(subsets=(count_erdogan_only, \n",
    "                      count_kilicdaroglu_only, \n",
    "                      count_both), \n",
    "             set_labels=('Ερντογάν', 'Κιλιτσντάρογλου'))\n",
    "\n",
    "# Add title\n",
    "plt.title('Δημοσιεύματα για Ερντογάν-Κιλιτσντάρογλου - Iefimerida')\n",
    "\n",
    "# Add text for the total number of titles\n",
    "plt.text(0.5, -0.3, f'Σύνολο Άρθρων: {total_titles}', ha='center', va='center', fontsize=8, color='black')\n",
    "\n",
    "# Display the Venn diagram\n",
    "plt.show()\n"
   ]
  },
  {
   "cell_type": "code",
   "execution_count": null,
   "id": "f289bd5a-c924-4f23-be34-05cfee72527b",
   "metadata": {},
   "outputs": [],
   "source": [
    "count_vector = cv.fit_transform(titles_erdogan[\"title\"])"
   ]
  },
  {
   "cell_type": "code",
   "execution_count": null,
   "id": "1fb77639-0ce1-4162-9e9e-87db81ff5af3",
   "metadata": {},
   "outputs": [],
   "source": [
    "cv = CountVectorizer(stop_words= list(nlp.Defaults.stop_words), max_features=100, ngram_range=(2,2))\n",
    "count_vector = cv.fit_transform(titles_erdogan[\"title\"])\n",
    "titles_erdogan_bigrams = pd.DataFrame(count_vector.toarray(), columns=cv.get_feature_names_out())"
   ]
  },
  {
   "cell_type": "code",
   "execution_count": null,
   "id": "8e7cc757-ef9b-44dc-9990-83824f656494",
   "metadata": {},
   "outputs": [],
   "source": [
    "titles_erdogan_bigrams.sum(axis =0).sort_values(ascending = False)"
   ]
  },
  {
   "cell_type": "code",
   "execution_count": null,
   "id": "f760eee7-783e-476d-948a-9cb83c01f3ec",
   "metadata": {},
   "outputs": [],
   "source": [
    "count_vector = cv.fit_transform(titles_Κιλιτσντάρογλου[\"title\"])"
   ]
  },
  {
   "cell_type": "code",
   "execution_count": null,
   "id": "8f56b0a7-47a9-4c6a-81e0-b53ab096aace",
   "metadata": {},
   "outputs": [],
   "source": [
    "cv = CountVectorizer(stop_words= list(nlp.Defaults.stop_words), max_features=100, ngram_range=(2,2))\n",
    "count_vector = cv.fit_transform(titles_Κιλιτσντάρογλου[\"title\"])\n",
    "titles_Κιλιτσντάρογλου_bigrams = pd.DataFrame(count_vector.toarray(), columns=cv.get_feature_names_out())"
   ]
  },
  {
   "cell_type": "code",
   "execution_count": null,
   "id": "3b34fde2-bedc-46e7-b612-ef85fa9a34ad",
   "metadata": {},
   "outputs": [],
   "source": [
    "titles_Κιλιτσντάρογλου_bigrams.sum(axis =0).sort_values(ascending = False)"
   ]
  },
  {
   "cell_type": "code",
   "execution_count": null,
   "id": "0680c405-c863-4285-b89d-3daff1b58c84",
   "metadata": {},
   "outputs": [],
   "source": []
  },
  {
   "cell_type": "code",
   "execution_count": null,
   "id": "419ed8e4-9174-4e23-8723-f4afd38f21c7",
   "metadata": {},
   "outputs": [],
   "source": [
    "import geopandas as gpd\n",
    "\n",
    "\n",
    "shapefile_path = r\"C:\\Users\\stath\\OneDrive\\Υπολογιστής\\ne_110m_admin_0_countries\\ne_110m_admin_0_countries.shp\"\n",
    "\n",
    "\n",
    "world = gpd.read_file(shapefile_path)\n",
    "\n",
    "\n",
    "greece_turkey = world[world[\"SOVEREIGNT\"].isin(['Greece', 'Turkey'])]\n",
    "\n",
    "\n",
    "fig, ax = plt.subplots(figsize=(20, 10))  # Increased size\n",
    "\n",
    "\n",
    "greece_turkey[greece_turkey[\"SOVEREIGNT\"] == \"Greece\"].plot(ax=ax, color='blue', edgecolor='black', label='Greece')\n",
    "greece_turkey[greece_turkey[\"SOVEREIGNT\"] == \"Turkey\"].plot(ax=ax, color='red', edgecolor='black', label='Turkey')\n",
    "\n",
    "\n",
    "ax.set_title('Τίτλοι δημοσιευμάτων για Μητσοτάκη-Τσίπρα, Ερντογάν-Κιλιτσντάρογλου - Iefimerida', fontsize=17)\n",
    "\n",
    "\n",
    "ax.grid(True, linestyle='--', alpha=0.7)\n",
    "\n",
    "\n",
    "greece_coords = (20.0, 38.5) \n",
    "turkey_coords = (33.0, 37.5)  \n",
    "\n",
    "# Phrases for Greece\n",
    "greece_phrases = [\n",
    "    \"Μητσοτάκης: (αυτούσια δήλωση)\",\n",
    "    \n",
    "    \"Τσίπρας: (αυτούσια δήλωση)\"\n",
    "]\n",
    "\n",
    "# Phrases for Turkey\n",
    "turkey_phrases = [\n",
    "    \"μονοκρατορία Eρντογάν\",\n",
    "    \"oικονομική κατάρρευση\",\n",
    "    \"πελατειακό κράτος\",\n",
    "    \"Ερντογάν μοιράζει δώρα\",\n",
    "    \"λάθη Κιλιτσντάρογλου/Ερντογάν\"\n",
    "]\n",
    "\n",
    "\n",
    "for i, phrase in enumerate(greece_phrases):\n",
    "    ax.text(greece_coords[0], greece_coords[1] + i*0.7, phrase, fontsize=14, color='black', ha='left', weight='bold')\n",
    "\n",
    "\n",
    "for i, phrase in enumerate(turkey_phrases):\n",
    "    ax.text(turkey_coords[0], turkey_coords[1] + i*0.7, phrase, fontsize=14, color='black', ha='center', weight='bold')\n",
    "\n",
    "\n",
    "ax.legend()\n",
    "\n",
    "plt.show()"
   ]
  },
  {
   "cell_type": "code",
   "execution_count": null,
   "id": "1e012ccc-7339-4284-9caf-f73d2e54f64f",
   "metadata": {},
   "outputs": [],
   "source": [
    "import re\n",
    "\n",
    "frames = {\n",
    "    'Σύγκρουση': [\n",
    "        'κόντρα', 'VS', 'μάχη', 'επίθεση', 'αντιπαράθεση', '«σφάχτηκαν»', '«επιτίθεται»', \"ή\", \"δίλημμα\",\n",
    "        '«πυρά»', '«Πυρά»','πυρά', 'Πυρά', 'μπηχτή', 'μεταξύ', 'σύγκρουση', '«σκοτωμός»', 'απαντά', '«σπόντα»',\n",
    "        '«μάχης»', 'μια πλευρά', 'Μητσοτάκη-Τσίπρα', 'απάντηση', 'καυγά', 'αίμα', 'απαντάμε',\n",
    "        'διαφορά', 'έναντι', 'σύγκριση', 'κατά', 'εναντίον','προβάδισμα', 'Μητσοτάκης-Τσίπρας', 'ΝΔ-ΣΥΡΙΖΑ' 'ΝΔ - ΣΥΡΙΖΑ', \"Ερντογάν - Κιλιτσντάρογλου, Ερντογάν-Κιλιτσντάρογλου\", \"ελληνοτουρκικά\"\n",
    "    ]\n",
    "}\n",
    "\n",
    "def detect_conflict_frames(title, frames):\n",
    "    conflict_keywords = frames['Σύγκρουση']\n",
    "    \n",
    "    pattern = r'\\b(?:' + '|'.join(map(re.escape, conflict_keywords)) + r')\\b'\n",
    "\n",
    "    return bool(re.search(pattern, title))\n",
    "\n",
    "\n",
    "iefimerida_turkel['Conflict'] = iefimerida_turkel['title'].apply(lambda x: 1 if detect_conflict_frames(x, frames) else 0)"
   ]
  },
  {
   "cell_type": "code",
   "execution_count": null,
   "id": "0c81e991-eb10-462e-b6fe-95cdeb976143",
   "metadata": {},
   "outputs": [],
   "source": [
    "iefimerida_turkel "
   ]
  },
  {
   "cell_type": "code",
   "execution_count": null,
   "id": "e8e3e15d-9446-4554-810b-7553dfaf2e35",
   "metadata": {},
   "outputs": [],
   "source": [
    "iefimerida_turkel['Conflict'].value_counts()"
   ]
  },
  {
   "cell_type": "code",
   "execution_count": null,
   "id": "a0c71ca7-1a29-46b1-91ec-729583239de7",
   "metadata": {},
   "outputs": [],
   "source": [
    "iefimerida_turkel.shape"
   ]
  },
  {
   "cell_type": "code",
   "execution_count": null,
   "id": "ae018682-fc87-40e7-8bc0-45db2a16ad56",
   "metadata": {},
   "outputs": [],
   "source": [
    "12.72"
   ]
  }
 ],
 "metadata": {
  "kernelspec": {
   "display_name": "Python 3 (ipykernel)",
   "language": "python",
   "name": "python3"
  },
  "language_info": {
   "codemirror_mode": {
    "name": "ipython",
    "version": 3
   },
   "file_extension": ".py",
   "mimetype": "text/x-python",
   "name": "python",
   "nbconvert_exporter": "python",
   "pygments_lexer": "ipython3",
   "version": "3.12.4"
  }
 },
 "nbformat": 4,
 "nbformat_minor": 5
}
